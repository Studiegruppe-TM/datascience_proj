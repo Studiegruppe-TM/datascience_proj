{
  "nbformat": 4,
  "nbformat_minor": 5,
  "metadata": {
    "kernelspec": {
      "display_name": "Python 3",
      "language": "python",
      "name": "python3"
    },
    "language_info": {
      "codemirror_mode": {
        "name": "ipython",
        "version": 3
      },
      "file_extension": ".py",
      "mimetype": "text/x-python",
      "name": "python",
      "nbconvert_exporter": "python",
      "pygments_lexer": "ipython3",
      "version": "3.8.3"
    },
    "colab": {
      "name": "DistilBert Liar 6000 training og svc multi kernel .ipynb",
      "provenance": [],
      "collapsed_sections": [],
      "machine_shape": "hm",
      "include_colab_link": true
    },
    "accelerator": "GPU",
    "widgets": {
      "application/vnd.jupyter.widget-state+json": {
        "a679be6c6e8644bc90980ef481d2546f": {
          "model_module": "@jupyter-widgets/controls",
          "model_name": "HBoxModel",
          "model_module_version": "1.5.0",
          "state": {
            "_view_name": "HBoxView",
            "_dom_classes": [],
            "_model_name": "HBoxModel",
            "_view_module": "@jupyter-widgets/controls",
            "_model_module_version": "1.5.0",
            "_view_count": null,
            "_view_module_version": "1.5.0",
            "box_style": "",
            "layout": "IPY_MODEL_ca0e9969634841f8a9847e3a15f306fc",
            "_model_module": "@jupyter-widgets/controls",
            "children": [
              "IPY_MODEL_79abb2a4b8174deaac711d7de7d195aa",
              "IPY_MODEL_d41b0997aa434eeea52b2a67a822f237",
              "IPY_MODEL_70ad89dc43a34757a4f22b15c6694101"
            ]
          }
        },
        "ca0e9969634841f8a9847e3a15f306fc": {
          "model_module": "@jupyter-widgets/base",
          "model_name": "LayoutModel",
          "model_module_version": "1.2.0",
          "state": {
            "_view_name": "LayoutView",
            "grid_template_rows": null,
            "right": null,
            "justify_content": null,
            "_view_module": "@jupyter-widgets/base",
            "overflow": null,
            "_model_module_version": "1.2.0",
            "_view_count": null,
            "flex_flow": null,
            "width": null,
            "min_width": null,
            "border": null,
            "align_items": null,
            "bottom": null,
            "_model_module": "@jupyter-widgets/base",
            "top": null,
            "grid_column": null,
            "overflow_y": null,
            "overflow_x": null,
            "grid_auto_flow": null,
            "grid_area": null,
            "grid_template_columns": null,
            "flex": null,
            "_model_name": "LayoutModel",
            "justify_items": null,
            "grid_row": null,
            "max_height": null,
            "align_content": null,
            "visibility": null,
            "align_self": null,
            "height": null,
            "min_height": null,
            "padding": null,
            "grid_auto_rows": null,
            "grid_gap": null,
            "max_width": null,
            "order": null,
            "_view_module_version": "1.2.0",
            "grid_template_areas": null,
            "object_position": null,
            "object_fit": null,
            "grid_auto_columns": null,
            "margin": null,
            "display": null,
            "left": null
          }
        },
        "79abb2a4b8174deaac711d7de7d195aa": {
          "model_module": "@jupyter-widgets/controls",
          "model_name": "HTMLModel",
          "model_module_version": "1.5.0",
          "state": {
            "_view_name": "HTMLView",
            "style": "IPY_MODEL_46ad41eb950a4f95b021201357a6be80",
            "_dom_classes": [],
            "description": "",
            "_model_name": "HTMLModel",
            "placeholder": "​",
            "_view_module": "@jupyter-widgets/controls",
            "_model_module_version": "1.5.0",
            "value": "Downloading: 100%",
            "_view_count": null,
            "_view_module_version": "1.5.0",
            "description_tooltip": null,
            "_model_module": "@jupyter-widgets/controls",
            "layout": "IPY_MODEL_6979e756347a4805b99b8674cf5881a2"
          }
        },
        "d41b0997aa434eeea52b2a67a822f237": {
          "model_module": "@jupyter-widgets/controls",
          "model_name": "FloatProgressModel",
          "model_module_version": "1.5.0",
          "state": {
            "_view_name": "ProgressView",
            "style": "IPY_MODEL_888f71375cd2456ba95237452363b84e",
            "_dom_classes": [],
            "description": "",
            "_model_name": "FloatProgressModel",
            "bar_style": "success",
            "max": 231508,
            "_view_module": "@jupyter-widgets/controls",
            "_model_module_version": "1.5.0",
            "value": 231508,
            "_view_count": null,
            "_view_module_version": "1.5.0",
            "orientation": "horizontal",
            "min": 0,
            "description_tooltip": null,
            "_model_module": "@jupyter-widgets/controls",
            "layout": "IPY_MODEL_54f270fda0084805a357cfab0786a7ba"
          }
        },
        "70ad89dc43a34757a4f22b15c6694101": {
          "model_module": "@jupyter-widgets/controls",
          "model_name": "HTMLModel",
          "model_module_version": "1.5.0",
          "state": {
            "_view_name": "HTMLView",
            "style": "IPY_MODEL_00ee6706da2340fb94c3810d2dab2ebc",
            "_dom_classes": [],
            "description": "",
            "_model_name": "HTMLModel",
            "placeholder": "​",
            "_view_module": "@jupyter-widgets/controls",
            "_model_module_version": "1.5.0",
            "value": " 232k/232k [00:00&lt;00:00, 1.38MB/s]",
            "_view_count": null,
            "_view_module_version": "1.5.0",
            "description_tooltip": null,
            "_model_module": "@jupyter-widgets/controls",
            "layout": "IPY_MODEL_69586a5de7dc42c8a1dfff8df16a69c3"
          }
        },
        "46ad41eb950a4f95b021201357a6be80": {
          "model_module": "@jupyter-widgets/controls",
          "model_name": "DescriptionStyleModel",
          "model_module_version": "1.5.0",
          "state": {
            "_view_name": "StyleView",
            "_model_name": "DescriptionStyleModel",
            "description_width": "",
            "_view_module": "@jupyter-widgets/base",
            "_model_module_version": "1.5.0",
            "_view_count": null,
            "_view_module_version": "1.2.0",
            "_model_module": "@jupyter-widgets/controls"
          }
        },
        "6979e756347a4805b99b8674cf5881a2": {
          "model_module": "@jupyter-widgets/base",
          "model_name": "LayoutModel",
          "model_module_version": "1.2.0",
          "state": {
            "_view_name": "LayoutView",
            "grid_template_rows": null,
            "right": null,
            "justify_content": null,
            "_view_module": "@jupyter-widgets/base",
            "overflow": null,
            "_model_module_version": "1.2.0",
            "_view_count": null,
            "flex_flow": null,
            "width": null,
            "min_width": null,
            "border": null,
            "align_items": null,
            "bottom": null,
            "_model_module": "@jupyter-widgets/base",
            "top": null,
            "grid_column": null,
            "overflow_y": null,
            "overflow_x": null,
            "grid_auto_flow": null,
            "grid_area": null,
            "grid_template_columns": null,
            "flex": null,
            "_model_name": "LayoutModel",
            "justify_items": null,
            "grid_row": null,
            "max_height": null,
            "align_content": null,
            "visibility": null,
            "align_self": null,
            "height": null,
            "min_height": null,
            "padding": null,
            "grid_auto_rows": null,
            "grid_gap": null,
            "max_width": null,
            "order": null,
            "_view_module_version": "1.2.0",
            "grid_template_areas": null,
            "object_position": null,
            "object_fit": null,
            "grid_auto_columns": null,
            "margin": null,
            "display": null,
            "left": null
          }
        },
        "888f71375cd2456ba95237452363b84e": {
          "model_module": "@jupyter-widgets/controls",
          "model_name": "ProgressStyleModel",
          "model_module_version": "1.5.0",
          "state": {
            "_view_name": "StyleView",
            "_model_name": "ProgressStyleModel",
            "description_width": "",
            "_view_module": "@jupyter-widgets/base",
            "_model_module_version": "1.5.0",
            "_view_count": null,
            "_view_module_version": "1.2.0",
            "bar_color": null,
            "_model_module": "@jupyter-widgets/controls"
          }
        },
        "54f270fda0084805a357cfab0786a7ba": {
          "model_module": "@jupyter-widgets/base",
          "model_name": "LayoutModel",
          "model_module_version": "1.2.0",
          "state": {
            "_view_name": "LayoutView",
            "grid_template_rows": null,
            "right": null,
            "justify_content": null,
            "_view_module": "@jupyter-widgets/base",
            "overflow": null,
            "_model_module_version": "1.2.0",
            "_view_count": null,
            "flex_flow": null,
            "width": null,
            "min_width": null,
            "border": null,
            "align_items": null,
            "bottom": null,
            "_model_module": "@jupyter-widgets/base",
            "top": null,
            "grid_column": null,
            "overflow_y": null,
            "overflow_x": null,
            "grid_auto_flow": null,
            "grid_area": null,
            "grid_template_columns": null,
            "flex": null,
            "_model_name": "LayoutModel",
            "justify_items": null,
            "grid_row": null,
            "max_height": null,
            "align_content": null,
            "visibility": null,
            "align_self": null,
            "height": null,
            "min_height": null,
            "padding": null,
            "grid_auto_rows": null,
            "grid_gap": null,
            "max_width": null,
            "order": null,
            "_view_module_version": "1.2.0",
            "grid_template_areas": null,
            "object_position": null,
            "object_fit": null,
            "grid_auto_columns": null,
            "margin": null,
            "display": null,
            "left": null
          }
        },
        "00ee6706da2340fb94c3810d2dab2ebc": {
          "model_module": "@jupyter-widgets/controls",
          "model_name": "DescriptionStyleModel",
          "model_module_version": "1.5.0",
          "state": {
            "_view_name": "StyleView",
            "_model_name": "DescriptionStyleModel",
            "description_width": "",
            "_view_module": "@jupyter-widgets/base",
            "_model_module_version": "1.5.0",
            "_view_count": null,
            "_view_module_version": "1.2.0",
            "_model_module": "@jupyter-widgets/controls"
          }
        },
        "69586a5de7dc42c8a1dfff8df16a69c3": {
          "model_module": "@jupyter-widgets/base",
          "model_name": "LayoutModel",
          "model_module_version": "1.2.0",
          "state": {
            "_view_name": "LayoutView",
            "grid_template_rows": null,
            "right": null,
            "justify_content": null,
            "_view_module": "@jupyter-widgets/base",
            "overflow": null,
            "_model_module_version": "1.2.0",
            "_view_count": null,
            "flex_flow": null,
            "width": null,
            "min_width": null,
            "border": null,
            "align_items": null,
            "bottom": null,
            "_model_module": "@jupyter-widgets/base",
            "top": null,
            "grid_column": null,
            "overflow_y": null,
            "overflow_x": null,
            "grid_auto_flow": null,
            "grid_area": null,
            "grid_template_columns": null,
            "flex": null,
            "_model_name": "LayoutModel",
            "justify_items": null,
            "grid_row": null,
            "max_height": null,
            "align_content": null,
            "visibility": null,
            "align_self": null,
            "height": null,
            "min_height": null,
            "padding": null,
            "grid_auto_rows": null,
            "grid_gap": null,
            "max_width": null,
            "order": null,
            "_view_module_version": "1.2.0",
            "grid_template_areas": null,
            "object_position": null,
            "object_fit": null,
            "grid_auto_columns": null,
            "margin": null,
            "display": null,
            "left": null
          }
        },
        "7a774566d4fe48df95f4144bda2cc5f5": {
          "model_module": "@jupyter-widgets/controls",
          "model_name": "HBoxModel",
          "model_module_version": "1.5.0",
          "state": {
            "_view_name": "HBoxView",
            "_dom_classes": [],
            "_model_name": "HBoxModel",
            "_view_module": "@jupyter-widgets/controls",
            "_model_module_version": "1.5.0",
            "_view_count": null,
            "_view_module_version": "1.5.0",
            "box_style": "",
            "layout": "IPY_MODEL_ab80453950b348f2aa68611a6b6d89b8",
            "_model_module": "@jupyter-widgets/controls",
            "children": [
              "IPY_MODEL_718fa66ce28f4a24b0f0a8d6631e8f69",
              "IPY_MODEL_b411e778f3914958978d100dd8b0a240",
              "IPY_MODEL_9a50749f80ce4fbd97169c29e677c0ee"
            ]
          }
        },
        "ab80453950b348f2aa68611a6b6d89b8": {
          "model_module": "@jupyter-widgets/base",
          "model_name": "LayoutModel",
          "model_module_version": "1.2.0",
          "state": {
            "_view_name": "LayoutView",
            "grid_template_rows": null,
            "right": null,
            "justify_content": null,
            "_view_module": "@jupyter-widgets/base",
            "overflow": null,
            "_model_module_version": "1.2.0",
            "_view_count": null,
            "flex_flow": null,
            "width": null,
            "min_width": null,
            "border": null,
            "align_items": null,
            "bottom": null,
            "_model_module": "@jupyter-widgets/base",
            "top": null,
            "grid_column": null,
            "overflow_y": null,
            "overflow_x": null,
            "grid_auto_flow": null,
            "grid_area": null,
            "grid_template_columns": null,
            "flex": null,
            "_model_name": "LayoutModel",
            "justify_items": null,
            "grid_row": null,
            "max_height": null,
            "align_content": null,
            "visibility": null,
            "align_self": null,
            "height": null,
            "min_height": null,
            "padding": null,
            "grid_auto_rows": null,
            "grid_gap": null,
            "max_width": null,
            "order": null,
            "_view_module_version": "1.2.0",
            "grid_template_areas": null,
            "object_position": null,
            "object_fit": null,
            "grid_auto_columns": null,
            "margin": null,
            "display": null,
            "left": null
          }
        },
        "718fa66ce28f4a24b0f0a8d6631e8f69": {
          "model_module": "@jupyter-widgets/controls",
          "model_name": "HTMLModel",
          "model_module_version": "1.5.0",
          "state": {
            "_view_name": "HTMLView",
            "style": "IPY_MODEL_404e2f5a58be475cac0baf6e25635e91",
            "_dom_classes": [],
            "description": "",
            "_model_name": "HTMLModel",
            "placeholder": "​",
            "_view_module": "@jupyter-widgets/controls",
            "_model_module_version": "1.5.0",
            "value": "Downloading: 100%",
            "_view_count": null,
            "_view_module_version": "1.5.0",
            "description_tooltip": null,
            "_model_module": "@jupyter-widgets/controls",
            "layout": "IPY_MODEL_e0aebbab29264dc19b5ba82f90337cf1"
          }
        },
        "b411e778f3914958978d100dd8b0a240": {
          "model_module": "@jupyter-widgets/controls",
          "model_name": "FloatProgressModel",
          "model_module_version": "1.5.0",
          "state": {
            "_view_name": "ProgressView",
            "style": "IPY_MODEL_4fee6fbbee3d4ea798ed7e5988d0feb9",
            "_dom_classes": [],
            "description": "",
            "_model_name": "FloatProgressModel",
            "bar_style": "success",
            "max": 28,
            "_view_module": "@jupyter-widgets/controls",
            "_model_module_version": "1.5.0",
            "value": 28,
            "_view_count": null,
            "_view_module_version": "1.5.0",
            "orientation": "horizontal",
            "min": 0,
            "description_tooltip": null,
            "_model_module": "@jupyter-widgets/controls",
            "layout": "IPY_MODEL_a4d81c9ff270476693ef45dd81fb4004"
          }
        },
        "9a50749f80ce4fbd97169c29e677c0ee": {
          "model_module": "@jupyter-widgets/controls",
          "model_name": "HTMLModel",
          "model_module_version": "1.5.0",
          "state": {
            "_view_name": "HTMLView",
            "style": "IPY_MODEL_8ea451abd25f4635bb0c1449af75710a",
            "_dom_classes": [],
            "description": "",
            "_model_name": "HTMLModel",
            "placeholder": "​",
            "_view_module": "@jupyter-widgets/controls",
            "_model_module_version": "1.5.0",
            "value": " 28.0/28.0 [00:00&lt;00:00, 880B/s]",
            "_view_count": null,
            "_view_module_version": "1.5.0",
            "description_tooltip": null,
            "_model_module": "@jupyter-widgets/controls",
            "layout": "IPY_MODEL_10f6de69d1314b38bf63e49cff0ebc7f"
          }
        },
        "404e2f5a58be475cac0baf6e25635e91": {
          "model_module": "@jupyter-widgets/controls",
          "model_name": "DescriptionStyleModel",
          "model_module_version": "1.5.0",
          "state": {
            "_view_name": "StyleView",
            "_model_name": "DescriptionStyleModel",
            "description_width": "",
            "_view_module": "@jupyter-widgets/base",
            "_model_module_version": "1.5.0",
            "_view_count": null,
            "_view_module_version": "1.2.0",
            "_model_module": "@jupyter-widgets/controls"
          }
        },
        "e0aebbab29264dc19b5ba82f90337cf1": {
          "model_module": "@jupyter-widgets/base",
          "model_name": "LayoutModel",
          "model_module_version": "1.2.0",
          "state": {
            "_view_name": "LayoutView",
            "grid_template_rows": null,
            "right": null,
            "justify_content": null,
            "_view_module": "@jupyter-widgets/base",
            "overflow": null,
            "_model_module_version": "1.2.0",
            "_view_count": null,
            "flex_flow": null,
            "width": null,
            "min_width": null,
            "border": null,
            "align_items": null,
            "bottom": null,
            "_model_module": "@jupyter-widgets/base",
            "top": null,
            "grid_column": null,
            "overflow_y": null,
            "overflow_x": null,
            "grid_auto_flow": null,
            "grid_area": null,
            "grid_template_columns": null,
            "flex": null,
            "_model_name": "LayoutModel",
            "justify_items": null,
            "grid_row": null,
            "max_height": null,
            "align_content": null,
            "visibility": null,
            "align_self": null,
            "height": null,
            "min_height": null,
            "padding": null,
            "grid_auto_rows": null,
            "grid_gap": null,
            "max_width": null,
            "order": null,
            "_view_module_version": "1.2.0",
            "grid_template_areas": null,
            "object_position": null,
            "object_fit": null,
            "grid_auto_columns": null,
            "margin": null,
            "display": null,
            "left": null
          }
        },
        "4fee6fbbee3d4ea798ed7e5988d0feb9": {
          "model_module": "@jupyter-widgets/controls",
          "model_name": "ProgressStyleModel",
          "model_module_version": "1.5.0",
          "state": {
            "_view_name": "StyleView",
            "_model_name": "ProgressStyleModel",
            "description_width": "",
            "_view_module": "@jupyter-widgets/base",
            "_model_module_version": "1.5.0",
            "_view_count": null,
            "_view_module_version": "1.2.0",
            "bar_color": null,
            "_model_module": "@jupyter-widgets/controls"
          }
        },
        "a4d81c9ff270476693ef45dd81fb4004": {
          "model_module": "@jupyter-widgets/base",
          "model_name": "LayoutModel",
          "model_module_version": "1.2.0",
          "state": {
            "_view_name": "LayoutView",
            "grid_template_rows": null,
            "right": null,
            "justify_content": null,
            "_view_module": "@jupyter-widgets/base",
            "overflow": null,
            "_model_module_version": "1.2.0",
            "_view_count": null,
            "flex_flow": null,
            "width": null,
            "min_width": null,
            "border": null,
            "align_items": null,
            "bottom": null,
            "_model_module": "@jupyter-widgets/base",
            "top": null,
            "grid_column": null,
            "overflow_y": null,
            "overflow_x": null,
            "grid_auto_flow": null,
            "grid_area": null,
            "grid_template_columns": null,
            "flex": null,
            "_model_name": "LayoutModel",
            "justify_items": null,
            "grid_row": null,
            "max_height": null,
            "align_content": null,
            "visibility": null,
            "align_self": null,
            "height": null,
            "min_height": null,
            "padding": null,
            "grid_auto_rows": null,
            "grid_gap": null,
            "max_width": null,
            "order": null,
            "_view_module_version": "1.2.0",
            "grid_template_areas": null,
            "object_position": null,
            "object_fit": null,
            "grid_auto_columns": null,
            "margin": null,
            "display": null,
            "left": null
          }
        },
        "8ea451abd25f4635bb0c1449af75710a": {
          "model_module": "@jupyter-widgets/controls",
          "model_name": "DescriptionStyleModel",
          "model_module_version": "1.5.0",
          "state": {
            "_view_name": "StyleView",
            "_model_name": "DescriptionStyleModel",
            "description_width": "",
            "_view_module": "@jupyter-widgets/base",
            "_model_module_version": "1.5.0",
            "_view_count": null,
            "_view_module_version": "1.2.0",
            "_model_module": "@jupyter-widgets/controls"
          }
        },
        "10f6de69d1314b38bf63e49cff0ebc7f": {
          "model_module": "@jupyter-widgets/base",
          "model_name": "LayoutModel",
          "model_module_version": "1.2.0",
          "state": {
            "_view_name": "LayoutView",
            "grid_template_rows": null,
            "right": null,
            "justify_content": null,
            "_view_module": "@jupyter-widgets/base",
            "overflow": null,
            "_model_module_version": "1.2.0",
            "_view_count": null,
            "flex_flow": null,
            "width": null,
            "min_width": null,
            "border": null,
            "align_items": null,
            "bottom": null,
            "_model_module": "@jupyter-widgets/base",
            "top": null,
            "grid_column": null,
            "overflow_y": null,
            "overflow_x": null,
            "grid_auto_flow": null,
            "grid_area": null,
            "grid_template_columns": null,
            "flex": null,
            "_model_name": "LayoutModel",
            "justify_items": null,
            "grid_row": null,
            "max_height": null,
            "align_content": null,
            "visibility": null,
            "align_self": null,
            "height": null,
            "min_height": null,
            "padding": null,
            "grid_auto_rows": null,
            "grid_gap": null,
            "max_width": null,
            "order": null,
            "_view_module_version": "1.2.0",
            "grid_template_areas": null,
            "object_position": null,
            "object_fit": null,
            "grid_auto_columns": null,
            "margin": null,
            "display": null,
            "left": null
          }
        },
        "4c8bfdbca36a46358a6b09c27d73cb83": {
          "model_module": "@jupyter-widgets/controls",
          "model_name": "HBoxModel",
          "model_module_version": "1.5.0",
          "state": {
            "_view_name": "HBoxView",
            "_dom_classes": [],
            "_model_name": "HBoxModel",
            "_view_module": "@jupyter-widgets/controls",
            "_model_module_version": "1.5.0",
            "_view_count": null,
            "_view_module_version": "1.5.0",
            "box_style": "",
            "layout": "IPY_MODEL_7033478fa4b14cb7a5cbd064045a9e0a",
            "_model_module": "@jupyter-widgets/controls",
            "children": [
              "IPY_MODEL_09496ac76d9b4c1c96f7e0e139bae8b2",
              "IPY_MODEL_798d2dc09b37442b9379d51c53fa107d",
              "IPY_MODEL_a21bbac26bfd456a910f809aa5d293ec"
            ]
          }
        },
        "7033478fa4b14cb7a5cbd064045a9e0a": {
          "model_module": "@jupyter-widgets/base",
          "model_name": "LayoutModel",
          "model_module_version": "1.2.0",
          "state": {
            "_view_name": "LayoutView",
            "grid_template_rows": null,
            "right": null,
            "justify_content": null,
            "_view_module": "@jupyter-widgets/base",
            "overflow": null,
            "_model_module_version": "1.2.0",
            "_view_count": null,
            "flex_flow": null,
            "width": null,
            "min_width": null,
            "border": null,
            "align_items": null,
            "bottom": null,
            "_model_module": "@jupyter-widgets/base",
            "top": null,
            "grid_column": null,
            "overflow_y": null,
            "overflow_x": null,
            "grid_auto_flow": null,
            "grid_area": null,
            "grid_template_columns": null,
            "flex": null,
            "_model_name": "LayoutModel",
            "justify_items": null,
            "grid_row": null,
            "max_height": null,
            "align_content": null,
            "visibility": null,
            "align_self": null,
            "height": null,
            "min_height": null,
            "padding": null,
            "grid_auto_rows": null,
            "grid_gap": null,
            "max_width": null,
            "order": null,
            "_view_module_version": "1.2.0",
            "grid_template_areas": null,
            "object_position": null,
            "object_fit": null,
            "grid_auto_columns": null,
            "margin": null,
            "display": null,
            "left": null
          }
        },
        "09496ac76d9b4c1c96f7e0e139bae8b2": {
          "model_module": "@jupyter-widgets/controls",
          "model_name": "HTMLModel",
          "model_module_version": "1.5.0",
          "state": {
            "_view_name": "HTMLView",
            "style": "IPY_MODEL_17973717d7244ed6b1ebee85a9a3c81f",
            "_dom_classes": [],
            "description": "",
            "_model_name": "HTMLModel",
            "placeholder": "​",
            "_view_module": "@jupyter-widgets/controls",
            "_model_module_version": "1.5.0",
            "value": "Downloading: 100%",
            "_view_count": null,
            "_view_module_version": "1.5.0",
            "description_tooltip": null,
            "_model_module": "@jupyter-widgets/controls",
            "layout": "IPY_MODEL_59cb82d284e64d8492bb6b4596b0baa6"
          }
        },
        "798d2dc09b37442b9379d51c53fa107d": {
          "model_module": "@jupyter-widgets/controls",
          "model_name": "FloatProgressModel",
          "model_module_version": "1.5.0",
          "state": {
            "_view_name": "ProgressView",
            "style": "IPY_MODEL_4b7d779882c949228fae3db1df1f82bf",
            "_dom_classes": [],
            "description": "",
            "_model_name": "FloatProgressModel",
            "bar_style": "success",
            "max": 466062,
            "_view_module": "@jupyter-widgets/controls",
            "_model_module_version": "1.5.0",
            "value": 466062,
            "_view_count": null,
            "_view_module_version": "1.5.0",
            "orientation": "horizontal",
            "min": 0,
            "description_tooltip": null,
            "_model_module": "@jupyter-widgets/controls",
            "layout": "IPY_MODEL_da155666931545b096055347833dd1f4"
          }
        },
        "a21bbac26bfd456a910f809aa5d293ec": {
          "model_module": "@jupyter-widgets/controls",
          "model_name": "HTMLModel",
          "model_module_version": "1.5.0",
          "state": {
            "_view_name": "HTMLView",
            "style": "IPY_MODEL_41a6fd38448447e88ec10584b157d0eb",
            "_dom_classes": [],
            "description": "",
            "_model_name": "HTMLModel",
            "placeholder": "​",
            "_view_module": "@jupyter-widgets/controls",
            "_model_module_version": "1.5.0",
            "value": " 466k/466k [00:00&lt;00:00, 1.21MB/s]",
            "_view_count": null,
            "_view_module_version": "1.5.0",
            "description_tooltip": null,
            "_model_module": "@jupyter-widgets/controls",
            "layout": "IPY_MODEL_ec137c74589f485aae8e1c7e9a2bd2a3"
          }
        },
        "17973717d7244ed6b1ebee85a9a3c81f": {
          "model_module": "@jupyter-widgets/controls",
          "model_name": "DescriptionStyleModel",
          "model_module_version": "1.5.0",
          "state": {
            "_view_name": "StyleView",
            "_model_name": "DescriptionStyleModel",
            "description_width": "",
            "_view_module": "@jupyter-widgets/base",
            "_model_module_version": "1.5.0",
            "_view_count": null,
            "_view_module_version": "1.2.0",
            "_model_module": "@jupyter-widgets/controls"
          }
        },
        "59cb82d284e64d8492bb6b4596b0baa6": {
          "model_module": "@jupyter-widgets/base",
          "model_name": "LayoutModel",
          "model_module_version": "1.2.0",
          "state": {
            "_view_name": "LayoutView",
            "grid_template_rows": null,
            "right": null,
            "justify_content": null,
            "_view_module": "@jupyter-widgets/base",
            "overflow": null,
            "_model_module_version": "1.2.0",
            "_view_count": null,
            "flex_flow": null,
            "width": null,
            "min_width": null,
            "border": null,
            "align_items": null,
            "bottom": null,
            "_model_module": "@jupyter-widgets/base",
            "top": null,
            "grid_column": null,
            "overflow_y": null,
            "overflow_x": null,
            "grid_auto_flow": null,
            "grid_area": null,
            "grid_template_columns": null,
            "flex": null,
            "_model_name": "LayoutModel",
            "justify_items": null,
            "grid_row": null,
            "max_height": null,
            "align_content": null,
            "visibility": null,
            "align_self": null,
            "height": null,
            "min_height": null,
            "padding": null,
            "grid_auto_rows": null,
            "grid_gap": null,
            "max_width": null,
            "order": null,
            "_view_module_version": "1.2.0",
            "grid_template_areas": null,
            "object_position": null,
            "object_fit": null,
            "grid_auto_columns": null,
            "margin": null,
            "display": null,
            "left": null
          }
        },
        "4b7d779882c949228fae3db1df1f82bf": {
          "model_module": "@jupyter-widgets/controls",
          "model_name": "ProgressStyleModel",
          "model_module_version": "1.5.0",
          "state": {
            "_view_name": "StyleView",
            "_model_name": "ProgressStyleModel",
            "description_width": "",
            "_view_module": "@jupyter-widgets/base",
            "_model_module_version": "1.5.0",
            "_view_count": null,
            "_view_module_version": "1.2.0",
            "bar_color": null,
            "_model_module": "@jupyter-widgets/controls"
          }
        },
        "da155666931545b096055347833dd1f4": {
          "model_module": "@jupyter-widgets/base",
          "model_name": "LayoutModel",
          "model_module_version": "1.2.0",
          "state": {
            "_view_name": "LayoutView",
            "grid_template_rows": null,
            "right": null,
            "justify_content": null,
            "_view_module": "@jupyter-widgets/base",
            "overflow": null,
            "_model_module_version": "1.2.0",
            "_view_count": null,
            "flex_flow": null,
            "width": null,
            "min_width": null,
            "border": null,
            "align_items": null,
            "bottom": null,
            "_model_module": "@jupyter-widgets/base",
            "top": null,
            "grid_column": null,
            "overflow_y": null,
            "overflow_x": null,
            "grid_auto_flow": null,
            "grid_area": null,
            "grid_template_columns": null,
            "flex": null,
            "_model_name": "LayoutModel",
            "justify_items": null,
            "grid_row": null,
            "max_height": null,
            "align_content": null,
            "visibility": null,
            "align_self": null,
            "height": null,
            "min_height": null,
            "padding": null,
            "grid_auto_rows": null,
            "grid_gap": null,
            "max_width": null,
            "order": null,
            "_view_module_version": "1.2.0",
            "grid_template_areas": null,
            "object_position": null,
            "object_fit": null,
            "grid_auto_columns": null,
            "margin": null,
            "display": null,
            "left": null
          }
        },
        "41a6fd38448447e88ec10584b157d0eb": {
          "model_module": "@jupyter-widgets/controls",
          "model_name": "DescriptionStyleModel",
          "model_module_version": "1.5.0",
          "state": {
            "_view_name": "StyleView",
            "_model_name": "DescriptionStyleModel",
            "description_width": "",
            "_view_module": "@jupyter-widgets/base",
            "_model_module_version": "1.5.0",
            "_view_count": null,
            "_view_module_version": "1.2.0",
            "_model_module": "@jupyter-widgets/controls"
          }
        },
        "ec137c74589f485aae8e1c7e9a2bd2a3": {
          "model_module": "@jupyter-widgets/base",
          "model_name": "LayoutModel",
          "model_module_version": "1.2.0",
          "state": {
            "_view_name": "LayoutView",
            "grid_template_rows": null,
            "right": null,
            "justify_content": null,
            "_view_module": "@jupyter-widgets/base",
            "overflow": null,
            "_model_module_version": "1.2.0",
            "_view_count": null,
            "flex_flow": null,
            "width": null,
            "min_width": null,
            "border": null,
            "align_items": null,
            "bottom": null,
            "_model_module": "@jupyter-widgets/base",
            "top": null,
            "grid_column": null,
            "overflow_y": null,
            "overflow_x": null,
            "grid_auto_flow": null,
            "grid_area": null,
            "grid_template_columns": null,
            "flex": null,
            "_model_name": "LayoutModel",
            "justify_items": null,
            "grid_row": null,
            "max_height": null,
            "align_content": null,
            "visibility": null,
            "align_self": null,
            "height": null,
            "min_height": null,
            "padding": null,
            "grid_auto_rows": null,
            "grid_gap": null,
            "max_width": null,
            "order": null,
            "_view_module_version": "1.2.0",
            "grid_template_areas": null,
            "object_position": null,
            "object_fit": null,
            "grid_auto_columns": null,
            "margin": null,
            "display": null,
            "left": null
          }
        },
        "c464c92357d4427182653775220c09bd": {
          "model_module": "@jupyter-widgets/controls",
          "model_name": "HBoxModel",
          "model_module_version": "1.5.0",
          "state": {
            "_view_name": "HBoxView",
            "_dom_classes": [],
            "_model_name": "HBoxModel",
            "_view_module": "@jupyter-widgets/controls",
            "_model_module_version": "1.5.0",
            "_view_count": null,
            "_view_module_version": "1.5.0",
            "box_style": "",
            "layout": "IPY_MODEL_1941d3ff10f245ce9ae18531c0cbe5bd",
            "_model_module": "@jupyter-widgets/controls",
            "children": [
              "IPY_MODEL_caaec2095668408883b6c2931f4ccd0a",
              "IPY_MODEL_ea13064a54024a24bd6f0e9a01339f51",
              "IPY_MODEL_a5f46499f1854c1096bbbf911a02a6f8"
            ]
          }
        },
        "1941d3ff10f245ce9ae18531c0cbe5bd": {
          "model_module": "@jupyter-widgets/base",
          "model_name": "LayoutModel",
          "model_module_version": "1.2.0",
          "state": {
            "_view_name": "LayoutView",
            "grid_template_rows": null,
            "right": null,
            "justify_content": null,
            "_view_module": "@jupyter-widgets/base",
            "overflow": null,
            "_model_module_version": "1.2.0",
            "_view_count": null,
            "flex_flow": null,
            "width": null,
            "min_width": null,
            "border": null,
            "align_items": null,
            "bottom": null,
            "_model_module": "@jupyter-widgets/base",
            "top": null,
            "grid_column": null,
            "overflow_y": null,
            "overflow_x": null,
            "grid_auto_flow": null,
            "grid_area": null,
            "grid_template_columns": null,
            "flex": null,
            "_model_name": "LayoutModel",
            "justify_items": null,
            "grid_row": null,
            "max_height": null,
            "align_content": null,
            "visibility": null,
            "align_self": null,
            "height": null,
            "min_height": null,
            "padding": null,
            "grid_auto_rows": null,
            "grid_gap": null,
            "max_width": null,
            "order": null,
            "_view_module_version": "1.2.0",
            "grid_template_areas": null,
            "object_position": null,
            "object_fit": null,
            "grid_auto_columns": null,
            "margin": null,
            "display": null,
            "left": null
          }
        },
        "caaec2095668408883b6c2931f4ccd0a": {
          "model_module": "@jupyter-widgets/controls",
          "model_name": "HTMLModel",
          "model_module_version": "1.5.0",
          "state": {
            "_view_name": "HTMLView",
            "style": "IPY_MODEL_11ce4b97a7ea4619887bca1480e9bd43",
            "_dom_classes": [],
            "description": "",
            "_model_name": "HTMLModel",
            "placeholder": "​",
            "_view_module": "@jupyter-widgets/controls",
            "_model_module_version": "1.5.0",
            "value": "Downloading: 100%",
            "_view_count": null,
            "_view_module_version": "1.5.0",
            "description_tooltip": null,
            "_model_module": "@jupyter-widgets/controls",
            "layout": "IPY_MODEL_d91997ac573a41b8b2c08d0ba519e9a4"
          }
        },
        "ea13064a54024a24bd6f0e9a01339f51": {
          "model_module": "@jupyter-widgets/controls",
          "model_name": "FloatProgressModel",
          "model_module_version": "1.5.0",
          "state": {
            "_view_name": "ProgressView",
            "style": "IPY_MODEL_b502f8efd41a4f5f8ce233f2571db099",
            "_dom_classes": [],
            "description": "",
            "_model_name": "FloatProgressModel",
            "bar_style": "success",
            "max": 442,
            "_view_module": "@jupyter-widgets/controls",
            "_model_module_version": "1.5.0",
            "value": 442,
            "_view_count": null,
            "_view_module_version": "1.5.0",
            "orientation": "horizontal",
            "min": 0,
            "description_tooltip": null,
            "_model_module": "@jupyter-widgets/controls",
            "layout": "IPY_MODEL_8e70ea163ed044c2a6c0bbbb2491ad1d"
          }
        },
        "a5f46499f1854c1096bbbf911a02a6f8": {
          "model_module": "@jupyter-widgets/controls",
          "model_name": "HTMLModel",
          "model_module_version": "1.5.0",
          "state": {
            "_view_name": "HTMLView",
            "style": "IPY_MODEL_f89704c4e57e4721bd6f2f8a9b4d1871",
            "_dom_classes": [],
            "description": "",
            "_model_name": "HTMLModel",
            "placeholder": "​",
            "_view_module": "@jupyter-widgets/controls",
            "_model_module_version": "1.5.0",
            "value": " 442/442 [00:00&lt;00:00, 13.7kB/s]",
            "_view_count": null,
            "_view_module_version": "1.5.0",
            "description_tooltip": null,
            "_model_module": "@jupyter-widgets/controls",
            "layout": "IPY_MODEL_17800d112d544f87a6e8e31bb809b591"
          }
        },
        "11ce4b97a7ea4619887bca1480e9bd43": {
          "model_module": "@jupyter-widgets/controls",
          "model_name": "DescriptionStyleModel",
          "model_module_version": "1.5.0",
          "state": {
            "_view_name": "StyleView",
            "_model_name": "DescriptionStyleModel",
            "description_width": "",
            "_view_module": "@jupyter-widgets/base",
            "_model_module_version": "1.5.0",
            "_view_count": null,
            "_view_module_version": "1.2.0",
            "_model_module": "@jupyter-widgets/controls"
          }
        },
        "d91997ac573a41b8b2c08d0ba519e9a4": {
          "model_module": "@jupyter-widgets/base",
          "model_name": "LayoutModel",
          "model_module_version": "1.2.0",
          "state": {
            "_view_name": "LayoutView",
            "grid_template_rows": null,
            "right": null,
            "justify_content": null,
            "_view_module": "@jupyter-widgets/base",
            "overflow": null,
            "_model_module_version": "1.2.0",
            "_view_count": null,
            "flex_flow": null,
            "width": null,
            "min_width": null,
            "border": null,
            "align_items": null,
            "bottom": null,
            "_model_module": "@jupyter-widgets/base",
            "top": null,
            "grid_column": null,
            "overflow_y": null,
            "overflow_x": null,
            "grid_auto_flow": null,
            "grid_area": null,
            "grid_template_columns": null,
            "flex": null,
            "_model_name": "LayoutModel",
            "justify_items": null,
            "grid_row": null,
            "max_height": null,
            "align_content": null,
            "visibility": null,
            "align_self": null,
            "height": null,
            "min_height": null,
            "padding": null,
            "grid_auto_rows": null,
            "grid_gap": null,
            "max_width": null,
            "order": null,
            "_view_module_version": "1.2.0",
            "grid_template_areas": null,
            "object_position": null,
            "object_fit": null,
            "grid_auto_columns": null,
            "margin": null,
            "display": null,
            "left": null
          }
        },
        "b502f8efd41a4f5f8ce233f2571db099": {
          "model_module": "@jupyter-widgets/controls",
          "model_name": "ProgressStyleModel",
          "model_module_version": "1.5.0",
          "state": {
            "_view_name": "StyleView",
            "_model_name": "ProgressStyleModel",
            "description_width": "",
            "_view_module": "@jupyter-widgets/base",
            "_model_module_version": "1.5.0",
            "_view_count": null,
            "_view_module_version": "1.2.0",
            "bar_color": null,
            "_model_module": "@jupyter-widgets/controls"
          }
        },
        "8e70ea163ed044c2a6c0bbbb2491ad1d": {
          "model_module": "@jupyter-widgets/base",
          "model_name": "LayoutModel",
          "model_module_version": "1.2.0",
          "state": {
            "_view_name": "LayoutView",
            "grid_template_rows": null,
            "right": null,
            "justify_content": null,
            "_view_module": "@jupyter-widgets/base",
            "overflow": null,
            "_model_module_version": "1.2.0",
            "_view_count": null,
            "flex_flow": null,
            "width": null,
            "min_width": null,
            "border": null,
            "align_items": null,
            "bottom": null,
            "_model_module": "@jupyter-widgets/base",
            "top": null,
            "grid_column": null,
            "overflow_y": null,
            "overflow_x": null,
            "grid_auto_flow": null,
            "grid_area": null,
            "grid_template_columns": null,
            "flex": null,
            "_model_name": "LayoutModel",
            "justify_items": null,
            "grid_row": null,
            "max_height": null,
            "align_content": null,
            "visibility": null,
            "align_self": null,
            "height": null,
            "min_height": null,
            "padding": null,
            "grid_auto_rows": null,
            "grid_gap": null,
            "max_width": null,
            "order": null,
            "_view_module_version": "1.2.0",
            "grid_template_areas": null,
            "object_position": null,
            "object_fit": null,
            "grid_auto_columns": null,
            "margin": null,
            "display": null,
            "left": null
          }
        },
        "f89704c4e57e4721bd6f2f8a9b4d1871": {
          "model_module": "@jupyter-widgets/controls",
          "model_name": "DescriptionStyleModel",
          "model_module_version": "1.5.0",
          "state": {
            "_view_name": "StyleView",
            "_model_name": "DescriptionStyleModel",
            "description_width": "",
            "_view_module": "@jupyter-widgets/base",
            "_model_module_version": "1.5.0",
            "_view_count": null,
            "_view_module_version": "1.2.0",
            "_model_module": "@jupyter-widgets/controls"
          }
        },
        "17800d112d544f87a6e8e31bb809b591": {
          "model_module": "@jupyter-widgets/base",
          "model_name": "LayoutModel",
          "model_module_version": "1.2.0",
          "state": {
            "_view_name": "LayoutView",
            "grid_template_rows": null,
            "right": null,
            "justify_content": null,
            "_view_module": "@jupyter-widgets/base",
            "overflow": null,
            "_model_module_version": "1.2.0",
            "_view_count": null,
            "flex_flow": null,
            "width": null,
            "min_width": null,
            "border": null,
            "align_items": null,
            "bottom": null,
            "_model_module": "@jupyter-widgets/base",
            "top": null,
            "grid_column": null,
            "overflow_y": null,
            "overflow_x": null,
            "grid_auto_flow": null,
            "grid_area": null,
            "grid_template_columns": null,
            "flex": null,
            "_model_name": "LayoutModel",
            "justify_items": null,
            "grid_row": null,
            "max_height": null,
            "align_content": null,
            "visibility": null,
            "align_self": null,
            "height": null,
            "min_height": null,
            "padding": null,
            "grid_auto_rows": null,
            "grid_gap": null,
            "max_width": null,
            "order": null,
            "_view_module_version": "1.2.0",
            "grid_template_areas": null,
            "object_position": null,
            "object_fit": null,
            "grid_auto_columns": null,
            "margin": null,
            "display": null,
            "left": null
          }
        },
        "4544eb54d8284ed9887857c0a26da718": {
          "model_module": "@jupyter-widgets/controls",
          "model_name": "HBoxModel",
          "model_module_version": "1.5.0",
          "state": {
            "_view_name": "HBoxView",
            "_dom_classes": [],
            "_model_name": "HBoxModel",
            "_view_module": "@jupyter-widgets/controls",
            "_model_module_version": "1.5.0",
            "_view_count": null,
            "_view_module_version": "1.5.0",
            "box_style": "",
            "layout": "IPY_MODEL_4448f0c750114898b93dfa2b325ddf87",
            "_model_module": "@jupyter-widgets/controls",
            "children": [
              "IPY_MODEL_14916381f95f48ccbdc0ee1b3d886275",
              "IPY_MODEL_6b18b5c1252e4c86aa172f93f8cd30f3",
              "IPY_MODEL_602357a306744c398718daa27029704a"
            ]
          }
        },
        "4448f0c750114898b93dfa2b325ddf87": {
          "model_module": "@jupyter-widgets/base",
          "model_name": "LayoutModel",
          "model_module_version": "1.2.0",
          "state": {
            "_view_name": "LayoutView",
            "grid_template_rows": null,
            "right": null,
            "justify_content": null,
            "_view_module": "@jupyter-widgets/base",
            "overflow": null,
            "_model_module_version": "1.2.0",
            "_view_count": null,
            "flex_flow": null,
            "width": null,
            "min_width": null,
            "border": null,
            "align_items": null,
            "bottom": null,
            "_model_module": "@jupyter-widgets/base",
            "top": null,
            "grid_column": null,
            "overflow_y": null,
            "overflow_x": null,
            "grid_auto_flow": null,
            "grid_area": null,
            "grid_template_columns": null,
            "flex": null,
            "_model_name": "LayoutModel",
            "justify_items": null,
            "grid_row": null,
            "max_height": null,
            "align_content": null,
            "visibility": null,
            "align_self": null,
            "height": null,
            "min_height": null,
            "padding": null,
            "grid_auto_rows": null,
            "grid_gap": null,
            "max_width": null,
            "order": null,
            "_view_module_version": "1.2.0",
            "grid_template_areas": null,
            "object_position": null,
            "object_fit": null,
            "grid_auto_columns": null,
            "margin": null,
            "display": null,
            "left": null
          }
        },
        "14916381f95f48ccbdc0ee1b3d886275": {
          "model_module": "@jupyter-widgets/controls",
          "model_name": "HTMLModel",
          "model_module_version": "1.5.0",
          "state": {
            "_view_name": "HTMLView",
            "style": "IPY_MODEL_cd1775abef7c426f8b4da74baf756358",
            "_dom_classes": [],
            "description": "",
            "_model_name": "HTMLModel",
            "placeholder": "​",
            "_view_module": "@jupyter-widgets/controls",
            "_model_module_version": "1.5.0",
            "value": "Downloading: 100%",
            "_view_count": null,
            "_view_module_version": "1.5.0",
            "description_tooltip": null,
            "_model_module": "@jupyter-widgets/controls",
            "layout": "IPY_MODEL_9cbe7ff4f0c145f7a2e09f926a009782"
          }
        },
        "6b18b5c1252e4c86aa172f93f8cd30f3": {
          "model_module": "@jupyter-widgets/controls",
          "model_name": "FloatProgressModel",
          "model_module_version": "1.5.0",
          "state": {
            "_view_name": "ProgressView",
            "style": "IPY_MODEL_4fb91109f37a417db3d2648d9b2ea14b",
            "_dom_classes": [],
            "description": "",
            "_model_name": "FloatProgressModel",
            "bar_style": "success",
            "max": 267967963,
            "_view_module": "@jupyter-widgets/controls",
            "_model_module_version": "1.5.0",
            "value": 267967963,
            "_view_count": null,
            "_view_module_version": "1.5.0",
            "orientation": "horizontal",
            "min": 0,
            "description_tooltip": null,
            "_model_module": "@jupyter-widgets/controls",
            "layout": "IPY_MODEL_b868707b04cc46f084320812855f9ca2"
          }
        },
        "602357a306744c398718daa27029704a": {
          "model_module": "@jupyter-widgets/controls",
          "model_name": "HTMLModel",
          "model_module_version": "1.5.0",
          "state": {
            "_view_name": "HTMLView",
            "style": "IPY_MODEL_53f996ca96ed4932929dfaddd1465c6d",
            "_dom_classes": [],
            "description": "",
            "_model_name": "HTMLModel",
            "placeholder": "​",
            "_view_module": "@jupyter-widgets/controls",
            "_model_module_version": "1.5.0",
            "value": " 268M/268M [00:06&lt;00:00, 37.2MB/s]",
            "_view_count": null,
            "_view_module_version": "1.5.0",
            "description_tooltip": null,
            "_model_module": "@jupyter-widgets/controls",
            "layout": "IPY_MODEL_ac2842a601e74450af1b4d3cf505d549"
          }
        },
        "cd1775abef7c426f8b4da74baf756358": {
          "model_module": "@jupyter-widgets/controls",
          "model_name": "DescriptionStyleModel",
          "model_module_version": "1.5.0",
          "state": {
            "_view_name": "StyleView",
            "_model_name": "DescriptionStyleModel",
            "description_width": "",
            "_view_module": "@jupyter-widgets/base",
            "_model_module_version": "1.5.0",
            "_view_count": null,
            "_view_module_version": "1.2.0",
            "_model_module": "@jupyter-widgets/controls"
          }
        },
        "9cbe7ff4f0c145f7a2e09f926a009782": {
          "model_module": "@jupyter-widgets/base",
          "model_name": "LayoutModel",
          "model_module_version": "1.2.0",
          "state": {
            "_view_name": "LayoutView",
            "grid_template_rows": null,
            "right": null,
            "justify_content": null,
            "_view_module": "@jupyter-widgets/base",
            "overflow": null,
            "_model_module_version": "1.2.0",
            "_view_count": null,
            "flex_flow": null,
            "width": null,
            "min_width": null,
            "border": null,
            "align_items": null,
            "bottom": null,
            "_model_module": "@jupyter-widgets/base",
            "top": null,
            "grid_column": null,
            "overflow_y": null,
            "overflow_x": null,
            "grid_auto_flow": null,
            "grid_area": null,
            "grid_template_columns": null,
            "flex": null,
            "_model_name": "LayoutModel",
            "justify_items": null,
            "grid_row": null,
            "max_height": null,
            "align_content": null,
            "visibility": null,
            "align_self": null,
            "height": null,
            "min_height": null,
            "padding": null,
            "grid_auto_rows": null,
            "grid_gap": null,
            "max_width": null,
            "order": null,
            "_view_module_version": "1.2.0",
            "grid_template_areas": null,
            "object_position": null,
            "object_fit": null,
            "grid_auto_columns": null,
            "margin": null,
            "display": null,
            "left": null
          }
        },
        "4fb91109f37a417db3d2648d9b2ea14b": {
          "model_module": "@jupyter-widgets/controls",
          "model_name": "ProgressStyleModel",
          "model_module_version": "1.5.0",
          "state": {
            "_view_name": "StyleView",
            "_model_name": "ProgressStyleModel",
            "description_width": "",
            "_view_module": "@jupyter-widgets/base",
            "_model_module_version": "1.5.0",
            "_view_count": null,
            "_view_module_version": "1.2.0",
            "bar_color": null,
            "_model_module": "@jupyter-widgets/controls"
          }
        },
        "b868707b04cc46f084320812855f9ca2": {
          "model_module": "@jupyter-widgets/base",
          "model_name": "LayoutModel",
          "model_module_version": "1.2.0",
          "state": {
            "_view_name": "LayoutView",
            "grid_template_rows": null,
            "right": null,
            "justify_content": null,
            "_view_module": "@jupyter-widgets/base",
            "overflow": null,
            "_model_module_version": "1.2.0",
            "_view_count": null,
            "flex_flow": null,
            "width": null,
            "min_width": null,
            "border": null,
            "align_items": null,
            "bottom": null,
            "_model_module": "@jupyter-widgets/base",
            "top": null,
            "grid_column": null,
            "overflow_y": null,
            "overflow_x": null,
            "grid_auto_flow": null,
            "grid_area": null,
            "grid_template_columns": null,
            "flex": null,
            "_model_name": "LayoutModel",
            "justify_items": null,
            "grid_row": null,
            "max_height": null,
            "align_content": null,
            "visibility": null,
            "align_self": null,
            "height": null,
            "min_height": null,
            "padding": null,
            "grid_auto_rows": null,
            "grid_gap": null,
            "max_width": null,
            "order": null,
            "_view_module_version": "1.2.0",
            "grid_template_areas": null,
            "object_position": null,
            "object_fit": null,
            "grid_auto_columns": null,
            "margin": null,
            "display": null,
            "left": null
          }
        },
        "53f996ca96ed4932929dfaddd1465c6d": {
          "model_module": "@jupyter-widgets/controls",
          "model_name": "DescriptionStyleModel",
          "model_module_version": "1.5.0",
          "state": {
            "_view_name": "StyleView",
            "_model_name": "DescriptionStyleModel",
            "description_width": "",
            "_view_module": "@jupyter-widgets/base",
            "_model_module_version": "1.5.0",
            "_view_count": null,
            "_view_module_version": "1.2.0",
            "_model_module": "@jupyter-widgets/controls"
          }
        },
        "ac2842a601e74450af1b4d3cf505d549": {
          "model_module": "@jupyter-widgets/base",
          "model_name": "LayoutModel",
          "model_module_version": "1.2.0",
          "state": {
            "_view_name": "LayoutView",
            "grid_template_rows": null,
            "right": null,
            "justify_content": null,
            "_view_module": "@jupyter-widgets/base",
            "overflow": null,
            "_model_module_version": "1.2.0",
            "_view_count": null,
            "flex_flow": null,
            "width": null,
            "min_width": null,
            "border": null,
            "align_items": null,
            "bottom": null,
            "_model_module": "@jupyter-widgets/base",
            "top": null,
            "grid_column": null,
            "overflow_y": null,
            "overflow_x": null,
            "grid_auto_flow": null,
            "grid_area": null,
            "grid_template_columns": null,
            "flex": null,
            "_model_name": "LayoutModel",
            "justify_items": null,
            "grid_row": null,
            "max_height": null,
            "align_content": null,
            "visibility": null,
            "align_self": null,
            "height": null,
            "min_height": null,
            "padding": null,
            "grid_auto_rows": null,
            "grid_gap": null,
            "max_width": null,
            "order": null,
            "_view_module_version": "1.2.0",
            "grid_template_areas": null,
            "object_position": null,
            "object_fit": null,
            "grid_auto_columns": null,
            "margin": null,
            "display": null,
            "left": null
          }
        }
      }
    }
  },
  "cells": [
    {
      "cell_type": "markdown",
      "metadata": {
        "id": "view-in-github",
        "colab_type": "text"
      },
      "source": [
        "<a href=\"https://colab.research.google.com/github/Studiegruppe-TM/datascience_proj/blob/main/DistilBert_Liar_6000_training_og_svc_multi_kernel_.ipynb\" target=\"_parent\"><img src=\"https://colab.research.google.com/assets/colab-badge.svg\" alt=\"Open In Colab\"/></a>"
      ]
    },
    {
      "cell_type": "code",
      "metadata": {
        "id": "inqEjMWz-Cth",
        "colab": {
          "base_uri": "https://localhost:8080/"
        },
        "outputId": "f20c46a1-d2db-434c-899f-7ff18fe9cd0a"
      },
      "source": [
        "from io import BytesIO\n",
        "from zipfile import ZipFile\n",
        "from urllib.request import urlopen\n",
        "import csv\n",
        "import pandas as pd\n",
        "import numpy as np\n",
        "\n",
        "from collections import Counter\n",
        "\n",
        "#google halloej \n",
        "from google.colab import drive\n",
        "drive.mount('/content/drive')\n",
        "\n",
        "\n",
        "#list=[]\n",
        "#result = [list]\n",
        "#articles = '/content/drive/MyDrive/data science colab notesbooks/train.tsv'\n",
        "#for chunk in pd.read_csv(articles, chunksize=100, sep='\\t'):\n",
        "#  result.append(chunk)\n",
        "\n",
        "\n",
        "\n",
        "#total = sum(result)\n",
        "\n",
        "\n",
        "#articles = df_1.fillna('a')\n",
        "\n",
        "#zipfile = ZipFile(BytesIO(resp.read()))\n",
        "#articles = pd.read_csv(zipfile.open(zipfile.namelist()[0]))\n",
        "\n",
        "# Subset for faster processing\n",
        "\n"
      ],
      "id": "inqEjMWz-Cth",
      "execution_count": 4,
      "outputs": [
        {
          "output_type": "stream",
          "text": [
            "Drive already mounted at /content/drive; to attempt to forcibly remount, call drive.mount(\"/content/drive\", force_remount=True).\n"
          ],
          "name": "stdout"
        }
      ]
    },
    {
      "cell_type": "code",
      "metadata": {
        "id": "7xYkXFgjGExe",
        "colab": {
          "base_uri": "https://localhost:8080/"
        },
        "outputId": "69838575-43d6-4393-adcb-2adcda4b0f44"
      },
      "source": [
        "from google.colab import drive\n",
        "drive.mount('/content/drive')"
      ],
      "id": "7xYkXFgjGExe",
      "execution_count": 5,
      "outputs": [
        {
          "output_type": "stream",
          "text": [
            "Drive already mounted at /content/drive; to attempt to forcibly remount, call drive.mount(\"/content/drive\", force_remount=True).\n"
          ],
          "name": "stdout"
        }
      ]
    },
    {
      "cell_type": "code",
      "metadata": {
        "id": "XeBvnN2S66pp",
        "colab": {
          "base_uri": "https://localhost:8080/"
        },
        "outputId": "ea490293-66be-4ffc-c588-e35334a0c1b3"
      },
      "source": [
        "#list=[]\n",
        "#result = [list]\n",
        "#articles = '/content/drive/MyDrive/data science colab notesbooks/train.tsv'\n",
        "#for chunk in pd.read_csv(articles, chunksize=1000,names=[]\n",
        "                                                         \n",
        "\n",
        "import json\n",
        "import pandas as pd\n",
        "\n",
        "train = pd.read_csv('/content/drive/MyDrive/data_science_rapport_august_2021/liar_dataset/train.tsv', sep='\\t')\n",
        "result = pd.read_csv('/content/drive/MyDrive/data_science_rapport_august_2021/liar_dataset/test.tsv', sep='\\t')\n",
        "\n",
        "train = train.sample(frac=1)\n",
        "result = result.sample(frac=1)\n",
        "\n",
        "#train1 = []\n",
        "#for chunk in pd.read_csv('/content/drive/MyDrive/data_science_rapport_august_2021/FakeNewsCorpus_dataset/fakenews.csv')\n",
        " # chunksize=1000,names=['id', 'content']):\n",
        "#    train1.append(chunk)\n",
        "\n",
        "#articles = '/content/drive/MyDrive/data science colab notesbooks/train.tsv'\n",
        "#for chunk in pd.read_csv('/content/drive/MyDrive/data_science_rapport_august_2021/news_sample.csv', chunksize=1000, sep='\\t'):\n",
        "  #train1.append(chunk)\n",
        "\n",
        "\n",
        "#print(chunk)\n",
        "#train = df.concat([train1[0], train[1], train1[2], train1[3], train1[4], train1[5], train1[6], train1[7], train1[8], train1[9])\n",
        "\n",
        "result_1 = result.iloc[: 800, 0:14]\n",
        "result_2 = result.iloc[800: 1266, 0:14]\n",
        "\n",
        "\n",
        "train_1 = train.iloc[: 1000, 0:14]\n",
        "train_2 = train.iloc[1000: 2000, 0:14]\n",
        "train_3 = train.iloc[2000: 3000, 0:14]\n",
        "train_4 = train.iloc[3000: 4000, 0:14]\n",
        "train_5 = train.iloc[4000: 5000, 0:14]\n",
        "train_6 = train.iloc[5000: 6000, 0:14]\n",
        "#train_7 = train.iloc[6000: 7000, 0:6]\n",
        "#train_8 = train.iloc[7000: 8000, 0:6]\n",
        "#train_9 = train.iloc[8000: 9000, 0:6]\n",
        "#train_10 = train.iloc[9000: 10238 , 0:6]\n",
        "\n",
        "print(train_1)"
      ],
      "id": "XeBvnN2S66pp",
      "execution_count": 6,
      "outputs": [
        {
          "output_type": "stream",
          "text": [
            "       2635.json  ...                                           a mailer\n",
            "678   10844.json  ...                      on CNN's \"State of the Union\"\n",
            "4531  11890.json  ...     a 90-page manifesto decrying federal overreach\n",
            "856    2141.json  ...                          remarks at a bill signing\n",
            "2207   2873.json  ...                                          an e-mail\n",
            "9786    694.json  ...     a speech at the Republican National Convention\n",
            "...          ...  ...                                                ...\n",
            "8841   6585.json  ...  the keynote address at the Republican National...\n",
            "1799   5089.json  ...  a Republican presidential debate in Manchester...\n",
            "9404   5921.json  ...                                     a chain e-mail\n",
            "3016   1048.json  ...                                  an opinion piece.\n",
            "7504  10924.json  ...                                           a speech\n",
            "\n",
            "[1000 rows x 14 columns]\n"
          ],
          "name": "stdout"
        }
      ]
    },
    {
      "cell_type": "code",
      "metadata": {
        "id": "dxZRm5c4f2JI"
      },
      "source": [
        ""
      ],
      "id": "dxZRm5c4f2JI",
      "execution_count": 6,
      "outputs": []
    },
    {
      "cell_type": "code",
      "metadata": {
        "id": "7j8rq-sr-Ctm",
        "colab": {
          "base_uri": "https://localhost:8080/"
        },
        "outputId": "0ff8566b-4b32-4389-9d45-2243ef94b584"
      },
      "source": [
        "print(result_1)\n"
      ],
      "id": "7j8rq-sr-Ctm",
      "execution_count": 7,
      "outputs": [
        {
          "output_type": "stream",
          "text": [
            "      11972.json         true  ...  18                   Radio interview\n",
            "933    6428.json    half-true  ...   0                    a guest column\n",
            "756    9033.json         true  ...   1       a Republican weekly address\n",
            "212    3215.json   pants-fire  ...   1                    a news release\n",
            "208    5171.json        false  ...   5        a debate in South Carolina\n",
            "1229   7698.json         true  ...   0                         a column.\n",
            "...          ...          ...  ...  ..                               ...\n",
            "78    12541.json  barely-true  ...  61  an interview on \"Meet the Press\"\n",
            "439    4425.json  barely-true  ...   3            a television interview\n",
            "141    7677.json  mostly-true  ...   0             a newspaper interview\n",
            "1131   6163.json        false  ...   0          a campaign press release\n",
            "1216   5416.json         true  ...   0                   a floor speech.\n",
            "\n",
            "[800 rows x 14 columns]\n"
          ],
          "name": "stdout"
        }
      ]
    },
    {
      "cell_type": "code",
      "metadata": {
        "id": "vkcFEW4dWf-7",
        "colab": {
          "base_uri": "https://localhost:8080/"
        },
        "outputId": "35b1c4f3-7ff6-4a85-915e-eb2aec17f482"
      },
      "source": [
        "#print(ubaad_new1) \n",
        "#print(ubaad_new2)\n",
        "\n",
        "\n",
        "t = range(0,200)\n",
        "pu = result_1\n",
        "\n",
        "import itertools\n",
        "\n",
        "correct_next_element = 1\n",
        "\n",
        "#skifte element i result[i] \n",
        "new_List = [range(2,10000)] # Vi er sgu ikke helt sikre på det her \n",
        "list_cycle = itertools.cycle(new_List)\n",
        "next(list_cycle)\n",
        "\n",
        "#for i in result:\n",
        "\n",
        "#Gammelt stuff\n",
        "   #print(pu['type'])\n",
        "   #pu['label'] = 'real'\n",
        "   #pu.loc[pu['type'] == 'fake', 'label'] = 'fake'\n",
        "   \n",
        "#Hvad vi definerer som korrekte labels\n",
        "#pu['1'] = 'fake'\n",
        "#pu.loc[pu[1] == 'real', 'label'] = 'real'\n",
        "#pu.loc[pu[1] == 'political', 'label'] = 'real'\n",
        "#pu.loc[pu[1] == 'reliable', 'label'] = 'real'\n",
        "\n",
        "#Andet gammelt stugff\n",
        "   #pu = result[w]\n",
        "   #pu2 = result[w + 1]\n",
        "\n",
        "#skifte element i result[i]\n",
        "   #next_element = next(list_cycle)\n",
        "   #print(next_element)\n",
        "   #correct_next_element = next_element\n",
        "   #print(correct_next_element)\n",
        "   \n",
        "   #pu = result[correct_next_element]\n",
        "   #print(pu)\n",
        "\n",
        "#print(result[2]['label'])\n",
        "\n",
        "\n"
      ],
      "id": "vkcFEW4dWf-7",
      "execution_count": 8,
      "outputs": [
        {
          "output_type": "execute_result",
          "data": {
            "text/plain": [
              "range(2, 10000)"
            ]
          },
          "metadata": {
            "tags": []
          },
          "execution_count": 8
        }
      ]
    },
    {
      "cell_type": "code",
      "metadata": {
        "id": "9Aa7jQE5cAZ9",
        "colab": {
          "base_uri": "https://localhost:8080/"
        },
        "outputId": "516facc3-4234-4dcc-af31-6805024bb0b0"
      },
      "source": [
        "print(train_2['Says the Annies List political group supports third-trimester abortions on demand.'])"
      ],
      "id": "9Aa7jQE5cAZ9",
      "execution_count": 9,
      "outputs": [
        {
          "output_type": "stream",
          "text": [
            "5459    About 57 percent of registered Democrats in th...\n",
            "6581    Says Democratic recall opponent Mahlon Mitchel...\n",
            "7045    Says New Jerseys $1 billion horse racing indus...\n",
            "4164    Georgia has elected more African-American lead...\n",
            "162     If Milwaukee approves reducing its maximum for...\n",
            "                              ...                        \n",
            "5210    Says Donald Trump mocked someone with a disabi...\n",
            "5305    The citys 30 percent set aside for affordable ...\n",
            "3729    As governor, Mike Huckabee supported higher in...\n",
            "8419    From 2014 to 2015, Austins murder rate is up a...\n",
            "116     Say Oregon Reps. Peter DeFazio and Earl Blumen...\n",
            "Name: Says the Annies List political group supports third-trimester abortions on demand., Length: 1000, dtype: object\n"
          ],
          "name": "stdout"
        }
      ]
    },
    {
      "cell_type": "markdown",
      "metadata": {
        "id": "nZD6Y9LD-Ctn"
      },
      "source": [
        "# **DistilBERT delen**"
      ],
      "id": "nZD6Y9LD-Ctn"
    },
    {
      "cell_type": "code",
      "metadata": {
        "id": "-FLpPzBp-Cto",
        "colab": {
          "base_uri": "https://localhost:8080/"
        },
        "outputId": "f52f32e9-6c28-476f-80eb-405e443df00a"
      },
      "source": [
        "# Install the transformer package (the models used for creating the embeddings)\n",
        "!pip install transformers"
      ],
      "id": "-FLpPzBp-Cto",
      "execution_count": 10,
      "outputs": [
        {
          "output_type": "stream",
          "text": [
            "Collecting transformers\n",
            "  Downloading transformers-4.9.2-py3-none-any.whl (2.6 MB)\n",
            "\u001b[K     |████████████████████████████████| 2.6 MB 16.9 MB/s \n",
            "\u001b[?25hCollecting pyyaml>=5.1\n",
            "  Downloading PyYAML-5.4.1-cp37-cp37m-manylinux1_x86_64.whl (636 kB)\n",
            "\u001b[K     |████████████████████████████████| 636 kB 51.5 MB/s \n",
            "\u001b[?25hRequirement already satisfied: importlib-metadata in /usr/local/lib/python3.7/dist-packages (from transformers) (4.6.3)\n",
            "Requirement already satisfied: filelock in /usr/local/lib/python3.7/dist-packages (from transformers) (3.0.12)\n",
            "Requirement already satisfied: regex!=2019.12.17 in /usr/local/lib/python3.7/dist-packages (from transformers) (2019.12.20)\n",
            "Collecting tokenizers<0.11,>=0.10.1\n",
            "  Downloading tokenizers-0.10.3-cp37-cp37m-manylinux_2_5_x86_64.manylinux1_x86_64.manylinux_2_12_x86_64.manylinux2010_x86_64.whl (3.3 MB)\n",
            "\u001b[K     |████████████████████████████████| 3.3 MB 62.1 MB/s \n",
            "\u001b[?25hCollecting sacremoses\n",
            "  Downloading sacremoses-0.0.45-py3-none-any.whl (895 kB)\n",
            "\u001b[K     |████████████████████████████████| 895 kB 72.1 MB/s \n",
            "\u001b[?25hRequirement already satisfied: packaging in /usr/local/lib/python3.7/dist-packages (from transformers) (21.0)\n",
            "Collecting huggingface-hub==0.0.12\n",
            "  Downloading huggingface_hub-0.0.12-py3-none-any.whl (37 kB)\n",
            "Requirement already satisfied: tqdm>=4.27 in /usr/local/lib/python3.7/dist-packages (from transformers) (4.62.0)\n",
            "Requirement already satisfied: requests in /usr/local/lib/python3.7/dist-packages (from transformers) (2.23.0)\n",
            "Requirement already satisfied: numpy>=1.17 in /usr/local/lib/python3.7/dist-packages (from transformers) (1.19.5)\n",
            "Requirement already satisfied: typing-extensions in /usr/local/lib/python3.7/dist-packages (from huggingface-hub==0.0.12->transformers) (3.7.4.3)\n",
            "Requirement already satisfied: pyparsing>=2.0.2 in /usr/local/lib/python3.7/dist-packages (from packaging->transformers) (2.4.7)\n",
            "Requirement already satisfied: zipp>=0.5 in /usr/local/lib/python3.7/dist-packages (from importlib-metadata->transformers) (3.5.0)\n",
            "Requirement already satisfied: urllib3!=1.25.0,!=1.25.1,<1.26,>=1.21.1 in /usr/local/lib/python3.7/dist-packages (from requests->transformers) (1.24.3)\n",
            "Requirement already satisfied: idna<3,>=2.5 in /usr/local/lib/python3.7/dist-packages (from requests->transformers) (2.10)\n",
            "Requirement already satisfied: chardet<4,>=3.0.2 in /usr/local/lib/python3.7/dist-packages (from requests->transformers) (3.0.4)\n",
            "Requirement already satisfied: certifi>=2017.4.17 in /usr/local/lib/python3.7/dist-packages (from requests->transformers) (2021.5.30)\n",
            "Requirement already satisfied: six in /usr/local/lib/python3.7/dist-packages (from sacremoses->transformers) (1.15.0)\n",
            "Requirement already satisfied: joblib in /usr/local/lib/python3.7/dist-packages (from sacremoses->transformers) (1.0.1)\n",
            "Requirement already satisfied: click in /usr/local/lib/python3.7/dist-packages (from sacremoses->transformers) (7.1.2)\n",
            "Installing collected packages: tokenizers, sacremoses, pyyaml, huggingface-hub, transformers\n",
            "  Attempting uninstall: pyyaml\n",
            "    Found existing installation: PyYAML 3.13\n",
            "    Uninstalling PyYAML-3.13:\n",
            "      Successfully uninstalled PyYAML-3.13\n",
            "Successfully installed huggingface-hub-0.0.12 pyyaml-5.4.1 sacremoses-0.0.45 tokenizers-0.10.3 transformers-4.9.2\n"
          ],
          "name": "stdout"
        }
      ]
    },
    {
      "cell_type": "code",
      "metadata": {
        "id": "zRHpgTYr1pKF",
        "colab": {
          "base_uri": "https://localhost:8080/",
          "height": 1000,
          "referenced_widgets": [
            "a679be6c6e8644bc90980ef481d2546f",
            "ca0e9969634841f8a9847e3a15f306fc",
            "79abb2a4b8174deaac711d7de7d195aa",
            "d41b0997aa434eeea52b2a67a822f237",
            "70ad89dc43a34757a4f22b15c6694101",
            "46ad41eb950a4f95b021201357a6be80",
            "6979e756347a4805b99b8674cf5881a2",
            "888f71375cd2456ba95237452363b84e",
            "54f270fda0084805a357cfab0786a7ba",
            "00ee6706da2340fb94c3810d2dab2ebc",
            "69586a5de7dc42c8a1dfff8df16a69c3",
            "7a774566d4fe48df95f4144bda2cc5f5",
            "ab80453950b348f2aa68611a6b6d89b8",
            "718fa66ce28f4a24b0f0a8d6631e8f69",
            "b411e778f3914958978d100dd8b0a240",
            "9a50749f80ce4fbd97169c29e677c0ee",
            "404e2f5a58be475cac0baf6e25635e91",
            "e0aebbab29264dc19b5ba82f90337cf1",
            "4fee6fbbee3d4ea798ed7e5988d0feb9",
            "a4d81c9ff270476693ef45dd81fb4004",
            "8ea451abd25f4635bb0c1449af75710a",
            "10f6de69d1314b38bf63e49cff0ebc7f",
            "4c8bfdbca36a46358a6b09c27d73cb83",
            "7033478fa4b14cb7a5cbd064045a9e0a",
            "09496ac76d9b4c1c96f7e0e139bae8b2",
            "798d2dc09b37442b9379d51c53fa107d",
            "a21bbac26bfd456a910f809aa5d293ec",
            "17973717d7244ed6b1ebee85a9a3c81f",
            "59cb82d284e64d8492bb6b4596b0baa6",
            "4b7d779882c949228fae3db1df1f82bf",
            "da155666931545b096055347833dd1f4",
            "41a6fd38448447e88ec10584b157d0eb",
            "ec137c74589f485aae8e1c7e9a2bd2a3",
            "c464c92357d4427182653775220c09bd",
            "1941d3ff10f245ce9ae18531c0cbe5bd",
            "caaec2095668408883b6c2931f4ccd0a",
            "ea13064a54024a24bd6f0e9a01339f51",
            "a5f46499f1854c1096bbbf911a02a6f8",
            "11ce4b97a7ea4619887bca1480e9bd43",
            "d91997ac573a41b8b2c08d0ba519e9a4",
            "b502f8efd41a4f5f8ce233f2571db099",
            "8e70ea163ed044c2a6c0bbbb2491ad1d",
            "f89704c4e57e4721bd6f2f8a9b4d1871",
            "17800d112d544f87a6e8e31bb809b591",
            "4544eb54d8284ed9887857c0a26da718",
            "4448f0c750114898b93dfa2b325ddf87",
            "14916381f95f48ccbdc0ee1b3d886275",
            "6b18b5c1252e4c86aa172f93f8cd30f3",
            "602357a306744c398718daa27029704a",
            "cd1775abef7c426f8b4da74baf756358",
            "9cbe7ff4f0c145f7a2e09f926a009782",
            "4fb91109f37a417db3d2648d9b2ea14b",
            "b868707b04cc46f084320812855f9ca2",
            "53f996ca96ed4932929dfaddd1465c6d",
            "ac2842a601e74450af1b4d3cf505d549"
          ]
        },
        "outputId": "72d245ac-f51a-4b8e-eb99-04f1a308fd2d"
      },
      "source": [
        "import transformers as ppb # pytorch transformers\n",
        "import torch\n",
        "\n",
        "# Create tokenizer and model input\n",
        "tokenizer = ppb.DistilBertTokenizer.from_pretrained('distilbert-base-uncased')\n",
        "model = ppb.DistilBertModel.from_pretrained('distilbert-base-uncased')\n",
        "\n",
        "# Switch to eval mode (rather than training mode) - this potentially gives a slight speedup\n",
        "model.eval()"
      ],
      "id": "zRHpgTYr1pKF",
      "execution_count": 11,
      "outputs": [
        {
          "output_type": "display_data",
          "data": {
            "application/vnd.jupyter.widget-view+json": {
              "model_id": "a679be6c6e8644bc90980ef481d2546f",
              "version_minor": 0,
              "version_major": 2
            },
            "text/plain": [
              "Downloading:   0%|          | 0.00/232k [00:00<?, ?B/s]"
            ]
          },
          "metadata": {
            "tags": []
          }
        },
        {
          "output_type": "display_data",
          "data": {
            "application/vnd.jupyter.widget-view+json": {
              "model_id": "7a774566d4fe48df95f4144bda2cc5f5",
              "version_minor": 0,
              "version_major": 2
            },
            "text/plain": [
              "Downloading:   0%|          | 0.00/28.0 [00:00<?, ?B/s]"
            ]
          },
          "metadata": {
            "tags": []
          }
        },
        {
          "output_type": "display_data",
          "data": {
            "application/vnd.jupyter.widget-view+json": {
              "model_id": "4c8bfdbca36a46358a6b09c27d73cb83",
              "version_minor": 0,
              "version_major": 2
            },
            "text/plain": [
              "Downloading:   0%|          | 0.00/466k [00:00<?, ?B/s]"
            ]
          },
          "metadata": {
            "tags": []
          }
        },
        {
          "output_type": "display_data",
          "data": {
            "application/vnd.jupyter.widget-view+json": {
              "model_id": "c464c92357d4427182653775220c09bd",
              "version_minor": 0,
              "version_major": 2
            },
            "text/plain": [
              "Downloading:   0%|          | 0.00/442 [00:00<?, ?B/s]"
            ]
          },
          "metadata": {
            "tags": []
          }
        },
        {
          "output_type": "display_data",
          "data": {
            "application/vnd.jupyter.widget-view+json": {
              "model_id": "4544eb54d8284ed9887857c0a26da718",
              "version_minor": 0,
              "version_major": 2
            },
            "text/plain": [
              "Downloading:   0%|          | 0.00/268M [00:00<?, ?B/s]"
            ]
          },
          "metadata": {
            "tags": []
          }
        },
        {
          "output_type": "stream",
          "text": [
            "Some weights of the model checkpoint at distilbert-base-uncased were not used when initializing DistilBertModel: ['vocab_transform.weight', 'vocab_layer_norm.bias', 'vocab_projector.bias', 'vocab_layer_norm.weight', 'vocab_transform.bias', 'vocab_projector.weight']\n",
            "- This IS expected if you are initializing DistilBertModel from the checkpoint of a model trained on another task or with another architecture (e.g. initializing a BertForSequenceClassification model from a BertForPreTraining model).\n",
            "- This IS NOT expected if you are initializing DistilBertModel from the checkpoint of a model that you expect to be exactly identical (initializing a BertForSequenceClassification model from a BertForSequenceClassification model).\n"
          ],
          "name": "stderr"
        },
        {
          "output_type": "execute_result",
          "data": {
            "text/plain": [
              "DistilBertModel(\n",
              "  (embeddings): Embeddings(\n",
              "    (word_embeddings): Embedding(30522, 768, padding_idx=0)\n",
              "    (position_embeddings): Embedding(512, 768)\n",
              "    (LayerNorm): LayerNorm((768,), eps=1e-12, elementwise_affine=True)\n",
              "    (dropout): Dropout(p=0.1, inplace=False)\n",
              "  )\n",
              "  (transformer): Transformer(\n",
              "    (layer): ModuleList(\n",
              "      (0): TransformerBlock(\n",
              "        (attention): MultiHeadSelfAttention(\n",
              "          (dropout): Dropout(p=0.1, inplace=False)\n",
              "          (q_lin): Linear(in_features=768, out_features=768, bias=True)\n",
              "          (k_lin): Linear(in_features=768, out_features=768, bias=True)\n",
              "          (v_lin): Linear(in_features=768, out_features=768, bias=True)\n",
              "          (out_lin): Linear(in_features=768, out_features=768, bias=True)\n",
              "        )\n",
              "        (sa_layer_norm): LayerNorm((768,), eps=1e-12, elementwise_affine=True)\n",
              "        (ffn): FFN(\n",
              "          (dropout): Dropout(p=0.1, inplace=False)\n",
              "          (lin1): Linear(in_features=768, out_features=3072, bias=True)\n",
              "          (lin2): Linear(in_features=3072, out_features=768, bias=True)\n",
              "        )\n",
              "        (output_layer_norm): LayerNorm((768,), eps=1e-12, elementwise_affine=True)\n",
              "      )\n",
              "      (1): TransformerBlock(\n",
              "        (attention): MultiHeadSelfAttention(\n",
              "          (dropout): Dropout(p=0.1, inplace=False)\n",
              "          (q_lin): Linear(in_features=768, out_features=768, bias=True)\n",
              "          (k_lin): Linear(in_features=768, out_features=768, bias=True)\n",
              "          (v_lin): Linear(in_features=768, out_features=768, bias=True)\n",
              "          (out_lin): Linear(in_features=768, out_features=768, bias=True)\n",
              "        )\n",
              "        (sa_layer_norm): LayerNorm((768,), eps=1e-12, elementwise_affine=True)\n",
              "        (ffn): FFN(\n",
              "          (dropout): Dropout(p=0.1, inplace=False)\n",
              "          (lin1): Linear(in_features=768, out_features=3072, bias=True)\n",
              "          (lin2): Linear(in_features=3072, out_features=768, bias=True)\n",
              "        )\n",
              "        (output_layer_norm): LayerNorm((768,), eps=1e-12, elementwise_affine=True)\n",
              "      )\n",
              "      (2): TransformerBlock(\n",
              "        (attention): MultiHeadSelfAttention(\n",
              "          (dropout): Dropout(p=0.1, inplace=False)\n",
              "          (q_lin): Linear(in_features=768, out_features=768, bias=True)\n",
              "          (k_lin): Linear(in_features=768, out_features=768, bias=True)\n",
              "          (v_lin): Linear(in_features=768, out_features=768, bias=True)\n",
              "          (out_lin): Linear(in_features=768, out_features=768, bias=True)\n",
              "        )\n",
              "        (sa_layer_norm): LayerNorm((768,), eps=1e-12, elementwise_affine=True)\n",
              "        (ffn): FFN(\n",
              "          (dropout): Dropout(p=0.1, inplace=False)\n",
              "          (lin1): Linear(in_features=768, out_features=3072, bias=True)\n",
              "          (lin2): Linear(in_features=3072, out_features=768, bias=True)\n",
              "        )\n",
              "        (output_layer_norm): LayerNorm((768,), eps=1e-12, elementwise_affine=True)\n",
              "      )\n",
              "      (3): TransformerBlock(\n",
              "        (attention): MultiHeadSelfAttention(\n",
              "          (dropout): Dropout(p=0.1, inplace=False)\n",
              "          (q_lin): Linear(in_features=768, out_features=768, bias=True)\n",
              "          (k_lin): Linear(in_features=768, out_features=768, bias=True)\n",
              "          (v_lin): Linear(in_features=768, out_features=768, bias=True)\n",
              "          (out_lin): Linear(in_features=768, out_features=768, bias=True)\n",
              "        )\n",
              "        (sa_layer_norm): LayerNorm((768,), eps=1e-12, elementwise_affine=True)\n",
              "        (ffn): FFN(\n",
              "          (dropout): Dropout(p=0.1, inplace=False)\n",
              "          (lin1): Linear(in_features=768, out_features=3072, bias=True)\n",
              "          (lin2): Linear(in_features=3072, out_features=768, bias=True)\n",
              "        )\n",
              "        (output_layer_norm): LayerNorm((768,), eps=1e-12, elementwise_affine=True)\n",
              "      )\n",
              "      (4): TransformerBlock(\n",
              "        (attention): MultiHeadSelfAttention(\n",
              "          (dropout): Dropout(p=0.1, inplace=False)\n",
              "          (q_lin): Linear(in_features=768, out_features=768, bias=True)\n",
              "          (k_lin): Linear(in_features=768, out_features=768, bias=True)\n",
              "          (v_lin): Linear(in_features=768, out_features=768, bias=True)\n",
              "          (out_lin): Linear(in_features=768, out_features=768, bias=True)\n",
              "        )\n",
              "        (sa_layer_norm): LayerNorm((768,), eps=1e-12, elementwise_affine=True)\n",
              "        (ffn): FFN(\n",
              "          (dropout): Dropout(p=0.1, inplace=False)\n",
              "          (lin1): Linear(in_features=768, out_features=3072, bias=True)\n",
              "          (lin2): Linear(in_features=3072, out_features=768, bias=True)\n",
              "        )\n",
              "        (output_layer_norm): LayerNorm((768,), eps=1e-12, elementwise_affine=True)\n",
              "      )\n",
              "      (5): TransformerBlock(\n",
              "        (attention): MultiHeadSelfAttention(\n",
              "          (dropout): Dropout(p=0.1, inplace=False)\n",
              "          (q_lin): Linear(in_features=768, out_features=768, bias=True)\n",
              "          (k_lin): Linear(in_features=768, out_features=768, bias=True)\n",
              "          (v_lin): Linear(in_features=768, out_features=768, bias=True)\n",
              "          (out_lin): Linear(in_features=768, out_features=768, bias=True)\n",
              "        )\n",
              "        (sa_layer_norm): LayerNorm((768,), eps=1e-12, elementwise_affine=True)\n",
              "        (ffn): FFN(\n",
              "          (dropout): Dropout(p=0.1, inplace=False)\n",
              "          (lin1): Linear(in_features=768, out_features=3072, bias=True)\n",
              "          (lin2): Linear(in_features=3072, out_features=768, bias=True)\n",
              "        )\n",
              "        (output_layer_norm): LayerNorm((768,), eps=1e-12, elementwise_affine=True)\n",
              "      )\n",
              "    )\n",
              "  )\n",
              ")"
            ]
          },
          "metadata": {
            "tags": []
          },
          "execution_count": 11
        }
      ]
    },
    {
      "cell_type": "code",
      "metadata": {
        "id": "Wtk0lvDVDkcZ"
      },
      "source": [
        "\n",
        "#Tokenize fake news data \n",
        "fakenews_train_tokenized1 = train_1['Says the Annies List political group supports third-trimester abortions on demand.'].apply((lambda x: tokenizer.encode(x, add_special_tokens=True)))\n",
        "fakenews_train_tokenized2 = train_2['Says the Annies List political group supports third-trimester abortions on demand.'].apply((lambda x: tokenizer.encode(x, add_special_tokens=True)))\n",
        "fakenews_train_tokenized3 = train_3['Says the Annies List political group supports third-trimester abortions on demand.'].apply((lambda x: tokenizer.encode(x, add_special_tokens=True)))\n",
        "fakenews_train_tokenized4 = train_4['Says the Annies List political group supports third-trimester abortions on demand.'].apply((lambda x: tokenizer.encode(x, add_special_tokens=True)))\n",
        "fakenews_train_tokenized5 = train_5['Says the Annies List political group supports third-trimester abortions on demand.'].apply((lambda x: tokenizer.encode(x, add_special_tokens=True)))\n",
        "fakenews_train_tokenized6 = train_6['Says the Annies List political group supports third-trimester abortions on demand.'].apply((lambda x: tokenizer.encode(x, add_special_tokens=True)))\n",
        "#fakenews_train_tokenized7 = train_7['Says the Annies List political group supports third-trimester abortions on demand.'].apply((lambda x: tokenizer.encode(x, add_special_tokens=True)))\n",
        "#fakenews_train_tokenized8 = train_8['content'].apply((lambda x: tokenizer.encode(x, add_special_tokens=True)))\n",
        "#fakenews_train_tokenized9 = train_9['content'].apply((lambda x: tokenizer.encode(x, add_special_tokens=True)))\n",
        "#fakenews_train_tokenized10 = train_10['content'].apply((lambda x: tokenizer.encode(x, add_special_tokens=True)))\n",
        "\n",
        "\n",
        "fake_t11 = fakenews_train_tokenized1.append(fakenews_train_tokenized2) #, tokenized2, tokenized3, tokenized4, tokenized5, tokenized6 )\n",
        "fake_t12 = fake_t11.append(fakenews_train_tokenized3)\n",
        "fake_t13 = fake_t12.append(fakenews_train_tokenized4)\n",
        "fake_t14 = fake_t13.append(fakenews_train_tokenized5)\n",
        "fakenews_train_tokenized = fake_t14.append(fakenews_train_tokenized6)\n",
        "\n",
        "\n",
        "# Pad input so that all sequences are of the same size:\n",
        "max_len = 0\n",
        "for i in fakenews_train_tokenized.values:\n",
        "    if len(i) > max_len:\n",
        "        max_len = len(i)\n",
        "fakenews_train_padded = np.array([i + [0]*(max_len-len(i)) for i in fakenews_train_tokenized.values])\n",
        "\n",
        "# Actually, we can only deal with sequence lengths up to 512 with the DistilBert model, so we'll just truncate \n",
        "fakenews_train_padded = fakenews_train_padded[:,:512]\n",
        "\n",
        "#splitte padded \n",
        "fakenews_train_padded = np.split(fakenews_train_padded,5)\n",
        "\n",
        "# Tell embedding model to disregard pad tokens\n",
        "fakenews_train_attention_mask1 = np.where(fakenews_train_padded[0] != 0, 1, 0)\n",
        "fakenews_train_attention_mask2 = np.where(fakenews_train_padded[1] != 0, 1, 0)\n",
        "fakenews_train_attention_mask3 = np.where(fakenews_train_padded[2] != 0, 1, 0)\n",
        "fakenews_train_attention_mask4 = np.where(fakenews_train_padded[3] != 0, 1, 0)\n",
        "fakenews_train_attention_mask5 = np.where(fakenews_train_padded[4] != 0, 1, 0)\n",
        "\n",
        "#print(padded.shape)\n",
        "#print(fakenews_train_padded)\n",
        "\n",
        "\n"
      ],
      "id": "Wtk0lvDVDkcZ",
      "execution_count": 13,
      "outputs": []
    },
    {
      "cell_type": "code",
      "metadata": {
        "id": "_dCumnGx1sxq",
        "colab": {
          "base_uri": "https://localhost:8080/"
        },
        "outputId": "b1a83b66-3ec1-4b51-d2ca-b677cbc79cac"
      },
      "source": [
        "\n",
        "# Tokenize jsoninput\n",
        "tokenized1 = result_1['Building a wall on the U.S.-Mexico border will take literally years.'].apply((lambda x: tokenizer.encode(x, add_special_tokens=True)))\n",
        "tokenized2 = result_2['Building a wall on the U.S.-Mexico border will take literally years.'].apply((lambda x: tokenizer.encode(x, add_special_tokens=True)))\n",
        "#tokenized3 = result_3['Building a wall on the U.S.-Mexico border will take literally years.'].apply((lambda x: tokenizer.encode(x, add_special_tokens=True)))\n",
        "#tokenized4 = result_4['article'].apply((lambda x: tokenizer.encode(x, add_special_tokens=True)))\n",
        "#tokenized5 = result_5['article'].apply((lambda x: tokenizer.encode(x, add_special_tokens=True)))\n",
        "#tokenized6 = result_6['article'].apply((lambda x: tokenizer.encode(x, add_special_tokens=True)))\n",
        "\n",
        "tokenized = tokenized1.append(tokenized2) #, tokenized2, tokenized3, tokenized4, tokenized5, tokenized6 )\n",
        "#t12 = t11.append(tokenized3)\n",
        "##t13 = t12.append(tokenized4)\n",
        "#t14 = t13.append(tokenized5)\n",
        "#tokenized = t14.append(tokenized6)\n",
        "\n",
        "\n",
        "# Pad input so that all sequences are of the same size:\n",
        "max_len = 0\n",
        "for i in tokenized.values:\n",
        "    if len(i) > max_len:\n",
        "        max_len = len(i)\n",
        "padded = np.array([i + [0]*(max_len-len(i)) for i in tokenized.values])\n",
        "\n",
        "# Actually, we can only deal with sequence lengths up to 512 with the DistilBert model, so we'll just truncate \n",
        "padded = padded[:,:512]\n",
        "\n",
        "#splitte padded \n",
        "padded = np.split(padded,2)\n",
        "\n",
        "# Tell embedding model to disregard pad tokens\n",
        "attention_mask1 = np.where(padded[0] != 0, 1, 0)\n",
        "attention_mask2 = np.where(padded[1] != 0, 1, 0)\n",
        "#attention_mask3 = np.where(padded[2] != 0, 1, 0)\n",
        "#attention_mask4 = np.where(padded[3] != 0, 1, 0)\n",
        "#attention_mask5 = np.where(padded[4] != 0, 1, 0)\n",
        "\n",
        "#print(padded.shape)\n",
        "print(padded)"
      ],
      "id": "_dCumnGx1sxq",
      "execution_count": 14,
      "outputs": [
        {
          "output_type": "stream",
          "text": [
            "Token indices sequence length is longer than the specified maximum sequence length for this model (683 > 512). Running this sequence through the model will result in indexing errors\n"
          ],
          "name": "stderr"
        },
        {
          "output_type": "stream",
          "text": [
            "[array([[  101,  2023,  7221, ...,     0,     0,     0],\n",
            "       [  101,  1996,  2779, ...,     0,     0,     0],\n",
            "       [  101,  2176,  2110, ...,     0,     0,     0],\n",
            "       ...,\n",
            "       [  101,  1045,  2031, ...,     0,     0,     0],\n",
            "       [  101,  7207, 14895, ...,     0,     0,     0],\n",
            "       [  101, 10047,  2025, ...,     0,     0,     0]]), array([[ 101, 1045, 3342, ...,    0,    0,    0],\n",
            "       [ 101, 6060, 9957, ...,    0,    0,    0],\n",
            "       [ 101, 2057, 2031, ...,    0,    0,    0],\n",
            "       ...,\n",
            "       [ 101, 3138, 4923, ...,    0,    0,    0],\n",
            "       [ 101, 2758, 2010, ...,    0,    0,    0],\n",
            "       [ 101, 2758, 2577, ...,    0,    0,    0]])]\n"
          ],
          "name": "stdout"
        }
      ]
    },
    {
      "cell_type": "code",
      "metadata": {
        "id": "xG0PMydCrBuv",
        "colab": {
          "base_uri": "https://localhost:8080/"
        },
        "outputId": "e4b00c17-9a64-40ed-8103-314e898a027e"
      },
      "source": [
        "print(tokenized)"
      ],
      "id": "xG0PMydCrBuv",
      "execution_count": 15,
      "outputs": [
        {
          "output_type": "stream",
          "text": [
            "933     [101, 2023, 7221, 2097, 2069, 6611, 2000, 5392...\n",
            "756     [101, 1996, 2779, 2155, 1006, 2003, 1007, 2085...\n",
            "212     [101, 2176, 2110, 3320, 8037, 3195, 1037, 2331...\n",
            "208     [101, 2758, 2019, 8112, 3447, 3343, 25822, 211...\n",
            "1229    [101, 2758, 1996, 1057, 1012, 1055, 1012, 4170...\n",
            "                              ...                        \n",
            "1065    [101, 2062, 2111, 2024, 4930, 2011, 7407, 2084...\n",
            "1075    [101, 2304, 3268, 3043, 1010, 2040, 2024, 7866...\n",
            "388     [101, 3138, 4923, 2005, 12381, 8161, 1996, 294...\n",
            "324     [101, 2758, 2010, 2110, 5166, 2097, 3073, 2019...\n",
            "1245    [101, 2758, 2577, 3393, 9856, 5602, 2130, 4102...\n",
            "Name: Building a wall on the U.S.-Mexico border will take literally years., Length: 1266, dtype: object\n"
          ],
          "name": "stdout"
        }
      ]
    },
    {
      "cell_type": "code",
      "metadata": {
        "id": "1EZ75NWNncWd"
      },
      "source": [
        "\n",
        "\n",
        "\n"
      ],
      "id": "1EZ75NWNncWd",
      "execution_count": 15,
      "outputs": []
    },
    {
      "cell_type": "code",
      "metadata": {
        "id": "GfNpY835whBg"
      },
      "source": [
        ""
      ],
      "id": "GfNpY835whBg",
      "execution_count": 15,
      "outputs": []
    },
    {
      "cell_type": "code",
      "metadata": {
        "id": "JeniIUJ_B4EW"
      },
      "source": [
        "device = torch.device(\"cpu\")\n",
        "if torch.cuda.is_available():\n",
        "  model = model.cuda()\n",
        "  device = torch.device(\"cuda\")\n",
        "\n",
        "import matplotlib.pyplot as plt\n",
        "from sklearn.decomposition import PCA\n",
        "\n",
        "\n",
        "\n",
        "\n"
      ],
      "id": "JeniIUJ_B4EW",
      "execution_count": 16,
      "outputs": []
    },
    {
      "cell_type": "code",
      "metadata": {
        "id": "hVdpwaFIz0zK"
      },
      "source": [
        ""
      ],
      "id": "hVdpwaFIz0zK",
      "execution_count": 16,
      "outputs": []
    },
    {
      "cell_type": "code",
      "metadata": {
        "id": "7Vu7L2i_yk8q"
      },
      "source": [
        "#NUMMER 1 json \n",
        "\n",
        "# Convert input to a pytorch tensor (so that it can be used as input for the embedding model)\n",
        "input = torch.tensor(np.array(padded[0]), device=device)\n",
        "attention_mask = torch.tensor(attention_mask1, device=device)\n",
        "\n",
        "# Embed sequences (processing in batches to avoid memory problems)\n",
        "batch_size= 200\n",
        "embeddings = []\n",
        "for start_index in range(0, input.shape[0], batch_size):\n",
        "  with torch.no_grad():\n",
        "    # Call embedding model\n",
        "    embedding = model(input[start_index:start_index+batch_size], \n",
        "                      attention_mask=attention_mask[start_index:start_index+batch_size])[0][:,0,:]\n",
        "\n",
        "    embeddings.append(embedding)\n",
        "embeddings = torch.cat(embeddings)   # concatenate all batch outputs back into one tensor\n",
        "\n",
        "# Move embeddings back to numpy\n",
        "embeddings = embeddings.cpu().numpy()\n"
      ],
      "id": "7Vu7L2i_yk8q",
      "execution_count": 17,
      "outputs": []
    },
    {
      "cell_type": "code",
      "metadata": {
        "id": "DN8c_Kt2zGho"
      },
      "source": [
        "#NUMMER 2 json \n",
        "\n",
        "# Convert input to a pytorch tensor (so that it can be used as input for the embedding model)\n",
        "input = torch.tensor(np.array(padded[1]), device=device)\n",
        "attention_mask = torch.tensor(attention_mask2, device=device)\n",
        "\n",
        "# Embed sequences (processing in batches to avoid memory problems)\n",
        "batch_size= 200\n",
        "embeddings2 = []\n",
        "for start_index in range(0, input.shape[0], batch_size):\n",
        "  with torch.no_grad():\n",
        "    # Call embedding model\n",
        "    embedding = model(input[start_index:start_index+batch_size], \n",
        "                      attention_mask=attention_mask[start_index:start_index+batch_size])[0][:,0,:]\n",
        "\n",
        "    embeddings2.append(embedding)\n",
        "embeddings2 = torch.cat(embeddings2)   # concatenate all batch outputs back into one tensor\n",
        "\n",
        "# Move embeddings back to numpy\n",
        "embeddings2 = embeddings2.cpu().numpy()\n"
      ],
      "id": "DN8c_Kt2zGho",
      "execution_count": 18,
      "outputs": []
    },
    {
      "cell_type": "code",
      "metadata": {
        "id": "bmUPBqjZHEwt"
      },
      "source": [
        "#NUMMER 1 - FAKE NEWS TRAIN DATA \n",
        "\n",
        "# Convert input to a pytorch tensor (so that it can be used as input for the embedding model)\n",
        "input = torch.tensor(np.array(fakenews_train_padded[0]), device=device)\n",
        "attention_mask = torch.tensor(fakenews_train_attention_mask1, device=device)\n",
        "\n",
        "# Embed sequences (processing in batches to avoid memory problems)\n",
        "batch_size= 200\n",
        "fakenews_train_embeddings1 = []\n",
        "for start_index in range(0, input.shape[0], batch_size):\n",
        "  with torch.no_grad():\n",
        "    # Call embedding model\n",
        "    embedding = model(input[start_index:start_index+batch_size], \n",
        "                      attention_mask=attention_mask[start_index:start_index+batch_size])[0][:,0,:]\n",
        "\n",
        "    fakenews_train_embeddings1.append(embedding)\n",
        "fakenews_train_embeddings1 = torch.cat(fakenews_train_embeddings1)   # concatenate all batch outputs back into one tensor\n",
        "\n",
        "# Move embeddings back to numpy\n",
        "fakenews_train_embeddings1 = fakenews_train_embeddings1.cpu().numpy()\n",
        "\n",
        "\n",
        "\n"
      ],
      "id": "bmUPBqjZHEwt",
      "execution_count": 19,
      "outputs": []
    },
    {
      "cell_type": "code",
      "metadata": {
        "id": "1DEjEoH74cUE"
      },
      "source": [
        "#NUMMER 2 - FAKE NEWS TRAIN DATA \n",
        "\n",
        "# Convert input to a pytorch tensor (so that it can be used as input for the embedding model)\n",
        "input = torch.tensor(np.array(fakenews_train_padded[1]), device=device)\n",
        "attention_mask = torch.tensor(fakenews_train_attention_mask2, device=device)\n",
        "\n",
        "# Embed sequences (processing in batches to avoid memory problems)\n",
        "batch_size= 200\n",
        "fakenews_train_embeddings2 = []\n",
        "for start_index in range(0, input.shape[0], batch_size):\n",
        "  with torch.no_grad():\n",
        "    # Call embedding model\n",
        "    embedding = model(input[start_index:start_index+batch_size], \n",
        "                      attention_mask=attention_mask[start_index:start_index+batch_size])[0][:,0,:]\n",
        "\n",
        "    fakenews_train_embeddings2.append(embedding)\n",
        "fakenews_train_embeddings2= torch.cat(fakenews_train_embeddings2)   # concatenate all batch outputs back into one tensor\n",
        "\n",
        "# Move embeddings back to numpy\n",
        "fakenews_train_embeddings2 = fakenews_train_embeddings2.cpu().numpy()"
      ],
      "id": "1DEjEoH74cUE",
      "execution_count": 20,
      "outputs": []
    },
    {
      "cell_type": "code",
      "metadata": {
        "id": "nyE4Bsp549Xd"
      },
      "source": [
        "#NUMMER 3 - FAKE NEWS TRAIN DATA \n",
        "\n",
        "# Convert input to a pytorch tensor (so that it can be used as input for the embedding model)\n",
        "input = torch.tensor(np.array(fakenews_train_padded[2]), device=device)\n",
        "attention_mask = torch.tensor(fakenews_train_attention_mask3, device=device)\n",
        "\n",
        "# Embed sequences (processing in batches to avoid memory problems)\n",
        "batch_size= 200\n",
        "fakenews_train_embeddings3 = []\n",
        "for start_index in range(0, input.shape[0], batch_size):\n",
        "  with torch.no_grad():\n",
        "    # Call embedding model\n",
        "    embedding = model(input[start_index:start_index+batch_size], \n",
        "                      attention_mask=attention_mask[start_index:start_index+batch_size])[0][:,0,:]\n",
        "\n",
        "    fakenews_train_embeddings3.append(embedding)\n",
        "fakenews_train_embeddings3= torch.cat(fakenews_train_embeddings3)   # concatenate all batch outputs back into one tensor\n",
        "\n",
        "# Move embeddings back to numpy\n",
        "fakenews_train_embeddings3 = fakenews_train_embeddings3.cpu().numpy()"
      ],
      "id": "nyE4Bsp549Xd",
      "execution_count": 21,
      "outputs": []
    },
    {
      "cell_type": "code",
      "metadata": {
        "id": "HIq4gWmI5GPz"
      },
      "source": [
        "#NUMMER 4 - FAKE NEWS TRAIN DATA \n",
        "\n",
        "# Convert input to a pytorch tensor (so that it can be used as input for the embedding model)\n",
        "input = torch.tensor(np.array(fakenews_train_padded[3]), device=device)\n",
        "attention_mask = torch.tensor(fakenews_train_attention_mask4, device=device)\n",
        "\n",
        "# Embed sequences (processing in batches to avoid memory problems)\n",
        "batch_size= 200\n",
        "fakenews_train_embeddings4 = []\n",
        "for start_index in range(0, input.shape[0], batch_size):\n",
        "  with torch.no_grad():\n",
        "    # Call embedding model\n",
        "    embedding = model(input[start_index:start_index+batch_size], \n",
        "                      attention_mask=attention_mask[start_index:start_index+batch_size])[0][:,0,:]\n",
        "\n",
        "    fakenews_train_embeddings4.append(embedding)\n",
        "fakenews_train_embeddings4= torch.cat(fakenews_train_embeddings4)   # concatenate all batch outputs back into one tensor\n",
        "\n",
        "# Move embeddings back to numpy\n",
        "fakenews_train_embeddings4 = fakenews_train_embeddings4.cpu().numpy()"
      ],
      "id": "HIq4gWmI5GPz",
      "execution_count": 22,
      "outputs": []
    },
    {
      "cell_type": "code",
      "metadata": {
        "id": "8xdI2XWS5M3H"
      },
      "source": [
        "#NUMMER 5 - FAKE NEWS TRAIN DATA \n",
        "\n",
        "# Convert input to a pytorch tensor (so that it can be used as input for the embedding model)\n",
        "input = torch.tensor(np.array(fakenews_train_padded[4]), device=device)\n",
        "attention_mask = torch.tensor(fakenews_train_attention_mask5, device=device)\n",
        "\n",
        "# Embed sequences (processing in batches to avoid memory problems)\n",
        "batch_size= 200\n",
        "fakenews_train_embeddings5 = []\n",
        "for start_index in range(0, input.shape[0], batch_size):\n",
        "  with torch.no_grad():\n",
        "    # Call embedding model\n",
        "    embedding = model(input[start_index:start_index+batch_size], \n",
        "                      attention_mask=attention_mask[start_index:start_index+batch_size])[0][:,0,:]\n",
        "\n",
        "    fakenews_train_embeddings5.append(embedding)\n",
        "fakenews_train_embeddings5= torch.cat(fakenews_train_embeddings5)   # concatenate all batch outputs back into one tensor\n",
        "\n",
        "# Move embeddings back to numpy\n",
        "fakenews_train_embeddings5 = fakenews_train_embeddings5.cpu().numpy()"
      ],
      "id": "8xdI2XWS5M3H",
      "execution_count": 23,
      "outputs": []
    },
    {
      "cell_type": "code",
      "metadata": {
        "id": "91jK6UoEb4ZU",
        "colab": {
          "base_uri": "https://localhost:8080/",
          "height": 282
        },
        "outputId": "14348391-6b7c-42a1-df34-5d8f1afc3574"
      },
      "source": [
        "#json plot \n",
        "import matplotlib.pyplot as plt\n",
        "from sklearn.decomposition import PCA\n",
        "pca = PCA(n_components=2)\n",
        "\n",
        "embeddings = np.concatenate((embeddings, embeddings2))\n",
        "\n",
        "dim_reduced_embedding = pca.fit_transform(embeddings)#alle embedddings skal sættes sammen inden dette  \n",
        "plt.scatter(dim_reduced_embedding[:,0], dim_reduced_embedding[:,1])"
      ],
      "id": "91jK6UoEb4ZU",
      "execution_count": 24,
      "outputs": [
        {
          "output_type": "execute_result",
          "data": {
            "text/plain": [
              "<matplotlib.collections.PathCollection at 0x7fc626514390>"
            ]
          },
          "metadata": {
            "tags": []
          },
          "execution_count": 24
        },
        {
          "output_type": "display_data",
          "data": {
            "image/png": "[encoded data removed]",
            "text/plain": [
              "<Figure size 432x288 with 1 Axes>"
            ]
          },
          "metadata": {
            "tags": [],
            "needs_background": "light"
          }
        }
      ]
    },
    {
      "cell_type": "code",
      "metadata": {
        "id": "5acwVoOQ5eHA",
        "colab": {
          "base_uri": "https://localhost:8080/",
          "height": 282
        },
        "outputId": "3b95535e-0bf7-4fcb-90b6-daf844e5b425"
      },
      "source": [
        "#fake news data plot\n",
        "\n",
        "fakenews_train_embeddings = np.concatenate((fakenews_train_embeddings1, fakenews_train_embeddings2, fakenews_train_embeddings3, fakenews_train_embeddings4, fakenews_train_embeddings5))\n",
        "\n",
        "dim_reduced_embedding = pca.fit_transform(fakenews_train_embeddings)#alle embedddings skal sættes sammen inden dette  \n",
        "plt.scatter(dim_reduced_embedding[:,0], dim_reduced_embedding[:,1])\n"
      ],
      "id": "5acwVoOQ5eHA",
      "execution_count": 25,
      "outputs": [
        {
          "output_type": "execute_result",
          "data": {
            "text/plain": [
              "<matplotlib.collections.PathCollection at 0x7fc626493210>"
            ]
          },
          "metadata": {
            "tags": []
          },
          "execution_count": 25
        },
        {
          "output_type": "display_data",
          "data": {
            "image/png": "[encoded data removed]",
            "text/plain": [
              "<Figure size 432x288 with 1 Axes>"
            ]
          },
          "metadata": {
            "tags": [],
            "needs_background": "light"
          }
        }
      ]
    },
    {
      "cell_type": "markdown",
      "metadata": {
        "id": "McJQFJIhbyfk"
      },
      "source": [
        "# SPLIT TRAIN TEST delen **bold text**"
      ],
      "id": "McJQFJIhbyfk"
    },
    {
      "cell_type": "code",
      "metadata": {
        "id": "-bvu4HE7eAOV"
      },
      "source": [
        "from sklearn.model_selection import train_test_split\n",
        "\n",
        "\n",
        "sum_y_train = []\n",
        "sum_y_val = []\n",
        "sum_y_test = []\n"
      ],
      "id": "-bvu4HE7eAOV",
      "execution_count": 26,
      "outputs": []
    },
    {
      "cell_type": "code",
      "metadata": {
        "id": "5LftZKHmQNA0",
        "colab": {
          "base_uri": "https://localhost:8080/"
        },
        "outputId": "ab84b7d3-3337-4010-9ae8-00effea7bed6"
      },
      "source": [
        "print(train['false'])"
      ],
      "id": "5LftZKHmQNA0",
      "execution_count": 27,
      "outputs": [
        {
          "output_type": "stream",
          "text": [
            "678       half-true\n",
            "4531     pants-fire\n",
            "856     mostly-true\n",
            "2207      half-true\n",
            "9786     pants-fire\n",
            "           ...     \n",
            "2711      half-true\n",
            "134           false\n",
            "8253      half-true\n",
            "1667    barely-true\n",
            "4201          false\n",
            "Name: false, Length: 10239, dtype: object\n"
          ],
          "name": "stdout"
        }
      ]
    },
    {
      "cell_type": "code",
      "metadata": {
        "id": "VYwkJIFbfdHw",
        "colab": {
          "base_uri": "https://localhost:8080/"
        },
        "outputId": "b3360c29-206f-45bf-8fc4-586455c6f719"
      },
      "source": [
        "from sklearn.svm import SVC\n",
        "from sklearn.metrics import accuracy_score\n",
        "\n",
        "# Define the classifier classes\n",
        "svc = SVC(kernel='linear') # Linear reg\n",
        "\n",
        "# Fit the model\n",
        "X_train = fakenews_train_embeddings\n",
        "y_train = train['false'].head(6000)\n",
        "svc.fit(X_train, y_train)\n",
        "\n",
        "# Predict on the test set\n",
        "X_test = embeddings\n",
        "svc_pred = svc.predict(X_test)\n",
        "\n",
        "\n",
        "print(svc_pred)\n"
      ],
      "id": "VYwkJIFbfdHw",
      "execution_count": 28,
      "outputs": [
        {
          "output_type": "stream",
          "text": [
            "['half-true' 'half-true' 'pants-fire' ... 'false' 'half-true'\n",
            " 'barely-true']\n"
          ],
          "name": "stdout"
        }
      ]
    },
    {
      "cell_type": "code",
      "metadata": {
        "id": "artp3wiLGBwz",
        "colab": {
          "base_uri": "https://localhost:8080/"
        },
        "outputId": "a67cb2d7-0070-4687-a464-463d797a98c0"
      },
      "source": [
        "y_test = result['true']\n",
        "#print(y_test)\n",
        "# Evaluate performance\n",
        "print(\"svc accuracy linear:\" + str(accuracy_score(y_test,svc_pred)))\n"
      ],
      "id": "artp3wiLGBwz",
      "execution_count": 29,
      "outputs": [
        {
          "output_type": "stream",
          "text": [
            "svc accuracy linear:0.26224328593996843\n"
          ],
          "name": "stdout"
        }
      ]
    },
    {
      "cell_type": "code",
      "metadata": {
        "id": "YOx83O0sLxbZ",
        "colab": {
          "base_uri": "https://localhost:8080/"
        },
        "outputId": "4106ada6-7ef8-421d-938c-2a304a38c2ef"
      },
      "source": [
        "'''\n",
        "Det kunne være interessant at se flere kernels, så vi prøver her på hhv. rbf og poly også.\n",
        "tilføjet 20210815\n",
        "'''\n",
        "\n",
        "from sklearn.metrics import precision_recall_fscore_support # nødvendig bibliotek\n",
        "\n",
        "# rbf regression model:\n",
        "\n",
        "svc_2 = SVC(kernel='rbf', C=100, gamma=0.1) #, epsilon=0.1) # rbf\n",
        "\n",
        "# Fit the model\n",
        "svc_2.fit(X_train,y_train)\n",
        "\n",
        "# Predict on the test set\n",
        "svc_pred_2 = svc_2.predict(X_test)\n",
        "\n",
        "# Evaluate performance\n",
        "print(\"svc accuracy rbf:\" + str(accuracy_score(y_test,svc_pred_2)))\n",
        "\n",
        "# øvrig information:\n",
        "print('de øvrige for rbf:', precision_recall_fscore_support(y_test,svc_pred_2))\n",
        "\n",
        "\n",
        "\n",
        "# poly regression model:\n",
        "\n",
        "svc_3 = SVC(kernel='poly', C=100, gamma='auto', degree=4, coef0=1) #, epsilon=0.1) # poly\n",
        "\n",
        "# Fit the model\n",
        "svc_3.fit(X_train,y_train)\n",
        "\n",
        "# Predict on the test set\n",
        "svc_pred_3 = svc_3.predict(X_test)\n",
        "\n",
        "# Evaluate performance\n",
        "print(\"svc accuracy poly:\" + str(accuracy_score(y_test,svc_pred_3)))\n",
        "\n",
        "# øvrig information:\n",
        "print('de øvrige for rbf:', precision_recall_fscore_support(y_test,svc_pred_3))\n",
        "\n"
      ],
      "id": "YOx83O0sLxbZ",
      "execution_count": 30,
      "outputs": [
        {
          "output_type": "stream",
          "text": [
            "svc accuracy rbf:0.25118483412322273\n",
            "de øvrige for rbf: (array([0.20238095, 0.28832117, 0.25222552, 0.21721311, 0.32432432,\n",
            "       0.26699029]), array([0.16037736, 0.31726908, 0.32075472, 0.21991701, 0.13043478,\n",
            "       0.26570048]), array([0.17894737, 0.30210325, 0.28239203, 0.2185567 , 0.18604651,\n",
            "       0.26634383]), array([212, 249, 265, 241,  92, 207]))\n",
            "svc accuracy poly:0.2598736176935229\n",
            "de øvrige for rbf: (array([0.22488038, 0.28521127, 0.2516129 , 0.28033473, 0.23214286,\n",
            "       0.25595238]), array([0.22169811, 0.3253012 , 0.29433962, 0.2780083 , 0.14130435,\n",
            "       0.20772947]), array([0.22327791, 0.30393996, 0.27130435, 0.27916667, 0.17567568,\n",
            "       0.22933333]), array([212, 249, 265, 241,  92, 207]))\n"
          ],
          "name": "stdout"
        }
      ]
    }
  ]
}