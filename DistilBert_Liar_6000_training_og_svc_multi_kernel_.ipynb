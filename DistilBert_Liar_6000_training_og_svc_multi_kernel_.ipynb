{
  "nbformat": 4,
  "nbformat_minor": 5,
  "metadata": {
    "kernelspec": {
      "display_name": "Python 3",
      "language": "python",
      "name": "python3"
    },
    "language_info": {
      "codemirror_mode": {
        "name": "ipython",
        "version": 3
      },
      "file_extension": ".py",
      "mimetype": "text/x-python",
      "name": "python",
      "nbconvert_exporter": "python",
      "pygments_lexer": "ipython3",
      "version": "3.8.3"
    },
    "colab": {
      "name": "DistilBert Liar 6000 training og svc multi kernel .ipynb",
      "provenance": [],
      "collapsed_sections": [],
      "machine_shape": "hm",
      "include_colab_link": true
    },
    "accelerator": "GPU",
    "widgets": {
      "application/vnd.jupyter.widget-state+json": {
        "e18da95870ce42db88245a8ebe3f8046": {
          "model_module": "@jupyter-widgets/controls",
          "model_name": "HBoxModel",
          "model_module_version": "1.5.0",
          "state": {
            "_view_name": "HBoxView",
            "_dom_classes": [],
            "_model_name": "HBoxModel",
            "_view_module": "@jupyter-widgets/controls",
            "_model_module_version": "1.5.0",
            "_view_count": null,
            "_view_module_version": "1.5.0",
            "box_style": "",
            "layout": "IPY_MODEL_f9c1332b12944453b6432582dd928b48",
            "_model_module": "@jupyter-widgets/controls",
            "children": [
              "IPY_MODEL_f3a1d79271cd43f6a6e07c63d76a2e6d",
              "IPY_MODEL_3a4898af50a04f02bc4e373562198b80",
              "IPY_MODEL_1d4fea79eb184e5081f501da42fd7b56"
            ]
          }
        },
        "f9c1332b12944453b6432582dd928b48": {
          "model_module": "@jupyter-widgets/base",
          "model_name": "LayoutModel",
          "model_module_version": "1.2.0",
          "state": {
            "_view_name": "LayoutView",
            "grid_template_rows": null,
            "right": null,
            "justify_content": null,
            "_view_module": "@jupyter-widgets/base",
            "overflow": null,
            "_model_module_version": "1.2.0",
            "_view_count": null,
            "flex_flow": null,
            "width": null,
            "min_width": null,
            "border": null,
            "align_items": null,
            "bottom": null,
            "_model_module": "@jupyter-widgets/base",
            "top": null,
            "grid_column": null,
            "overflow_y": null,
            "overflow_x": null,
            "grid_auto_flow": null,
            "grid_area": null,
            "grid_template_columns": null,
            "flex": null,
            "_model_name": "LayoutModel",
            "justify_items": null,
            "grid_row": null,
            "max_height": null,
            "align_content": null,
            "visibility": null,
            "align_self": null,
            "height": null,
            "min_height": null,
            "padding": null,
            "grid_auto_rows": null,
            "grid_gap": null,
            "max_width": null,
            "order": null,
            "_view_module_version": "1.2.0",
            "grid_template_areas": null,
            "object_position": null,
            "object_fit": null,
            "grid_auto_columns": null,
            "margin": null,
            "display": null,
            "left": null
          }
        },
        "f3a1d79271cd43f6a6e07c63d76a2e6d": {
          "model_module": "@jupyter-widgets/controls",
          "model_name": "HTMLModel",
          "model_module_version": "1.5.0",
          "state": {
            "_view_name": "HTMLView",
            "style": "IPY_MODEL_b9e6222f9e3f4a208afaa7fc2bf08a82",
            "_dom_classes": [],
            "description": "",
            "_model_name": "HTMLModel",
            "placeholder": "​",
            "_view_module": "@jupyter-widgets/controls",
            "_model_module_version": "1.5.0",
            "value": "Downloading: 100%",
            "_view_count": null,
            "_view_module_version": "1.5.0",
            "description_tooltip": null,
            "_model_module": "@jupyter-widgets/controls",
            "layout": "IPY_MODEL_f3d3e8258fbe4750951b340019fcf3a3"
          }
        },
        "3a4898af50a04f02bc4e373562198b80": {
          "model_module": "@jupyter-widgets/controls",
          "model_name": "FloatProgressModel",
          "model_module_version": "1.5.0",
          "state": {
            "_view_name": "ProgressView",
            "style": "IPY_MODEL_3cc2331ec92b4e33bbe842a957285296",
            "_dom_classes": [],
            "description": "",
            "_model_name": "FloatProgressModel",
            "bar_style": "success",
            "max": 231508,
            "_view_module": "@jupyter-widgets/controls",
            "_model_module_version": "1.5.0",
            "value": 231508,
            "_view_count": null,
            "_view_module_version": "1.5.0",
            "orientation": "horizontal",
            "min": 0,
            "description_tooltip": null,
            "_model_module": "@jupyter-widgets/controls",
            "layout": "IPY_MODEL_f26c24c312ab40b394c13393a3032c5f"
          }
        },
        "1d4fea79eb184e5081f501da42fd7b56": {
          "model_module": "@jupyter-widgets/controls",
          "model_name": "HTMLModel",
          "model_module_version": "1.5.0",
          "state": {
            "_view_name": "HTMLView",
            "style": "IPY_MODEL_61522f65f9bb4d9585f5c587f3a6390a",
            "_dom_classes": [],
            "description": "",
            "_model_name": "HTMLModel",
            "placeholder": "​",
            "_view_module": "@jupyter-widgets/controls",
            "_model_module_version": "1.5.0",
            "value": " 232k/232k [00:00&lt;00:00, 4.07MB/s]",
            "_view_count": null,
            "_view_module_version": "1.5.0",
            "description_tooltip": null,
            "_model_module": "@jupyter-widgets/controls",
            "layout": "IPY_MODEL_f880323e849d4bdd9c4e9b00673011a1"
          }
        },
        "b9e6222f9e3f4a208afaa7fc2bf08a82": {
          "model_module": "@jupyter-widgets/controls",
          "model_name": "DescriptionStyleModel",
          "model_module_version": "1.5.0",
          "state": {
            "_view_name": "StyleView",
            "_model_name": "DescriptionStyleModel",
            "description_width": "",
            "_view_module": "@jupyter-widgets/base",
            "_model_module_version": "1.5.0",
            "_view_count": null,
            "_view_module_version": "1.2.0",
            "_model_module": "@jupyter-widgets/controls"
          }
        },
        "f3d3e8258fbe4750951b340019fcf3a3": {
          "model_module": "@jupyter-widgets/base",
          "model_name": "LayoutModel",
          "model_module_version": "1.2.0",
          "state": {
            "_view_name": "LayoutView",
            "grid_template_rows": null,
            "right": null,
            "justify_content": null,
            "_view_module": "@jupyter-widgets/base",
            "overflow": null,
            "_model_module_version": "1.2.0",
            "_view_count": null,
            "flex_flow": null,
            "width": null,
            "min_width": null,
            "border": null,
            "align_items": null,
            "bottom": null,
            "_model_module": "@jupyter-widgets/base",
            "top": null,
            "grid_column": null,
            "overflow_y": null,
            "overflow_x": null,
            "grid_auto_flow": null,
            "grid_area": null,
            "grid_template_columns": null,
            "flex": null,
            "_model_name": "LayoutModel",
            "justify_items": null,
            "grid_row": null,
            "max_height": null,
            "align_content": null,
            "visibility": null,
            "align_self": null,
            "height": null,
            "min_height": null,
            "padding": null,
            "grid_auto_rows": null,
            "grid_gap": null,
            "max_width": null,
            "order": null,
            "_view_module_version": "1.2.0",
            "grid_template_areas": null,
            "object_position": null,
            "object_fit": null,
            "grid_auto_columns": null,
            "margin": null,
            "display": null,
            "left": null
          }
        },
        "3cc2331ec92b4e33bbe842a957285296": {
          "model_module": "@jupyter-widgets/controls",
          "model_name": "ProgressStyleModel",
          "model_module_version": "1.5.0",
          "state": {
            "_view_name": "StyleView",
            "_model_name": "ProgressStyleModel",
            "description_width": "",
            "_view_module": "@jupyter-widgets/base",
            "_model_module_version": "1.5.0",
            "_view_count": null,
            "_view_module_version": "1.2.0",
            "bar_color": null,
            "_model_module": "@jupyter-widgets/controls"
          }
        },
        "f26c24c312ab40b394c13393a3032c5f": {
          "model_module": "@jupyter-widgets/base",
          "model_name": "LayoutModel",
          "model_module_version": "1.2.0",
          "state": {
            "_view_name": "LayoutView",
            "grid_template_rows": null,
            "right": null,
            "justify_content": null,
            "_view_module": "@jupyter-widgets/base",
            "overflow": null,
            "_model_module_version": "1.2.0",
            "_view_count": null,
            "flex_flow": null,
            "width": null,
            "min_width": null,
            "border": null,
            "align_items": null,
            "bottom": null,
            "_model_module": "@jupyter-widgets/base",
            "top": null,
            "grid_column": null,
            "overflow_y": null,
            "overflow_x": null,
            "grid_auto_flow": null,
            "grid_area": null,
            "grid_template_columns": null,
            "flex": null,
            "_model_name": "LayoutModel",
            "justify_items": null,
            "grid_row": null,
            "max_height": null,
            "align_content": null,
            "visibility": null,
            "align_self": null,
            "height": null,
            "min_height": null,
            "padding": null,
            "grid_auto_rows": null,
            "grid_gap": null,
            "max_width": null,
            "order": null,
            "_view_module_version": "1.2.0",
            "grid_template_areas": null,
            "object_position": null,
            "object_fit": null,
            "grid_auto_columns": null,
            "margin": null,
            "display": null,
            "left": null
          }
        },
        "61522f65f9bb4d9585f5c587f3a6390a": {
          "model_module": "@jupyter-widgets/controls",
          "model_name": "DescriptionStyleModel",
          "model_module_version": "1.5.0",
          "state": {
            "_view_name": "StyleView",
            "_model_name": "DescriptionStyleModel",
            "description_width": "",
            "_view_module": "@jupyter-widgets/base",
            "_model_module_version": "1.5.0",
            "_view_count": null,
            "_view_module_version": "1.2.0",
            "_model_module": "@jupyter-widgets/controls"
          }
        },
        "f880323e849d4bdd9c4e9b00673011a1": {
          "model_module": "@jupyter-widgets/base",
          "model_name": "LayoutModel",
          "model_module_version": "1.2.0",
          "state": {
            "_view_name": "LayoutView",
            "grid_template_rows": null,
            "right": null,
            "justify_content": null,
            "_view_module": "@jupyter-widgets/base",
            "overflow": null,
            "_model_module_version": "1.2.0",
            "_view_count": null,
            "flex_flow": null,
            "width": null,
            "min_width": null,
            "border": null,
            "align_items": null,
            "bottom": null,
            "_model_module": "@jupyter-widgets/base",
            "top": null,
            "grid_column": null,
            "overflow_y": null,
            "overflow_x": null,
            "grid_auto_flow": null,
            "grid_area": null,
            "grid_template_columns": null,
            "flex": null,
            "_model_name": "LayoutModel",
            "justify_items": null,
            "grid_row": null,
            "max_height": null,
            "align_content": null,
            "visibility": null,
            "align_self": null,
            "height": null,
            "min_height": null,
            "padding": null,
            "grid_auto_rows": null,
            "grid_gap": null,
            "max_width": null,
            "order": null,
            "_view_module_version": "1.2.0",
            "grid_template_areas": null,
            "object_position": null,
            "object_fit": null,
            "grid_auto_columns": null,
            "margin": null,
            "display": null,
            "left": null
          }
        },
        "b2536ec0e92c4222b13011d6e4921004": {
          "model_module": "@jupyter-widgets/controls",
          "model_name": "HBoxModel",
          "model_module_version": "1.5.0",
          "state": {
            "_view_name": "HBoxView",
            "_dom_classes": [],
            "_model_name": "HBoxModel",
            "_view_module": "@jupyter-widgets/controls",
            "_model_module_version": "1.5.0",
            "_view_count": null,
            "_view_module_version": "1.5.0",
            "box_style": "",
            "layout": "IPY_MODEL_91dcb33525c94d20aa50101f884e052b",
            "_model_module": "@jupyter-widgets/controls",
            "children": [
              "IPY_MODEL_2cc3d9953e7948b488dd91d1f75fb4de",
              "IPY_MODEL_42fbae9749964249b911d90e332adf8d",
              "IPY_MODEL_daa28bf9846e4dcf8d3e7a94fefeb7d5"
            ]
          }
        },
        "91dcb33525c94d20aa50101f884e052b": {
          "model_module": "@jupyter-widgets/base",
          "model_name": "LayoutModel",
          "model_module_version": "1.2.0",
          "state": {
            "_view_name": "LayoutView",
            "grid_template_rows": null,
            "right": null,
            "justify_content": null,
            "_view_module": "@jupyter-widgets/base",
            "overflow": null,
            "_model_module_version": "1.2.0",
            "_view_count": null,
            "flex_flow": null,
            "width": null,
            "min_width": null,
            "border": null,
            "align_items": null,
            "bottom": null,
            "_model_module": "@jupyter-widgets/base",
            "top": null,
            "grid_column": null,
            "overflow_y": null,
            "overflow_x": null,
            "grid_auto_flow": null,
            "grid_area": null,
            "grid_template_columns": null,
            "flex": null,
            "_model_name": "LayoutModel",
            "justify_items": null,
            "grid_row": null,
            "max_height": null,
            "align_content": null,
            "visibility": null,
            "align_self": null,
            "height": null,
            "min_height": null,
            "padding": null,
            "grid_auto_rows": null,
            "grid_gap": null,
            "max_width": null,
            "order": null,
            "_view_module_version": "1.2.0",
            "grid_template_areas": null,
            "object_position": null,
            "object_fit": null,
            "grid_auto_columns": null,
            "margin": null,
            "display": null,
            "left": null
          }
        },
        "2cc3d9953e7948b488dd91d1f75fb4de": {
          "model_module": "@jupyter-widgets/controls",
          "model_name": "HTMLModel",
          "model_module_version": "1.5.0",
          "state": {
            "_view_name": "HTMLView",
            "style": "IPY_MODEL_5649751aabb24570ab7efb5690eeffbb",
            "_dom_classes": [],
            "description": "",
            "_model_name": "HTMLModel",
            "placeholder": "​",
            "_view_module": "@jupyter-widgets/controls",
            "_model_module_version": "1.5.0",
            "value": "Downloading: 100%",
            "_view_count": null,
            "_view_module_version": "1.5.0",
            "description_tooltip": null,
            "_model_module": "@jupyter-widgets/controls",
            "layout": "IPY_MODEL_753ff98390bb4794961481bc76320b14"
          }
        },
        "42fbae9749964249b911d90e332adf8d": {
          "model_module": "@jupyter-widgets/controls",
          "model_name": "FloatProgressModel",
          "model_module_version": "1.5.0",
          "state": {
            "_view_name": "ProgressView",
            "style": "IPY_MODEL_10df61c9a3d441e1be5926fa8118d97a",
            "_dom_classes": [],
            "description": "",
            "_model_name": "FloatProgressModel",
            "bar_style": "success",
            "max": 28,
            "_view_module": "@jupyter-widgets/controls",
            "_model_module_version": "1.5.0",
            "value": 28,
            "_view_count": null,
            "_view_module_version": "1.5.0",
            "orientation": "horizontal",
            "min": 0,
            "description_tooltip": null,
            "_model_module": "@jupyter-widgets/controls",
            "layout": "IPY_MODEL_ea3d3a48db6548f3a14e4ae9bb59628f"
          }
        },
        "daa28bf9846e4dcf8d3e7a94fefeb7d5": {
          "model_module": "@jupyter-widgets/controls",
          "model_name": "HTMLModel",
          "model_module_version": "1.5.0",
          "state": {
            "_view_name": "HTMLView",
            "style": "IPY_MODEL_e9b34f1faad347d09f876b4e54c78e96",
            "_dom_classes": [],
            "description": "",
            "_model_name": "HTMLModel",
            "placeholder": "​",
            "_view_module": "@jupyter-widgets/controls",
            "_model_module_version": "1.5.0",
            "value": " 28.0/28.0 [00:00&lt;00:00, 1.21kB/s]",
            "_view_count": null,
            "_view_module_version": "1.5.0",
            "description_tooltip": null,
            "_model_module": "@jupyter-widgets/controls",
            "layout": "IPY_MODEL_d862868308034c93bf4e1c060e772a36"
          }
        },
        "5649751aabb24570ab7efb5690eeffbb": {
          "model_module": "@jupyter-widgets/controls",
          "model_name": "DescriptionStyleModel",
          "model_module_version": "1.5.0",
          "state": {
            "_view_name": "StyleView",
            "_model_name": "DescriptionStyleModel",
            "description_width": "",
            "_view_module": "@jupyter-widgets/base",
            "_model_module_version": "1.5.0",
            "_view_count": null,
            "_view_module_version": "1.2.0",
            "_model_module": "@jupyter-widgets/controls"
          }
        },
        "753ff98390bb4794961481bc76320b14": {
          "model_module": "@jupyter-widgets/base",
          "model_name": "LayoutModel",
          "model_module_version": "1.2.0",
          "state": {
            "_view_name": "LayoutView",
            "grid_template_rows": null,
            "right": null,
            "justify_content": null,
            "_view_module": "@jupyter-widgets/base",
            "overflow": null,
            "_model_module_version": "1.2.0",
            "_view_count": null,
            "flex_flow": null,
            "width": null,
            "min_width": null,
            "border": null,
            "align_items": null,
            "bottom": null,
            "_model_module": "@jupyter-widgets/base",
            "top": null,
            "grid_column": null,
            "overflow_y": null,
            "overflow_x": null,
            "grid_auto_flow": null,
            "grid_area": null,
            "grid_template_columns": null,
            "flex": null,
            "_model_name": "LayoutModel",
            "justify_items": null,
            "grid_row": null,
            "max_height": null,
            "align_content": null,
            "visibility": null,
            "align_self": null,
            "height": null,
            "min_height": null,
            "padding": null,
            "grid_auto_rows": null,
            "grid_gap": null,
            "max_width": null,
            "order": null,
            "_view_module_version": "1.2.0",
            "grid_template_areas": null,
            "object_position": null,
            "object_fit": null,
            "grid_auto_columns": null,
            "margin": null,
            "display": null,
            "left": null
          }
        },
        "10df61c9a3d441e1be5926fa8118d97a": {
          "model_module": "@jupyter-widgets/controls",
          "model_name": "ProgressStyleModel",
          "model_module_version": "1.5.0",
          "state": {
            "_view_name": "StyleView",
            "_model_name": "ProgressStyleModel",
            "description_width": "",
            "_view_module": "@jupyter-widgets/base",
            "_model_module_version": "1.5.0",
            "_view_count": null,
            "_view_module_version": "1.2.0",
            "bar_color": null,
            "_model_module": "@jupyter-widgets/controls"
          }
        },
        "ea3d3a48db6548f3a14e4ae9bb59628f": {
          "model_module": "@jupyter-widgets/base",
          "model_name": "LayoutModel",
          "model_module_version": "1.2.0",
          "state": {
            "_view_name": "LayoutView",
            "grid_template_rows": null,
            "right": null,
            "justify_content": null,
            "_view_module": "@jupyter-widgets/base",
            "overflow": null,
            "_model_module_version": "1.2.0",
            "_view_count": null,
            "flex_flow": null,
            "width": null,
            "min_width": null,
            "border": null,
            "align_items": null,
            "bottom": null,
            "_model_module": "@jupyter-widgets/base",
            "top": null,
            "grid_column": null,
            "overflow_y": null,
            "overflow_x": null,
            "grid_auto_flow": null,
            "grid_area": null,
            "grid_template_columns": null,
            "flex": null,
            "_model_name": "LayoutModel",
            "justify_items": null,
            "grid_row": null,
            "max_height": null,
            "align_content": null,
            "visibility": null,
            "align_self": null,
            "height": null,
            "min_height": null,
            "padding": null,
            "grid_auto_rows": null,
            "grid_gap": null,
            "max_width": null,
            "order": null,
            "_view_module_version": "1.2.0",
            "grid_template_areas": null,
            "object_position": null,
            "object_fit": null,
            "grid_auto_columns": null,
            "margin": null,
            "display": null,
            "left": null
          }
        },
        "e9b34f1faad347d09f876b4e54c78e96": {
          "model_module": "@jupyter-widgets/controls",
          "model_name": "DescriptionStyleModel",
          "model_module_version": "1.5.0",
          "state": {
            "_view_name": "StyleView",
            "_model_name": "DescriptionStyleModel",
            "description_width": "",
            "_view_module": "@jupyter-widgets/base",
            "_model_module_version": "1.5.0",
            "_view_count": null,
            "_view_module_version": "1.2.0",
            "_model_module": "@jupyter-widgets/controls"
          }
        },
        "d862868308034c93bf4e1c060e772a36": {
          "model_module": "@jupyter-widgets/base",
          "model_name": "LayoutModel",
          "model_module_version": "1.2.0",
          "state": {
            "_view_name": "LayoutView",
            "grid_template_rows": null,
            "right": null,
            "justify_content": null,
            "_view_module": "@jupyter-widgets/base",
            "overflow": null,
            "_model_module_version": "1.2.0",
            "_view_count": null,
            "flex_flow": null,
            "width": null,
            "min_width": null,
            "border": null,
            "align_items": null,
            "bottom": null,
            "_model_module": "@jupyter-widgets/base",
            "top": null,
            "grid_column": null,
            "overflow_y": null,
            "overflow_x": null,
            "grid_auto_flow": null,
            "grid_area": null,
            "grid_template_columns": null,
            "flex": null,
            "_model_name": "LayoutModel",
            "justify_items": null,
            "grid_row": null,
            "max_height": null,
            "align_content": null,
            "visibility": null,
            "align_self": null,
            "height": null,
            "min_height": null,
            "padding": null,
            "grid_auto_rows": null,
            "grid_gap": null,
            "max_width": null,
            "order": null,
            "_view_module_version": "1.2.0",
            "grid_template_areas": null,
            "object_position": null,
            "object_fit": null,
            "grid_auto_columns": null,
            "margin": null,
            "display": null,
            "left": null
          }
        },
        "b1f43e83a85c4847a31915381993e6b7": {
          "model_module": "@jupyter-widgets/controls",
          "model_name": "HBoxModel",
          "model_module_version": "1.5.0",
          "state": {
            "_view_name": "HBoxView",
            "_dom_classes": [],
            "_model_name": "HBoxModel",
            "_view_module": "@jupyter-widgets/controls",
            "_model_module_version": "1.5.0",
            "_view_count": null,
            "_view_module_version": "1.5.0",
            "box_style": "",
            "layout": "IPY_MODEL_a7c2852f59c34592add6b919635d6caa",
            "_model_module": "@jupyter-widgets/controls",
            "children": [
              "IPY_MODEL_3f30844ae741471a86eec6e87be5c74a",
              "IPY_MODEL_06129e1dc25549c4930c8e5aea868411",
              "IPY_MODEL_d7d69061b5334da3bd8ba74cf79a0d06"
            ]
          }
        },
        "a7c2852f59c34592add6b919635d6caa": {
          "model_module": "@jupyter-widgets/base",
          "model_name": "LayoutModel",
          "model_module_version": "1.2.0",
          "state": {
            "_view_name": "LayoutView",
            "grid_template_rows": null,
            "right": null,
            "justify_content": null,
            "_view_module": "@jupyter-widgets/base",
            "overflow": null,
            "_model_module_version": "1.2.0",
            "_view_count": null,
            "flex_flow": null,
            "width": null,
            "min_width": null,
            "border": null,
            "align_items": null,
            "bottom": null,
            "_model_module": "@jupyter-widgets/base",
            "top": null,
            "grid_column": null,
            "overflow_y": null,
            "overflow_x": null,
            "grid_auto_flow": null,
            "grid_area": null,
            "grid_template_columns": null,
            "flex": null,
            "_model_name": "LayoutModel",
            "justify_items": null,
            "grid_row": null,
            "max_height": null,
            "align_content": null,
            "visibility": null,
            "align_self": null,
            "height": null,
            "min_height": null,
            "padding": null,
            "grid_auto_rows": null,
            "grid_gap": null,
            "max_width": null,
            "order": null,
            "_view_module_version": "1.2.0",
            "grid_template_areas": null,
            "object_position": null,
            "object_fit": null,
            "grid_auto_columns": null,
            "margin": null,
            "display": null,
            "left": null
          }
        },
        "3f30844ae741471a86eec6e87be5c74a": {
          "model_module": "@jupyter-widgets/controls",
          "model_name": "HTMLModel",
          "model_module_version": "1.5.0",
          "state": {
            "_view_name": "HTMLView",
            "style": "IPY_MODEL_66626174f595466c90ea8bda29c7604e",
            "_dom_classes": [],
            "description": "",
            "_model_name": "HTMLModel",
            "placeholder": "​",
            "_view_module": "@jupyter-widgets/controls",
            "_model_module_version": "1.5.0",
            "value": "Downloading: 100%",
            "_view_count": null,
            "_view_module_version": "1.5.0",
            "description_tooltip": null,
            "_model_module": "@jupyter-widgets/controls",
            "layout": "IPY_MODEL_62f1e97e8baa43f4bf0df04fee8ea302"
          }
        },
        "06129e1dc25549c4930c8e5aea868411": {
          "model_module": "@jupyter-widgets/controls",
          "model_name": "FloatProgressModel",
          "model_module_version": "1.5.0",
          "state": {
            "_view_name": "ProgressView",
            "style": "IPY_MODEL_96b36e26c42d414182a10cb464003e28",
            "_dom_classes": [],
            "description": "",
            "_model_name": "FloatProgressModel",
            "bar_style": "success",
            "max": 466062,
            "_view_module": "@jupyter-widgets/controls",
            "_model_module_version": "1.5.0",
            "value": 466062,
            "_view_count": null,
            "_view_module_version": "1.5.0",
            "orientation": "horizontal",
            "min": 0,
            "description_tooltip": null,
            "_model_module": "@jupyter-widgets/controls",
            "layout": "IPY_MODEL_3f19f4043161476da0700779de7a9495"
          }
        },
        "d7d69061b5334da3bd8ba74cf79a0d06": {
          "model_module": "@jupyter-widgets/controls",
          "model_name": "HTMLModel",
          "model_module_version": "1.5.0",
          "state": {
            "_view_name": "HTMLView",
            "style": "IPY_MODEL_d699c25f2856439997ecde702a394677",
            "_dom_classes": [],
            "description": "",
            "_model_name": "HTMLModel",
            "placeholder": "​",
            "_view_module": "@jupyter-widgets/controls",
            "_model_module_version": "1.5.0",
            "value": " 466k/466k [00:00&lt;00:00, 7.50MB/s]",
            "_view_count": null,
            "_view_module_version": "1.5.0",
            "description_tooltip": null,
            "_model_module": "@jupyter-widgets/controls",
            "layout": "IPY_MODEL_e000881c63724a868a7ab560a40c0959"
          }
        },
        "66626174f595466c90ea8bda29c7604e": {
          "model_module": "@jupyter-widgets/controls",
          "model_name": "DescriptionStyleModel",
          "model_module_version": "1.5.0",
          "state": {
            "_view_name": "StyleView",
            "_model_name": "DescriptionStyleModel",
            "description_width": "",
            "_view_module": "@jupyter-widgets/base",
            "_model_module_version": "1.5.0",
            "_view_count": null,
            "_view_module_version": "1.2.0",
            "_model_module": "@jupyter-widgets/controls"
          }
        },
        "62f1e97e8baa43f4bf0df04fee8ea302": {
          "model_module": "@jupyter-widgets/base",
          "model_name": "LayoutModel",
          "model_module_version": "1.2.0",
          "state": {
            "_view_name": "LayoutView",
            "grid_template_rows": null,
            "right": null,
            "justify_content": null,
            "_view_module": "@jupyter-widgets/base",
            "overflow": null,
            "_model_module_version": "1.2.0",
            "_view_count": null,
            "flex_flow": null,
            "width": null,
            "min_width": null,
            "border": null,
            "align_items": null,
            "bottom": null,
            "_model_module": "@jupyter-widgets/base",
            "top": null,
            "grid_column": null,
            "overflow_y": null,
            "overflow_x": null,
            "grid_auto_flow": null,
            "grid_area": null,
            "grid_template_columns": null,
            "flex": null,
            "_model_name": "LayoutModel",
            "justify_items": null,
            "grid_row": null,
            "max_height": null,
            "align_content": null,
            "visibility": null,
            "align_self": null,
            "height": null,
            "min_height": null,
            "padding": null,
            "grid_auto_rows": null,
            "grid_gap": null,
            "max_width": null,
            "order": null,
            "_view_module_version": "1.2.0",
            "grid_template_areas": null,
            "object_position": null,
            "object_fit": null,
            "grid_auto_columns": null,
            "margin": null,
            "display": null,
            "left": null
          }
        },
        "96b36e26c42d414182a10cb464003e28": {
          "model_module": "@jupyter-widgets/controls",
          "model_name": "ProgressStyleModel",
          "model_module_version": "1.5.0",
          "state": {
            "_view_name": "StyleView",
            "_model_name": "ProgressStyleModel",
            "description_width": "",
            "_view_module": "@jupyter-widgets/base",
            "_model_module_version": "1.5.0",
            "_view_count": null,
            "_view_module_version": "1.2.0",
            "bar_color": null,
            "_model_module": "@jupyter-widgets/controls"
          }
        },
        "3f19f4043161476da0700779de7a9495": {
          "model_module": "@jupyter-widgets/base",
          "model_name": "LayoutModel",
          "model_module_version": "1.2.0",
          "state": {
            "_view_name": "LayoutView",
            "grid_template_rows": null,
            "right": null,
            "justify_content": null,
            "_view_module": "@jupyter-widgets/base",
            "overflow": null,
            "_model_module_version": "1.2.0",
            "_view_count": null,
            "flex_flow": null,
            "width": null,
            "min_width": null,
            "border": null,
            "align_items": null,
            "bottom": null,
            "_model_module": "@jupyter-widgets/base",
            "top": null,
            "grid_column": null,
            "overflow_y": null,
            "overflow_x": null,
            "grid_auto_flow": null,
            "grid_area": null,
            "grid_template_columns": null,
            "flex": null,
            "_model_name": "LayoutModel",
            "justify_items": null,
            "grid_row": null,
            "max_height": null,
            "align_content": null,
            "visibility": null,
            "align_self": null,
            "height": null,
            "min_height": null,
            "padding": null,
            "grid_auto_rows": null,
            "grid_gap": null,
            "max_width": null,
            "order": null,
            "_view_module_version": "1.2.0",
            "grid_template_areas": null,
            "object_position": null,
            "object_fit": null,
            "grid_auto_columns": null,
            "margin": null,
            "display": null,
            "left": null
          }
        },
        "d699c25f2856439997ecde702a394677": {
          "model_module": "@jupyter-widgets/controls",
          "model_name": "DescriptionStyleModel",
          "model_module_version": "1.5.0",
          "state": {
            "_view_name": "StyleView",
            "_model_name": "DescriptionStyleModel",
            "description_width": "",
            "_view_module": "@jupyter-widgets/base",
            "_model_module_version": "1.5.0",
            "_view_count": null,
            "_view_module_version": "1.2.0",
            "_model_module": "@jupyter-widgets/controls"
          }
        },
        "e000881c63724a868a7ab560a40c0959": {
          "model_module": "@jupyter-widgets/base",
          "model_name": "LayoutModel",
          "model_module_version": "1.2.0",
          "state": {
            "_view_name": "LayoutView",
            "grid_template_rows": null,
            "right": null,
            "justify_content": null,
            "_view_module": "@jupyter-widgets/base",
            "overflow": null,
            "_model_module_version": "1.2.0",
            "_view_count": null,
            "flex_flow": null,
            "width": null,
            "min_width": null,
            "border": null,
            "align_items": null,
            "bottom": null,
            "_model_module": "@jupyter-widgets/base",
            "top": null,
            "grid_column": null,
            "overflow_y": null,
            "overflow_x": null,
            "grid_auto_flow": null,
            "grid_area": null,
            "grid_template_columns": null,
            "flex": null,
            "_model_name": "LayoutModel",
            "justify_items": null,
            "grid_row": null,
            "max_height": null,
            "align_content": null,
            "visibility": null,
            "align_self": null,
            "height": null,
            "min_height": null,
            "padding": null,
            "grid_auto_rows": null,
            "grid_gap": null,
            "max_width": null,
            "order": null,
            "_view_module_version": "1.2.0",
            "grid_template_areas": null,
            "object_position": null,
            "object_fit": null,
            "grid_auto_columns": null,
            "margin": null,
            "display": null,
            "left": null
          }
        },
        "749172a7e3e240b6955acdd31ac6fdd7": {
          "model_module": "@jupyter-widgets/controls",
          "model_name": "HBoxModel",
          "model_module_version": "1.5.0",
          "state": {
            "_view_name": "HBoxView",
            "_dom_classes": [],
            "_model_name": "HBoxModel",
            "_view_module": "@jupyter-widgets/controls",
            "_model_module_version": "1.5.0",
            "_view_count": null,
            "_view_module_version": "1.5.0",
            "box_style": "",
            "layout": "IPY_MODEL_57aae84afc0c41389971dd1411eb63a5",
            "_model_module": "@jupyter-widgets/controls",
            "children": [
              "IPY_MODEL_e972af86a5834dc2a2d128060a2dc59b",
              "IPY_MODEL_341920d32a7b409a8e611d6e734c500d",
              "IPY_MODEL_b5d2dcb89fe244be832cf0a728874186"
            ]
          }
        },
        "57aae84afc0c41389971dd1411eb63a5": {
          "model_module": "@jupyter-widgets/base",
          "model_name": "LayoutModel",
          "model_module_version": "1.2.0",
          "state": {
            "_view_name": "LayoutView",
            "grid_template_rows": null,
            "right": null,
            "justify_content": null,
            "_view_module": "@jupyter-widgets/base",
            "overflow": null,
            "_model_module_version": "1.2.0",
            "_view_count": null,
            "flex_flow": null,
            "width": null,
            "min_width": null,
            "border": null,
            "align_items": null,
            "bottom": null,
            "_model_module": "@jupyter-widgets/base",
            "top": null,
            "grid_column": null,
            "overflow_y": null,
            "overflow_x": null,
            "grid_auto_flow": null,
            "grid_area": null,
            "grid_template_columns": null,
            "flex": null,
            "_model_name": "LayoutModel",
            "justify_items": null,
            "grid_row": null,
            "max_height": null,
            "align_content": null,
            "visibility": null,
            "align_self": null,
            "height": null,
            "min_height": null,
            "padding": null,
            "grid_auto_rows": null,
            "grid_gap": null,
            "max_width": null,
            "order": null,
            "_view_module_version": "1.2.0",
            "grid_template_areas": null,
            "object_position": null,
            "object_fit": null,
            "grid_auto_columns": null,
            "margin": null,
            "display": null,
            "left": null
          }
        },
        "e972af86a5834dc2a2d128060a2dc59b": {
          "model_module": "@jupyter-widgets/controls",
          "model_name": "HTMLModel",
          "model_module_version": "1.5.0",
          "state": {
            "_view_name": "HTMLView",
            "style": "IPY_MODEL_9c2384cef4ac48188652694e8dacbf24",
            "_dom_classes": [],
            "description": "",
            "_model_name": "HTMLModel",
            "placeholder": "​",
            "_view_module": "@jupyter-widgets/controls",
            "_model_module_version": "1.5.0",
            "value": "Downloading: 100%",
            "_view_count": null,
            "_view_module_version": "1.5.0",
            "description_tooltip": null,
            "_model_module": "@jupyter-widgets/controls",
            "layout": "IPY_MODEL_2fd210dd90e54ab7afe228644281f7bc"
          }
        },
        "341920d32a7b409a8e611d6e734c500d": {
          "model_module": "@jupyter-widgets/controls",
          "model_name": "FloatProgressModel",
          "model_module_version": "1.5.0",
          "state": {
            "_view_name": "ProgressView",
            "style": "IPY_MODEL_516de0f1459147e4b67853ead9836c40",
            "_dom_classes": [],
            "description": "",
            "_model_name": "FloatProgressModel",
            "bar_style": "success",
            "max": 442,
            "_view_module": "@jupyter-widgets/controls",
            "_model_module_version": "1.5.0",
            "value": 442,
            "_view_count": null,
            "_view_module_version": "1.5.0",
            "orientation": "horizontal",
            "min": 0,
            "description_tooltip": null,
            "_model_module": "@jupyter-widgets/controls",
            "layout": "IPY_MODEL_762a962f1405471ba59d55ce3bc9358a"
          }
        },
        "b5d2dcb89fe244be832cf0a728874186": {
          "model_module": "@jupyter-widgets/controls",
          "model_name": "HTMLModel",
          "model_module_version": "1.5.0",
          "state": {
            "_view_name": "HTMLView",
            "style": "IPY_MODEL_8bfa4de2726c4353a178d626c348cf31",
            "_dom_classes": [],
            "description": "",
            "_model_name": "HTMLModel",
            "placeholder": "​",
            "_view_module": "@jupyter-widgets/controls",
            "_model_module_version": "1.5.0",
            "value": " 442/442 [00:00&lt;00:00, 19.5kB/s]",
            "_view_count": null,
            "_view_module_version": "1.5.0",
            "description_tooltip": null,
            "_model_module": "@jupyter-widgets/controls",
            "layout": "IPY_MODEL_8b1ae80d28e84d1ea1e6c3d189d3611b"
          }
        },
        "9c2384cef4ac48188652694e8dacbf24": {
          "model_module": "@jupyter-widgets/controls",
          "model_name": "DescriptionStyleModel",
          "model_module_version": "1.5.0",
          "state": {
            "_view_name": "StyleView",
            "_model_name": "DescriptionStyleModel",
            "description_width": "",
            "_view_module": "@jupyter-widgets/base",
            "_model_module_version": "1.5.0",
            "_view_count": null,
            "_view_module_version": "1.2.0",
            "_model_module": "@jupyter-widgets/controls"
          }
        },
        "2fd210dd90e54ab7afe228644281f7bc": {
          "model_module": "@jupyter-widgets/base",
          "model_name": "LayoutModel",
          "model_module_version": "1.2.0",
          "state": {
            "_view_name": "LayoutView",
            "grid_template_rows": null,
            "right": null,
            "justify_content": null,
            "_view_module": "@jupyter-widgets/base",
            "overflow": null,
            "_model_module_version": "1.2.0",
            "_view_count": null,
            "flex_flow": null,
            "width": null,
            "min_width": null,
            "border": null,
            "align_items": null,
            "bottom": null,
            "_model_module": "@jupyter-widgets/base",
            "top": null,
            "grid_column": null,
            "overflow_y": null,
            "overflow_x": null,
            "grid_auto_flow": null,
            "grid_area": null,
            "grid_template_columns": null,
            "flex": null,
            "_model_name": "LayoutModel",
            "justify_items": null,
            "grid_row": null,
            "max_height": null,
            "align_content": null,
            "visibility": null,
            "align_self": null,
            "height": null,
            "min_height": null,
            "padding": null,
            "grid_auto_rows": null,
            "grid_gap": null,
            "max_width": null,
            "order": null,
            "_view_module_version": "1.2.0",
            "grid_template_areas": null,
            "object_position": null,
            "object_fit": null,
            "grid_auto_columns": null,
            "margin": null,
            "display": null,
            "left": null
          }
        },
        "516de0f1459147e4b67853ead9836c40": {
          "model_module": "@jupyter-widgets/controls",
          "model_name": "ProgressStyleModel",
          "model_module_version": "1.5.0",
          "state": {
            "_view_name": "StyleView",
            "_model_name": "ProgressStyleModel",
            "description_width": "",
            "_view_module": "@jupyter-widgets/base",
            "_model_module_version": "1.5.0",
            "_view_count": null,
            "_view_module_version": "1.2.0",
            "bar_color": null,
            "_model_module": "@jupyter-widgets/controls"
          }
        },
        "762a962f1405471ba59d55ce3bc9358a": {
          "model_module": "@jupyter-widgets/base",
          "model_name": "LayoutModel",
          "model_module_version": "1.2.0",
          "state": {
            "_view_name": "LayoutView",
            "grid_template_rows": null,
            "right": null,
            "justify_content": null,
            "_view_module": "@jupyter-widgets/base",
            "overflow": null,
            "_model_module_version": "1.2.0",
            "_view_count": null,
            "flex_flow": null,
            "width": null,
            "min_width": null,
            "border": null,
            "align_items": null,
            "bottom": null,
            "_model_module": "@jupyter-widgets/base",
            "top": null,
            "grid_column": null,
            "overflow_y": null,
            "overflow_x": null,
            "grid_auto_flow": null,
            "grid_area": null,
            "grid_template_columns": null,
            "flex": null,
            "_model_name": "LayoutModel",
            "justify_items": null,
            "grid_row": null,
            "max_height": null,
            "align_content": null,
            "visibility": null,
            "align_self": null,
            "height": null,
            "min_height": null,
            "padding": null,
            "grid_auto_rows": null,
            "grid_gap": null,
            "max_width": null,
            "order": null,
            "_view_module_version": "1.2.0",
            "grid_template_areas": null,
            "object_position": null,
            "object_fit": null,
            "grid_auto_columns": null,
            "margin": null,
            "display": null,
            "left": null
          }
        },
        "8bfa4de2726c4353a178d626c348cf31": {
          "model_module": "@jupyter-widgets/controls",
          "model_name": "DescriptionStyleModel",
          "model_module_version": "1.5.0",
          "state": {
            "_view_name": "StyleView",
            "_model_name": "DescriptionStyleModel",
            "description_width": "",
            "_view_module": "@jupyter-widgets/base",
            "_model_module_version": "1.5.0",
            "_view_count": null,
            "_view_module_version": "1.2.0",
            "_model_module": "@jupyter-widgets/controls"
          }
        },
        "8b1ae80d28e84d1ea1e6c3d189d3611b": {
          "model_module": "@jupyter-widgets/base",
          "model_name": "LayoutModel",
          "model_module_version": "1.2.0",
          "state": {
            "_view_name": "LayoutView",
            "grid_template_rows": null,
            "right": null,
            "justify_content": null,
            "_view_module": "@jupyter-widgets/base",
            "overflow": null,
            "_model_module_version": "1.2.0",
            "_view_count": null,
            "flex_flow": null,
            "width": null,
            "min_width": null,
            "border": null,
            "align_items": null,
            "bottom": null,
            "_model_module": "@jupyter-widgets/base",
            "top": null,
            "grid_column": null,
            "overflow_y": null,
            "overflow_x": null,
            "grid_auto_flow": null,
            "grid_area": null,
            "grid_template_columns": null,
            "flex": null,
            "_model_name": "LayoutModel",
            "justify_items": null,
            "grid_row": null,
            "max_height": null,
            "align_content": null,
            "visibility": null,
            "align_self": null,
            "height": null,
            "min_height": null,
            "padding": null,
            "grid_auto_rows": null,
            "grid_gap": null,
            "max_width": null,
            "order": null,
            "_view_module_version": "1.2.0",
            "grid_template_areas": null,
            "object_position": null,
            "object_fit": null,
            "grid_auto_columns": null,
            "margin": null,
            "display": null,
            "left": null
          }
        },
        "0d81b48488d245cc966cf6b733863509": {
          "model_module": "@jupyter-widgets/controls",
          "model_name": "HBoxModel",
          "model_module_version": "1.5.0",
          "state": {
            "_view_name": "HBoxView",
            "_dom_classes": [],
            "_model_name": "HBoxModel",
            "_view_module": "@jupyter-widgets/controls",
            "_model_module_version": "1.5.0",
            "_view_count": null,
            "_view_module_version": "1.5.0",
            "box_style": "",
            "layout": "IPY_MODEL_89a1e9978f254e9f99b1304934439617",
            "_model_module": "@jupyter-widgets/controls",
            "children": [
              "IPY_MODEL_145973dbe32f40b99e0f9101d3509de4",
              "IPY_MODEL_07ec05828d264e8b97868b3530bd87ad",
              "IPY_MODEL_35f77756bdbf41ef8fcfc712e51853d7"
            ]
          }
        },
        "89a1e9978f254e9f99b1304934439617": {
          "model_module": "@jupyter-widgets/base",
          "model_name": "LayoutModel",
          "model_module_version": "1.2.0",
          "state": {
            "_view_name": "LayoutView",
            "grid_template_rows": null,
            "right": null,
            "justify_content": null,
            "_view_module": "@jupyter-widgets/base",
            "overflow": null,
            "_model_module_version": "1.2.0",
            "_view_count": null,
            "flex_flow": null,
            "width": null,
            "min_width": null,
            "border": null,
            "align_items": null,
            "bottom": null,
            "_model_module": "@jupyter-widgets/base",
            "top": null,
            "grid_column": null,
            "overflow_y": null,
            "overflow_x": null,
            "grid_auto_flow": null,
            "grid_area": null,
            "grid_template_columns": null,
            "flex": null,
            "_model_name": "LayoutModel",
            "justify_items": null,
            "grid_row": null,
            "max_height": null,
            "align_content": null,
            "visibility": null,
            "align_self": null,
            "height": null,
            "min_height": null,
            "padding": null,
            "grid_auto_rows": null,
            "grid_gap": null,
            "max_width": null,
            "order": null,
            "_view_module_version": "1.2.0",
            "grid_template_areas": null,
            "object_position": null,
            "object_fit": null,
            "grid_auto_columns": null,
            "margin": null,
            "display": null,
            "left": null
          }
        },
        "145973dbe32f40b99e0f9101d3509de4": {
          "model_module": "@jupyter-widgets/controls",
          "model_name": "HTMLModel",
          "model_module_version": "1.5.0",
          "state": {
            "_view_name": "HTMLView",
            "style": "IPY_MODEL_6d8d12f5bae94df1ba2438d987a7b582",
            "_dom_classes": [],
            "description": "",
            "_model_name": "HTMLModel",
            "placeholder": "​",
            "_view_module": "@jupyter-widgets/controls",
            "_model_module_version": "1.5.0",
            "value": "Downloading: 100%",
            "_view_count": null,
            "_view_module_version": "1.5.0",
            "description_tooltip": null,
            "_model_module": "@jupyter-widgets/controls",
            "layout": "IPY_MODEL_e6c6a3b925344ae9b3a8ff7457b1b3ee"
          }
        },
        "07ec05828d264e8b97868b3530bd87ad": {
          "model_module": "@jupyter-widgets/controls",
          "model_name": "FloatProgressModel",
          "model_module_version": "1.5.0",
          "state": {
            "_view_name": "ProgressView",
            "style": "IPY_MODEL_d60ca6ef288844468f99fea78a651ae6",
            "_dom_classes": [],
            "description": "",
            "_model_name": "FloatProgressModel",
            "bar_style": "success",
            "max": 267967963,
            "_view_module": "@jupyter-widgets/controls",
            "_model_module_version": "1.5.0",
            "value": 267967963,
            "_view_count": null,
            "_view_module_version": "1.5.0",
            "orientation": "horizontal",
            "min": 0,
            "description_tooltip": null,
            "_model_module": "@jupyter-widgets/controls",
            "layout": "IPY_MODEL_dcc99f7c20974418ab0782416dd29a97"
          }
        },
        "35f77756bdbf41ef8fcfc712e51853d7": {
          "model_module": "@jupyter-widgets/controls",
          "model_name": "HTMLModel",
          "model_module_version": "1.5.0",
          "state": {
            "_view_name": "HTMLView",
            "style": "IPY_MODEL_8036c42f6a404aae8fe3ca08d252fba6",
            "_dom_classes": [],
            "description": "",
            "_model_name": "HTMLModel",
            "placeholder": "​",
            "_view_module": "@jupyter-widgets/controls",
            "_model_module_version": "1.5.0",
            "value": " 268M/268M [00:06&lt;00:00, 48.1MB/s]",
            "_view_count": null,
            "_view_module_version": "1.5.0",
            "description_tooltip": null,
            "_model_module": "@jupyter-widgets/controls",
            "layout": "IPY_MODEL_bd16804d73ad4540b69bfac6ac4326ef"
          }
        },
        "6d8d12f5bae94df1ba2438d987a7b582": {
          "model_module": "@jupyter-widgets/controls",
          "model_name": "DescriptionStyleModel",
          "model_module_version": "1.5.0",
          "state": {
            "_view_name": "StyleView",
            "_model_name": "DescriptionStyleModel",
            "description_width": "",
            "_view_module": "@jupyter-widgets/base",
            "_model_module_version": "1.5.0",
            "_view_count": null,
            "_view_module_version": "1.2.0",
            "_model_module": "@jupyter-widgets/controls"
          }
        },
        "e6c6a3b925344ae9b3a8ff7457b1b3ee": {
          "model_module": "@jupyter-widgets/base",
          "model_name": "LayoutModel",
          "model_module_version": "1.2.0",
          "state": {
            "_view_name": "LayoutView",
            "grid_template_rows": null,
            "right": null,
            "justify_content": null,
            "_view_module": "@jupyter-widgets/base",
            "overflow": null,
            "_model_module_version": "1.2.0",
            "_view_count": null,
            "flex_flow": null,
            "width": null,
            "min_width": null,
            "border": null,
            "align_items": null,
            "bottom": null,
            "_model_module": "@jupyter-widgets/base",
            "top": null,
            "grid_column": null,
            "overflow_y": null,
            "overflow_x": null,
            "grid_auto_flow": null,
            "grid_area": null,
            "grid_template_columns": null,
            "flex": null,
            "_model_name": "LayoutModel",
            "justify_items": null,
            "grid_row": null,
            "max_height": null,
            "align_content": null,
            "visibility": null,
            "align_self": null,
            "height": null,
            "min_height": null,
            "padding": null,
            "grid_auto_rows": null,
            "grid_gap": null,
            "max_width": null,
            "order": null,
            "_view_module_version": "1.2.0",
            "grid_template_areas": null,
            "object_position": null,
            "object_fit": null,
            "grid_auto_columns": null,
            "margin": null,
            "display": null,
            "left": null
          }
        },
        "d60ca6ef288844468f99fea78a651ae6": {
          "model_module": "@jupyter-widgets/controls",
          "model_name": "ProgressStyleModel",
          "model_module_version": "1.5.0",
          "state": {
            "_view_name": "StyleView",
            "_model_name": "ProgressStyleModel",
            "description_width": "",
            "_view_module": "@jupyter-widgets/base",
            "_model_module_version": "1.5.0",
            "_view_count": null,
            "_view_module_version": "1.2.0",
            "bar_color": null,
            "_model_module": "@jupyter-widgets/controls"
          }
        },
        "dcc99f7c20974418ab0782416dd29a97": {
          "model_module": "@jupyter-widgets/base",
          "model_name": "LayoutModel",
          "model_module_version": "1.2.0",
          "state": {
            "_view_name": "LayoutView",
            "grid_template_rows": null,
            "right": null,
            "justify_content": null,
            "_view_module": "@jupyter-widgets/base",
            "overflow": null,
            "_model_module_version": "1.2.0",
            "_view_count": null,
            "flex_flow": null,
            "width": null,
            "min_width": null,
            "border": null,
            "align_items": null,
            "bottom": null,
            "_model_module": "@jupyter-widgets/base",
            "top": null,
            "grid_column": null,
            "overflow_y": null,
            "overflow_x": null,
            "grid_auto_flow": null,
            "grid_area": null,
            "grid_template_columns": null,
            "flex": null,
            "_model_name": "LayoutModel",
            "justify_items": null,
            "grid_row": null,
            "max_height": null,
            "align_content": null,
            "visibility": null,
            "align_self": null,
            "height": null,
            "min_height": null,
            "padding": null,
            "grid_auto_rows": null,
            "grid_gap": null,
            "max_width": null,
            "order": null,
            "_view_module_version": "1.2.0",
            "grid_template_areas": null,
            "object_position": null,
            "object_fit": null,
            "grid_auto_columns": null,
            "margin": null,
            "display": null,
            "left": null
          }
        },
        "8036c42f6a404aae8fe3ca08d252fba6": {
          "model_module": "@jupyter-widgets/controls",
          "model_name": "DescriptionStyleModel",
          "model_module_version": "1.5.0",
          "state": {
            "_view_name": "StyleView",
            "_model_name": "DescriptionStyleModel",
            "description_width": "",
            "_view_module": "@jupyter-widgets/base",
            "_model_module_version": "1.5.0",
            "_view_count": null,
            "_view_module_version": "1.2.0",
            "_model_module": "@jupyter-widgets/controls"
          }
        },
        "bd16804d73ad4540b69bfac6ac4326ef": {
          "model_module": "@jupyter-widgets/base",
          "model_name": "LayoutModel",
          "model_module_version": "1.2.0",
          "state": {
            "_view_name": "LayoutView",
            "grid_template_rows": null,
            "right": null,
            "justify_content": null,
            "_view_module": "@jupyter-widgets/base",
            "overflow": null,
            "_model_module_version": "1.2.0",
            "_view_count": null,
            "flex_flow": null,
            "width": null,
            "min_width": null,
            "border": null,
            "align_items": null,
            "bottom": null,
            "_model_module": "@jupyter-widgets/base",
            "top": null,
            "grid_column": null,
            "overflow_y": null,
            "overflow_x": null,
            "grid_auto_flow": null,
            "grid_area": null,
            "grid_template_columns": null,
            "flex": null,
            "_model_name": "LayoutModel",
            "justify_items": null,
            "grid_row": null,
            "max_height": null,
            "align_content": null,
            "visibility": null,
            "align_self": null,
            "height": null,
            "min_height": null,
            "padding": null,
            "grid_auto_rows": null,
            "grid_gap": null,
            "max_width": null,
            "order": null,
            "_view_module_version": "1.2.0",
            "grid_template_areas": null,
            "object_position": null,
            "object_fit": null,
            "grid_auto_columns": null,
            "margin": null,
            "display": null,
            "left": null
          }
        }
      }
    }
  },
  "cells": [
    {
      "cell_type": "markdown",
      "metadata": {
        "id": "view-in-github",
        "colab_type": "text"
      },
      "source": [
        "<a href=\"https://colab.research.google.com/github/Studiegruppe-TM/datascience_proj/blob/main/DistilBert_Liar_6000_training_og_svc_multi_kernel_.ipynb\" target=\"_parent\"><img src=\"https://colab.research.google.com/assets/colab-badge.svg\" alt=\"Open In Colab\"/></a>"
      ]
    },
    {
      "cell_type": "code",
      "metadata": {
        "id": "inqEjMWz-Cth",
        "colab": {
          "base_uri": "https://localhost:8080/"
        },
        "outputId": "61ff91d5-ab02-4169-9ef9-cb2949430ff2"
      },
      "source": [
        "from io import BytesIO\n",
        "from zipfile import ZipFile\n",
        "from urllib.request import urlopen\n",
        "import csv\n",
        "import pandas as pd\n",
        "import numpy as np\n",
        "\n",
        "from collections import Counter\n",
        "\n",
        "#google halloej \n",
        "from google.colab import drive\n",
        "drive.mount('/content/drive')\n",
        "\n",
        "\n",
        "#list=[]\n",
        "#result = [list]\n",
        "#articles = '/content/drive/MyDrive/data science colab notesbooks/train.tsv'\n",
        "#for chunk in pd.read_csv(articles, chunksize=100, sep='\\t'):\n",
        "#  result.append(chunk)\n",
        "\n",
        "\n",
        "\n",
        "#total = sum(result)\n",
        "\n",
        "\n",
        "#articles = df_1.fillna('a')\n",
        "\n",
        "#zipfile = ZipFile(BytesIO(resp.read()))\n",
        "#articles = pd.read_csv(zipfile.open(zipfile.namelist()[0]))\n",
        "\n",
        "# Subset for faster processing\n",
        "\n"
      ],
      "id": "inqEjMWz-Cth",
      "execution_count": 1,
      "outputs": [
        {
          "output_type": "stream",
          "text": [
            "Mounted at /content/drive\n"
          ],
          "name": "stdout"
        }
      ]
    },
    {
      "cell_type": "code",
      "metadata": {
        "id": "7xYkXFgjGExe",
        "colab": {
          "base_uri": "https://localhost:8080/"
        },
        "outputId": "81b2a80a-95a9-466e-a252-83f8df4272a6"
      },
      "source": [
        "from google.colab import drive\n",
        "drive.mount('/content/drive')"
      ],
      "id": "7xYkXFgjGExe",
      "execution_count": 2,
      "outputs": [
        {
          "output_type": "stream",
          "text": [
            "Drive already mounted at /content/drive; to attempt to forcibly remount, call drive.mount(\"/content/drive\", force_remount=True).\n"
          ],
          "name": "stdout"
        }
      ]
    },
    {
      "cell_type": "code",
      "metadata": {
        "id": "XeBvnN2S66pp",
        "colab": {
          "base_uri": "https://localhost:8080/"
        },
        "outputId": "7a578c3f-9f44-4113-82f6-ea15647e68ae"
      },
      "source": [
        "#list=[]\n",
        "#result = [list]\n",
        "#articles = '/content/drive/MyDrive/data science colab notesbooks/train.tsv'\n",
        "#for chunk in pd.read_csv(articles, chunksize=1000,names=[]\n",
        "                                                         \n",
        "\n",
        "import json\n",
        "import pandas as pd\n",
        "\n",
        "train = pd.read_csv('/content/drive/MyDrive/data_science_rapport_august_2021/liar_dataset/train.tsv', sep='\\t')\n",
        "result = pd.read_csv('/content/drive/MyDrive/data_science_rapport_august_2021/liar_dataset/test.tsv', sep='\\t')\n",
        "\n",
        "train = train.sample(frac=1)\n",
        "result = result.sample(frac=1)\n",
        "\n",
        "#train1 = []\n",
        "#for chunk in pd.read_csv('/content/drive/MyDrive/data_science_rapport_august_2021/FakeNewsCorpus_dataset/fakenews.csv')\n",
        " # chunksize=1000,names=['id', 'content']):\n",
        "#    train1.append(chunk)\n",
        "\n",
        "#articles = '/content/drive/MyDrive/data science colab notesbooks/train.tsv'\n",
        "#for chunk in pd.read_csv('/content/drive/MyDrive/data_science_rapport_august_2021/news_sample.csv', chunksize=1000, sep='\\t'):\n",
        "  #train1.append(chunk)\n",
        "\n",
        "\n",
        "#print(chunk)\n",
        "#train = df.concat([train1[0], train[1], train1[2], train1[3], train1[4], train1[5], train1[6], train1[7], train1[8], train1[9])\n",
        "\n",
        "result_1 = result.iloc[: 800, 0:14]\n",
        "result_2 = result.iloc[800: 1266, 0:14]\n",
        "\n",
        "\n",
        "train_1 = train.iloc[: 1000, 0:14]\n",
        "train_2 = train.iloc[1000: 2000, 0:14]\n",
        "train_3 = train.iloc[2000: 3000, 0:14]\n",
        "train_4 = train.iloc[3000: 4000, 0:14]\n",
        "train_5 = train.iloc[4000: 5000, 0:14]\n",
        "train_6 = train.iloc[5000: 6000, 0:14]\n",
        "#train_7 = train.iloc[6000: 7000, 0:6]\n",
        "#train_8 = train.iloc[7000: 8000, 0:6]\n",
        "#train_9 = train.iloc[8000: 9000, 0:6]\n",
        "#train_10 = train.iloc[9000: 10238 , 0:6]\n",
        "\n",
        "print(train_1)"
      ],
      "id": "XeBvnN2S66pp",
      "execution_count": 3,
      "outputs": [
        {
          "output_type": "stream",
          "text": [
            "       2635.json  ...                                           a mailer\n",
            "7067   6603.json  ...  remarks at the Republican National Convention ...\n",
            "6189   4113.json  ...                        a speech in the U.S. Senate\n",
            "7314   1085.json  ...                                         a radio ad\n",
            "4736   7648.json  ...                                       a statement.\n",
            "7729   1115.json  ...            on This Week with George Stephanopoulos\n",
            "...          ...  ...                                                ...\n",
            "8188  10107.json  ...                                 a Telemundo debate\n",
            "3975   8582.json  ...              an interview on MSNBC's \"Morning Joe\"\n",
            "2711   5518.json  ...                                          a debate.\n",
            "2022    108.json  ...                                  Des Moines, Iowa.\n",
            "8129   4794.json  ...                                     a political ad\n",
            "\n",
            "[1000 rows x 14 columns]\n"
          ],
          "name": "stdout"
        }
      ]
    },
    {
      "cell_type": "code",
      "metadata": {
        "id": "dxZRm5c4f2JI"
      },
      "source": [
        ""
      ],
      "id": "dxZRm5c4f2JI",
      "execution_count": 3,
      "outputs": []
    },
    {
      "cell_type": "code",
      "metadata": {
        "id": "7j8rq-sr-Ctm",
        "colab": {
          "base_uri": "https://localhost:8080/"
        },
        "outputId": "e69684c6-7f19-4bed-ba06-ce38e84aa68a"
      },
      "source": [
        "print(result_1)\n"
      ],
      "id": "7j8rq-sr-Ctm",
      "execution_count": 4,
      "outputs": [
        {
          "output_type": "stream",
          "text": [
            "     11972.json  ...                                  Radio interview\n",
            "182   8159.json  ...                               an opinion article\n",
            "1212  8685.json  ...                                an opinion column\n",
            "72    3518.json  ...  his book, \"Courage to Stand: An American Story\"\n",
            "686   9095.json  ...                        a post from Being Liberal\n",
            "685   4995.json  ...              a House Judiciary Committee hearing\n",
            "...         ...  ...                                              ...\n",
            "360   8240.json  ...           an appearance on \"10 News Conference.\"\n",
            "1102  3697.json  ...                        a video posted to YouTube\n",
            "106   2690.json  ...                                         a debate\n",
            "421   2362.json  ...                     a speech in Cleveland, Ohio.\n",
            "1133   814.json  ...                                   a TV interview\n",
            "\n",
            "[800 rows x 14 columns]\n"
          ],
          "name": "stdout"
        }
      ]
    },
    {
      "cell_type": "code",
      "metadata": {
        "id": "vkcFEW4dWf-7",
        "colab": {
          "base_uri": "https://localhost:8080/"
        },
        "outputId": "20d02a24-b29a-4d0b-9c5c-73f084b9f0f1"
      },
      "source": [
        "#print(ubaad_new1) \n",
        "#print(ubaad_new2)\n",
        "\n",
        "\n",
        "t = range(0,200)\n",
        "pu = result_1\n",
        "\n",
        "import itertools\n",
        "\n",
        "correct_next_element = 1\n",
        "\n",
        "#skifte element i result[i] \n",
        "new_List = [range(2,10000)] # Vi er sgu ikke helt sikre på det her \n",
        "list_cycle = itertools.cycle(new_List)\n",
        "next(list_cycle)\n",
        "\n",
        "#for i in result:\n",
        "\n",
        "#Gammelt stuff\n",
        "   #print(pu['type'])\n",
        "   #pu['label'] = 'real'\n",
        "   #pu.loc[pu['type'] == 'fake', 'label'] = 'fake'\n",
        "   \n",
        "#Hvad vi definerer som korrekte labels\n",
        "#pu['1'] = 'fake'\n",
        "#pu.loc[pu[1] == 'real', 'label'] = 'real'\n",
        "#pu.loc[pu[1] == 'political', 'label'] = 'real'\n",
        "#pu.loc[pu[1] == 'reliable', 'label'] = 'real'\n",
        "\n",
        "#Andet gammelt stugff\n",
        "   #pu = result[w]\n",
        "   #pu2 = result[w + 1]\n",
        "\n",
        "#skifte element i result[i]\n",
        "   #next_element = next(list_cycle)\n",
        "   #print(next_element)\n",
        "   #correct_next_element = next_element\n",
        "   #print(correct_next_element)\n",
        "   \n",
        "   #pu = result[correct_next_element]\n",
        "   #print(pu)\n",
        "\n",
        "#print(result[2]['label'])\n",
        "\n",
        "\n"
      ],
      "id": "vkcFEW4dWf-7",
      "execution_count": 5,
      "outputs": [
        {
          "output_type": "execute_result",
          "data": {
            "text/plain": [
              "range(2, 10000)"
            ]
          },
          "metadata": {
            "tags": []
          },
          "execution_count": 5
        }
      ]
    },
    {
      "cell_type": "code",
      "metadata": {
        "id": "9Aa7jQE5cAZ9",
        "colab": {
          "base_uri": "https://localhost:8080/"
        },
        "outputId": "718858f8-ea5f-433c-9bea-6758bc3bccdc"
      },
      "source": [
        "print(train_2['Says the Annies List political group supports third-trimester abortions on demand.'])"
      ],
      "id": "9Aa7jQE5cAZ9",
      "execution_count": 6,
      "outputs": [
        {
          "output_type": "stream",
          "text": [
            "8043    Sheriffs Call For Obamas Lynching While Leader...\n",
            "7330    Says President Barack Obama is not paying wome...\n",
            "444     Common Core is not from the federal government...\n",
            "7845    More astronauts have been to the moon than far...\n",
            "8486    Protesters attacked the groups headquarters wi...\n",
            "                              ...                        \n",
            "515     Texas leads the nation in the percentage of re...\n",
            "62      There are 321,092 public school teachers in Te...\n",
            "1315    It is the Department of Homeland Security's vi...\n",
            "7637                                     On sequestration\n",
            "7157    Sixty percent of New Jersey doctors do not acc...\n",
            "Name: Says the Annies List political group supports third-trimester abortions on demand., Length: 1000, dtype: object\n"
          ],
          "name": "stdout"
        }
      ]
    },
    {
      "cell_type": "markdown",
      "metadata": {
        "id": "nZD6Y9LD-Ctn"
      },
      "source": [
        "# **DistilBERT delen**"
      ],
      "id": "nZD6Y9LD-Ctn"
    },
    {
      "cell_type": "code",
      "metadata": {
        "id": "-FLpPzBp-Cto",
        "colab": {
          "base_uri": "https://localhost:8080/"
        },
        "outputId": "15e7da75-a231-4b20-ea32-f8da5d8672c4"
      },
      "source": [
        "# Install the transformer package (the models used for creating the embeddings)\n",
        "!pip install transformers"
      ],
      "id": "-FLpPzBp-Cto",
      "execution_count": 7,
      "outputs": [
        {
          "output_type": "stream",
          "text": [
            "Collecting transformers\n",
            "  Downloading transformers-4.9.2-py3-none-any.whl (2.6 MB)\n",
            "\u001b[K     |████████████████████████████████| 2.6 MB 5.3 MB/s \n",
            "\u001b[?25hCollecting huggingface-hub==0.0.12\n",
            "  Downloading huggingface_hub-0.0.12-py3-none-any.whl (37 kB)\n",
            "Requirement already satisfied: requests in /usr/local/lib/python3.7/dist-packages (from transformers) (2.23.0)\n",
            "Requirement already satisfied: importlib-metadata in /usr/local/lib/python3.7/dist-packages (from transformers) (4.6.3)\n",
            "Requirement already satisfied: packaging in /usr/local/lib/python3.7/dist-packages (from transformers) (21.0)\n",
            "Collecting tokenizers<0.11,>=0.10.1\n",
            "  Downloading tokenizers-0.10.3-cp37-cp37m-manylinux_2_5_x86_64.manylinux1_x86_64.manylinux_2_12_x86_64.manylinux2010_x86_64.whl (3.3 MB)\n",
            "\u001b[K     |████████████████████████████████| 3.3 MB 60.7 MB/s \n",
            "\u001b[?25hRequirement already satisfied: regex!=2019.12.17 in /usr/local/lib/python3.7/dist-packages (from transformers) (2019.12.20)\n",
            "Collecting sacremoses\n",
            "  Downloading sacremoses-0.0.45-py3-none-any.whl (895 kB)\n",
            "\u001b[K     |████████████████████████████████| 895 kB 93.8 MB/s \n",
            "\u001b[?25hCollecting pyyaml>=5.1\n",
            "  Downloading PyYAML-5.4.1-cp37-cp37m-manylinux1_x86_64.whl (636 kB)\n",
            "\u001b[K     |████████████████████████████████| 636 kB 76.6 MB/s \n",
            "\u001b[?25hRequirement already satisfied: filelock in /usr/local/lib/python3.7/dist-packages (from transformers) (3.0.12)\n",
            "Requirement already satisfied: tqdm>=4.27 in /usr/local/lib/python3.7/dist-packages (from transformers) (4.62.0)\n",
            "Requirement already satisfied: numpy>=1.17 in /usr/local/lib/python3.7/dist-packages (from transformers) (1.19.5)\n",
            "Requirement already satisfied: typing-extensions in /usr/local/lib/python3.7/dist-packages (from huggingface-hub==0.0.12->transformers) (3.7.4.3)\n",
            "Requirement already satisfied: pyparsing>=2.0.2 in /usr/local/lib/python3.7/dist-packages (from packaging->transformers) (2.4.7)\n",
            "Requirement already satisfied: zipp>=0.5 in /usr/local/lib/python3.7/dist-packages (from importlib-metadata->transformers) (3.5.0)\n",
            "Requirement already satisfied: idna<3,>=2.5 in /usr/local/lib/python3.7/dist-packages (from requests->transformers) (2.10)\n",
            "Requirement already satisfied: chardet<4,>=3.0.2 in /usr/local/lib/python3.7/dist-packages (from requests->transformers) (3.0.4)\n",
            "Requirement already satisfied: certifi>=2017.4.17 in /usr/local/lib/python3.7/dist-packages (from requests->transformers) (2021.5.30)\n",
            "Requirement already satisfied: urllib3!=1.25.0,!=1.25.1,<1.26,>=1.21.1 in /usr/local/lib/python3.7/dist-packages (from requests->transformers) (1.24.3)\n",
            "Requirement already satisfied: joblib in /usr/local/lib/python3.7/dist-packages (from sacremoses->transformers) (1.0.1)\n",
            "Requirement already satisfied: six in /usr/local/lib/python3.7/dist-packages (from sacremoses->transformers) (1.15.0)\n",
            "Requirement already satisfied: click in /usr/local/lib/python3.7/dist-packages (from sacremoses->transformers) (7.1.2)\n",
            "Installing collected packages: tokenizers, sacremoses, pyyaml, huggingface-hub, transformers\n",
            "  Attempting uninstall: pyyaml\n",
            "    Found existing installation: PyYAML 3.13\n",
            "    Uninstalling PyYAML-3.13:\n",
            "      Successfully uninstalled PyYAML-3.13\n",
            "Successfully installed huggingface-hub-0.0.12 pyyaml-5.4.1 sacremoses-0.0.45 tokenizers-0.10.3 transformers-4.9.2\n"
          ],
          "name": "stdout"
        }
      ]
    },
    {
      "cell_type": "code",
      "metadata": {
        "id": "zRHpgTYr1pKF",
        "colab": {
          "base_uri": "https://localhost:8080/",
          "height": 1000,
          "referenced_widgets": [
            "e18da95870ce42db88245a8ebe3f8046",
            "f9c1332b12944453b6432582dd928b48",
            "f3a1d79271cd43f6a6e07c63d76a2e6d",
            "3a4898af50a04f02bc4e373562198b80",
            "1d4fea79eb184e5081f501da42fd7b56",
            "b9e6222f9e3f4a208afaa7fc2bf08a82",
            "f3d3e8258fbe4750951b340019fcf3a3",
            "3cc2331ec92b4e33bbe842a957285296",
            "f26c24c312ab40b394c13393a3032c5f",
            "61522f65f9bb4d9585f5c587f3a6390a",
            "f880323e849d4bdd9c4e9b00673011a1",
            "b2536ec0e92c4222b13011d6e4921004",
            "91dcb33525c94d20aa50101f884e052b",
            "2cc3d9953e7948b488dd91d1f75fb4de",
            "42fbae9749964249b911d90e332adf8d",
            "daa28bf9846e4dcf8d3e7a94fefeb7d5",
            "5649751aabb24570ab7efb5690eeffbb",
            "753ff98390bb4794961481bc76320b14",
            "10df61c9a3d441e1be5926fa8118d97a",
            "ea3d3a48db6548f3a14e4ae9bb59628f",
            "e9b34f1faad347d09f876b4e54c78e96",
            "d862868308034c93bf4e1c060e772a36",
            "b1f43e83a85c4847a31915381993e6b7",
            "a7c2852f59c34592add6b919635d6caa",
            "3f30844ae741471a86eec6e87be5c74a",
            "06129e1dc25549c4930c8e5aea868411",
            "d7d69061b5334da3bd8ba74cf79a0d06",
            "66626174f595466c90ea8bda29c7604e",
            "62f1e97e8baa43f4bf0df04fee8ea302",
            "96b36e26c42d414182a10cb464003e28",
            "3f19f4043161476da0700779de7a9495",
            "d699c25f2856439997ecde702a394677",
            "e000881c63724a868a7ab560a40c0959",
            "749172a7e3e240b6955acdd31ac6fdd7",
            "57aae84afc0c41389971dd1411eb63a5",
            "e972af86a5834dc2a2d128060a2dc59b",
            "341920d32a7b409a8e611d6e734c500d",
            "b5d2dcb89fe244be832cf0a728874186",
            "9c2384cef4ac48188652694e8dacbf24",
            "2fd210dd90e54ab7afe228644281f7bc",
            "516de0f1459147e4b67853ead9836c40",
            "762a962f1405471ba59d55ce3bc9358a",
            "8bfa4de2726c4353a178d626c348cf31",
            "8b1ae80d28e84d1ea1e6c3d189d3611b",
            "0d81b48488d245cc966cf6b733863509",
            "89a1e9978f254e9f99b1304934439617",
            "145973dbe32f40b99e0f9101d3509de4",
            "07ec05828d264e8b97868b3530bd87ad",
            "35f77756bdbf41ef8fcfc712e51853d7",
            "6d8d12f5bae94df1ba2438d987a7b582",
            "e6c6a3b925344ae9b3a8ff7457b1b3ee",
            "d60ca6ef288844468f99fea78a651ae6",
            "dcc99f7c20974418ab0782416dd29a97",
            "8036c42f6a404aae8fe3ca08d252fba6",
            "bd16804d73ad4540b69bfac6ac4326ef"
          ]
        },
        "outputId": "b28b2688-391a-4737-c1ab-7a28cf03730f"
      },
      "source": [
        "import transformers as ppb # pytorch transformers\n",
        "import torch\n",
        "\n",
        "# Create tokenizer and model input\n",
        "tokenizer = ppb.DistilBertTokenizer.from_pretrained('distilbert-base-uncased')\n",
        "model = ppb.DistilBertModel.from_pretrained('distilbert-base-uncased')\n",
        "\n",
        "# Switch to eval mode (rather than training mode) - this potentially gives a slight speedup\n",
        "model.eval()"
      ],
      "id": "zRHpgTYr1pKF",
      "execution_count": 8,
      "outputs": [
        {
          "output_type": "display_data",
          "data": {
            "application/vnd.jupyter.widget-view+json": {
              "model_id": "e18da95870ce42db88245a8ebe3f8046",
              "version_minor": 0,
              "version_major": 2
            },
            "text/plain": [
              "Downloading:   0%|          | 0.00/232k [00:00<?, ?B/s]"
            ]
          },
          "metadata": {
            "tags": []
          }
        },
        {
          "output_type": "display_data",
          "data": {
            "application/vnd.jupyter.widget-view+json": {
              "model_id": "b2536ec0e92c4222b13011d6e4921004",
              "version_minor": 0,
              "version_major": 2
            },
            "text/plain": [
              "Downloading:   0%|          | 0.00/28.0 [00:00<?, ?B/s]"
            ]
          },
          "metadata": {
            "tags": []
          }
        },
        {
          "output_type": "display_data",
          "data": {
            "application/vnd.jupyter.widget-view+json": {
              "model_id": "b1f43e83a85c4847a31915381993e6b7",
              "version_minor": 0,
              "version_major": 2
            },
            "text/plain": [
              "Downloading:   0%|          | 0.00/466k [00:00<?, ?B/s]"
            ]
          },
          "metadata": {
            "tags": []
          }
        },
        {
          "output_type": "display_data",
          "data": {
            "application/vnd.jupyter.widget-view+json": {
              "model_id": "749172a7e3e240b6955acdd31ac6fdd7",
              "version_minor": 0,
              "version_major": 2
            },
            "text/plain": [
              "Downloading:   0%|          | 0.00/442 [00:00<?, ?B/s]"
            ]
          },
          "metadata": {
            "tags": []
          }
        },
        {
          "output_type": "display_data",
          "data": {
            "application/vnd.jupyter.widget-view+json": {
              "model_id": "0d81b48488d245cc966cf6b733863509",
              "version_minor": 0,
              "version_major": 2
            },
            "text/plain": [
              "Downloading:   0%|          | 0.00/268M [00:00<?, ?B/s]"
            ]
          },
          "metadata": {
            "tags": []
          }
        },
        {
          "output_type": "stream",
          "text": [
            "Some weights of the model checkpoint at distilbert-base-uncased were not used when initializing DistilBertModel: ['vocab_layer_norm.bias', 'vocab_transform.weight', 'vocab_transform.bias', 'vocab_projector.bias', 'vocab_projector.weight', 'vocab_layer_norm.weight']\n",
            "- This IS expected if you are initializing DistilBertModel from the checkpoint of a model trained on another task or with another architecture (e.g. initializing a BertForSequenceClassification model from a BertForPreTraining model).\n",
            "- This IS NOT expected if you are initializing DistilBertModel from the checkpoint of a model that you expect to be exactly identical (initializing a BertForSequenceClassification model from a BertForSequenceClassification model).\n"
          ],
          "name": "stderr"
        },
        {
          "output_type": "execute_result",
          "data": {
            "text/plain": [
              "DistilBertModel(\n",
              "  (embeddings): Embeddings(\n",
              "    (word_embeddings): Embedding(30522, 768, padding_idx=0)\n",
              "    (position_embeddings): Embedding(512, 768)\n",
              "    (LayerNorm): LayerNorm((768,), eps=1e-12, elementwise_affine=True)\n",
              "    (dropout): Dropout(p=0.1, inplace=False)\n",
              "  )\n",
              "  (transformer): Transformer(\n",
              "    (layer): ModuleList(\n",
              "      (0): TransformerBlock(\n",
              "        (attention): MultiHeadSelfAttention(\n",
              "          (dropout): Dropout(p=0.1, inplace=False)\n",
              "          (q_lin): Linear(in_features=768, out_features=768, bias=True)\n",
              "          (k_lin): Linear(in_features=768, out_features=768, bias=True)\n",
              "          (v_lin): Linear(in_features=768, out_features=768, bias=True)\n",
              "          (out_lin): Linear(in_features=768, out_features=768, bias=True)\n",
              "        )\n",
              "        (sa_layer_norm): LayerNorm((768,), eps=1e-12, elementwise_affine=True)\n",
              "        (ffn): FFN(\n",
              "          (dropout): Dropout(p=0.1, inplace=False)\n",
              "          (lin1): Linear(in_features=768, out_features=3072, bias=True)\n",
              "          (lin2): Linear(in_features=3072, out_features=768, bias=True)\n",
              "        )\n",
              "        (output_layer_norm): LayerNorm((768,), eps=1e-12, elementwise_affine=True)\n",
              "      )\n",
              "      (1): TransformerBlock(\n",
              "        (attention): MultiHeadSelfAttention(\n",
              "          (dropout): Dropout(p=0.1, inplace=False)\n",
              "          (q_lin): Linear(in_features=768, out_features=768, bias=True)\n",
              "          (k_lin): Linear(in_features=768, out_features=768, bias=True)\n",
              "          (v_lin): Linear(in_features=768, out_features=768, bias=True)\n",
              "          (out_lin): Linear(in_features=768, out_features=768, bias=True)\n",
              "        )\n",
              "        (sa_layer_norm): LayerNorm((768,), eps=1e-12, elementwise_affine=True)\n",
              "        (ffn): FFN(\n",
              "          (dropout): Dropout(p=0.1, inplace=False)\n",
              "          (lin1): Linear(in_features=768, out_features=3072, bias=True)\n",
              "          (lin2): Linear(in_features=3072, out_features=768, bias=True)\n",
              "        )\n",
              "        (output_layer_norm): LayerNorm((768,), eps=1e-12, elementwise_affine=True)\n",
              "      )\n",
              "      (2): TransformerBlock(\n",
              "        (attention): MultiHeadSelfAttention(\n",
              "          (dropout): Dropout(p=0.1, inplace=False)\n",
              "          (q_lin): Linear(in_features=768, out_features=768, bias=True)\n",
              "          (k_lin): Linear(in_features=768, out_features=768, bias=True)\n",
              "          (v_lin): Linear(in_features=768, out_features=768, bias=True)\n",
              "          (out_lin): Linear(in_features=768, out_features=768, bias=True)\n",
              "        )\n",
              "        (sa_layer_norm): LayerNorm((768,), eps=1e-12, elementwise_affine=True)\n",
              "        (ffn): FFN(\n",
              "          (dropout): Dropout(p=0.1, inplace=False)\n",
              "          (lin1): Linear(in_features=768, out_features=3072, bias=True)\n",
              "          (lin2): Linear(in_features=3072, out_features=768, bias=True)\n",
              "        )\n",
              "        (output_layer_norm): LayerNorm((768,), eps=1e-12, elementwise_affine=True)\n",
              "      )\n",
              "      (3): TransformerBlock(\n",
              "        (attention): MultiHeadSelfAttention(\n",
              "          (dropout): Dropout(p=0.1, inplace=False)\n",
              "          (q_lin): Linear(in_features=768, out_features=768, bias=True)\n",
              "          (k_lin): Linear(in_features=768, out_features=768, bias=True)\n",
              "          (v_lin): Linear(in_features=768, out_features=768, bias=True)\n",
              "          (out_lin): Linear(in_features=768, out_features=768, bias=True)\n",
              "        )\n",
              "        (sa_layer_norm): LayerNorm((768,), eps=1e-12, elementwise_affine=True)\n",
              "        (ffn): FFN(\n",
              "          (dropout): Dropout(p=0.1, inplace=False)\n",
              "          (lin1): Linear(in_features=768, out_features=3072, bias=True)\n",
              "          (lin2): Linear(in_features=3072, out_features=768, bias=True)\n",
              "        )\n",
              "        (output_layer_norm): LayerNorm((768,), eps=1e-12, elementwise_affine=True)\n",
              "      )\n",
              "      (4): TransformerBlock(\n",
              "        (attention): MultiHeadSelfAttention(\n",
              "          (dropout): Dropout(p=0.1, inplace=False)\n",
              "          (q_lin): Linear(in_features=768, out_features=768, bias=True)\n",
              "          (k_lin): Linear(in_features=768, out_features=768, bias=True)\n",
              "          (v_lin): Linear(in_features=768, out_features=768, bias=True)\n",
              "          (out_lin): Linear(in_features=768, out_features=768, bias=True)\n",
              "        )\n",
              "        (sa_layer_norm): LayerNorm((768,), eps=1e-12, elementwise_affine=True)\n",
              "        (ffn): FFN(\n",
              "          (dropout): Dropout(p=0.1, inplace=False)\n",
              "          (lin1): Linear(in_features=768, out_features=3072, bias=True)\n",
              "          (lin2): Linear(in_features=3072, out_features=768, bias=True)\n",
              "        )\n",
              "        (output_layer_norm): LayerNorm((768,), eps=1e-12, elementwise_affine=True)\n",
              "      )\n",
              "      (5): TransformerBlock(\n",
              "        (attention): MultiHeadSelfAttention(\n",
              "          (dropout): Dropout(p=0.1, inplace=False)\n",
              "          (q_lin): Linear(in_features=768, out_features=768, bias=True)\n",
              "          (k_lin): Linear(in_features=768, out_features=768, bias=True)\n",
              "          (v_lin): Linear(in_features=768, out_features=768, bias=True)\n",
              "          (out_lin): Linear(in_features=768, out_features=768, bias=True)\n",
              "        )\n",
              "        (sa_layer_norm): LayerNorm((768,), eps=1e-12, elementwise_affine=True)\n",
              "        (ffn): FFN(\n",
              "          (dropout): Dropout(p=0.1, inplace=False)\n",
              "          (lin1): Linear(in_features=768, out_features=3072, bias=True)\n",
              "          (lin2): Linear(in_features=3072, out_features=768, bias=True)\n",
              "        )\n",
              "        (output_layer_norm): LayerNorm((768,), eps=1e-12, elementwise_affine=True)\n",
              "      )\n",
              "    )\n",
              "  )\n",
              ")"
            ]
          },
          "metadata": {
            "tags": []
          },
          "execution_count": 8
        }
      ]
    },
    {
      "cell_type": "code",
      "metadata": {
        "id": "Wtk0lvDVDkcZ",
        "colab": {
          "base_uri": "https://localhost:8080/"
        },
        "outputId": "7e3002ce-8b45-42ba-a916-f95a52b77053"
      },
      "source": [
        "\n",
        "#Tokenize fake news data \n",
        "fakenews_train_tokenized1 = train_1['Says the Annies List political group supports third-trimester abortions on demand.'].apply((lambda x: tokenizer.encode(x, add_special_tokens=True)))\n",
        "fakenews_train_tokenized2 = train_2['Says the Annies List political group supports third-trimester abortions on demand.'].apply((lambda x: tokenizer.encode(x, add_special_tokens=True)))\n",
        "fakenews_train_tokenized3 = train_3['Says the Annies List political group supports third-trimester abortions on demand.'].apply((lambda x: tokenizer.encode(x, add_special_tokens=True)))\n",
        "fakenews_train_tokenized4 = train_4['Says the Annies List political group supports third-trimester abortions on demand.'].apply((lambda x: tokenizer.encode(x, add_special_tokens=True)))\n",
        "fakenews_train_tokenized5 = train_5['Says the Annies List political group supports third-trimester abortions on demand.'].apply((lambda x: tokenizer.encode(x, add_special_tokens=True)))\n",
        "fakenews_train_tokenized6 = train_6['Says the Annies List political group supports third-trimester abortions on demand.'].apply((lambda x: tokenizer.encode(x, add_special_tokens=True)))\n",
        "#fakenews_train_tokenized7 = train_7['Says the Annies List political group supports third-trimester abortions on demand.'].apply((lambda x: tokenizer.encode(x, add_special_tokens=True)))\n",
        "#fakenews_train_tokenized8 = train_8['content'].apply((lambda x: tokenizer.encode(x, add_special_tokens=True)))\n",
        "#fakenews_train_tokenized9 = train_9['content'].apply((lambda x: tokenizer.encode(x, add_special_tokens=True)))\n",
        "#fakenews_train_tokenized10 = train_10['content'].apply((lambda x: tokenizer.encode(x, add_special_tokens=True)))\n",
        "\n",
        "\n",
        "fake_t11 = fakenews_train_tokenized1.append(fakenews_train_tokenized2) #, tokenized2, tokenized3, tokenized4, tokenized5, tokenized6 )\n",
        "fake_t12 = fake_t11.append(fakenews_train_tokenized3)\n",
        "fake_t13 = fake_t12.append(fakenews_train_tokenized4)\n",
        "fake_t14 = fake_t13.append(fakenews_train_tokenized5)\n",
        "fakenews_train_tokenized = fake_t14.append(fakenews_train_tokenized6)\n",
        "\n",
        "\n",
        "# Pad input so that all sequences are of the same size:\n",
        "max_len = 0\n",
        "for i in fakenews_train_tokenized.values:\n",
        "    if len(i) > max_len:\n",
        "        max_len = len(i)\n",
        "fakenews_train_padded = np.array([i + [0]*(max_len-len(i)) for i in fakenews_train_tokenized.values])\n",
        "\n",
        "# Actually, we can only deal with sequence lengths up to 512 with the DistilBert model, so we'll just truncate \n",
        "fakenews_train_padded = fakenews_train_padded[:,:512]\n",
        "\n",
        "#splitte padded \n",
        "fakenews_train_padded = np.split(fakenews_train_padded,5)\n",
        "\n",
        "# Tell embedding model to disregard pad tokens\n",
        "fakenews_train_attention_mask1 = np.where(fakenews_train_padded[0] != 0, 1, 0)\n",
        "fakenews_train_attention_mask2 = np.where(fakenews_train_padded[1] != 0, 1, 0)\n",
        "fakenews_train_attention_mask3 = np.where(fakenews_train_padded[2] != 0, 1, 0)\n",
        "fakenews_train_attention_mask4 = np.where(fakenews_train_padded[3] != 0, 1, 0)\n",
        "fakenews_train_attention_mask5 = np.where(fakenews_train_padded[4] != 0, 1, 0)\n",
        "\n",
        "#print(padded.shape)\n",
        "#print(fakenews_train_padded)\n",
        "\n",
        "\n"
      ],
      "id": "Wtk0lvDVDkcZ",
      "execution_count": 9,
      "outputs": [
        {
          "output_type": "stream",
          "text": [
            "Token indices sequence length is longer than the specified maximum sequence length for this model (714 > 512). Running this sequence through the model will result in indexing errors\n"
          ],
          "name": "stderr"
        }
      ]
    },
    {
      "cell_type": "code",
      "metadata": {
        "id": "_dCumnGx1sxq",
        "colab": {
          "base_uri": "https://localhost:8080/"
        },
        "outputId": "290a830d-3840-480d-8494-e66c3511d3fe"
      },
      "source": [
        "\n",
        "# Tokenize jsoninput\n",
        "tokenized1 = result_1['Building a wall on the U.S.-Mexico border will take literally years.'].apply((lambda x: tokenizer.encode(x, add_special_tokens=True)))\n",
        "tokenized2 = result_2['Building a wall on the U.S.-Mexico border will take literally years.'].apply((lambda x: tokenizer.encode(x, add_special_tokens=True)))\n",
        "#tokenized3 = result_3['Building a wall on the U.S.-Mexico border will take literally years.'].apply((lambda x: tokenizer.encode(x, add_special_tokens=True)))\n",
        "#tokenized4 = result_4['article'].apply((lambda x: tokenizer.encode(x, add_special_tokens=True)))\n",
        "#tokenized5 = result_5['article'].apply((lambda x: tokenizer.encode(x, add_special_tokens=True)))\n",
        "#tokenized6 = result_6['article'].apply((lambda x: tokenizer.encode(x, add_special_tokens=True)))\n",
        "\n",
        "tokenized = tokenized1.append(tokenized2) #, tokenized2, tokenized3, tokenized4, tokenized5, tokenized6 )\n",
        "#t12 = t11.append(tokenized3)\n",
        "##t13 = t12.append(tokenized4)\n",
        "#t14 = t13.append(tokenized5)\n",
        "#tokenized = t14.append(tokenized6)\n",
        "\n",
        "\n",
        "# Pad input so that all sequences are of the same size:\n",
        "max_len = 0\n",
        "for i in tokenized.values:\n",
        "    if len(i) > max_len:\n",
        "        max_len = len(i)\n",
        "padded = np.array([i + [0]*(max_len-len(i)) for i in tokenized.values])\n",
        "\n",
        "# Actually, we can only deal with sequence lengths up to 512 with the DistilBert model, so we'll just truncate \n",
        "padded = padded[:,:512]\n",
        "\n",
        "#splitte padded \n",
        "padded = np.split(padded,2)\n",
        "\n",
        "# Tell embedding model to disregard pad tokens\n",
        "attention_mask1 = np.where(padded[0] != 0, 1, 0)\n",
        "attention_mask2 = np.where(padded[1] != 0, 1, 0)\n",
        "#attention_mask3 = np.where(padded[2] != 0, 1, 0)\n",
        "#attention_mask4 = np.where(padded[3] != 0, 1, 0)\n",
        "#attention_mask5 = np.where(padded[4] != 0, 1, 0)\n",
        "\n",
        "#print(padded.shape)\n",
        "print(padded)"
      ],
      "id": "_dCumnGx1sxq",
      "execution_count": 10,
      "outputs": [
        {
          "output_type": "stream",
          "text": [
            "[array([[ 101, 2758, 2008, ...,    0,    0,    0],\n",
            "       [ 101, 3146, 2038, ...,    0,    0,    0],\n",
            "       [ 101, 2296, 2775, ...,    0,    0,    0],\n",
            "       ...,\n",
            "       [ 101, 2758, 4058, ...,    0,    0,    0],\n",
            "       [ 101, 2758, 6501, ...,    0,    0,    0],\n",
            "       [ 101, 2758, 6221, ...,    0,    0,    0]]), array([[  101,  1996,  5273, ...,     0,     0,     0],\n",
            "       [  101,  2256,  1006, ...,     0,     0,     0],\n",
            "       [  101,  6529,  2031, ...,     0,     0,     0],\n",
            "       ...,\n",
            "       [  101,  1045,  5256, ...,     0,     0,     0],\n",
            "       [  101,  1996,  2158, ...,     0,     0,     0],\n",
            "       [  101, 10643,  2024, ...,     0,     0,     0]])]\n"
          ],
          "name": "stdout"
        }
      ]
    },
    {
      "cell_type": "code",
      "metadata": {
        "id": "xG0PMydCrBuv",
        "colab": {
          "base_uri": "https://localhost:8080/"
        },
        "outputId": "5e1d4805-3ac6-47b0-c824-6c5a0a5b099f"
      },
      "source": [
        "print(tokenized)"
      ],
      "id": "xG0PMydCrBuv",
      "execution_count": 11,
      "outputs": [
        {
          "output_type": "stream",
          "text": [
            "182     [101, 2758, 2008, 2169, 2095, 1010, 2055, 2423...\n",
            "1212    [101, 3146, 2038, 1996, 3284, 3446, 1997, 4895...\n",
            "72      [101, 2296, 2775, 2141, 2651, 22490, 2015, 103...\n",
            "686     [101, 2758, 8879, 14548, 3695, 7164, 1996, 301...\n",
            "685     [101, 4921, 2063, 2589, 2062, 17727, 5243, 227...\n",
            "                              ...                        \n",
            "108     [101, 1996, 2616, 4942, 28600, 2319, 12256, 17...\n",
            "1173    [101, 2758, 1996, 2472, 1997, 2019, 3424, 1011...\n",
            "1103    [101, 1045, 5256, 2039, 2296, 2851, 1999, 1037...\n",
            "1197    [101, 1996, 2158, 17231, 1011, 2205, 4168, 210...\n",
            "560     [101, 10643, 2024, 7161, 2000, 6366, 13857, 81...\n",
            "Name: Building a wall on the U.S.-Mexico border will take literally years., Length: 1266, dtype: object\n"
          ],
          "name": "stdout"
        }
      ]
    },
    {
      "cell_type": "code",
      "metadata": {
        "id": "1EZ75NWNncWd"
      },
      "source": [
        "\n",
        "\n",
        "\n"
      ],
      "id": "1EZ75NWNncWd",
      "execution_count": 11,
      "outputs": []
    },
    {
      "cell_type": "code",
      "metadata": {
        "id": "GfNpY835whBg"
      },
      "source": [
        ""
      ],
      "id": "GfNpY835whBg",
      "execution_count": 11,
      "outputs": []
    },
    {
      "cell_type": "code",
      "metadata": {
        "id": "JeniIUJ_B4EW"
      },
      "source": [
        "device = torch.device(\"cpu\")\n",
        "if torch.cuda.is_available():\n",
        "  model = model.cuda()\n",
        "  device = torch.device(\"cuda\")\n",
        "\n",
        "import matplotlib.pyplot as plt\n",
        "from sklearn.decomposition import PCA\n",
        "\n",
        "\n",
        "\n",
        "\n"
      ],
      "id": "JeniIUJ_B4EW",
      "execution_count": 12,
      "outputs": []
    },
    {
      "cell_type": "code",
      "metadata": {
        "id": "hVdpwaFIz0zK"
      },
      "source": [
        ""
      ],
      "id": "hVdpwaFIz0zK",
      "execution_count": 12,
      "outputs": []
    },
    {
      "cell_type": "code",
      "metadata": {
        "id": "7Vu7L2i_yk8q"
      },
      "source": [
        "#NUMMER 1 json \n",
        "\n",
        "# Convert input to a pytorch tensor (so that it can be used as input for the embedding model)\n",
        "input = torch.tensor(np.array(padded[0]), device=device)\n",
        "attention_mask = torch.tensor(attention_mask1, device=device)\n",
        "\n",
        "# Embed sequences (processing in batches to avoid memory problems)\n",
        "batch_size= 200\n",
        "embeddings = []\n",
        "for start_index in range(0, input.shape[0], batch_size):\n",
        "  with torch.no_grad():\n",
        "    # Call embedding model\n",
        "    embedding = model(input[start_index:start_index+batch_size], \n",
        "                      attention_mask=attention_mask[start_index:start_index+batch_size])[0][:,0,:]\n",
        "\n",
        "    embeddings.append(embedding)\n",
        "embeddings = torch.cat(embeddings)   # concatenate all batch outputs back into one tensor\n",
        "\n",
        "# Move embeddings back to numpy\n",
        "embeddings = embeddings.cpu().numpy()\n"
      ],
      "id": "7Vu7L2i_yk8q",
      "execution_count": 13,
      "outputs": []
    },
    {
      "cell_type": "code",
      "metadata": {
        "id": "DN8c_Kt2zGho"
      },
      "source": [
        "#NUMMER 2 json \n",
        "\n",
        "# Convert input to a pytorch tensor (so that it can be used as input for the embedding model)\n",
        "input = torch.tensor(np.array(padded[1]), device=device)\n",
        "attention_mask = torch.tensor(attention_mask2, device=device)\n",
        "\n",
        "# Embed sequences (processing in batches to avoid memory problems)\n",
        "batch_size= 200\n",
        "embeddings2 = []\n",
        "for start_index in range(0, input.shape[0], batch_size):\n",
        "  with torch.no_grad():\n",
        "    # Call embedding model\n",
        "    embedding = model(input[start_index:start_index+batch_size], \n",
        "                      attention_mask=attention_mask[start_index:start_index+batch_size])[0][:,0,:]\n",
        "\n",
        "    embeddings2.append(embedding)\n",
        "embeddings2 = torch.cat(embeddings2)   # concatenate all batch outputs back into one tensor\n",
        "\n",
        "# Move embeddings back to numpy\n",
        "embeddings2 = embeddings2.cpu().numpy()\n"
      ],
      "id": "DN8c_Kt2zGho",
      "execution_count": 14,
      "outputs": []
    },
    {
      "cell_type": "code",
      "metadata": {
        "id": "bmUPBqjZHEwt"
      },
      "source": [
        "#NUMMER 1 - FAKE NEWS TRAIN DATA \n",
        "\n",
        "# Convert input to a pytorch tensor (so that it can be used as input for the embedding model)\n",
        "input = torch.tensor(np.array(fakenews_train_padded[0]), device=device)\n",
        "attention_mask = torch.tensor(fakenews_train_attention_mask1, device=device)\n",
        "\n",
        "# Embed sequences (processing in batches to avoid memory problems)\n",
        "batch_size= 200\n",
        "fakenews_train_embeddings1 = []\n",
        "for start_index in range(0, input.shape[0], batch_size):\n",
        "  with torch.no_grad():\n",
        "    # Call embedding model\n",
        "    embedding = model(input[start_index:start_index+batch_size], \n",
        "                      attention_mask=attention_mask[start_index:start_index+batch_size])[0][:,0,:]\n",
        "\n",
        "    fakenews_train_embeddings1.append(embedding)\n",
        "fakenews_train_embeddings1 = torch.cat(fakenews_train_embeddings1)   # concatenate all batch outputs back into one tensor\n",
        "\n",
        "# Move embeddings back to numpy\n",
        "fakenews_train_embeddings1 = fakenews_train_embeddings1.cpu().numpy()\n",
        "\n",
        "\n",
        "\n"
      ],
      "id": "bmUPBqjZHEwt",
      "execution_count": 15,
      "outputs": []
    },
    {
      "cell_type": "code",
      "metadata": {
        "id": "1DEjEoH74cUE"
      },
      "source": [
        "#NUMMER 2 - FAKE NEWS TRAIN DATA \n",
        "\n",
        "# Convert input to a pytorch tensor (so that it can be used as input for the embedding model)\n",
        "input = torch.tensor(np.array(fakenews_train_padded[1]), device=device)\n",
        "attention_mask = torch.tensor(fakenews_train_attention_mask2, device=device)\n",
        "\n",
        "# Embed sequences (processing in batches to avoid memory problems)\n",
        "batch_size= 200\n",
        "fakenews_train_embeddings2 = []\n",
        "for start_index in range(0, input.shape[0], batch_size):\n",
        "  with torch.no_grad():\n",
        "    # Call embedding model\n",
        "    embedding = model(input[start_index:start_index+batch_size], \n",
        "                      attention_mask=attention_mask[start_index:start_index+batch_size])[0][:,0,:]\n",
        "\n",
        "    fakenews_train_embeddings2.append(embedding)\n",
        "fakenews_train_embeddings2= torch.cat(fakenews_train_embeddings2)   # concatenate all batch outputs back into one tensor\n",
        "\n",
        "# Move embeddings back to numpy\n",
        "fakenews_train_embeddings2 = fakenews_train_embeddings2.cpu().numpy()"
      ],
      "id": "1DEjEoH74cUE",
      "execution_count": 16,
      "outputs": []
    },
    {
      "cell_type": "code",
      "metadata": {
        "id": "nyE4Bsp549Xd"
      },
      "source": [
        "#NUMMER 3 - FAKE NEWS TRAIN DATA \n",
        "\n",
        "# Convert input to a pytorch tensor (so that it can be used as input for the embedding model)\n",
        "input = torch.tensor(np.array(fakenews_train_padded[2]), device=device)\n",
        "attention_mask = torch.tensor(fakenews_train_attention_mask3, device=device)\n",
        "\n",
        "# Embed sequences (processing in batches to avoid memory problems)\n",
        "batch_size= 200\n",
        "fakenews_train_embeddings3 = []\n",
        "for start_index in range(0, input.shape[0], batch_size):\n",
        "  with torch.no_grad():\n",
        "    # Call embedding model\n",
        "    embedding = model(input[start_index:start_index+batch_size], \n",
        "                      attention_mask=attention_mask[start_index:start_index+batch_size])[0][:,0,:]\n",
        "\n",
        "    fakenews_train_embeddings3.append(embedding)\n",
        "fakenews_train_embeddings3= torch.cat(fakenews_train_embeddings3)   # concatenate all batch outputs back into one tensor\n",
        "\n",
        "# Move embeddings back to numpy\n",
        "fakenews_train_embeddings3 = fakenews_train_embeddings3.cpu().numpy()"
      ],
      "id": "nyE4Bsp549Xd",
      "execution_count": 17,
      "outputs": []
    },
    {
      "cell_type": "code",
      "metadata": {
        "id": "HIq4gWmI5GPz"
      },
      "source": [
        "#NUMMER 4 - FAKE NEWS TRAIN DATA \n",
        "\n",
        "# Convert input to a pytorch tensor (so that it can be used as input for the embedding model)\n",
        "input = torch.tensor(np.array(fakenews_train_padded[3]), device=device)\n",
        "attention_mask = torch.tensor(fakenews_train_attention_mask4, device=device)\n",
        "\n",
        "# Embed sequences (processing in batches to avoid memory problems)\n",
        "batch_size= 200\n",
        "fakenews_train_embeddings4 = []\n",
        "for start_index in range(0, input.shape[0], batch_size):\n",
        "  with torch.no_grad():\n",
        "    # Call embedding model\n",
        "    embedding = model(input[start_index:start_index+batch_size], \n",
        "                      attention_mask=attention_mask[start_index:start_index+batch_size])[0][:,0,:]\n",
        "\n",
        "    fakenews_train_embeddings4.append(embedding)\n",
        "fakenews_train_embeddings4= torch.cat(fakenews_train_embeddings4)   # concatenate all batch outputs back into one tensor\n",
        "\n",
        "# Move embeddings back to numpy\n",
        "fakenews_train_embeddings4 = fakenews_train_embeddings4.cpu().numpy()"
      ],
      "id": "HIq4gWmI5GPz",
      "execution_count": 18,
      "outputs": []
    },
    {
      "cell_type": "code",
      "metadata": {
        "id": "8xdI2XWS5M3H"
      },
      "source": [
        "#NUMMER 5 - FAKE NEWS TRAIN DATA \n",
        "\n",
        "# Convert input to a pytorch tensor (so that it can be used as input for the embedding model)\n",
        "input = torch.tensor(np.array(fakenews_train_padded[4]), device=device)\n",
        "attention_mask = torch.tensor(fakenews_train_attention_mask5, device=device)\n",
        "\n",
        "# Embed sequences (processing in batches to avoid memory problems)\n",
        "batch_size= 200\n",
        "fakenews_train_embeddings5 = []\n",
        "for start_index in range(0, input.shape[0], batch_size):\n",
        "  with torch.no_grad():\n",
        "    # Call embedding model\n",
        "    embedding = model(input[start_index:start_index+batch_size], \n",
        "                      attention_mask=attention_mask[start_index:start_index+batch_size])[0][:,0,:]\n",
        "\n",
        "    fakenews_train_embeddings5.append(embedding)\n",
        "fakenews_train_embeddings5= torch.cat(fakenews_train_embeddings5)   # concatenate all batch outputs back into one tensor\n",
        "\n",
        "# Move embeddings back to numpy\n",
        "fakenews_train_embeddings5 = fakenews_train_embeddings5.cpu().numpy()"
      ],
      "id": "8xdI2XWS5M3H",
      "execution_count": 19,
      "outputs": []
    },
    {
      "cell_type": "code",
      "metadata": {
        "id": "91jK6UoEb4ZU",
        "colab": {
          "base_uri": "https://localhost:8080/",
          "height": 282
        },
        "outputId": "eed833d6-0603-4a25-af6c-4b3975197491"
      },
      "source": [
        "#json plot \n",
        "import matplotlib.pyplot as plt\n",
        "from sklearn.decomposition import PCA\n",
        "pca = PCA(n_components=2)\n",
        "\n",
        "embeddings = np.concatenate((embeddings, embeddings2))\n",
        "\n",
        "dim_reduced_embedding = pca.fit_transform(embeddings)#alle embedddings skal sættes sammen inden dette  \n",
        "plt.scatter(dim_reduced_embedding[:,0], dim_reduced_embedding[:,1])"
      ],
      "id": "91jK6UoEb4ZU",
      "execution_count": 20,
      "outputs": [
        {
          "output_type": "execute_result",
          "data": {
            "text/plain": [
              "<matplotlib.collections.PathCollection at 0x7f45a0495610>"
            ]
          },
          "metadata": {
            "tags": []
          },
          "execution_count": 20
        },
        {
          "output_type": "display_data",
          "data": {
            "image/png": "[encoded data removed]",
            "text/plain": [
              "<Figure size 432x288 with 1 Axes>"
            ]
          },
          "metadata": {
            "tags": [],
            "needs_background": "light"
          }
        }
      ]
    },
    {
      "cell_type": "code",
      "metadata": {
        "id": "5acwVoOQ5eHA",
        "colab": {
          "base_uri": "https://localhost:8080/",
          "height": 282
        },
        "outputId": "9e277265-d915-434b-c258-1467dcbac63f"
      },
      "source": [
        "#fake news data plot\n",
        "\n",
        "fakenews_train_embeddings = np.concatenate((fakenews_train_embeddings1, fakenews_train_embeddings2, fakenews_train_embeddings3, fakenews_train_embeddings4, fakenews_train_embeddings5))\n",
        "\n",
        "dim_reduced_embedding = pca.fit_transform(fakenews_train_embeddings)#alle embedddings skal sættes sammen inden dette  \n",
        "plt.scatter(dim_reduced_embedding[:,0], dim_reduced_embedding[:,1])\n"
      ],
      "id": "5acwVoOQ5eHA",
      "execution_count": 21,
      "outputs": [
        {
          "output_type": "execute_result",
          "data": {
            "text/plain": [
              "<matplotlib.collections.PathCollection at 0x7f45a01cf350>"
            ]
          },
          "metadata": {
            "tags": []
          },
          "execution_count": 21
        },
        {
          "output_type": "display_data",
          "data": {
            "image/png": "[encoded data removed]",
            "text/plain": [
              "<Figure size 432x288 with 1 Axes>"
            ]
          },
          "metadata": {
            "tags": [],
            "needs_background": "light"
          }
        }
      ]
    },
    {
      "cell_type": "markdown",
      "metadata": {
        "id": "McJQFJIhbyfk"
      },
      "source": [
        "# SPLIT TRAIN TEST delen **bold text**"
      ],
      "id": "McJQFJIhbyfk"
    },
    {
      "cell_type": "code",
      "metadata": {
        "id": "-bvu4HE7eAOV"
      },
      "source": [
        "from sklearn.model_selection import train_test_split\n",
        "\n",
        "\n",
        "sum_y_train = []\n",
        "sum_y_val = []\n",
        "sum_y_test = []\n"
      ],
      "id": "-bvu4HE7eAOV",
      "execution_count": 22,
      "outputs": []
    },
    {
      "cell_type": "code",
      "metadata": {
        "id": "5LftZKHmQNA0",
        "colab": {
          "base_uri": "https://localhost:8080/"
        },
        "outputId": "230c63aa-58dd-437d-8c97-e0adc6f4fda4"
      },
      "source": [
        "print(train['false'])"
      ],
      "id": "5LftZKHmQNA0",
      "execution_count": 23,
      "outputs": [
        {
          "output_type": "stream",
          "text": [
            "7067          true\n",
            "6189          true\n",
            "7314         false\n",
            "4736         false\n",
            "7729     half-true\n",
            "           ...    \n",
            "4325     half-true\n",
            "7469         false\n",
            "5710     half-true\n",
            "6185     half-true\n",
            "8983    pants-fire\n",
            "Name: false, Length: 10239, dtype: object\n"
          ],
          "name": "stdout"
        }
      ]
    },
    {
      "cell_type": "code",
      "metadata": {
        "id": "VYwkJIFbfdHw",
        "colab": {
          "base_uri": "https://localhost:8080/"
        },
        "outputId": "87ad7804-4f46-44c9-fc31-0067a3ced5a9"
      },
      "source": [
        "from sklearn.svm import SVC\n",
        "from sklearn.metrics import accuracy_score\n",
        "\n",
        "# Define the classifier classes\n",
        "svc = SVC(kernel='linear') # Linear reg\n",
        "\n",
        "# Fit the model\n",
        "X_train = fakenews_train_embeddings\n",
        "y_train = train['false'].head(6000)\n",
        "svc.fit(X_train, y_train)\n",
        "\n",
        "# Predict on the test set\n",
        "X_test = embeddings\n",
        "svc_pred = svc.predict(X_test)\n",
        "\n",
        "\n",
        "print(svc_pred)\n"
      ],
      "id": "VYwkJIFbfdHw",
      "execution_count": 24,
      "outputs": [
        {
          "output_type": "stream",
          "text": [
            "['half-true' 'true' 'half-true' ... 'half-true' 'half-true' 'false']\n"
          ],
          "name": "stdout"
        }
      ]
    },
    {
      "cell_type": "code",
      "metadata": {
        "id": "artp3wiLGBwz",
        "colab": {
          "base_uri": "https://localhost:8080/"
        },
        "outputId": "d225c8c5-9a02-44cf-d7e2-40417a07d535"
      },
      "source": [
        "y_test = result['true']\n",
        "#print(y_test)\n",
        "# Evaluate performance\n",
        "print(\"svc accuracy linear:\" + str(accuracy_score(y_test,svc_pred)))\n",
        "\n",
        "from sklearn.metrics import precision_recall_fscore_support # nødvendig bibliotek\n",
        "\n",
        "# øvrig information:\n",
        "print('de øvrige for linear:', precision_recall_fscore_support(y_test,svc_pred))\n"
      ],
      "id": "artp3wiLGBwz",
      "execution_count": 25,
      "outputs": [
        {
          "output_type": "stream",
          "text": [
            "svc accuracy linear:0.2717219589257504\n",
            "de øvrige for linear: (array([0.23318386, 0.30291971, 0.25471698, 0.2699115 , 0.26086957,\n",
            "       0.30726257]), array([0.24528302, 0.33333333, 0.30566038, 0.25311203, 0.13043478,\n",
            "       0.26570048]), array([0.23908046, 0.31739962, 0.27787307, 0.26124197, 0.17391304,\n",
            "       0.28497409]), array([212, 249, 265, 241,  92, 207]))\n"
          ],
          "name": "stdout"
        }
      ]
    },
    {
      "cell_type": "code",
      "metadata": {
        "id": "YOx83O0sLxbZ",
        "colab": {
          "base_uri": "https://localhost:8080/"
        },
        "outputId": "9c0f0573-1660-40ad-f7bf-5af89d92bc75"
      },
      "source": [
        "'''\n",
        "Det kunne være interessant at se flere kernels, så vi prøver her på hhv. rbf og poly også.\n",
        "tilføjet 20210815\n",
        "'''\n",
        "\n",
        "# rbf regression model:\n",
        "\n",
        "svc_2 = SVC(kernel='rbf', C=100, gamma=0.1) #, epsilon=0.1) # rbf\n",
        "\n",
        "# Fit the model\n",
        "svc_2.fit(X_train,y_train)\n",
        "\n",
        "# Predict on the test set\n",
        "svc_pred_2 = svc_2.predict(X_test)\n",
        "\n",
        "# Evaluate performance\n",
        "print(\"svc accuracy rbf:\" + str(accuracy_score(y_test,svc_pred_2)))\n",
        "\n",
        "# øvrig information:\n",
        "print('de øvrige for rbf:', precision_recall_fscore_support(y_test,svc_pred_2))\n",
        "\n",
        "\n",
        "\n",
        "# poly regression model:\n",
        "\n",
        "svc_3 = SVC(kernel='poly', C=100, gamma='auto', degree=4, coef0=1) #, epsilon=0.1) # poly\n",
        "\n",
        "# Fit the model\n",
        "svc_3.fit(X_train,y_train)\n",
        "\n",
        "# Predict on the test set\n",
        "svc_pred_3 = svc_3.predict(X_test)\n",
        "\n",
        "# Evaluate performance\n",
        "print(\"svc accuracy poly:\" + str(accuracy_score(y_test,svc_pred_3)))\n",
        "\n",
        "# øvrig information:\n",
        "print('de øvrige for poly:', precision_recall_fscore_support(y_test,svc_pred_3))\n",
        "\n"
      ],
      "id": "YOx83O0sLxbZ",
      "execution_count": 26,
      "outputs": [
        {
          "output_type": "stream",
          "text": [
            "svc accuracy rbf:0.2693522906793049\n",
            "de øvrige for rbf: (array([0.25316456, 0.29370629, 0.24850299, 0.2688172 , 0.4       ,\n",
            "       0.26256983]), array([0.18867925, 0.3373494 , 0.31320755, 0.31120332, 0.13043478,\n",
            "       0.22705314]), array([0.21621622, 0.31401869, 0.27712855, 0.28846154, 0.19672131,\n",
            "       0.24352332]), array([212, 249, 265, 241,  92, 207]))\n",
            "svc accuracy poly:0.27330173775671407\n",
            "de øvrige for rbf: (array([0.24454148, 0.31851852, 0.25080386, 0.24255319, 0.3       ,\n",
            "       0.31677019]), array([0.26415094, 0.34538153, 0.29433962, 0.23651452, 0.19565217,\n",
            "       0.24637681]), array([0.25396825, 0.33140655, 0.27083333, 0.2394958 , 0.23684211,\n",
            "       0.27717391]), array([212, 249, 265, 241,  92, 207]))\n"
          ],
          "name": "stdout"
        }
      ]
    }
  ]
}