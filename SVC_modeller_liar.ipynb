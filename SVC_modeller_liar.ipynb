{
  "nbformat": 4,
  "nbformat_minor": 5,
  "metadata": {
    "kernelspec": {
      "display_name": "Python 3",
      "language": "python",
      "name": "python3"
    },
    "language_info": {
      "codemirror_mode": {
        "name": "ipython",
        "version": 3
      },
      "file_extension": ".py",
      "mimetype": "text/x-python",
      "name": "python",
      "nbconvert_exporter": "python",
      "pygments_lexer": "ipython3",
      "version": "3.8.3"
    },
    "colab": {
      "name": "liar_paa_baselines_10k.ipynb",
      "provenance": [],
      "collapsed_sections": [],
      "machine_shape": "hm"
    },
    "accelerator": "GPU"
  },
  "cells": [
    {
      "cell_type": "code",
      "metadata": {
        "id": "7xYkXFgjGExe",
        "colab": {
          "base_uri": "https://localhost:8080/"
        },
        "outputId": "c6ca1bdf-e219-4ad3-fea7-8b7618514983"
      },
      "source": [
        "from google.colab import drive\n",
        "drive.mount('/content/drive')"
      ],
      "id": "7xYkXFgjGExe",
      "execution_count": null,
      "outputs": [
        {
          "output_type": "stream",
          "text": [
            "Drive already mounted at /content/drive; to attempt to forcibly remount, call drive.mount(\"/content/drive\", force_remount=True).\n"
          ],
          "name": "stdout"
        }
      ]
    },
    {
      "cell_type": "code",
      "metadata": {
        "colab": {
          "base_uri": "https://localhost:8080/"
        },
        "id": "inqEjMWz-Cth",
        "outputId": "4c9e4574-cfc6-464f-e836-ca11969416c1"
      },
      "source": [
        "from io import BytesIO\n",
        "from zipfile import ZipFile\n",
        "from urllib.request import urlopen\n",
        "import csv\n",
        "import pandas as pd\n",
        "import numpy as np\n",
        "\n",
        "from collections import Counter\n",
        "\n",
        "#google halloej \n",
        "from google.colab import drive\n",
        "drive.mount('/content/drive')\n",
        "\n",
        "\n",
        "list=[]\n",
        "result = [list]\n",
        "articles ='/content/drive/MyDrive/Colab Notebooks/train.tsv'\n",
        "for chunk in pd.read_csv(articles, chunksize=10000,names=['the ID of the statement', \n",
        "                                                                                     'type',\n",
        "                                                                                     'content',\n",
        "                                                                                     'the subject(s)',\n",
        "                                                                                     'the speaker',\n",
        "                                                                                     \"the speaker's job title\",\n",
        "                                                                                     'the state info',\n",
        "                                                                                     'the party affiliation',\n",
        "                                                                                     'the total credit history count, including the current statement',\n",
        "                                                                                     'barely true counts',\n",
        "                                                                                     'false counts',\n",
        "                                                                                     'half true counts',\n",
        "                                                                                     'mostly true counts',\n",
        "                                                                                     'pants on fire counts',\n",
        "                                                                                     'the context (venue / location of the speech or statement)'], sep='\\t'):\n",
        "  result.append(chunk)\n",
        "\n",
        "\n",
        "\n",
        "#total = sum(result)\n",
        "\n",
        "\n",
        "#articles = df_1.fillna('a')\n",
        "\n",
        "#zipfile = ZipFile(BytesIO(resp.read()))\n",
        "#articles = pd.read_csv(zipfile.open(zipfile.namelist()[0]))\n",
        "\n",
        "# Subset for faster processing\n",
        "\n"
      ],
      "id": "inqEjMWz-Cth",
      "execution_count": null,
      "outputs": [
        {
          "output_type": "stream",
          "text": [
            "Drive already mounted at /content/drive; to attempt to forcibly remount, call drive.mount(\"/content/drive\", force_remount=True).\n"
          ],
          "name": "stdout"
        }
      ]
    },
    {
      "cell_type": "code",
      "metadata": {
        "id": "XeBvnN2S66pp"
      },
      "source": [
        "#print(len(result))\n",
        "#print(result[1])\n",
        "#print(result['content'])"
      ],
      "id": "XeBvnN2S66pp",
      "execution_count": null,
      "outputs": []
    },
    {
      "cell_type": "code",
      "metadata": {
        "id": "7j8rq-sr-Ctm"
      },
      "source": [
        ""
      ],
      "id": "7j8rq-sr-Ctm",
      "execution_count": null,
      "outputs": []
    },
    {
      "cell_type": "code",
      "metadata": {
        "id": "vkcFEW4dWf-7"
      },
      "source": [
        "#print(ubaad_new1) \n",
        "#print(ubaad_new2)\n",
        "\n",
        "\n",
        "t = range(0,200)\n",
        "pu = result[1]\n",
        "\n",
        "import itertools\n",
        "\n",
        "correct_next_element = 0\n",
        "\n",
        "#skifte element i result[i] \n",
        "new_List = (range(0,1001)) # Vi er sgu ikke helt sikre på det her \n",
        "list_cycle = itertools.cycle(new_List)\n",
        "next(list_cycle)\n",
        "\n",
        "#for i in result:\n",
        "\n",
        "#Gammelt stuff\n",
        "   #print(pu['type'])\n",
        "   #pu['label'] = 'real'\n",
        "   #pu.loc[pu['type'] == 'fake', 'label'] = 'fake'\n",
        "   \n",
        "#Hvad vi definerer som korrekte labels\n",
        "pu['label'] = 'fake'\n",
        "   #pu.loc[pu['type'] == 'real', 'label'] = 'real'\n",
        "pu.loc[pu['type'] == 'true', 'label'] = 'real'\n",
        "pu.loc[pu['type'] == 'barely-true', 'label'] = 'real'\n",
        "pu.loc[pu['type'] == 'half-true', 'label'] = 'real'\n",
        "pu.loc[pu['type'] == 'mostly-true', 'label'] = 'real'\n",
        "\n",
        "   #pu[col2] = 'fake'\n",
        "   #pu.loc[pu[col2] == 'barely true', col2] = 'real'\n",
        "   #pu.loc[pu[col2] == 'half true', col2] = 'real'\n",
        "   #pu.loc[pu[col2] == 'mostly true', col2] = 'real'\n",
        "   #pu.loc[pu[col2] == 'pants on fire', col2] = 'fake'\n",
        "   \n",
        "\n",
        "#Andet gammelt stugff\n",
        "   #pu = result[w]\n",
        "   #pu2 = result[w + 1]\n",
        "\n",
        "#skifte element i result[i]\n",
        " #  next_element = next(list_cycle)\n",
        "   #print(next_element)\n",
        "#correct_next_element = next_element\n",
        "   #print(correct_next_element)\n",
        "\n",
        "#   pu = result[correct_next_element]\n",
        "  # print(pu)\n",
        "\n",
        "#print(result[2]['label'])\n",
        "\n",
        "\n"
      ],
      "id": "vkcFEW4dWf-7",
      "execution_count": null,
      "outputs": []
    },
    {
      "cell_type": "code",
      "metadata": {
        "id": "9Aa7jQE5cAZ9"
      },
      "source": [
        "#print(result[1]['content'])\n",
        "#type(pu)"
      ],
      "id": "9Aa7jQE5cAZ9",
      "execution_count": null,
      "outputs": []
    },
    {
      "cell_type": "markdown",
      "metadata": {
        "id": "nZD6Y9LD-Ctn"
      },
      "source": [
        "# tf-idf"
      ],
      "id": "nZD6Y9LD-Ctn"
    },
    {
      "cell_type": "code",
      "metadata": {
        "colab": {
          "base_uri": "https://localhost:8080/"
        },
        "id": "-FLpPzBp-Cto",
        "outputId": "644b1d9c-f2d6-42a2-f1f8-6d9f73db44c2"
      },
      "source": [
        "# Import Tfidf vectorizer from sklearn and apply the vectorizer\n",
        "from sklearn.feature_extraction.text import TfidfVectorizer\n",
        "\n",
        "#lol = result[2]\n",
        "vector_result = [list]\n",
        "\n",
        "\n",
        "\n",
        "#skifte element i result[i]\n",
        "new_List3 = (range(0,1001))\n",
        "list_cycle3 = itertools.cycle(new_List3)\n",
        "next(list_cycle3)\n",
        "correct_next_element3 = 0\n",
        "\n",
        "puuuu = result[1]\n",
        "\n",
        "for i in result: \n",
        "   puuuu.fillna('a')\n",
        "\n",
        "#skifte element i result[i]\n",
        "   next_element3 = next(list_cycle3)\n",
        "   #print(next_element3)\n",
        "   correct_next_element3 = next_element3\n",
        "   #print(correct_next_element3)\n",
        "   \n",
        "  # puuuu = result[correct_next_element3]\n",
        "   print(puuuu)\n",
        "\n",
        "#puuu = result[1]\n",
        "\n",
        "#skifte element i result[i]\n",
        "new_List2 = (range(0,1001))\n",
        "list_cycle2 = itertools.cycle(new_List)\n",
        "next(list_cycle2)\n",
        "correct_next_element2 = 0\n",
        "\n"
      ],
      "id": "-FLpPzBp-Cto",
      "execution_count": null,
      "outputs": [
        {
          "output_type": "stream",
          "text": [
            "     the ID of the statement  ... label\n",
            "0                  2635.json  ...  fake\n",
            "1                 10540.json  ...  real\n",
            "2                   324.json  ...  real\n",
            "3                  1123.json  ...  fake\n",
            "4                  9028.json  ...  real\n",
            "...                      ...  ...   ...\n",
            "9995              10759.json  ...  real\n",
            "9996               6907.json  ...  real\n",
            "9997               4341.json  ...  real\n",
            "9998               6550.json  ...  fake\n",
            "9999              13341.json  ...  real\n",
            "\n",
            "[10000 rows x 16 columns]\n",
            "     the ID of the statement  ... label\n",
            "0                  2635.json  ...  fake\n",
            "1                 10540.json  ...  real\n",
            "2                   324.json  ...  real\n",
            "3                  1123.json  ...  fake\n",
            "4                  9028.json  ...  real\n",
            "...                      ...  ...   ...\n",
            "9995              10759.json  ...  real\n",
            "9996               6907.json  ...  real\n",
            "9997               4341.json  ...  real\n",
            "9998               6550.json  ...  fake\n",
            "9999              13341.json  ...  real\n",
            "\n",
            "[10000 rows x 16 columns]\n",
            "     the ID of the statement  ... label\n",
            "0                  2635.json  ...  fake\n",
            "1                 10540.json  ...  real\n",
            "2                   324.json  ...  real\n",
            "3                  1123.json  ...  fake\n",
            "4                  9028.json  ...  real\n",
            "...                      ...  ...   ...\n",
            "9995              10759.json  ...  real\n",
            "9996               6907.json  ...  real\n",
            "9997               4341.json  ...  real\n",
            "9998               6550.json  ...  fake\n",
            "9999              13341.json  ...  real\n",
            "\n",
            "[10000 rows x 16 columns]\n"
          ],
          "name": "stdout"
        }
      ]
    },
    {
      "cell_type": "code",
      "metadata": {
        "id": "UPQufJ0yYFTL"
      },
      "source": [
        "# tilføjet deadline dag\n",
        "#skifte element i result[i]\n",
        "new_List2 = (range(0,1001))\n",
        "list_cycle2 = itertools.cycle(new_List)\n",
        "next(list_cycle2)\n",
        "correct_next_element2 = 0\n"
      ],
      "id": "UPQufJ0yYFTL",
      "execution_count": null,
      "outputs": []
    },
    {
      "cell_type": "code",
      "metadata": {
        "colab": {
          "base_uri": "https://localhost:8080/"
        },
        "id": "Wtk0lvDVDkcZ",
        "outputId": "0bdaf0fe-69d9-4b3d-c5ea-67742bbe284d"
      },
      "source": [
        "puuu = result[1] # hvad sker der, hvis vi sætter til: \"puuu = result\" (altså uden \"[1]\")?\n",
        "\n",
        "for i in result: # opfattes stadigvæk som 1 mio. elementer her, antager vi (?) 202106162326\n",
        "\n",
        "    content = puuu['content']\n",
        "    \n",
        "    vect = TfidfVectorizer()\n",
        "    #print(content)\n",
        "    content_tfidf = vect.fit_transform(content.values.astype('U'))\n",
        "    vector_result.append(content_tfidf ) \n",
        "\n",
        "#skifte element i result[i]\n",
        "    next_element2 = next(list_cycle2)\n",
        "    #print(next_element2)\n",
        "    correct_next_element2 = next_element2\n",
        "    #print(correct_next_element2)\n",
        "   \n",
        "    #puuu = result[correct_next_element2]\n",
        "    print(puuu)\n"
      ],
      "id": "Wtk0lvDVDkcZ",
      "execution_count": null,
      "outputs": [
        {
          "output_type": "stream",
          "text": [
            "     the ID of the statement  ... label\n",
            "0                  2635.json  ...  fake\n",
            "1                 10540.json  ...  real\n",
            "2                   324.json  ...  real\n",
            "3                  1123.json  ...  fake\n",
            "4                  9028.json  ...  real\n",
            "...                      ...  ...   ...\n",
            "9995              10759.json  ...  real\n",
            "9996               6907.json  ...  real\n",
            "9997               4341.json  ...  real\n",
            "9998               6550.json  ...  fake\n",
            "9999              13341.json  ...  real\n",
            "\n",
            "[10000 rows x 16 columns]\n",
            "     the ID of the statement  ... label\n",
            "0                  2635.json  ...  fake\n",
            "1                 10540.json  ...  real\n",
            "2                   324.json  ...  real\n",
            "3                  1123.json  ...  fake\n",
            "4                  9028.json  ...  real\n",
            "...                      ...  ...   ...\n",
            "9995              10759.json  ...  real\n",
            "9996               6907.json  ...  real\n",
            "9997               4341.json  ...  real\n",
            "9998               6550.json  ...  fake\n",
            "9999              13341.json  ...  real\n",
            "\n",
            "[10000 rows x 16 columns]\n",
            "     the ID of the statement  ... label\n",
            "0                  2635.json  ...  fake\n",
            "1                 10540.json  ...  real\n",
            "2                   324.json  ...  real\n",
            "3                  1123.json  ...  fake\n",
            "4                  9028.json  ...  real\n",
            "...                      ...  ...   ...\n",
            "9995              10759.json  ...  real\n",
            "9996               6907.json  ...  real\n",
            "9997               4341.json  ...  real\n",
            "9998               6550.json  ...  fake\n",
            "9999              13341.json  ...  real\n",
            "\n",
            "[10000 rows x 16 columns]\n"
          ],
          "name": "stdout"
        }
      ]
    },
    {
      "cell_type": "code",
      "metadata": {
        "id": "JeniIUJ_B4EW"
      },
      "source": [
        ""
      ],
      "id": "JeniIUJ_B4EW",
      "execution_count": null,
      "outputs": []
    },
    {
      "cell_type": "code",
      "metadata": {
        "id": "a6NJiBJw-Cto"
      },
      "source": [
        "# How the tfidf looks like visually\n",
        "# Every article is shown as a length-of-vocab sized vector\n",
        "\n",
        "#content_tfidf_df = pd.DataFrame(content_tfidf.todense(),columns = vect.get_feature_names())\n",
        "\n",
        "# Sort columns so high-ranking words appear first\n",
        "\n",
        "#content_tfidf_df[content_tfidf_df.sum().sort_values(ascending=False).index]"
      ],
      "id": "a6NJiBJw-Cto",
      "execution_count": null,
      "outputs": []
    },
    {
      "cell_type": "code",
      "metadata": {
        "colab": {
          "base_uri": "https://localhost:8080/"
        },
        "id": "cYRgSxpK2cA5",
        "outputId": "6b7738ce-d84b-489f-9a10-e00a8e621ac5"
      },
      "source": [
        "#result[1]['label']\n",
        "\n",
        "print(vector_result[1])\n"
      ],
      "id": "cYRgSxpK2cA5",
      "execution_count": null,
      "outputs": [
        {
          "output_type": "stream",
          "text": [
            "  (0, 3244)\t0.33930773266621556\n",
            "  (0, 7644)\t0.13482549606216945\n",
            "  (0, 609)\t0.2890194666264252\n",
            "  (0, 11173)\t0.4083420044183493\n",
            "  (0, 10917)\t0.27560904640756057\n",
            "  (0, 10594)\t0.2665459026868833\n",
            "  (0, 5063)\t0.29226048079575395\n",
            "  (0, 8284)\t0.28408983168889124\n",
            "  (0, 6568)\t0.3233235239781185\n",
            "  (0, 1036)\t0.42651271983831457\n",
            "  (0, 10869)\t0.06796604473086926\n",
            "  (0, 9572)\t0.11052616486778716\n",
            "  (1, 743)\t0.1836335368049819\n",
            "  (1, 1943)\t0.26300727578534117\n",
            "  (1, 4861)\t0.20272627354766404\n",
            "  (1, 8462)\t0.13811840430576008\n",
            "  (1, 5631)\t0.06818277149570759\n",
            "  (1, 1520)\t0.27317990113225377\n",
            "  (1, 10991)\t0.07303639729469226\n",
            "  (1, 10861)\t0.10040940429621856\n",
            "  (1, 7591)\t0.19388430726865843\n",
            "  (1, 11019)\t0.18458287304232707\n",
            "  (1, 4811)\t0.2052233566924553\n",
            "  (1, 7337)\t0.2551167745568384\n",
            "  (1, 10314)\t0.45946698439458167\n",
            "  :\t:\n",
            "  (9998, 6619)\t0.18177325189685997\n",
            "  (9998, 4972)\t0.13915596688143336\n",
            "  (9998, 11846)\t0.11474661230135527\n",
            "  (9998, 10883)\t0.11468300431857957\n",
            "  (9998, 5360)\t0.11344052084512933\n",
            "  (9998, 6701)\t0.15103412374086397\n",
            "  (9998, 4979)\t0.1402510615366283\n",
            "  (9998, 1011)\t0.06760037346840504\n",
            "  (9998, 5246)\t0.22035408246663304\n",
            "  (9998, 5213)\t0.08642903555391107\n",
            "  (9998, 5954)\t0.07835559349149436\n",
            "  (9998, 1968)\t0.09831381028052218\n",
            "  (9998, 10861)\t0.236521745276402\n",
            "  (9998, 5992)\t0.1018406745455485\n",
            "  (9998, 7589)\t0.055500798423153995\n",
            "  (9998, 10869)\t0.0421084386655835\n",
            "  (9998, 9572)\t0.06847660846981087\n",
            "  (9999, 3288)\t0.49386110758918855\n",
            "  (9999, 86)\t0.39605514040655165\n",
            "  (9999, 5278)\t0.49386110758918855\n",
            "  (9999, 3615)\t0.32788161714598046\n",
            "  (9999, 11203)\t0.3242817136302172\n",
            "  (9999, 8062)\t0.2401686923425294\n",
            "  (9999, 7058)\t0.24878233628675553\n",
            "  (9999, 9572)\t0.1520003364867197\n"
          ],
          "name": "stdout"
        }
      ]
    },
    {
      "cell_type": "markdown",
      "metadata": {
        "id": "mhGLloTm-Ctp"
      },
      "source": [
        "# Training a classifier"
      ],
      "id": "mhGLloTm-Ctp"
    },
    {
      "cell_type": "markdown",
      "metadata": {
        "id": "VYQLkUKn-Ctq"
      },
      "source": [
        "### Split the data into training, validation and testing sets"
      ],
      "id": "VYQLkUKn-Ctq"
    },
    {
      "cell_type": "code",
      "metadata": {
        "id": "dbJptRo83BcN"
      },
      "source": [
        "# debugger (bør fjernes) 202106170925\n",
        "#vector_result[234].shape\n",
        "#type(result[342])\n",
        "#len(vector_result)"
      ],
      "id": "dbJptRo83BcN",
      "execution_count": null,
      "outputs": []
    },
    {
      "cell_type": "code",
      "metadata": {
        "id": "yhQtELaPzHCR"
      },
      "source": [
        "# debugger (bør fjernes)\n",
        "\n",
        "#from itertools import chain\n",
        "\n",
        "#odd = [1, 3, 5, 7, 9]\n",
        " \n",
        "# a list of even numbers\n",
        "#even = [2, 4, 6, 8, 10]\n",
        " \n",
        "\n",
        "# chaining odd and even numbers\n",
        "#master_list = [\n",
        "#liste[1] = [1,2,3]\n",
        "#liste[2] = [4,5,6]\n",
        "#liste[3] = [7,8,9]\n",
        "\n",
        "#for q in range(0,3):\n",
        "# out = list(chain(liste[i],liste[i+1]))\n",
        "\n",
        "#numbers = list(chain(odd, even))\n",
        "#print(out)\n",
        "\n",
        "#concatenated_test = pd.concat([result[1], result[2], result[3]], axis=0)\n",
        "#concatenated_test.head\n",
        "\n",
        "#type(vector_result_1_test)\n",
        "#type(result)\n",
        "#type(result[1])\n"
      ],
      "id": "yhQtELaPzHCR",
      "execution_count": null,
      "outputs": []
    },
    {
      "cell_type": "code",
      "metadata": {
        "id": "x_9b-Y-aXd8i"
      },
      "source": [
        "from sklearn.model_selection import train_test_split\n",
        "\n",
        "sum_y_train = []\n",
        "sum_y_val = []\n",
        "sum_y_test = []\n",
        "\n",
        "# Sektion til at placere 1000 lister af lister fra henholdsvis vector_result listen samt result listen, \n",
        "# i hver sin samlede liste. \n",
        "\n",
        "#skifte element i result[i]\n",
        "correct_next_element11 = 0\n",
        "new_List11 = (range(0,1001))\n",
        "list_cycle11 = itertools.cycle(new_List11)\n",
        "next(list_cycle11)\n",
        " \n",
        "\n",
        "correct_next_element12 = 0\n",
        "new_List12 = (range(0,1001))\n",
        "list_cycle12 = itertools.cycle(new_List12)\n",
        "next(list_cycle12)\n",
        "\n",
        "#tomme lister til endelige resultater  \n",
        "vector_result_1_test = []\n",
        "vector_result_til_training = []\n",
        "result_til_training = []\n",
        "\n",
        "#variable til loops \n",
        "solskin = vector_result[1]\n",
        "regnvejr = []\n",
        "\n",
        "tekop = result[1]\n",
        "tekande = []\n",
        "\n",
        "#forloop til at samle vector-result listen \n",
        "\n",
        "\n"
      ],
      "id": "x_9b-Y-aXd8i",
      "execution_count": null,
      "outputs": []
    },
    {
      "cell_type": "code",
      "metadata": {
        "id": "0YBSYeT8XgLP"
      },
      "source": [
        "#for i in vector_result: \n",
        "#while correct_next_element11 < 10:\n",
        "regnvejr = pd.DataFrame.sparse.from_spmatrix(solskin) #regnvejr.append(pd.DataFrame.sparse.from_spmatrix(solskin))\n",
        "\n",
        "\n",
        "#skifte element i vector_result[i]\n",
        "#next_element11 = next(list_cycle11)\n",
        "#print(next_element11)\n",
        "#correct_next_element11 = next_element11\n",
        "#print(correct_next_element2)\n",
        "\n",
        "#solskin = vector_result[correct_next_element11]\n",
        "#print(correct_next_element11)\n",
        "\n",
        "vector_result_til_training = regnvejr #pd.concat(regnvejr, axis=0)\n",
        "\n"
      ],
      "id": "0YBSYeT8XgLP",
      "execution_count": null,
      "outputs": []
    },
    {
      "cell_type": "code",
      "metadata": {
        "id": "j7kAXab4ptZm"
      },
      "source": [
        ""
      ],
      "id": "j7kAXab4ptZm",
      "execution_count": null,
      "outputs": []
    },
    {
      "cell_type": "code",
      "metadata": {
        "id": "iDLEB8JwXlGU"
      },
      "source": [
        "\n",
        "#forloop til at samle result listen \n",
        "#for i in result: \n",
        "#    while correct_next_element12 < 10:\n",
        "#      tekande.append(tekop)\n",
        "\n",
        "      #skifte element i vector_result[i]\n",
        "#      next_element12 = next(list_cycle12)\n",
        "      #print(next_element12)\n",
        "#      correct_next_element12 = next_element12\n",
        "      #print(correct_next_element12)\n",
        "   \n",
        "#      tekop = result[correct_next_element12]\n",
        "#      print(correct_next_element12)\n",
        "\n",
        "\n",
        "#result_til_training = pd.concat(tekande, axis=0)\n",
        "result_til_training = tekop"
      ],
      "id": "iDLEB8JwXlGU",
      "execution_count": null,
      "outputs": []
    },
    {
      "cell_type": "code",
      "metadata": {
        "colab": {
          "base_uri": "https://localhost:8080/"
        },
        "id": "dqjEH5WXeVSf",
        "outputId": "6ef18555-90b3-4cd5-ba56-efc358aa8b54"
      },
      "source": [
        "#result_til_training.shape\n",
        "type(result_til_training)"
      ],
      "id": "dqjEH5WXeVSf",
      "execution_count": null,
      "outputs": [
        {
          "output_type": "execute_result",
          "data": {
            "text/plain": [
              "pandas.core.frame.DataFrame"
            ]
          },
          "metadata": {
            "tags": []
          },
          "execution_count": 16
        }
      ]
    },
    {
      "cell_type": "code",
      "metadata": {
        "id": "qJ8dx-uTefjv"
      },
      "source": [
        "#vector_result_til_training.shape\n",
        "#result_TEST.shape\n"
      ],
      "id": "qJ8dx-uTefjv",
      "execution_count": null,
      "outputs": []
    },
    {
      "cell_type": "code",
      "metadata": {
        "id": "_46juXbE-Ctq"
      },
      "source": [
        "\n",
        "\n",
        "#Selve træningsdelen \n",
        "#vector_result_til_training = vector_result_til_training.fillna(0)\n",
        "#result_til_training = result_til_training.fillna(0)\n",
        "\n",
        "vector_result_TRAIN = vector_result_til_training #+ vector_result[2] #+ vector_result[3] + vector_result[4] + vector_result[5]\n",
        "result_TEST = result_til_training #+ result[2] #+ result[3] + result[4] + result[5]\n",
        "\n",
        "# ___________________________________\n",
        "# Vi har udkommenteret vector_result_TRAIN og result_TEST\n",
        "\n",
        "#vector_result_TRAIN = vector_result[1] #+ vector_result[2] #+ vector_result[3] + vector_result[4] + vector_result[5]\n",
        "#result_TEST = result[1] #+ result[2] #+ result[3] + result[4] + result[5]\n",
        "#print(vector_result_TRAIN.shape)\n",
        "\n",
        "#for i in result: \n",
        "X_train, X_test, y_train, y_test = train_test_split(\n",
        " vector_result_TRAIN , result_TEST['label'], test_size=0.40, random_state=42)\n",
        " #vector_result_TRAIN , result_TEST, test_size=0.40, random_state=42)\n",
        "\n",
        "\n",
        "# Use the 40% test set to split further into test and validation set with 50/50 split\n",
        "X_test, X_val, y_test, y_val = train_test_split(X_test, y_test, test_size=0.50, random_state=42)\n",
        "#hjælp: train_test_split(data[features], data[labels], test_size=0.20, shuffle=True,stratify=data[labels])\n",
        "\n",
        "\n",
        "\n",
        "#print(len(y_train))\n",
        "#print(len(y_val))\n",
        "#print(len(y_test))\n",
        "\n",
        "sum_y_train.append(len(y_train))\n",
        "sum_y_val.append(len(y_val))\n",
        "sum_y_test.append(len(y_test))"
      ],
      "id": "_46juXbE-Ctq",
      "execution_count": null,
      "outputs": []
    },
    {
      "cell_type": "code",
      "metadata": {
        "id": "j6xKVHCSM4uu"
      },
      "source": [
        "#y_train = y_train.fillna(0)\n",
        "#y_train.value_counts()"
      ],
      "id": "j6xKVHCSM4uu",
      "execution_count": null,
      "outputs": []
    },
    {
      "cell_type": "code",
      "metadata": {
        "id": "XtI6XUV_fZzl",
        "colab": {
          "base_uri": "https://localhost:8080/"
        },
        "outputId": "3537ec78-a3c8-4329-f981-3b2e1783679b"
      },
      "source": [
        "# Til at fille med 0\n",
        "\n",
        "y_train = y_train.fillna(0)\n",
        "X_train = X_train.fillna(0)\n",
        "X_test = X_test.fillna(0)\n",
        "y_test = y_test.fillna(0)\n",
        "\n",
        "#y_train.shape\n",
        "#print(y_train.fillna('a'))\n",
        "#missing2 = y_train.value_counts()\n",
        "#print(missing2)\n",
        "print(X_train.shape)\n",
        "print(y_train.shape)\n",
        "print(X_test.shape)\n",
        "print(y_test.shape)"
      ],
      "id": "XtI6XUV_fZzl",
      "execution_count": null,
      "outputs": [
        {
          "output_type": "stream",
          "text": [
            "(6000, 12056)\n",
            "(6000,)\n",
            "(2000, 12056)\n",
            "(2000,)\n"
          ],
          "name": "stdout"
        }
      ]
    },
    {
      "cell_type": "code",
      "metadata": {
        "id": "BjrRjKHxuOAb"
      },
      "source": [
        "#y_train = y_train.to_frame()"
      ],
      "id": "BjrRjKHxuOAb",
      "execution_count": null,
      "outputs": []
    },
    {
      "cell_type": "code",
      "metadata": {
        "id": "LKVWGQtdKqdw",
        "colab": {
          "base_uri": "https://localhost:8080/"
        },
        "outputId": "f4072f41-cbb8-42e8-d46b-c905660eac5c"
      },
      "source": [
        "print(sum_y_train)\n",
        "print(sum_y_val)\n",
        "print(sum_y_test)"
      ],
      "id": "LKVWGQtdKqdw",
      "execution_count": null,
      "outputs": [
        {
          "output_type": "stream",
          "text": [
            "[6000]\n",
            "[2000]\n",
            "[2000]\n"
          ],
          "name": "stdout"
        }
      ]
    },
    {
      "cell_type": "code",
      "metadata": {
        "colab": {
          "base_uri": "https://localhost:8080/"
        },
        "id": "sAVZ7TnqpTxY",
        "outputId": "d107f525-0f66-4d0d-c189-3f67d4be7c3f"
      },
      "source": [
        "#type(y_train.to_frame())\n",
        "type(X_train)"
      ],
      "id": "sAVZ7TnqpTxY",
      "execution_count": null,
      "outputs": [
        {
          "output_type": "execute_result",
          "data": {
            "text/plain": [
              "pandas.core.frame.DataFrame"
            ]
          },
          "metadata": {
            "tags": []
          },
          "execution_count": 23
        }
      ]
    },
    {
      "cell_type": "code",
      "metadata": {
        "id": "_H9UEP3G-Ctr",
        "colab": {
          "base_uri": "https://localhost:8080/"
        },
        "outputId": "0857708c-5710-44a8-8662-7439baabbe95"
      },
      "source": [
        "from sklearn.svm import SVC\n",
        "from sklearn.metrics import accuracy_score\n",
        "\n",
        "# Define the classifier classes\n",
        "svc = SVC(kernel='linear') # Linear reg\n",
        "\n",
        "# .values.astype('U')\n",
        "\n",
        "# Fit the model\n",
        "svc.fit(X_train,y_train)\n",
        "\n",
        "# Predict on the test set\n",
        "svc_pred = svc.predict(X_test)\n",
        "\n",
        "# Evaluate performance\n",
        "print(\"svc accuracy:\" + str(accuracy_score(y_test,svc_pred)))"
      ],
      "id": "_H9UEP3G-Ctr",
      "execution_count": null,
      "outputs": [
        {
          "output_type": "stream",
          "text": [
            "svc accuracy:0.717\n"
          ],
          "name": "stdout"
        }
      ]
    },
    {
      "cell_type": "code",
      "metadata": {
        "colab": {
          "base_uri": "https://localhost:8080/"
        },
        "id": "uYsSltFPYwiJ",
        "outputId": "285bad0e-7e2d-4c1b-807d-09de45e6da2b"
      },
      "source": [
        "type(X_train)\n",
        "type(y_train)"
      ],
      "id": "uYsSltFPYwiJ",
      "execution_count": null,
      "outputs": [
        {
          "output_type": "execute_result",
          "data": {
            "text/plain": [
              "pandas.core.series.Series"
            ]
          },
          "metadata": {
            "tags": []
          },
          "execution_count": 25
        }
      ]
    },
    {
      "cell_type": "code",
      "metadata": {
        "colab": {
          "base_uri": "https://localhost:8080/"
        },
        "id": "uC12kSiTLL8f",
        "outputId": "d859e630-20a1-4ac3-b3a6-653a72d2e66d"
      },
      "source": [
        "from sklearn.metrics import precision_recall_fscore_support\n",
        "print(precision_recall_fscore_support(y_test,svc_pred))"
      ],
      "id": "uC12kSiTLL8f",
      "execution_count": null,
      "outputs": [
        {
          "output_type": "stream",
          "text": [
            "(array([0.4787234 , 0.72875131]), array([0.08007117, 0.9659249 ]), array([0.13719512, 0.83074163]), array([ 562, 1438]))\n"
          ],
          "name": "stdout"
        }
      ]
    },
    {
      "cell_type": "code",
      "metadata": {
        "id": "RVwLgcaz5MKM",
        "colab": {
          "base_uri": "https://localhost:8080/"
        },
        "outputId": "dc1eb8e1-1cc4-492d-ec3d-a5cefdc69148"
      },
      "source": [
        "# rbf regression model:\n",
        "\n",
        "svc_2 = SVC(kernel='rbf', C=100, gamma=0.1) #, epsilon=0.1) # rbf\n",
        "\n",
        "# Fit the model\n",
        "svc_2.fit(X_train,y_train)\n",
        "\n",
        "# Predict on the test set\n",
        "svc_pred_2 = svc_2.predict(X_test)\n",
        "\n",
        "# Evaluate performance\n",
        "print(\"svc accuracy:\" + str(accuracy_score(y_test,svc_pred_2)))"
      ],
      "id": "RVwLgcaz5MKM",
      "execution_count": null,
      "outputs": [
        {
          "output_type": "stream",
          "text": [
            "svc accuracy:0.661\n"
          ],
          "name": "stdout"
        }
      ]
    },
    {
      "cell_type": "code",
      "metadata": {
        "colab": {
          "base_uri": "https://localhost:8080/"
        },
        "id": "YAlzbhDIUfy0",
        "outputId": "9af5f71b-0b10-44af-c431-f0f9e8db3d34"
      },
      "source": [
        "from sklearn.metrics import precision_recall_fscore_support\n",
        "print(precision_recall_fscore_support(y_test,svc_pred_2))"
      ],
      "id": "YAlzbhDIUfy0",
      "execution_count": null,
      "outputs": [
        {
          "output_type": "stream",
          "text": [
            "(array([0.38211382, 0.75198939]), array([0.33451957, 0.78859527]), array([0.35673624, 0.76985743]), array([ 562, 1438]))\n"
          ],
          "name": "stdout"
        }
      ]
    },
    {
      "cell_type": "code",
      "metadata": {
        "id": "pyHVKw8--B6d",
        "colab": {
          "base_uri": "https://localhost:8080/"
        },
        "outputId": "be313e56-461d-4cb7-c9df-a242b5ebf664"
      },
      "source": [
        "# poly regression model:\n",
        "\n",
        "svc_3 = SVC(kernel='poly', C=100, gamma='auto', degree=4, coef0=1) #, epsilon=0.1) # poly\n",
        "\n",
        "# Fit the model\n",
        "svc_3.fit(X_train,y_train)\n",
        "\n",
        "# Predict on the test set\n",
        "svc_pred_3 = svc_3.predict(X_test)\n",
        "\n",
        "# Evaluate performance\n",
        "print(\"svc accuracy:\" + str(accuracy_score(y_test,svc_pred_3)))"
      ],
      "id": "pyHVKw8--B6d",
      "execution_count": null,
      "outputs": [
        {
          "output_type": "stream",
          "text": [
            "svc accuracy:0.719\n"
          ],
          "name": "stdout"
        }
      ]
    },
    {
      "cell_type": "code",
      "metadata": {
        "colab": {
          "base_uri": "https://localhost:8080/"
        },
        "id": "xOOhqLSiU-TX",
        "outputId": "7de188cb-be42-4f39-98ee-b59352095873"
      },
      "source": [
        "from sklearn.metrics import precision_recall_fscore_support\n",
        "print(precision_recall_fscore_support(y_test,svc_pred_3,zero_division='warn')) # noget her ser sjovt ud, virker ikke med 0 eller 1"
      ],
      "id": "xOOhqLSiU-TX",
      "execution_count": null,
      "outputs": [
        {
          "output_type": "stream",
          "text": [
            "(array([0.   , 0.719]), array([0., 1.]), array([0.        , 0.83653287]), array([ 562, 1438]))\n"
          ],
          "name": "stdout"
        },
        {
          "output_type": "stream",
          "text": [
            "/usr/local/lib/python3.7/dist-packages/sklearn/metrics/_classification.py:1272: UndefinedMetricWarning: Precision and F-score are ill-defined and being set to 0.0 in labels with no predicted samples. Use `zero_division` parameter to control this behavior.\n",
            "  _warn_prf(average, modifier, msg_start, len(result))\n"
          ],
          "name": "stderr"
        }
      ]
    }
  ]
}