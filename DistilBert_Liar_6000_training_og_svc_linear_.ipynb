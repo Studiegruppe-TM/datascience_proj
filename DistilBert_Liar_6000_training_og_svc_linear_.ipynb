{
  "nbformat": 4,
  "nbformat_minor": 5,
  "metadata": {
    "kernelspec": {
      "display_name": "Python 3",
      "language": "python",
      "name": "python3"
    },
    "language_info": {
      "codemirror_mode": {
        "name": "ipython",
        "version": 3
      },
      "file_extension": ".py",
      "mimetype": "text/x-python",
      "name": "python",
      "nbconvert_exporter": "python",
      "pygments_lexer": "ipython3",
      "version": "3.8.3"
    },
    "colab": {
      "name": "DistilBert Liar 6000 training og svc linear .ipynb",
      "provenance": [],
      "collapsed_sections": [],
      "machine_shape": "hm",
      "include_colab_link": true
    },
    "accelerator": "GPU",
    "widgets": {
      "application/vnd.jupyter.widget-state+json": {
        "413d9b05ccd042d69bbafdd213f52a03": {
          "model_module": "@jupyter-widgets/controls",
          "model_name": "HBoxModel",
          "model_module_version": "1.5.0",
          "state": {
            "_view_name": "HBoxView",
            "_dom_classes": [],
            "_model_name": "HBoxModel",
            "_view_module": "@jupyter-widgets/controls",
            "_model_module_version": "1.5.0",
            "_view_count": null,
            "_view_module_version": "1.5.0",
            "box_style": "",
            "layout": "IPY_MODEL_66dc2355ea574ba2a219f62e2bdfc316",
            "_model_module": "@jupyter-widgets/controls",
            "children": [
              "IPY_MODEL_12778dfe647f44af82beceb3c00e4ca0",
              "IPY_MODEL_c28af932f7aa4966964fc6e5d9b4b897",
              "IPY_MODEL_7b8e30bf88814514b380537268f56bd6"
            ]
          }
        },
        "66dc2355ea574ba2a219f62e2bdfc316": {
          "model_module": "@jupyter-widgets/base",
          "model_name": "LayoutModel",
          "model_module_version": "1.2.0",
          "state": {
            "_view_name": "LayoutView",
            "grid_template_rows": null,
            "right": null,
            "justify_content": null,
            "_view_module": "@jupyter-widgets/base",
            "overflow": null,
            "_model_module_version": "1.2.0",
            "_view_count": null,
            "flex_flow": null,
            "width": null,
            "min_width": null,
            "border": null,
            "align_items": null,
            "bottom": null,
            "_model_module": "@jupyter-widgets/base",
            "top": null,
            "grid_column": null,
            "overflow_y": null,
            "overflow_x": null,
            "grid_auto_flow": null,
            "grid_area": null,
            "grid_template_columns": null,
            "flex": null,
            "_model_name": "LayoutModel",
            "justify_items": null,
            "grid_row": null,
            "max_height": null,
            "align_content": null,
            "visibility": null,
            "align_self": null,
            "height": null,
            "min_height": null,
            "padding": null,
            "grid_auto_rows": null,
            "grid_gap": null,
            "max_width": null,
            "order": null,
            "_view_module_version": "1.2.0",
            "grid_template_areas": null,
            "object_position": null,
            "object_fit": null,
            "grid_auto_columns": null,
            "margin": null,
            "display": null,
            "left": null
          }
        },
        "12778dfe647f44af82beceb3c00e4ca0": {
          "model_module": "@jupyter-widgets/controls",
          "model_name": "HTMLModel",
          "model_module_version": "1.5.0",
          "state": {
            "_view_name": "HTMLView",
            "style": "IPY_MODEL_e3c25ef16d5a450c8173b4af9adeb03e",
            "_dom_classes": [],
            "description": "",
            "_model_name": "HTMLModel",
            "placeholder": "​",
            "_view_module": "@jupyter-widgets/controls",
            "_model_module_version": "1.5.0",
            "value": "Downloading: 100%",
            "_view_count": null,
            "_view_module_version": "1.5.0",
            "description_tooltip": null,
            "_model_module": "@jupyter-widgets/controls",
            "layout": "IPY_MODEL_37cb1787d62b4ddfb66268d2d5d33a78"
          }
        },
        "c28af932f7aa4966964fc6e5d9b4b897": {
          "model_module": "@jupyter-widgets/controls",
          "model_name": "FloatProgressModel",
          "model_module_version": "1.5.0",
          "state": {
            "_view_name": "ProgressView",
            "style": "IPY_MODEL_fa4b4124aff444e6afc285937460d2c6",
            "_dom_classes": [],
            "description": "",
            "_model_name": "FloatProgressModel",
            "bar_style": "success",
            "max": 231508,
            "_view_module": "@jupyter-widgets/controls",
            "_model_module_version": "1.5.0",
            "value": 231508,
            "_view_count": null,
            "_view_module_version": "1.5.0",
            "orientation": "horizontal",
            "min": 0,
            "description_tooltip": null,
            "_model_module": "@jupyter-widgets/controls",
            "layout": "IPY_MODEL_9b873046b62f4a3abc0ef29ecee84fe8"
          }
        },
        "7b8e30bf88814514b380537268f56bd6": {
          "model_module": "@jupyter-widgets/controls",
          "model_name": "HTMLModel",
          "model_module_version": "1.5.0",
          "state": {
            "_view_name": "HTMLView",
            "style": "IPY_MODEL_d6966f33be994ea28aa271370dbcb233",
            "_dom_classes": [],
            "description": "",
            "_model_name": "HTMLModel",
            "placeholder": "​",
            "_view_module": "@jupyter-widgets/controls",
            "_model_module_version": "1.5.0",
            "value": " 232k/232k [00:00&lt;00:00, 1.68MB/s]",
            "_view_count": null,
            "_view_module_version": "1.5.0",
            "description_tooltip": null,
            "_model_module": "@jupyter-widgets/controls",
            "layout": "IPY_MODEL_cff5806e83474d7a87f0d5f9400a92b2"
          }
        },
        "e3c25ef16d5a450c8173b4af9adeb03e": {
          "model_module": "@jupyter-widgets/controls",
          "model_name": "DescriptionStyleModel",
          "model_module_version": "1.5.0",
          "state": {
            "_view_name": "StyleView",
            "_model_name": "DescriptionStyleModel",
            "description_width": "",
            "_view_module": "@jupyter-widgets/base",
            "_model_module_version": "1.5.0",
            "_view_count": null,
            "_view_module_version": "1.2.0",
            "_model_module": "@jupyter-widgets/controls"
          }
        },
        "37cb1787d62b4ddfb66268d2d5d33a78": {
          "model_module": "@jupyter-widgets/base",
          "model_name": "LayoutModel",
          "model_module_version": "1.2.0",
          "state": {
            "_view_name": "LayoutView",
            "grid_template_rows": null,
            "right": null,
            "justify_content": null,
            "_view_module": "@jupyter-widgets/base",
            "overflow": null,
            "_model_module_version": "1.2.0",
            "_view_count": null,
            "flex_flow": null,
            "width": null,
            "min_width": null,
            "border": null,
            "align_items": null,
            "bottom": null,
            "_model_module": "@jupyter-widgets/base",
            "top": null,
            "grid_column": null,
            "overflow_y": null,
            "overflow_x": null,
            "grid_auto_flow": null,
            "grid_area": null,
            "grid_template_columns": null,
            "flex": null,
            "_model_name": "LayoutModel",
            "justify_items": null,
            "grid_row": null,
            "max_height": null,
            "align_content": null,
            "visibility": null,
            "align_self": null,
            "height": null,
            "min_height": null,
            "padding": null,
            "grid_auto_rows": null,
            "grid_gap": null,
            "max_width": null,
            "order": null,
            "_view_module_version": "1.2.0",
            "grid_template_areas": null,
            "object_position": null,
            "object_fit": null,
            "grid_auto_columns": null,
            "margin": null,
            "display": null,
            "left": null
          }
        },
        "fa4b4124aff444e6afc285937460d2c6": {
          "model_module": "@jupyter-widgets/controls",
          "model_name": "ProgressStyleModel",
          "model_module_version": "1.5.0",
          "state": {
            "_view_name": "StyleView",
            "_model_name": "ProgressStyleModel",
            "description_width": "",
            "_view_module": "@jupyter-widgets/base",
            "_model_module_version": "1.5.0",
            "_view_count": null,
            "_view_module_version": "1.2.0",
            "bar_color": null,
            "_model_module": "@jupyter-widgets/controls"
          }
        },
        "9b873046b62f4a3abc0ef29ecee84fe8": {
          "model_module": "@jupyter-widgets/base",
          "model_name": "LayoutModel",
          "model_module_version": "1.2.0",
          "state": {
            "_view_name": "LayoutView",
            "grid_template_rows": null,
            "right": null,
            "justify_content": null,
            "_view_module": "@jupyter-widgets/base",
            "overflow": null,
            "_model_module_version": "1.2.0",
            "_view_count": null,
            "flex_flow": null,
            "width": null,
            "min_width": null,
            "border": null,
            "align_items": null,
            "bottom": null,
            "_model_module": "@jupyter-widgets/base",
            "top": null,
            "grid_column": null,
            "overflow_y": null,
            "overflow_x": null,
            "grid_auto_flow": null,
            "grid_area": null,
            "grid_template_columns": null,
            "flex": null,
            "_model_name": "LayoutModel",
            "justify_items": null,
            "grid_row": null,
            "max_height": null,
            "align_content": null,
            "visibility": null,
            "align_self": null,
            "height": null,
            "min_height": null,
            "padding": null,
            "grid_auto_rows": null,
            "grid_gap": null,
            "max_width": null,
            "order": null,
            "_view_module_version": "1.2.0",
            "grid_template_areas": null,
            "object_position": null,
            "object_fit": null,
            "grid_auto_columns": null,
            "margin": null,
            "display": null,
            "left": null
          }
        },
        "d6966f33be994ea28aa271370dbcb233": {
          "model_module": "@jupyter-widgets/controls",
          "model_name": "DescriptionStyleModel",
          "model_module_version": "1.5.0",
          "state": {
            "_view_name": "StyleView",
            "_model_name": "DescriptionStyleModel",
            "description_width": "",
            "_view_module": "@jupyter-widgets/base",
            "_model_module_version": "1.5.0",
            "_view_count": null,
            "_view_module_version": "1.2.0",
            "_model_module": "@jupyter-widgets/controls"
          }
        },
        "cff5806e83474d7a87f0d5f9400a92b2": {
          "model_module": "@jupyter-widgets/base",
          "model_name": "LayoutModel",
          "model_module_version": "1.2.0",
          "state": {
            "_view_name": "LayoutView",
            "grid_template_rows": null,
            "right": null,
            "justify_content": null,
            "_view_module": "@jupyter-widgets/base",
            "overflow": null,
            "_model_module_version": "1.2.0",
            "_view_count": null,
            "flex_flow": null,
            "width": null,
            "min_width": null,
            "border": null,
            "align_items": null,
            "bottom": null,
            "_model_module": "@jupyter-widgets/base",
            "top": null,
            "grid_column": null,
            "overflow_y": null,
            "overflow_x": null,
            "grid_auto_flow": null,
            "grid_area": null,
            "grid_template_columns": null,
            "flex": null,
            "_model_name": "LayoutModel",
            "justify_items": null,
            "grid_row": null,
            "max_height": null,
            "align_content": null,
            "visibility": null,
            "align_self": null,
            "height": null,
            "min_height": null,
            "padding": null,
            "grid_auto_rows": null,
            "grid_gap": null,
            "max_width": null,
            "order": null,
            "_view_module_version": "1.2.0",
            "grid_template_areas": null,
            "object_position": null,
            "object_fit": null,
            "grid_auto_columns": null,
            "margin": null,
            "display": null,
            "left": null
          }
        },
        "96037e9799ec4a319a897c5159971cbb": {
          "model_module": "@jupyter-widgets/controls",
          "model_name": "HBoxModel",
          "model_module_version": "1.5.0",
          "state": {
            "_view_name": "HBoxView",
            "_dom_classes": [],
            "_model_name": "HBoxModel",
            "_view_module": "@jupyter-widgets/controls",
            "_model_module_version": "1.5.0",
            "_view_count": null,
            "_view_module_version": "1.5.0",
            "box_style": "",
            "layout": "IPY_MODEL_c293403d238746728cbcbfd49f95713e",
            "_model_module": "@jupyter-widgets/controls",
            "children": [
              "IPY_MODEL_7f325454ccb84112bd1990d5a451ae48",
              "IPY_MODEL_06dd3a2cb7b74173ae821a6fad7b07fd",
              "IPY_MODEL_c7c18b4619984b86bf1be25e59650a2c"
            ]
          }
        },
        "c293403d238746728cbcbfd49f95713e": {
          "model_module": "@jupyter-widgets/base",
          "model_name": "LayoutModel",
          "model_module_version": "1.2.0",
          "state": {
            "_view_name": "LayoutView",
            "grid_template_rows": null,
            "right": null,
            "justify_content": null,
            "_view_module": "@jupyter-widgets/base",
            "overflow": null,
            "_model_module_version": "1.2.0",
            "_view_count": null,
            "flex_flow": null,
            "width": null,
            "min_width": null,
            "border": null,
            "align_items": null,
            "bottom": null,
            "_model_module": "@jupyter-widgets/base",
            "top": null,
            "grid_column": null,
            "overflow_y": null,
            "overflow_x": null,
            "grid_auto_flow": null,
            "grid_area": null,
            "grid_template_columns": null,
            "flex": null,
            "_model_name": "LayoutModel",
            "justify_items": null,
            "grid_row": null,
            "max_height": null,
            "align_content": null,
            "visibility": null,
            "align_self": null,
            "height": null,
            "min_height": null,
            "padding": null,
            "grid_auto_rows": null,
            "grid_gap": null,
            "max_width": null,
            "order": null,
            "_view_module_version": "1.2.0",
            "grid_template_areas": null,
            "object_position": null,
            "object_fit": null,
            "grid_auto_columns": null,
            "margin": null,
            "display": null,
            "left": null
          }
        },
        "7f325454ccb84112bd1990d5a451ae48": {
          "model_module": "@jupyter-widgets/controls",
          "model_name": "HTMLModel",
          "model_module_version": "1.5.0",
          "state": {
            "_view_name": "HTMLView",
            "style": "IPY_MODEL_bc5f6eab70c344eab55ce2aae2dfc821",
            "_dom_classes": [],
            "description": "",
            "_model_name": "HTMLModel",
            "placeholder": "​",
            "_view_module": "@jupyter-widgets/controls",
            "_model_module_version": "1.5.0",
            "value": "Downloading: 100%",
            "_view_count": null,
            "_view_module_version": "1.5.0",
            "description_tooltip": null,
            "_model_module": "@jupyter-widgets/controls",
            "layout": "IPY_MODEL_0a989051d5ab44e5b3ec0d5d7e4dd04e"
          }
        },
        "06dd3a2cb7b74173ae821a6fad7b07fd": {
          "model_module": "@jupyter-widgets/controls",
          "model_name": "FloatProgressModel",
          "model_module_version": "1.5.0",
          "state": {
            "_view_name": "ProgressView",
            "style": "IPY_MODEL_4d24d95fbc9f431cb3737038f20711c7",
            "_dom_classes": [],
            "description": "",
            "_model_name": "FloatProgressModel",
            "bar_style": "success",
            "max": 28,
            "_view_module": "@jupyter-widgets/controls",
            "_model_module_version": "1.5.0",
            "value": 28,
            "_view_count": null,
            "_view_module_version": "1.5.0",
            "orientation": "horizontal",
            "min": 0,
            "description_tooltip": null,
            "_model_module": "@jupyter-widgets/controls",
            "layout": "IPY_MODEL_6960946d293a4843ab2791be83748987"
          }
        },
        "c7c18b4619984b86bf1be25e59650a2c": {
          "model_module": "@jupyter-widgets/controls",
          "model_name": "HTMLModel",
          "model_module_version": "1.5.0",
          "state": {
            "_view_name": "HTMLView",
            "style": "IPY_MODEL_9095ed52e0a54593a7e2e2f9ec39a8e1",
            "_dom_classes": [],
            "description": "",
            "_model_name": "HTMLModel",
            "placeholder": "​",
            "_view_module": "@jupyter-widgets/controls",
            "_model_module_version": "1.5.0",
            "value": " 28.0/28.0 [00:00&lt;00:00, 836B/s]",
            "_view_count": null,
            "_view_module_version": "1.5.0",
            "description_tooltip": null,
            "_model_module": "@jupyter-widgets/controls",
            "layout": "IPY_MODEL_c3e6db79c1694173a37d08c3b085aeb0"
          }
        },
        "bc5f6eab70c344eab55ce2aae2dfc821": {
          "model_module": "@jupyter-widgets/controls",
          "model_name": "DescriptionStyleModel",
          "model_module_version": "1.5.0",
          "state": {
            "_view_name": "StyleView",
            "_model_name": "DescriptionStyleModel",
            "description_width": "",
            "_view_module": "@jupyter-widgets/base",
            "_model_module_version": "1.5.0",
            "_view_count": null,
            "_view_module_version": "1.2.0",
            "_model_module": "@jupyter-widgets/controls"
          }
        },
        "0a989051d5ab44e5b3ec0d5d7e4dd04e": {
          "model_module": "@jupyter-widgets/base",
          "model_name": "LayoutModel",
          "model_module_version": "1.2.0",
          "state": {
            "_view_name": "LayoutView",
            "grid_template_rows": null,
            "right": null,
            "justify_content": null,
            "_view_module": "@jupyter-widgets/base",
            "overflow": null,
            "_model_module_version": "1.2.0",
            "_view_count": null,
            "flex_flow": null,
            "width": null,
            "min_width": null,
            "border": null,
            "align_items": null,
            "bottom": null,
            "_model_module": "@jupyter-widgets/base",
            "top": null,
            "grid_column": null,
            "overflow_y": null,
            "overflow_x": null,
            "grid_auto_flow": null,
            "grid_area": null,
            "grid_template_columns": null,
            "flex": null,
            "_model_name": "LayoutModel",
            "justify_items": null,
            "grid_row": null,
            "max_height": null,
            "align_content": null,
            "visibility": null,
            "align_self": null,
            "height": null,
            "min_height": null,
            "padding": null,
            "grid_auto_rows": null,
            "grid_gap": null,
            "max_width": null,
            "order": null,
            "_view_module_version": "1.2.0",
            "grid_template_areas": null,
            "object_position": null,
            "object_fit": null,
            "grid_auto_columns": null,
            "margin": null,
            "display": null,
            "left": null
          }
        },
        "4d24d95fbc9f431cb3737038f20711c7": {
          "model_module": "@jupyter-widgets/controls",
          "model_name": "ProgressStyleModel",
          "model_module_version": "1.5.0",
          "state": {
            "_view_name": "StyleView",
            "_model_name": "ProgressStyleModel",
            "description_width": "",
            "_view_module": "@jupyter-widgets/base",
            "_model_module_version": "1.5.0",
            "_view_count": null,
            "_view_module_version": "1.2.0",
            "bar_color": null,
            "_model_module": "@jupyter-widgets/controls"
          }
        },
        "6960946d293a4843ab2791be83748987": {
          "model_module": "@jupyter-widgets/base",
          "model_name": "LayoutModel",
          "model_module_version": "1.2.0",
          "state": {
            "_view_name": "LayoutView",
            "grid_template_rows": null,
            "right": null,
            "justify_content": null,
            "_view_module": "@jupyter-widgets/base",
            "overflow": null,
            "_model_module_version": "1.2.0",
            "_view_count": null,
            "flex_flow": null,
            "width": null,
            "min_width": null,
            "border": null,
            "align_items": null,
            "bottom": null,
            "_model_module": "@jupyter-widgets/base",
            "top": null,
            "grid_column": null,
            "overflow_y": null,
            "overflow_x": null,
            "grid_auto_flow": null,
            "grid_area": null,
            "grid_template_columns": null,
            "flex": null,
            "_model_name": "LayoutModel",
            "justify_items": null,
            "grid_row": null,
            "max_height": null,
            "align_content": null,
            "visibility": null,
            "align_self": null,
            "height": null,
            "min_height": null,
            "padding": null,
            "grid_auto_rows": null,
            "grid_gap": null,
            "max_width": null,
            "order": null,
            "_view_module_version": "1.2.0",
            "grid_template_areas": null,
            "object_position": null,
            "object_fit": null,
            "grid_auto_columns": null,
            "margin": null,
            "display": null,
            "left": null
          }
        },
        "9095ed52e0a54593a7e2e2f9ec39a8e1": {
          "model_module": "@jupyter-widgets/controls",
          "model_name": "DescriptionStyleModel",
          "model_module_version": "1.5.0",
          "state": {
            "_view_name": "StyleView",
            "_model_name": "DescriptionStyleModel",
            "description_width": "",
            "_view_module": "@jupyter-widgets/base",
            "_model_module_version": "1.5.0",
            "_view_count": null,
            "_view_module_version": "1.2.0",
            "_model_module": "@jupyter-widgets/controls"
          }
        },
        "c3e6db79c1694173a37d08c3b085aeb0": {
          "model_module": "@jupyter-widgets/base",
          "model_name": "LayoutModel",
          "model_module_version": "1.2.0",
          "state": {
            "_view_name": "LayoutView",
            "grid_template_rows": null,
            "right": null,
            "justify_content": null,
            "_view_module": "@jupyter-widgets/base",
            "overflow": null,
            "_model_module_version": "1.2.0",
            "_view_count": null,
            "flex_flow": null,
            "width": null,
            "min_width": null,
            "border": null,
            "align_items": null,
            "bottom": null,
            "_model_module": "@jupyter-widgets/base",
            "top": null,
            "grid_column": null,
            "overflow_y": null,
            "overflow_x": null,
            "grid_auto_flow": null,
            "grid_area": null,
            "grid_template_columns": null,
            "flex": null,
            "_model_name": "LayoutModel",
            "justify_items": null,
            "grid_row": null,
            "max_height": null,
            "align_content": null,
            "visibility": null,
            "align_self": null,
            "height": null,
            "min_height": null,
            "padding": null,
            "grid_auto_rows": null,
            "grid_gap": null,
            "max_width": null,
            "order": null,
            "_view_module_version": "1.2.0",
            "grid_template_areas": null,
            "object_position": null,
            "object_fit": null,
            "grid_auto_columns": null,
            "margin": null,
            "display": null,
            "left": null
          }
        },
        "1802f75b0edf493c948415caaf53103d": {
          "model_module": "@jupyter-widgets/controls",
          "model_name": "HBoxModel",
          "model_module_version": "1.5.0",
          "state": {
            "_view_name": "HBoxView",
            "_dom_classes": [],
            "_model_name": "HBoxModel",
            "_view_module": "@jupyter-widgets/controls",
            "_model_module_version": "1.5.0",
            "_view_count": null,
            "_view_module_version": "1.5.0",
            "box_style": "",
            "layout": "IPY_MODEL_2a98ddd6c9fa405e8c5acd18ee7d0bea",
            "_model_module": "@jupyter-widgets/controls",
            "children": [
              "IPY_MODEL_7c12f6b83e4d466d8f53867a20d532bf",
              "IPY_MODEL_5bd2c432cf834e1dabec2d7d12050d0f",
              "IPY_MODEL_b1be69d45d824629bfb59ff5ba4e5eda"
            ]
          }
        },
        "2a98ddd6c9fa405e8c5acd18ee7d0bea": {
          "model_module": "@jupyter-widgets/base",
          "model_name": "LayoutModel",
          "model_module_version": "1.2.0",
          "state": {
            "_view_name": "LayoutView",
            "grid_template_rows": null,
            "right": null,
            "justify_content": null,
            "_view_module": "@jupyter-widgets/base",
            "overflow": null,
            "_model_module_version": "1.2.0",
            "_view_count": null,
            "flex_flow": null,
            "width": null,
            "min_width": null,
            "border": null,
            "align_items": null,
            "bottom": null,
            "_model_module": "@jupyter-widgets/base",
            "top": null,
            "grid_column": null,
            "overflow_y": null,
            "overflow_x": null,
            "grid_auto_flow": null,
            "grid_area": null,
            "grid_template_columns": null,
            "flex": null,
            "_model_name": "LayoutModel",
            "justify_items": null,
            "grid_row": null,
            "max_height": null,
            "align_content": null,
            "visibility": null,
            "align_self": null,
            "height": null,
            "min_height": null,
            "padding": null,
            "grid_auto_rows": null,
            "grid_gap": null,
            "max_width": null,
            "order": null,
            "_view_module_version": "1.2.0",
            "grid_template_areas": null,
            "object_position": null,
            "object_fit": null,
            "grid_auto_columns": null,
            "margin": null,
            "display": null,
            "left": null
          }
        },
        "7c12f6b83e4d466d8f53867a20d532bf": {
          "model_module": "@jupyter-widgets/controls",
          "model_name": "HTMLModel",
          "model_module_version": "1.5.0",
          "state": {
            "_view_name": "HTMLView",
            "style": "IPY_MODEL_4297e2d6c8204fbca923c2e5d5f3842b",
            "_dom_classes": [],
            "description": "",
            "_model_name": "HTMLModel",
            "placeholder": "​",
            "_view_module": "@jupyter-widgets/controls",
            "_model_module_version": "1.5.0",
            "value": "Downloading: 100%",
            "_view_count": null,
            "_view_module_version": "1.5.0",
            "description_tooltip": null,
            "_model_module": "@jupyter-widgets/controls",
            "layout": "IPY_MODEL_bc40266fed07466eaff0fab71b635b44"
          }
        },
        "5bd2c432cf834e1dabec2d7d12050d0f": {
          "model_module": "@jupyter-widgets/controls",
          "model_name": "FloatProgressModel",
          "model_module_version": "1.5.0",
          "state": {
            "_view_name": "ProgressView",
            "style": "IPY_MODEL_dbc21b5789694bd9a709eb5b97369fd6",
            "_dom_classes": [],
            "description": "",
            "_model_name": "FloatProgressModel",
            "bar_style": "success",
            "max": 466062,
            "_view_module": "@jupyter-widgets/controls",
            "_model_module_version": "1.5.0",
            "value": 466062,
            "_view_count": null,
            "_view_module_version": "1.5.0",
            "orientation": "horizontal",
            "min": 0,
            "description_tooltip": null,
            "_model_module": "@jupyter-widgets/controls",
            "layout": "IPY_MODEL_776ffa9bb0f84178969f8619823333a4"
          }
        },
        "b1be69d45d824629bfb59ff5ba4e5eda": {
          "model_module": "@jupyter-widgets/controls",
          "model_name": "HTMLModel",
          "model_module_version": "1.5.0",
          "state": {
            "_view_name": "HTMLView",
            "style": "IPY_MODEL_2fa69e46840947f7987619c9c7dc75ec",
            "_dom_classes": [],
            "description": "",
            "_model_name": "HTMLModel",
            "placeholder": "​",
            "_view_module": "@jupyter-widgets/controls",
            "_model_module_version": "1.5.0",
            "value": " 466k/466k [00:00&lt;00:00, 1.56MB/s]",
            "_view_count": null,
            "_view_module_version": "1.5.0",
            "description_tooltip": null,
            "_model_module": "@jupyter-widgets/controls",
            "layout": "IPY_MODEL_4f124deda578440e97677fb3be0a57e4"
          }
        },
        "4297e2d6c8204fbca923c2e5d5f3842b": {
          "model_module": "@jupyter-widgets/controls",
          "model_name": "DescriptionStyleModel",
          "model_module_version": "1.5.0",
          "state": {
            "_view_name": "StyleView",
            "_model_name": "DescriptionStyleModel",
            "description_width": "",
            "_view_module": "@jupyter-widgets/base",
            "_model_module_version": "1.5.0",
            "_view_count": null,
            "_view_module_version": "1.2.0",
            "_model_module": "@jupyter-widgets/controls"
          }
        },
        "bc40266fed07466eaff0fab71b635b44": {
          "model_module": "@jupyter-widgets/base",
          "model_name": "LayoutModel",
          "model_module_version": "1.2.0",
          "state": {
            "_view_name": "LayoutView",
            "grid_template_rows": null,
            "right": null,
            "justify_content": null,
            "_view_module": "@jupyter-widgets/base",
            "overflow": null,
            "_model_module_version": "1.2.0",
            "_view_count": null,
            "flex_flow": null,
            "width": null,
            "min_width": null,
            "border": null,
            "align_items": null,
            "bottom": null,
            "_model_module": "@jupyter-widgets/base",
            "top": null,
            "grid_column": null,
            "overflow_y": null,
            "overflow_x": null,
            "grid_auto_flow": null,
            "grid_area": null,
            "grid_template_columns": null,
            "flex": null,
            "_model_name": "LayoutModel",
            "justify_items": null,
            "grid_row": null,
            "max_height": null,
            "align_content": null,
            "visibility": null,
            "align_self": null,
            "height": null,
            "min_height": null,
            "padding": null,
            "grid_auto_rows": null,
            "grid_gap": null,
            "max_width": null,
            "order": null,
            "_view_module_version": "1.2.0",
            "grid_template_areas": null,
            "object_position": null,
            "object_fit": null,
            "grid_auto_columns": null,
            "margin": null,
            "display": null,
            "left": null
          }
        },
        "dbc21b5789694bd9a709eb5b97369fd6": {
          "model_module": "@jupyter-widgets/controls",
          "model_name": "ProgressStyleModel",
          "model_module_version": "1.5.0",
          "state": {
            "_view_name": "StyleView",
            "_model_name": "ProgressStyleModel",
            "description_width": "",
            "_view_module": "@jupyter-widgets/base",
            "_model_module_version": "1.5.0",
            "_view_count": null,
            "_view_module_version": "1.2.0",
            "bar_color": null,
            "_model_module": "@jupyter-widgets/controls"
          }
        },
        "776ffa9bb0f84178969f8619823333a4": {
          "model_module": "@jupyter-widgets/base",
          "model_name": "LayoutModel",
          "model_module_version": "1.2.0",
          "state": {
            "_view_name": "LayoutView",
            "grid_template_rows": null,
            "right": null,
            "justify_content": null,
            "_view_module": "@jupyter-widgets/base",
            "overflow": null,
            "_model_module_version": "1.2.0",
            "_view_count": null,
            "flex_flow": null,
            "width": null,
            "min_width": null,
            "border": null,
            "align_items": null,
            "bottom": null,
            "_model_module": "@jupyter-widgets/base",
            "top": null,
            "grid_column": null,
            "overflow_y": null,
            "overflow_x": null,
            "grid_auto_flow": null,
            "grid_area": null,
            "grid_template_columns": null,
            "flex": null,
            "_model_name": "LayoutModel",
            "justify_items": null,
            "grid_row": null,
            "max_height": null,
            "align_content": null,
            "visibility": null,
            "align_self": null,
            "height": null,
            "min_height": null,
            "padding": null,
            "grid_auto_rows": null,
            "grid_gap": null,
            "max_width": null,
            "order": null,
            "_view_module_version": "1.2.0",
            "grid_template_areas": null,
            "object_position": null,
            "object_fit": null,
            "grid_auto_columns": null,
            "margin": null,
            "display": null,
            "left": null
          }
        },
        "2fa69e46840947f7987619c9c7dc75ec": {
          "model_module": "@jupyter-widgets/controls",
          "model_name": "DescriptionStyleModel",
          "model_module_version": "1.5.0",
          "state": {
            "_view_name": "StyleView",
            "_model_name": "DescriptionStyleModel",
            "description_width": "",
            "_view_module": "@jupyter-widgets/base",
            "_model_module_version": "1.5.0",
            "_view_count": null,
            "_view_module_version": "1.2.0",
            "_model_module": "@jupyter-widgets/controls"
          }
        },
        "4f124deda578440e97677fb3be0a57e4": {
          "model_module": "@jupyter-widgets/base",
          "model_name": "LayoutModel",
          "model_module_version": "1.2.0",
          "state": {
            "_view_name": "LayoutView",
            "grid_template_rows": null,
            "right": null,
            "justify_content": null,
            "_view_module": "@jupyter-widgets/base",
            "overflow": null,
            "_model_module_version": "1.2.0",
            "_view_count": null,
            "flex_flow": null,
            "width": null,
            "min_width": null,
            "border": null,
            "align_items": null,
            "bottom": null,
            "_model_module": "@jupyter-widgets/base",
            "top": null,
            "grid_column": null,
            "overflow_y": null,
            "overflow_x": null,
            "grid_auto_flow": null,
            "grid_area": null,
            "grid_template_columns": null,
            "flex": null,
            "_model_name": "LayoutModel",
            "justify_items": null,
            "grid_row": null,
            "max_height": null,
            "align_content": null,
            "visibility": null,
            "align_self": null,
            "height": null,
            "min_height": null,
            "padding": null,
            "grid_auto_rows": null,
            "grid_gap": null,
            "max_width": null,
            "order": null,
            "_view_module_version": "1.2.0",
            "grid_template_areas": null,
            "object_position": null,
            "object_fit": null,
            "grid_auto_columns": null,
            "margin": null,
            "display": null,
            "left": null
          }
        },
        "ff375d81bdee4131a63a506c0c55f0cb": {
          "model_module": "@jupyter-widgets/controls",
          "model_name": "HBoxModel",
          "model_module_version": "1.5.0",
          "state": {
            "_view_name": "HBoxView",
            "_dom_classes": [],
            "_model_name": "HBoxModel",
            "_view_module": "@jupyter-widgets/controls",
            "_model_module_version": "1.5.0",
            "_view_count": null,
            "_view_module_version": "1.5.0",
            "box_style": "",
            "layout": "IPY_MODEL_b90feff35d5d43529946faca0ad35787",
            "_model_module": "@jupyter-widgets/controls",
            "children": [
              "IPY_MODEL_5dabb195942c4aeab96ce822fd2b6cd3",
              "IPY_MODEL_94a40a86cf2e4bbd95b0fdda99ce6661",
              "IPY_MODEL_1223b861660540258d0dcf90d2cd9226"
            ]
          }
        },
        "b90feff35d5d43529946faca0ad35787": {
          "model_module": "@jupyter-widgets/base",
          "model_name": "LayoutModel",
          "model_module_version": "1.2.0",
          "state": {
            "_view_name": "LayoutView",
            "grid_template_rows": null,
            "right": null,
            "justify_content": null,
            "_view_module": "@jupyter-widgets/base",
            "overflow": null,
            "_model_module_version": "1.2.0",
            "_view_count": null,
            "flex_flow": null,
            "width": null,
            "min_width": null,
            "border": null,
            "align_items": null,
            "bottom": null,
            "_model_module": "@jupyter-widgets/base",
            "top": null,
            "grid_column": null,
            "overflow_y": null,
            "overflow_x": null,
            "grid_auto_flow": null,
            "grid_area": null,
            "grid_template_columns": null,
            "flex": null,
            "_model_name": "LayoutModel",
            "justify_items": null,
            "grid_row": null,
            "max_height": null,
            "align_content": null,
            "visibility": null,
            "align_self": null,
            "height": null,
            "min_height": null,
            "padding": null,
            "grid_auto_rows": null,
            "grid_gap": null,
            "max_width": null,
            "order": null,
            "_view_module_version": "1.2.0",
            "grid_template_areas": null,
            "object_position": null,
            "object_fit": null,
            "grid_auto_columns": null,
            "margin": null,
            "display": null,
            "left": null
          }
        },
        "5dabb195942c4aeab96ce822fd2b6cd3": {
          "model_module": "@jupyter-widgets/controls",
          "model_name": "HTMLModel",
          "model_module_version": "1.5.0",
          "state": {
            "_view_name": "HTMLView",
            "style": "IPY_MODEL_0b3ba7372e4449fcbe908750a28e6db9",
            "_dom_classes": [],
            "description": "",
            "_model_name": "HTMLModel",
            "placeholder": "​",
            "_view_module": "@jupyter-widgets/controls",
            "_model_module_version": "1.5.0",
            "value": "Downloading: 100%",
            "_view_count": null,
            "_view_module_version": "1.5.0",
            "description_tooltip": null,
            "_model_module": "@jupyter-widgets/controls",
            "layout": "IPY_MODEL_e5ecf6bb9ea14ca587185f5c94fdf62d"
          }
        },
        "94a40a86cf2e4bbd95b0fdda99ce6661": {
          "model_module": "@jupyter-widgets/controls",
          "model_name": "FloatProgressModel",
          "model_module_version": "1.5.0",
          "state": {
            "_view_name": "ProgressView",
            "style": "IPY_MODEL_5e98ed4ad7324288a93e7766a2f39129",
            "_dom_classes": [],
            "description": "",
            "_model_name": "FloatProgressModel",
            "bar_style": "success",
            "max": 442,
            "_view_module": "@jupyter-widgets/controls",
            "_model_module_version": "1.5.0",
            "value": 442,
            "_view_count": null,
            "_view_module_version": "1.5.0",
            "orientation": "horizontal",
            "min": 0,
            "description_tooltip": null,
            "_model_module": "@jupyter-widgets/controls",
            "layout": "IPY_MODEL_aabe5de32186449c810990a2a65775f3"
          }
        },
        "1223b861660540258d0dcf90d2cd9226": {
          "model_module": "@jupyter-widgets/controls",
          "model_name": "HTMLModel",
          "model_module_version": "1.5.0",
          "state": {
            "_view_name": "HTMLView",
            "style": "IPY_MODEL_9667621d0c294e458a16eeb640b4fb86",
            "_dom_classes": [],
            "description": "",
            "_model_name": "HTMLModel",
            "placeholder": "​",
            "_view_module": "@jupyter-widgets/controls",
            "_model_module_version": "1.5.0",
            "value": " 442/442 [00:00&lt;00:00, 11.2kB/s]",
            "_view_count": null,
            "_view_module_version": "1.5.0",
            "description_tooltip": null,
            "_model_module": "@jupyter-widgets/controls",
            "layout": "IPY_MODEL_9b0cb565fd9647688fa5c1b6118d4b1c"
          }
        },
        "0b3ba7372e4449fcbe908750a28e6db9": {
          "model_module": "@jupyter-widgets/controls",
          "model_name": "DescriptionStyleModel",
          "model_module_version": "1.5.0",
          "state": {
            "_view_name": "StyleView",
            "_model_name": "DescriptionStyleModel",
            "description_width": "",
            "_view_module": "@jupyter-widgets/base",
            "_model_module_version": "1.5.0",
            "_view_count": null,
            "_view_module_version": "1.2.0",
            "_model_module": "@jupyter-widgets/controls"
          }
        },
        "e5ecf6bb9ea14ca587185f5c94fdf62d": {
          "model_module": "@jupyter-widgets/base",
          "model_name": "LayoutModel",
          "model_module_version": "1.2.0",
          "state": {
            "_view_name": "LayoutView",
            "grid_template_rows": null,
            "right": null,
            "justify_content": null,
            "_view_module": "@jupyter-widgets/base",
            "overflow": null,
            "_model_module_version": "1.2.0",
            "_view_count": null,
            "flex_flow": null,
            "width": null,
            "min_width": null,
            "border": null,
            "align_items": null,
            "bottom": null,
            "_model_module": "@jupyter-widgets/base",
            "top": null,
            "grid_column": null,
            "overflow_y": null,
            "overflow_x": null,
            "grid_auto_flow": null,
            "grid_area": null,
            "grid_template_columns": null,
            "flex": null,
            "_model_name": "LayoutModel",
            "justify_items": null,
            "grid_row": null,
            "max_height": null,
            "align_content": null,
            "visibility": null,
            "align_self": null,
            "height": null,
            "min_height": null,
            "padding": null,
            "grid_auto_rows": null,
            "grid_gap": null,
            "max_width": null,
            "order": null,
            "_view_module_version": "1.2.0",
            "grid_template_areas": null,
            "object_position": null,
            "object_fit": null,
            "grid_auto_columns": null,
            "margin": null,
            "display": null,
            "left": null
          }
        },
        "5e98ed4ad7324288a93e7766a2f39129": {
          "model_module": "@jupyter-widgets/controls",
          "model_name": "ProgressStyleModel",
          "model_module_version": "1.5.0",
          "state": {
            "_view_name": "StyleView",
            "_model_name": "ProgressStyleModel",
            "description_width": "",
            "_view_module": "@jupyter-widgets/base",
            "_model_module_version": "1.5.0",
            "_view_count": null,
            "_view_module_version": "1.2.0",
            "bar_color": null,
            "_model_module": "@jupyter-widgets/controls"
          }
        },
        "aabe5de32186449c810990a2a65775f3": {
          "model_module": "@jupyter-widgets/base",
          "model_name": "LayoutModel",
          "model_module_version": "1.2.0",
          "state": {
            "_view_name": "LayoutView",
            "grid_template_rows": null,
            "right": null,
            "justify_content": null,
            "_view_module": "@jupyter-widgets/base",
            "overflow": null,
            "_model_module_version": "1.2.0",
            "_view_count": null,
            "flex_flow": null,
            "width": null,
            "min_width": null,
            "border": null,
            "align_items": null,
            "bottom": null,
            "_model_module": "@jupyter-widgets/base",
            "top": null,
            "grid_column": null,
            "overflow_y": null,
            "overflow_x": null,
            "grid_auto_flow": null,
            "grid_area": null,
            "grid_template_columns": null,
            "flex": null,
            "_model_name": "LayoutModel",
            "justify_items": null,
            "grid_row": null,
            "max_height": null,
            "align_content": null,
            "visibility": null,
            "align_self": null,
            "height": null,
            "min_height": null,
            "padding": null,
            "grid_auto_rows": null,
            "grid_gap": null,
            "max_width": null,
            "order": null,
            "_view_module_version": "1.2.0",
            "grid_template_areas": null,
            "object_position": null,
            "object_fit": null,
            "grid_auto_columns": null,
            "margin": null,
            "display": null,
            "left": null
          }
        },
        "9667621d0c294e458a16eeb640b4fb86": {
          "model_module": "@jupyter-widgets/controls",
          "model_name": "DescriptionStyleModel",
          "model_module_version": "1.5.0",
          "state": {
            "_view_name": "StyleView",
            "_model_name": "DescriptionStyleModel",
            "description_width": "",
            "_view_module": "@jupyter-widgets/base",
            "_model_module_version": "1.5.0",
            "_view_count": null,
            "_view_module_version": "1.2.0",
            "_model_module": "@jupyter-widgets/controls"
          }
        },
        "9b0cb565fd9647688fa5c1b6118d4b1c": {
          "model_module": "@jupyter-widgets/base",
          "model_name": "LayoutModel",
          "model_module_version": "1.2.0",
          "state": {
            "_view_name": "LayoutView",
            "grid_template_rows": null,
            "right": null,
            "justify_content": null,
            "_view_module": "@jupyter-widgets/base",
            "overflow": null,
            "_model_module_version": "1.2.0",
            "_view_count": null,
            "flex_flow": null,
            "width": null,
            "min_width": null,
            "border": null,
            "align_items": null,
            "bottom": null,
            "_model_module": "@jupyter-widgets/base",
            "top": null,
            "grid_column": null,
            "overflow_y": null,
            "overflow_x": null,
            "grid_auto_flow": null,
            "grid_area": null,
            "grid_template_columns": null,
            "flex": null,
            "_model_name": "LayoutModel",
            "justify_items": null,
            "grid_row": null,
            "max_height": null,
            "align_content": null,
            "visibility": null,
            "align_self": null,
            "height": null,
            "min_height": null,
            "padding": null,
            "grid_auto_rows": null,
            "grid_gap": null,
            "max_width": null,
            "order": null,
            "_view_module_version": "1.2.0",
            "grid_template_areas": null,
            "object_position": null,
            "object_fit": null,
            "grid_auto_columns": null,
            "margin": null,
            "display": null,
            "left": null
          }
        },
        "a57a113ba3f849caa42632cefa34ce96": {
          "model_module": "@jupyter-widgets/controls",
          "model_name": "HBoxModel",
          "model_module_version": "1.5.0",
          "state": {
            "_view_name": "HBoxView",
            "_dom_classes": [],
            "_model_name": "HBoxModel",
            "_view_module": "@jupyter-widgets/controls",
            "_model_module_version": "1.5.0",
            "_view_count": null,
            "_view_module_version": "1.5.0",
            "box_style": "",
            "layout": "IPY_MODEL_de0d74a2ec2c4c34ad34e9a75c4448da",
            "_model_module": "@jupyter-widgets/controls",
            "children": [
              "IPY_MODEL_dd8aa5c07bdf4ac384293f3cec920d68",
              "IPY_MODEL_6539b0287e6d4881afa04c1f35cfd12a",
              "IPY_MODEL_40301dd917da4e9bbebd45f7d5d6c4a1"
            ]
          }
        },
        "de0d74a2ec2c4c34ad34e9a75c4448da": {
          "model_module": "@jupyter-widgets/base",
          "model_name": "LayoutModel",
          "model_module_version": "1.2.0",
          "state": {
            "_view_name": "LayoutView",
            "grid_template_rows": null,
            "right": null,
            "justify_content": null,
            "_view_module": "@jupyter-widgets/base",
            "overflow": null,
            "_model_module_version": "1.2.0",
            "_view_count": null,
            "flex_flow": null,
            "width": null,
            "min_width": null,
            "border": null,
            "align_items": null,
            "bottom": null,
            "_model_module": "@jupyter-widgets/base",
            "top": null,
            "grid_column": null,
            "overflow_y": null,
            "overflow_x": null,
            "grid_auto_flow": null,
            "grid_area": null,
            "grid_template_columns": null,
            "flex": null,
            "_model_name": "LayoutModel",
            "justify_items": null,
            "grid_row": null,
            "max_height": null,
            "align_content": null,
            "visibility": null,
            "align_self": null,
            "height": null,
            "min_height": null,
            "padding": null,
            "grid_auto_rows": null,
            "grid_gap": null,
            "max_width": null,
            "order": null,
            "_view_module_version": "1.2.0",
            "grid_template_areas": null,
            "object_position": null,
            "object_fit": null,
            "grid_auto_columns": null,
            "margin": null,
            "display": null,
            "left": null
          }
        },
        "dd8aa5c07bdf4ac384293f3cec920d68": {
          "model_module": "@jupyter-widgets/controls",
          "model_name": "HTMLModel",
          "model_module_version": "1.5.0",
          "state": {
            "_view_name": "HTMLView",
            "style": "IPY_MODEL_ff8f9e0875cc4e54a3fdbd503f508f9f",
            "_dom_classes": [],
            "description": "",
            "_model_name": "HTMLModel",
            "placeholder": "​",
            "_view_module": "@jupyter-widgets/controls",
            "_model_module_version": "1.5.0",
            "value": "Downloading: 100%",
            "_view_count": null,
            "_view_module_version": "1.5.0",
            "description_tooltip": null,
            "_model_module": "@jupyter-widgets/controls",
            "layout": "IPY_MODEL_3c7ba7b543454fe689d84f368bd5988e"
          }
        },
        "6539b0287e6d4881afa04c1f35cfd12a": {
          "model_module": "@jupyter-widgets/controls",
          "model_name": "FloatProgressModel",
          "model_module_version": "1.5.0",
          "state": {
            "_view_name": "ProgressView",
            "style": "IPY_MODEL_7b567c82507f4332aba2e420deece56e",
            "_dom_classes": [],
            "description": "",
            "_model_name": "FloatProgressModel",
            "bar_style": "success",
            "max": 267967963,
            "_view_module": "@jupyter-widgets/controls",
            "_model_module_version": "1.5.0",
            "value": 267967963,
            "_view_count": null,
            "_view_module_version": "1.5.0",
            "orientation": "horizontal",
            "min": 0,
            "description_tooltip": null,
            "_model_module": "@jupyter-widgets/controls",
            "layout": "IPY_MODEL_d7b9a0b8554a41aa952c0b93deac1ea7"
          }
        },
        "40301dd917da4e9bbebd45f7d5d6c4a1": {
          "model_module": "@jupyter-widgets/controls",
          "model_name": "HTMLModel",
          "model_module_version": "1.5.0",
          "state": {
            "_view_name": "HTMLView",
            "style": "IPY_MODEL_5445d4eed7d04ecfaa52a77bdf950bcb",
            "_dom_classes": [],
            "description": "",
            "_model_name": "HTMLModel",
            "placeholder": "​",
            "_view_module": "@jupyter-widgets/controls",
            "_model_module_version": "1.5.0",
            "value": " 268M/268M [00:05&lt;00:00, 49.1MB/s]",
            "_view_count": null,
            "_view_module_version": "1.5.0",
            "description_tooltip": null,
            "_model_module": "@jupyter-widgets/controls",
            "layout": "IPY_MODEL_129a143d3c2c4bd39ac341b962e62d86"
          }
        },
        "ff8f9e0875cc4e54a3fdbd503f508f9f": {
          "model_module": "@jupyter-widgets/controls",
          "model_name": "DescriptionStyleModel",
          "model_module_version": "1.5.0",
          "state": {
            "_view_name": "StyleView",
            "_model_name": "DescriptionStyleModel",
            "description_width": "",
            "_view_module": "@jupyter-widgets/base",
            "_model_module_version": "1.5.0",
            "_view_count": null,
            "_view_module_version": "1.2.0",
            "_model_module": "@jupyter-widgets/controls"
          }
        },
        "3c7ba7b543454fe689d84f368bd5988e": {
          "model_module": "@jupyter-widgets/base",
          "model_name": "LayoutModel",
          "model_module_version": "1.2.0",
          "state": {
            "_view_name": "LayoutView",
            "grid_template_rows": null,
            "right": null,
            "justify_content": null,
            "_view_module": "@jupyter-widgets/base",
            "overflow": null,
            "_model_module_version": "1.2.0",
            "_view_count": null,
            "flex_flow": null,
            "width": null,
            "min_width": null,
            "border": null,
            "align_items": null,
            "bottom": null,
            "_model_module": "@jupyter-widgets/base",
            "top": null,
            "grid_column": null,
            "overflow_y": null,
            "overflow_x": null,
            "grid_auto_flow": null,
            "grid_area": null,
            "grid_template_columns": null,
            "flex": null,
            "_model_name": "LayoutModel",
            "justify_items": null,
            "grid_row": null,
            "max_height": null,
            "align_content": null,
            "visibility": null,
            "align_self": null,
            "height": null,
            "min_height": null,
            "padding": null,
            "grid_auto_rows": null,
            "grid_gap": null,
            "max_width": null,
            "order": null,
            "_view_module_version": "1.2.0",
            "grid_template_areas": null,
            "object_position": null,
            "object_fit": null,
            "grid_auto_columns": null,
            "margin": null,
            "display": null,
            "left": null
          }
        },
        "7b567c82507f4332aba2e420deece56e": {
          "model_module": "@jupyter-widgets/controls",
          "model_name": "ProgressStyleModel",
          "model_module_version": "1.5.0",
          "state": {
            "_view_name": "StyleView",
            "_model_name": "ProgressStyleModel",
            "description_width": "",
            "_view_module": "@jupyter-widgets/base",
            "_model_module_version": "1.5.0",
            "_view_count": null,
            "_view_module_version": "1.2.0",
            "bar_color": null,
            "_model_module": "@jupyter-widgets/controls"
          }
        },
        "d7b9a0b8554a41aa952c0b93deac1ea7": {
          "model_module": "@jupyter-widgets/base",
          "model_name": "LayoutModel",
          "model_module_version": "1.2.0",
          "state": {
            "_view_name": "LayoutView",
            "grid_template_rows": null,
            "right": null,
            "justify_content": null,
            "_view_module": "@jupyter-widgets/base",
            "overflow": null,
            "_model_module_version": "1.2.0",
            "_view_count": null,
            "flex_flow": null,
            "width": null,
            "min_width": null,
            "border": null,
            "align_items": null,
            "bottom": null,
            "_model_module": "@jupyter-widgets/base",
            "top": null,
            "grid_column": null,
            "overflow_y": null,
            "overflow_x": null,
            "grid_auto_flow": null,
            "grid_area": null,
            "grid_template_columns": null,
            "flex": null,
            "_model_name": "LayoutModel",
            "justify_items": null,
            "grid_row": null,
            "max_height": null,
            "align_content": null,
            "visibility": null,
            "align_self": null,
            "height": null,
            "min_height": null,
            "padding": null,
            "grid_auto_rows": null,
            "grid_gap": null,
            "max_width": null,
            "order": null,
            "_view_module_version": "1.2.0",
            "grid_template_areas": null,
            "object_position": null,
            "object_fit": null,
            "grid_auto_columns": null,
            "margin": null,
            "display": null,
            "left": null
          }
        },
        "5445d4eed7d04ecfaa52a77bdf950bcb": {
          "model_module": "@jupyter-widgets/controls",
          "model_name": "DescriptionStyleModel",
          "model_module_version": "1.5.0",
          "state": {
            "_view_name": "StyleView",
            "_model_name": "DescriptionStyleModel",
            "description_width": "",
            "_view_module": "@jupyter-widgets/base",
            "_model_module_version": "1.5.0",
            "_view_count": null,
            "_view_module_version": "1.2.0",
            "_model_module": "@jupyter-widgets/controls"
          }
        },
        "129a143d3c2c4bd39ac341b962e62d86": {
          "model_module": "@jupyter-widgets/base",
          "model_name": "LayoutModel",
          "model_module_version": "1.2.0",
          "state": {
            "_view_name": "LayoutView",
            "grid_template_rows": null,
            "right": null,
            "justify_content": null,
            "_view_module": "@jupyter-widgets/base",
            "overflow": null,
            "_model_module_version": "1.2.0",
            "_view_count": null,
            "flex_flow": null,
            "width": null,
            "min_width": null,
            "border": null,
            "align_items": null,
            "bottom": null,
            "_model_module": "@jupyter-widgets/base",
            "top": null,
            "grid_column": null,
            "overflow_y": null,
            "overflow_x": null,
            "grid_auto_flow": null,
            "grid_area": null,
            "grid_template_columns": null,
            "flex": null,
            "_model_name": "LayoutModel",
            "justify_items": null,
            "grid_row": null,
            "max_height": null,
            "align_content": null,
            "visibility": null,
            "align_self": null,
            "height": null,
            "min_height": null,
            "padding": null,
            "grid_auto_rows": null,
            "grid_gap": null,
            "max_width": null,
            "order": null,
            "_view_module_version": "1.2.0",
            "grid_template_areas": null,
            "object_position": null,
            "object_fit": null,
            "grid_auto_columns": null,
            "margin": null,
            "display": null,
            "left": null
          }
        }
      }
    }
  },
  "cells": [
    {
      "cell_type": "markdown",
      "metadata": {
        "id": "view-in-github",
        "colab_type": "text"
      },
      "source": [
        "<a href=\"https://colab.research.google.com/github/Studiegruppe-TM/datascience_proj/blob/main/DistilBert_Liar_6000_training_og_svc_linear_.ipynb\" target=\"_parent\"><img src=\"https://colab.research.google.com/assets/colab-badge.svg\" alt=\"Open In Colab\"/></a>"
      ]
    },
    {
      "cell_type": "code",
      "metadata": {
        "id": "inqEjMWz-Cth",
        "colab": {
          "base_uri": "https://localhost:8080/"
        },
        "outputId": "cf50dce2-7cf6-4387-ec42-418c7d1ce7e1"
      },
      "source": [
        "from io import BytesIO\n",
        "from zipfile import ZipFile\n",
        "from urllib.request import urlopen\n",
        "import csv\n",
        "import pandas as pd\n",
        "import numpy as np\n",
        "\n",
        "from collections import Counter\n",
        "\n",
        "#google halloej \n",
        "from google.colab import drive\n",
        "drive.mount('/content/drive')\n",
        "\n",
        "\n",
        "#list=[]\n",
        "#result = [list]\n",
        "#articles = '/content/drive/MyDrive/data science colab notesbooks/train.tsv'\n",
        "#for chunk in pd.read_csv(articles, chunksize=100, sep='\\t'):\n",
        "#  result.append(chunk)\n",
        "\n",
        "\n",
        "\n",
        "#total = sum(result)\n",
        "\n",
        "\n",
        "#articles = df_1.fillna('a')\n",
        "\n",
        "#zipfile = ZipFile(BytesIO(resp.read()))\n",
        "#articles = pd.read_csv(zipfile.open(zipfile.namelist()[0]))\n",
        "\n",
        "# Subset for faster processing\n",
        "\n"
      ],
      "id": "inqEjMWz-Cth",
      "execution_count": 18,
      "outputs": [
        {
          "output_type": "stream",
          "text": [
            "Drive already mounted at /content/drive; to attempt to forcibly remount, call drive.mount(\"/content/drive\", force_remount=True).\n"
          ],
          "name": "stdout"
        }
      ]
    },
    {
      "cell_type": "code",
      "metadata": {
        "id": "7xYkXFgjGExe",
        "colab": {
          "base_uri": "https://localhost:8080/"
        },
        "outputId": "02cab291-8290-421e-8dc0-db49ab2f1855"
      },
      "source": [
        "from google.colab import drive\n",
        "drive.mount('/content/drive')"
      ],
      "id": "7xYkXFgjGExe",
      "execution_count": 19,
      "outputs": [
        {
          "output_type": "stream",
          "text": [
            "Drive already mounted at /content/drive; to attempt to forcibly remount, call drive.mount(\"/content/drive\", force_remount=True).\n"
          ],
          "name": "stdout"
        }
      ]
    },
    {
      "cell_type": "code",
      "metadata": {
        "id": "XeBvnN2S66pp",
        "colab": {
          "base_uri": "https://localhost:8080/"
        },
        "outputId": "057b97e7-bd86-48a8-9766-5a56421c5359"
      },
      "source": [
        "#list=[]\n",
        "#result = [list]\n",
        "#articles = '/content/drive/MyDrive/data science colab notesbooks/train.tsv'\n",
        "#for chunk in pd.read_csv(articles, chunksize=1000,names=[]\n",
        "                                                         \n",
        "\n",
        "import json\n",
        "import pandas as pd\n",
        "\n",
        "train = pd.read_csv('/content/drive/MyDrive/data_science_rapport_august_2021/liar_dataset/train.tsv', sep='\\t')\n",
        "result= pd.read_csv('/content/drive/MyDrive/data_science_rapport_august_2021/liar_dataset/test.tsv', sep='\\t')\n",
        "\n",
        "\n",
        "#train1 = []\n",
        "#for chunk in pd.read_csv('/content/drive/MyDrive/data_science_rapport_august_2021/FakeNewsCorpus_dataset/fakenews.csv')\n",
        " # chunksize=1000,names=['id', 'content']):\n",
        "#    train1.append(chunk)\n",
        "\n",
        "#articles = '/content/drive/MyDrive/data science colab notesbooks/train.tsv'\n",
        "#for chunk in pd.read_csv('/content/drive/MyDrive/data_science_rapport_august_2021/news_sample.csv', chunksize=1000, sep='\\t'):\n",
        "  #train1.append(chunk)\n",
        "\n",
        "\n",
        "#print(chunk)\n",
        "#train = df.concat([train1[0], train[1], train1[2], train1[3], train1[4], train1[5], train1[6], train1[7], train1[8], train1[9])\n",
        "\n",
        "result_1 = result.iloc[: 800, 0:14]\n",
        "result_2 = result.iloc[800: 1266, 0:14]\n",
        "\n",
        "\n",
        "train_1 = train.iloc[: 1000, 0:14]\n",
        "train_2 = train.iloc[1000: 2000, 0:14]\n",
        "train_3 = train.iloc[2000: 3000, 0:14]\n",
        "train_4 = train.iloc[3000: 4000, 0:14]\n",
        "train_5 = train.iloc[4000: 5000, 0:14]\n",
        "train_6 = train.iloc[5000: 6000, 0:14]\n",
        "#train_7 = train.iloc[6000: 7000, 0:6]\n",
        "#train_8 = train.iloc[7000: 8000, 0:6]\n",
        "#train_9 = train.iloc[8000: 9000, 0:6]\n",
        "#train_10 = train.iloc[9000: 10238 , 0:6]\n",
        "\n",
        "print(train_1)"
      ],
      "id": "XeBvnN2S66pp",
      "execution_count": 20,
      "outputs": [
        {
          "output_type": "stream",
          "text": [
            "      2635.json  ...                                           a mailer\n",
            "0    10540.json  ...                                    a floor speech.\n",
            "1      324.json  ...                                             Denver\n",
            "2     1123.json  ...                                     a news release\n",
            "3     9028.json  ...                                an interview on CNN\n",
            "4    12465.json  ...                          a an online opinion-piece\n",
            "..          ...  ...                                                ...\n",
            "995  12243.json  ...                   the Brooklyn presidential debate\n",
            "996   3712.json  ...  a Republican presidential debate in South Caro...\n",
            "997   7974.json  ...                                     an ad campaign\n",
            "998   6420.json  ...              an interview posted on BlueJersey.com\n",
            "999   4532.json  ...                                campaign literature\n",
            "\n",
            "[1000 rows x 14 columns]\n"
          ],
          "name": "stdout"
        }
      ]
    },
    {
      "cell_type": "code",
      "metadata": {
        "id": "dxZRm5c4f2JI"
      },
      "source": [
        ""
      ],
      "id": "dxZRm5c4f2JI",
      "execution_count": 20,
      "outputs": []
    },
    {
      "cell_type": "code",
      "metadata": {
        "id": "7j8rq-sr-Ctm",
        "colab": {
          "base_uri": "https://localhost:8080/"
        },
        "outputId": "951644cc-5162-4b2c-b62c-b76848af0337"
      },
      "source": [
        "print(result_1)\n"
      ],
      "id": "7j8rq-sr-Ctm",
      "execution_count": 21,
      "outputs": [
        {
          "output_type": "stream",
          "text": [
            "     11972.json         true  ...  18                            Radio interview\n",
            "0    11685.json        false  ...   0                          a news conference\n",
            "1    11096.json        false  ...  61               comments on ABC's This Week.\n",
            "2     5209.json    half-true  ...   1                               a radio show\n",
            "3     9524.json   pants-fire  ...   7                                a web video\n",
            "4     5962.json         true  ...   0                         a campaign website\n",
            "..          ...          ...  ...  ..                                        ...\n",
            "795   8758.json    half-true  ...   9                            a Facebook post\n",
            "796   4442.json    half-true  ...   3  a Republican presidential debate in Tampa\n",
            "797   7930.json         true  ...   0            a U.S. House committee meeting.\n",
            "798  12122.json  mostly-true  ...   2                          a news conference\n",
            "799   6678.json         true  ...   0                    an interview on NJToday\n",
            "\n",
            "[800 rows x 14 columns]\n"
          ],
          "name": "stdout"
        }
      ]
    },
    {
      "cell_type": "code",
      "metadata": {
        "id": "vkcFEW4dWf-7",
        "colab": {
          "base_uri": "https://localhost:8080/"
        },
        "outputId": "bbce10d5-3be2-4f31-d976-05410232e36c"
      },
      "source": [
        "#print(ubaad_new1) \n",
        "#print(ubaad_new2)\n",
        "\n",
        "\n",
        "t = range(0,200)\n",
        "pu = result_1\n",
        "\n",
        "import itertools\n",
        "\n",
        "correct_next_element = 1\n",
        "\n",
        "#skifte element i result[i] \n",
        "new_List = [range(2,10000)] # Vi er sgu ikke helt sikre på det her \n",
        "list_cycle = itertools.cycle(new_List)\n",
        "next(list_cycle)\n",
        "\n",
        "#for i in result:\n",
        "\n",
        "#Gammelt stuff\n",
        "   #print(pu['type'])\n",
        "   #pu['label'] = 'real'\n",
        "   #pu.loc[pu['type'] == 'fake', 'label'] = 'fake'\n",
        "   \n",
        "#Hvad vi definerer som korrekte labels\n",
        "#pu['1'] = 'fake'\n",
        "#pu.loc[pu[1] == 'real', 'label'] = 'real'\n",
        "#pu.loc[pu[1] == 'political', 'label'] = 'real'\n",
        "#pu.loc[pu[1] == 'reliable', 'label'] = 'real'\n",
        "\n",
        "#Andet gammelt stugff\n",
        "   #pu = result[w]\n",
        "   #pu2 = result[w + 1]\n",
        "\n",
        "#skifte element i result[i]\n",
        "   #next_element = next(list_cycle)\n",
        "   #print(next_element)\n",
        "   #correct_next_element = next_element\n",
        "   #print(correct_next_element)\n",
        "   \n",
        "   #pu = result[correct_next_element]\n",
        "   #print(pu)\n",
        "\n",
        "#print(result[2]['label'])\n",
        "\n",
        "\n"
      ],
      "id": "vkcFEW4dWf-7",
      "execution_count": 22,
      "outputs": [
        {
          "output_type": "execute_result",
          "data": {
            "text/plain": [
              "range(2, 10000)"
            ]
          },
          "metadata": {
            "tags": []
          },
          "execution_count": 22
        }
      ]
    },
    {
      "cell_type": "code",
      "metadata": {
        "id": "9Aa7jQE5cAZ9",
        "colab": {
          "base_uri": "https://localhost:8080/"
        },
        "outputId": "7dd4e03a-9ee7-4ea3-81e2-3798b5bd47c3"
      },
      "source": [
        "print(train_2['Says the Annies List political group supports third-trimester abortions on demand.'])"
      ],
      "id": "9Aa7jQE5cAZ9",
      "execution_count": 32,
      "outputs": [
        {
          "output_type": "stream",
          "text": [
            "1000    Barack Obama \"wants the government to take ove...\n",
            "1001            We have 25 million Americans out of work.\n",
            "1002    The national debt increased $16,000 every seco...\n",
            "1003    Our small staff of 51 is still fewer than we h...\n",
            "1004    Guantanamo Bay detainees will get the H1N1 vac...\n",
            "                              ...                        \n",
            "1995    States still face a mandate to expand Medicaid...\n",
            "1996    SaysTom Cotton voted against preparing America...\n",
            "1997    Since President Obama took full control of Was...\n",
            "1998    Says Nancy Pelosi said, Waiting long hours in ...\n",
            "1999    The DREAM Act was written by members of both p...\n",
            "Name: Says the Annies List political group supports third-trimester abortions on demand., Length: 1000, dtype: object\n"
          ],
          "name": "stdout"
        }
      ]
    },
    {
      "cell_type": "markdown",
      "metadata": {
        "id": "nZD6Y9LD-Ctn"
      },
      "source": [
        "# **DistilBERT delen**"
      ],
      "id": "nZD6Y9LD-Ctn"
    },
    {
      "cell_type": "code",
      "metadata": {
        "id": "-FLpPzBp-Cto",
        "colab": {
          "base_uri": "https://localhost:8080/"
        },
        "outputId": "a65af6ad-752f-436e-ddbb-2d71421d4c38"
      },
      "source": [
        "# Install the transformer package (the models used for creating the embeddings)\n",
        "!pip install transformers"
      ],
      "id": "-FLpPzBp-Cto",
      "execution_count": 33,
      "outputs": [
        {
          "output_type": "stream",
          "text": [
            "Collecting transformers\n",
            "  Downloading transformers-4.9.2-py3-none-any.whl (2.6 MB)\n",
            "\u001b[K     |████████████████████████████████| 2.6 MB 8.3 MB/s \n",
            "\u001b[?25hCollecting pyyaml>=5.1\n",
            "  Downloading PyYAML-5.4.1-cp37-cp37m-manylinux1_x86_64.whl (636 kB)\n",
            "\u001b[K     |████████████████████████████████| 636 kB 56.7 MB/s \n",
            "\u001b[?25hRequirement already satisfied: filelock in /usr/local/lib/python3.7/dist-packages (from transformers) (3.0.12)\n",
            "Requirement already satisfied: requests in /usr/local/lib/python3.7/dist-packages (from transformers) (2.23.0)\n",
            "Collecting tokenizers<0.11,>=0.10.1\n",
            "  Downloading tokenizers-0.10.3-cp37-cp37m-manylinux_2_5_x86_64.manylinux1_x86_64.manylinux_2_12_x86_64.manylinux2010_x86_64.whl (3.3 MB)\n",
            "\u001b[K     |████████████████████████████████| 3.3 MB 62.4 MB/s \n",
            "\u001b[?25hRequirement already satisfied: tqdm>=4.27 in /usr/local/lib/python3.7/dist-packages (from transformers) (4.62.0)\n",
            "Collecting sacremoses\n",
            "  Downloading sacremoses-0.0.45-py3-none-any.whl (895 kB)\n",
            "\u001b[K     |████████████████████████████████| 895 kB 33.4 MB/s \n",
            "\u001b[?25hRequirement already satisfied: numpy>=1.17 in /usr/local/lib/python3.7/dist-packages (from transformers) (1.19.5)\n",
            "Requirement already satisfied: regex!=2019.12.17 in /usr/local/lib/python3.7/dist-packages (from transformers) (2019.12.20)\n",
            "Requirement already satisfied: importlib-metadata in /usr/local/lib/python3.7/dist-packages (from transformers) (4.6.3)\n",
            "Collecting huggingface-hub==0.0.12\n",
            "  Downloading huggingface_hub-0.0.12-py3-none-any.whl (37 kB)\n",
            "Requirement already satisfied: packaging in /usr/local/lib/python3.7/dist-packages (from transformers) (21.0)\n",
            "Requirement already satisfied: typing-extensions in /usr/local/lib/python3.7/dist-packages (from huggingface-hub==0.0.12->transformers) (3.7.4.3)\n",
            "Requirement already satisfied: pyparsing>=2.0.2 in /usr/local/lib/python3.7/dist-packages (from packaging->transformers) (2.4.7)\n",
            "Requirement already satisfied: zipp>=0.5 in /usr/local/lib/python3.7/dist-packages (from importlib-metadata->transformers) (3.5.0)\n",
            "Requirement already satisfied: idna<3,>=2.5 in /usr/local/lib/python3.7/dist-packages (from requests->transformers) (2.10)\n",
            "Requirement already satisfied: chardet<4,>=3.0.2 in /usr/local/lib/python3.7/dist-packages (from requests->transformers) (3.0.4)\n",
            "Requirement already satisfied: urllib3!=1.25.0,!=1.25.1,<1.26,>=1.21.1 in /usr/local/lib/python3.7/dist-packages (from requests->transformers) (1.24.3)\n",
            "Requirement already satisfied: certifi>=2017.4.17 in /usr/local/lib/python3.7/dist-packages (from requests->transformers) (2021.5.30)\n",
            "Requirement already satisfied: six in /usr/local/lib/python3.7/dist-packages (from sacremoses->transformers) (1.15.0)\n",
            "Requirement already satisfied: click in /usr/local/lib/python3.7/dist-packages (from sacremoses->transformers) (7.1.2)\n",
            "Requirement already satisfied: joblib in /usr/local/lib/python3.7/dist-packages (from sacremoses->transformers) (1.0.1)\n",
            "Installing collected packages: tokenizers, sacremoses, pyyaml, huggingface-hub, transformers\n",
            "  Attempting uninstall: pyyaml\n",
            "    Found existing installation: PyYAML 3.13\n",
            "    Uninstalling PyYAML-3.13:\n",
            "      Successfully uninstalled PyYAML-3.13\n",
            "Successfully installed huggingface-hub-0.0.12 pyyaml-5.4.1 sacremoses-0.0.45 tokenizers-0.10.3 transformers-4.9.2\n"
          ],
          "name": "stdout"
        }
      ]
    },
    {
      "cell_type": "code",
      "metadata": {
        "id": "zRHpgTYr1pKF",
        "colab": {
          "base_uri": "https://localhost:8080/",
          "height": 1000,
          "referenced_widgets": [
            "413d9b05ccd042d69bbafdd213f52a03",
            "66dc2355ea574ba2a219f62e2bdfc316",
            "12778dfe647f44af82beceb3c00e4ca0",
            "c28af932f7aa4966964fc6e5d9b4b897",
            "7b8e30bf88814514b380537268f56bd6",
            "e3c25ef16d5a450c8173b4af9adeb03e",
            "37cb1787d62b4ddfb66268d2d5d33a78",
            "fa4b4124aff444e6afc285937460d2c6",
            "9b873046b62f4a3abc0ef29ecee84fe8",
            "d6966f33be994ea28aa271370dbcb233",
            "cff5806e83474d7a87f0d5f9400a92b2",
            "96037e9799ec4a319a897c5159971cbb",
            "c293403d238746728cbcbfd49f95713e",
            "7f325454ccb84112bd1990d5a451ae48",
            "06dd3a2cb7b74173ae821a6fad7b07fd",
            "c7c18b4619984b86bf1be25e59650a2c",
            "bc5f6eab70c344eab55ce2aae2dfc821",
            "0a989051d5ab44e5b3ec0d5d7e4dd04e",
            "4d24d95fbc9f431cb3737038f20711c7",
            "6960946d293a4843ab2791be83748987",
            "9095ed52e0a54593a7e2e2f9ec39a8e1",
            "c3e6db79c1694173a37d08c3b085aeb0",
            "1802f75b0edf493c948415caaf53103d",
            "2a98ddd6c9fa405e8c5acd18ee7d0bea",
            "7c12f6b83e4d466d8f53867a20d532bf",
            "5bd2c432cf834e1dabec2d7d12050d0f",
            "b1be69d45d824629bfb59ff5ba4e5eda",
            "4297e2d6c8204fbca923c2e5d5f3842b",
            "bc40266fed07466eaff0fab71b635b44",
            "dbc21b5789694bd9a709eb5b97369fd6",
            "776ffa9bb0f84178969f8619823333a4",
            "2fa69e46840947f7987619c9c7dc75ec",
            "4f124deda578440e97677fb3be0a57e4",
            "ff375d81bdee4131a63a506c0c55f0cb",
            "b90feff35d5d43529946faca0ad35787",
            "5dabb195942c4aeab96ce822fd2b6cd3",
            "94a40a86cf2e4bbd95b0fdda99ce6661",
            "1223b861660540258d0dcf90d2cd9226",
            "0b3ba7372e4449fcbe908750a28e6db9",
            "e5ecf6bb9ea14ca587185f5c94fdf62d",
            "5e98ed4ad7324288a93e7766a2f39129",
            "aabe5de32186449c810990a2a65775f3",
            "9667621d0c294e458a16eeb640b4fb86",
            "9b0cb565fd9647688fa5c1b6118d4b1c",
            "a57a113ba3f849caa42632cefa34ce96",
            "de0d74a2ec2c4c34ad34e9a75c4448da",
            "dd8aa5c07bdf4ac384293f3cec920d68",
            "6539b0287e6d4881afa04c1f35cfd12a",
            "40301dd917da4e9bbebd45f7d5d6c4a1",
            "ff8f9e0875cc4e54a3fdbd503f508f9f",
            "3c7ba7b543454fe689d84f368bd5988e",
            "7b567c82507f4332aba2e420deece56e",
            "d7b9a0b8554a41aa952c0b93deac1ea7",
            "5445d4eed7d04ecfaa52a77bdf950bcb",
            "129a143d3c2c4bd39ac341b962e62d86"
          ]
        },
        "outputId": "bda86ed9-c0e6-4c2d-e92b-d8e0b27fd141"
      },
      "source": [
        "import transformers as ppb # pytorch transformers\n",
        "import torch\n",
        "\n",
        "# Create tokenizer and model input\n",
        "tokenizer = ppb.DistilBertTokenizer.from_pretrained('distilbert-base-uncased')\n",
        "model = ppb.DistilBertModel.from_pretrained('distilbert-base-uncased')\n",
        "\n",
        "# Switch to eval mode (rather than training mode) - this potentially gives a slight speedup\n",
        "model.eval()"
      ],
      "id": "zRHpgTYr1pKF",
      "execution_count": 34,
      "outputs": [
        {
          "output_type": "display_data",
          "data": {
            "application/vnd.jupyter.widget-view+json": {
              "model_id": "413d9b05ccd042d69bbafdd213f52a03",
              "version_minor": 0,
              "version_major": 2
            },
            "text/plain": [
              "Downloading:   0%|          | 0.00/232k [00:00<?, ?B/s]"
            ]
          },
          "metadata": {
            "tags": []
          }
        },
        {
          "output_type": "display_data",
          "data": {
            "application/vnd.jupyter.widget-view+json": {
              "model_id": "96037e9799ec4a319a897c5159971cbb",
              "version_minor": 0,
              "version_major": 2
            },
            "text/plain": [
              "Downloading:   0%|          | 0.00/28.0 [00:00<?, ?B/s]"
            ]
          },
          "metadata": {
            "tags": []
          }
        },
        {
          "output_type": "display_data",
          "data": {
            "application/vnd.jupyter.widget-view+json": {
              "model_id": "1802f75b0edf493c948415caaf53103d",
              "version_minor": 0,
              "version_major": 2
            },
            "text/plain": [
              "Downloading:   0%|          | 0.00/466k [00:00<?, ?B/s]"
            ]
          },
          "metadata": {
            "tags": []
          }
        },
        {
          "output_type": "display_data",
          "data": {
            "application/vnd.jupyter.widget-view+json": {
              "model_id": "ff375d81bdee4131a63a506c0c55f0cb",
              "version_minor": 0,
              "version_major": 2
            },
            "text/plain": [
              "Downloading:   0%|          | 0.00/442 [00:00<?, ?B/s]"
            ]
          },
          "metadata": {
            "tags": []
          }
        },
        {
          "output_type": "display_data",
          "data": {
            "application/vnd.jupyter.widget-view+json": {
              "model_id": "a57a113ba3f849caa42632cefa34ce96",
              "version_minor": 0,
              "version_major": 2
            },
            "text/plain": [
              "Downloading:   0%|          | 0.00/268M [00:00<?, ?B/s]"
            ]
          },
          "metadata": {
            "tags": []
          }
        },
        {
          "output_type": "stream",
          "text": [
            "Some weights of the model checkpoint at distilbert-base-uncased were not used when initializing DistilBertModel: ['vocab_transform.weight', 'vocab_layer_norm.bias', 'vocab_projector.bias', 'vocab_projector.weight', 'vocab_layer_norm.weight', 'vocab_transform.bias']\n",
            "- This IS expected if you are initializing DistilBertModel from the checkpoint of a model trained on another task or with another architecture (e.g. initializing a BertForSequenceClassification model from a BertForPreTraining model).\n",
            "- This IS NOT expected if you are initializing DistilBertModel from the checkpoint of a model that you expect to be exactly identical (initializing a BertForSequenceClassification model from a BertForSequenceClassification model).\n"
          ],
          "name": "stderr"
        },
        {
          "output_type": "execute_result",
          "data": {
            "text/plain": [
              "DistilBertModel(\n",
              "  (embeddings): Embeddings(\n",
              "    (word_embeddings): Embedding(30522, 768, padding_idx=0)\n",
              "    (position_embeddings): Embedding(512, 768)\n",
              "    (LayerNorm): LayerNorm((768,), eps=1e-12, elementwise_affine=True)\n",
              "    (dropout): Dropout(p=0.1, inplace=False)\n",
              "  )\n",
              "  (transformer): Transformer(\n",
              "    (layer): ModuleList(\n",
              "      (0): TransformerBlock(\n",
              "        (attention): MultiHeadSelfAttention(\n",
              "          (dropout): Dropout(p=0.1, inplace=False)\n",
              "          (q_lin): Linear(in_features=768, out_features=768, bias=True)\n",
              "          (k_lin): Linear(in_features=768, out_features=768, bias=True)\n",
              "          (v_lin): Linear(in_features=768, out_features=768, bias=True)\n",
              "          (out_lin): Linear(in_features=768, out_features=768, bias=True)\n",
              "        )\n",
              "        (sa_layer_norm): LayerNorm((768,), eps=1e-12, elementwise_affine=True)\n",
              "        (ffn): FFN(\n",
              "          (dropout): Dropout(p=0.1, inplace=False)\n",
              "          (lin1): Linear(in_features=768, out_features=3072, bias=True)\n",
              "          (lin2): Linear(in_features=3072, out_features=768, bias=True)\n",
              "        )\n",
              "        (output_layer_norm): LayerNorm((768,), eps=1e-12, elementwise_affine=True)\n",
              "      )\n",
              "      (1): TransformerBlock(\n",
              "        (attention): MultiHeadSelfAttention(\n",
              "          (dropout): Dropout(p=0.1, inplace=False)\n",
              "          (q_lin): Linear(in_features=768, out_features=768, bias=True)\n",
              "          (k_lin): Linear(in_features=768, out_features=768, bias=True)\n",
              "          (v_lin): Linear(in_features=768, out_features=768, bias=True)\n",
              "          (out_lin): Linear(in_features=768, out_features=768, bias=True)\n",
              "        )\n",
              "        (sa_layer_norm): LayerNorm((768,), eps=1e-12, elementwise_affine=True)\n",
              "        (ffn): FFN(\n",
              "          (dropout): Dropout(p=0.1, inplace=False)\n",
              "          (lin1): Linear(in_features=768, out_features=3072, bias=True)\n",
              "          (lin2): Linear(in_features=3072, out_features=768, bias=True)\n",
              "        )\n",
              "        (output_layer_norm): LayerNorm((768,), eps=1e-12, elementwise_affine=True)\n",
              "      )\n",
              "      (2): TransformerBlock(\n",
              "        (attention): MultiHeadSelfAttention(\n",
              "          (dropout): Dropout(p=0.1, inplace=False)\n",
              "          (q_lin): Linear(in_features=768, out_features=768, bias=True)\n",
              "          (k_lin): Linear(in_features=768, out_features=768, bias=True)\n",
              "          (v_lin): Linear(in_features=768, out_features=768, bias=True)\n",
              "          (out_lin): Linear(in_features=768, out_features=768, bias=True)\n",
              "        )\n",
              "        (sa_layer_norm): LayerNorm((768,), eps=1e-12, elementwise_affine=True)\n",
              "        (ffn): FFN(\n",
              "          (dropout): Dropout(p=0.1, inplace=False)\n",
              "          (lin1): Linear(in_features=768, out_features=3072, bias=True)\n",
              "          (lin2): Linear(in_features=3072, out_features=768, bias=True)\n",
              "        )\n",
              "        (output_layer_norm): LayerNorm((768,), eps=1e-12, elementwise_affine=True)\n",
              "      )\n",
              "      (3): TransformerBlock(\n",
              "        (attention): MultiHeadSelfAttention(\n",
              "          (dropout): Dropout(p=0.1, inplace=False)\n",
              "          (q_lin): Linear(in_features=768, out_features=768, bias=True)\n",
              "          (k_lin): Linear(in_features=768, out_features=768, bias=True)\n",
              "          (v_lin): Linear(in_features=768, out_features=768, bias=True)\n",
              "          (out_lin): Linear(in_features=768, out_features=768, bias=True)\n",
              "        )\n",
              "        (sa_layer_norm): LayerNorm((768,), eps=1e-12, elementwise_affine=True)\n",
              "        (ffn): FFN(\n",
              "          (dropout): Dropout(p=0.1, inplace=False)\n",
              "          (lin1): Linear(in_features=768, out_features=3072, bias=True)\n",
              "          (lin2): Linear(in_features=3072, out_features=768, bias=True)\n",
              "        )\n",
              "        (output_layer_norm): LayerNorm((768,), eps=1e-12, elementwise_affine=True)\n",
              "      )\n",
              "      (4): TransformerBlock(\n",
              "        (attention): MultiHeadSelfAttention(\n",
              "          (dropout): Dropout(p=0.1, inplace=False)\n",
              "          (q_lin): Linear(in_features=768, out_features=768, bias=True)\n",
              "          (k_lin): Linear(in_features=768, out_features=768, bias=True)\n",
              "          (v_lin): Linear(in_features=768, out_features=768, bias=True)\n",
              "          (out_lin): Linear(in_features=768, out_features=768, bias=True)\n",
              "        )\n",
              "        (sa_layer_norm): LayerNorm((768,), eps=1e-12, elementwise_affine=True)\n",
              "        (ffn): FFN(\n",
              "          (dropout): Dropout(p=0.1, inplace=False)\n",
              "          (lin1): Linear(in_features=768, out_features=3072, bias=True)\n",
              "          (lin2): Linear(in_features=3072, out_features=768, bias=True)\n",
              "        )\n",
              "        (output_layer_norm): LayerNorm((768,), eps=1e-12, elementwise_affine=True)\n",
              "      )\n",
              "      (5): TransformerBlock(\n",
              "        (attention): MultiHeadSelfAttention(\n",
              "          (dropout): Dropout(p=0.1, inplace=False)\n",
              "          (q_lin): Linear(in_features=768, out_features=768, bias=True)\n",
              "          (k_lin): Linear(in_features=768, out_features=768, bias=True)\n",
              "          (v_lin): Linear(in_features=768, out_features=768, bias=True)\n",
              "          (out_lin): Linear(in_features=768, out_features=768, bias=True)\n",
              "        )\n",
              "        (sa_layer_norm): LayerNorm((768,), eps=1e-12, elementwise_affine=True)\n",
              "        (ffn): FFN(\n",
              "          (dropout): Dropout(p=0.1, inplace=False)\n",
              "          (lin1): Linear(in_features=768, out_features=3072, bias=True)\n",
              "          (lin2): Linear(in_features=3072, out_features=768, bias=True)\n",
              "        )\n",
              "        (output_layer_norm): LayerNorm((768,), eps=1e-12, elementwise_affine=True)\n",
              "      )\n",
              "    )\n",
              "  )\n",
              ")"
            ]
          },
          "metadata": {
            "tags": []
          },
          "execution_count": 34
        }
      ]
    },
    {
      "cell_type": "code",
      "metadata": {
        "id": "Wtk0lvDVDkcZ",
        "colab": {
          "base_uri": "https://localhost:8080/"
        },
        "outputId": "343752e1-147c-4bcd-ff4a-a6463d8c306f"
      },
      "source": [
        "\n",
        "#Tokenize fake news data \n",
        "fakenews_train_tokenized1 = train_1['Says the Annies List political group supports third-trimester abortions on demand.'].apply((lambda x: tokenizer.encode(x, add_special_tokens=True)))\n",
        "fakenews_train_tokenized2 = train_2['Says the Annies List political group supports third-trimester abortions on demand.'].apply((lambda x: tokenizer.encode(x, add_special_tokens=True)))\n",
        "fakenews_train_tokenized3 = train_3['Says the Annies List political group supports third-trimester abortions on demand.'].apply((lambda x: tokenizer.encode(x, add_special_tokens=True)))\n",
        "fakenews_train_tokenized4 = train_4['Says the Annies List political group supports third-trimester abortions on demand.'].apply((lambda x: tokenizer.encode(x, add_special_tokens=True)))\n",
        "fakenews_train_tokenized5 = train_5['Says the Annies List political group supports third-trimester abortions on demand.'].apply((lambda x: tokenizer.encode(x, add_special_tokens=True)))\n",
        "fakenews_train_tokenized6 = train_6['Says the Annies List political group supports third-trimester abortions on demand.'].apply((lambda x: tokenizer.encode(x, add_special_tokens=True)))\n",
        "fakenews_train_tokenized7 = train_7['Says the Annies List political group supports third-trimester abortions on demand.'].apply((lambda x: tokenizer.encode(x, add_special_tokens=True)))\n",
        "#fakenews_train_tokenized8 = train_8['content'].apply((lambda x: tokenizer.encode(x, add_special_tokens=True)))\n",
        "#fakenews_train_tokenized9 = train_9['content'].apply((lambda x: tokenizer.encode(x, add_special_tokens=True)))\n",
        "#fakenews_train_tokenized10 = train_10['content'].apply((lambda x: tokenizer.encode(x, add_special_tokens=True)))\n",
        "\n",
        "\n",
        "fake_t11 = fakenews_train_tokenized1.append(fakenews_train_tokenized2) #, tokenized2, tokenized3, tokenized4, tokenized5, tokenized6 )\n",
        "fake_t12 = fake_t11.append(fakenews_train_tokenized3)\n",
        "fake_t13 = fake_t12.append(fakenews_train_tokenized4)\n",
        "fake_t14 = fake_t13.append(fakenews_train_tokenized5)\n",
        "fakenews_train_tokenized = fake_t14.append(fakenews_train_tokenized6)\n",
        "\n",
        "\n",
        "# Pad input so that all sequences are of the same size:\n",
        "max_len = 0\n",
        "for i in fakenews_train_tokenized.values:\n",
        "    if len(i) > max_len:\n",
        "        max_len = len(i)\n",
        "fakenews_train_padded = np.array([i + [0]*(max_len-len(i)) for i in fakenews_train_tokenized.values])\n",
        "\n",
        "# Actually, we can only deal with sequence lengths up to 512 with the DistilBert model, so we'll just truncate \n",
        "fakenews_train_padded = fakenews_train_padded[:,:512]\n",
        "\n",
        "#splitte padded \n",
        "fakenews_train_padded = np.split(fakenews_train_padded,5)\n",
        "\n",
        "# Tell embedding model to disregard pad tokens\n",
        "fakenews_train_attention_mask1 = np.where(fakenews_train_padded[0] != 0, 1, 0)\n",
        "fakenews_train_attention_mask2 = np.where(fakenews_train_padded[1] != 0, 1, 0)\n",
        "fakenews_train_attention_mask3 = np.where(fakenews_train_padded[2] != 0, 1, 0)\n",
        "fakenews_train_attention_mask4 = np.where(fakenews_train_padded[3] != 0, 1, 0)\n",
        "fakenews_train_attention_mask5 = np.where(fakenews_train_padded[4] != 0, 1, 0)\n",
        "\n",
        "#print(padded.shape)\n",
        "#print(fakenews_train_padded)\n",
        "\n",
        "\n"
      ],
      "id": "Wtk0lvDVDkcZ",
      "execution_count": 35,
      "outputs": [
        {
          "output_type": "stream",
          "text": [
            "Token indices sequence length is longer than the specified maximum sequence length for this model (714 > 512). Running this sequence through the model will result in indexing errors\n"
          ],
          "name": "stderr"
        }
      ]
    },
    {
      "cell_type": "code",
      "metadata": {
        "id": "_dCumnGx1sxq",
        "colab": {
          "base_uri": "https://localhost:8080/"
        },
        "outputId": "c5b625d3-fece-4b7c-dc49-333e6ca1e197"
      },
      "source": [
        "\n",
        "# Tokenize jsoninput\n",
        "tokenized1 = result_1['Building a wall on the U.S.-Mexico border will take literally years.'].apply((lambda x: tokenizer.encode(x, add_special_tokens=True)))\n",
        "tokenized2 = result_2['Building a wall on the U.S.-Mexico border will take literally years.'].apply((lambda x: tokenizer.encode(x, add_special_tokens=True)))\n",
        "#tokenized3 = result_3['Building a wall on the U.S.-Mexico border will take literally years.'].apply((lambda x: tokenizer.encode(x, add_special_tokens=True)))\n",
        "#tokenized4 = result_4['article'].apply((lambda x: tokenizer.encode(x, add_special_tokens=True)))\n",
        "#tokenized5 = result_5['article'].apply((lambda x: tokenizer.encode(x, add_special_tokens=True)))\n",
        "#tokenized6 = result_6['article'].apply((lambda x: tokenizer.encode(x, add_special_tokens=True)))\n",
        "\n",
        "tokenized = tokenized1.append(tokenized2) #, tokenized2, tokenized3, tokenized4, tokenized5, tokenized6 )\n",
        "#t12 = t11.append(tokenized3)\n",
        "##t13 = t12.append(tokenized4)\n",
        "#t14 = t13.append(tokenized5)\n",
        "#tokenized = t14.append(tokenized6)\n",
        "\n",
        "\n",
        "# Pad input so that all sequences are of the same size:\n",
        "max_len = 0\n",
        "for i in tokenized.values:\n",
        "    if len(i) > max_len:\n",
        "        max_len = len(i)\n",
        "padded = np.array([i + [0]*(max_len-len(i)) for i in tokenized.values])\n",
        "\n",
        "# Actually, we can only deal with sequence lengths up to 512 with the DistilBert model, so we'll just truncate \n",
        "padded = padded[:,:512]\n",
        "\n",
        "#splitte padded \n",
        "padded = np.split(padded,2)\n",
        "\n",
        "# Tell embedding model to disregard pad tokens\n",
        "attention_mask1 = np.where(padded[0] != 0, 1, 0)\n",
        "attention_mask2 = np.where(padded[1] != 0, 1, 0)\n",
        "#attention_mask3 = np.where(padded[2] != 0, 1, 0)\n",
        "#attention_mask4 = np.where(padded[3] != 0, 1, 0)\n",
        "#attention_mask5 = np.where(padded[4] != 0, 1, 0)\n",
        "\n",
        "#print(padded.shape)\n",
        "print(padded)"
      ],
      "id": "_dCumnGx1sxq",
      "execution_count": 39,
      "outputs": [
        {
          "output_type": "stream",
          "text": [
            "[array([[  101,  5273,  2003, ...,     0,     0,     0],\n",
            "       [  101,  2758,  2198, ...,     0,     0,     0],\n",
            "       [  101, 15146, 14753, ...,     0,     0,     0],\n",
            "       ...,\n",
            "       [  101,  2577,  5747, ...,     0,     0,     0],\n",
            "       [  101,  8112,  2015, ...,     0,     0,     0],\n",
            "       [  101,  1045,  5552, ...,     0,     0,     0]]), array([[ 101, 2758, 1996, ...,    0,    0,    0],\n",
            "       [ 101, 1996, 2047, ...,    0,    0,    0],\n",
            "       [ 101, 2069, 2093, ...,    0,    0,    0],\n",
            "       ...,\n",
            "       [ 101, 1999, 1996, ...,    0,    0,    0],\n",
            "       [ 101, 2758, 2019, ...,    0,    0,    0],\n",
            "       [ 101, 2758, 1996, ...,    0,    0,    0]])]\n"
          ],
          "name": "stdout"
        }
      ]
    },
    {
      "cell_type": "code",
      "metadata": {
        "id": "xG0PMydCrBuv"
      },
      "source": [
        "print(tokenized)"
      ],
      "id": "xG0PMydCrBuv",
      "execution_count": null,
      "outputs": []
    },
    {
      "cell_type": "code",
      "metadata": {
        "id": "1EZ75NWNncWd"
      },
      "source": [
        "\n",
        "\n",
        "\n"
      ],
      "id": "1EZ75NWNncWd",
      "execution_count": null,
      "outputs": []
    },
    {
      "cell_type": "code",
      "metadata": {
        "id": "GfNpY835whBg"
      },
      "source": [
        ""
      ],
      "id": "GfNpY835whBg",
      "execution_count": null,
      "outputs": []
    },
    {
      "cell_type": "code",
      "metadata": {
        "id": "JeniIUJ_B4EW"
      },
      "source": [
        "device = torch.device(\"cpu\")\n",
        "if torch.cuda.is_available():\n",
        "  model = model.cuda()\n",
        "  device = torch.device(\"cuda\")\n",
        "\n",
        "import matplotlib.pyplot as plt\n",
        "from sklearn.decomposition import PCA\n",
        "\n",
        "\n",
        "\n",
        "\n"
      ],
      "id": "JeniIUJ_B4EW",
      "execution_count": 40,
      "outputs": []
    },
    {
      "cell_type": "code",
      "metadata": {
        "id": "hVdpwaFIz0zK"
      },
      "source": [
        ""
      ],
      "id": "hVdpwaFIz0zK",
      "execution_count": null,
      "outputs": []
    },
    {
      "cell_type": "code",
      "metadata": {
        "id": "7Vu7L2i_yk8q"
      },
      "source": [
        "#NUMMER 1 json \n",
        "\n",
        "# Convert input to a pytorch tensor (so that it can be used as input for the embedding model)\n",
        "input = torch.tensor(np.array(padded[0]), device=device)\n",
        "attention_mask = torch.tensor(attention_mask1, device=device)\n",
        "\n",
        "# Embed sequences (processing in batches to avoid memory problems)\n",
        "batch_size= 200\n",
        "embeddings = []\n",
        "for start_index in range(0, input.shape[0], batch_size):\n",
        "  with torch.no_grad():\n",
        "    # Call embedding model\n",
        "    embedding = model(input[start_index:start_index+batch_size], \n",
        "                      attention_mask=attention_mask[start_index:start_index+batch_size])[0][:,0,:]\n",
        "\n",
        "    embeddings.append(embedding)\n",
        "embeddings = torch.cat(embeddings)   # concatenate all batch outputs back into one tensor\n",
        "\n",
        "# Move embeddings back to numpy\n",
        "embeddings = embeddings.cpu().numpy()\n"
      ],
      "id": "7Vu7L2i_yk8q",
      "execution_count": 41,
      "outputs": []
    },
    {
      "cell_type": "code",
      "metadata": {
        "id": "DN8c_Kt2zGho"
      },
      "source": [
        "#NUMMER 2 json \n",
        "\n",
        "# Convert input to a pytorch tensor (so that it can be used as input for the embedding model)\n",
        "input = torch.tensor(np.array(padded[1]), device=device)\n",
        "attention_mask = torch.tensor(attention_mask2, device=device)\n",
        "\n",
        "# Embed sequences (processing in batches to avoid memory problems)\n",
        "batch_size= 200\n",
        "embeddings2 = []\n",
        "for start_index in range(0, input.shape[0], batch_size):\n",
        "  with torch.no_grad():\n",
        "    # Call embedding model\n",
        "    embedding = model(input[start_index:start_index+batch_size], \n",
        "                      attention_mask=attention_mask[start_index:start_index+batch_size])[0][:,0,:]\n",
        "\n",
        "    embeddings2.append(embedding)\n",
        "embeddings2 = torch.cat(embeddings2)   # concatenate all batch outputs back into one tensor\n",
        "\n",
        "# Move embeddings back to numpy\n",
        "embeddings2 = embeddings2.cpu().numpy()\n"
      ],
      "id": "DN8c_Kt2zGho",
      "execution_count": 42,
      "outputs": []
    },
    {
      "cell_type": "code",
      "metadata": {
        "id": "bmUPBqjZHEwt"
      },
      "source": [
        "#NUMMER 1 - FAKE NEWS TRAIN DATA \n",
        "\n",
        "# Convert input to a pytorch tensor (so that it can be used as input for the embedding model)\n",
        "input = torch.tensor(np.array(fakenews_train_padded[0]), device=device)\n",
        "attention_mask = torch.tensor(fakenews_train_attention_mask1, device=device)\n",
        "\n",
        "# Embed sequences (processing in batches to avoid memory problems)\n",
        "batch_size= 200\n",
        "fakenews_train_embeddings1 = []\n",
        "for start_index in range(0, input.shape[0], batch_size):\n",
        "  with torch.no_grad():\n",
        "    # Call embedding model\n",
        "    embedding = model(input[start_index:start_index+batch_size], \n",
        "                      attention_mask=attention_mask[start_index:start_index+batch_size])[0][:,0,:]\n",
        "\n",
        "    fakenews_train_embeddings1.append(embedding)\n",
        "fakenews_train_embeddings1 = torch.cat(fakenews_train_embeddings1)   # concatenate all batch outputs back into one tensor\n",
        "\n",
        "# Move embeddings back to numpy\n",
        "fakenews_train_embeddings1 = fakenews_train_embeddings1.cpu().numpy()\n",
        "\n",
        "\n",
        "\n"
      ],
      "id": "bmUPBqjZHEwt",
      "execution_count": 43,
      "outputs": []
    },
    {
      "cell_type": "code",
      "metadata": {
        "id": "1DEjEoH74cUE"
      },
      "source": [
        "#NUMMER 2 - FAKE NEWS TRAIN DATA \n",
        "\n",
        "# Convert input to a pytorch tensor (so that it can be used as input for the embedding model)\n",
        "input = torch.tensor(np.array(fakenews_train_padded[1]), device=device)\n",
        "attention_mask = torch.tensor(fakenews_train_attention_mask2, device=device)\n",
        "\n",
        "# Embed sequences (processing in batches to avoid memory problems)\n",
        "batch_size= 200\n",
        "fakenews_train_embeddings2 = []\n",
        "for start_index in range(0, input.shape[0], batch_size):\n",
        "  with torch.no_grad():\n",
        "    # Call embedding model\n",
        "    embedding = model(input[start_index:start_index+batch_size], \n",
        "                      attention_mask=attention_mask[start_index:start_index+batch_size])[0][:,0,:]\n",
        "\n",
        "    fakenews_train_embeddings2.append(embedding)\n",
        "fakenews_train_embeddings2= torch.cat(fakenews_train_embeddings2)   # concatenate all batch outputs back into one tensor\n",
        "\n",
        "# Move embeddings back to numpy\n",
        "fakenews_train_embeddings2 = fakenews_train_embeddings2.cpu().numpy()"
      ],
      "id": "1DEjEoH74cUE",
      "execution_count": 44,
      "outputs": []
    },
    {
      "cell_type": "code",
      "metadata": {
        "id": "nyE4Bsp549Xd"
      },
      "source": [
        "#NUMMER 3 - FAKE NEWS TRAIN DATA \n",
        "\n",
        "# Convert input to a pytorch tensor (so that it can be used as input for the embedding model)\n",
        "input = torch.tensor(np.array(fakenews_train_padded[2]), device=device)\n",
        "attention_mask = torch.tensor(fakenews_train_attention_mask3, device=device)\n",
        "\n",
        "# Embed sequences (processing in batches to avoid memory problems)\n",
        "batch_size= 200\n",
        "fakenews_train_embeddings3 = []\n",
        "for start_index in range(0, input.shape[0], batch_size):\n",
        "  with torch.no_grad():\n",
        "    # Call embedding model\n",
        "    embedding = model(input[start_index:start_index+batch_size], \n",
        "                      attention_mask=attention_mask[start_index:start_index+batch_size])[0][:,0,:]\n",
        "\n",
        "    fakenews_train_embeddings3.append(embedding)\n",
        "fakenews_train_embeddings3= torch.cat(fakenews_train_embeddings3)   # concatenate all batch outputs back into one tensor\n",
        "\n",
        "# Move embeddings back to numpy\n",
        "fakenews_train_embeddings3 = fakenews_train_embeddings3.cpu().numpy()"
      ],
      "id": "nyE4Bsp549Xd",
      "execution_count": 45,
      "outputs": []
    },
    {
      "cell_type": "code",
      "metadata": {
        "id": "HIq4gWmI5GPz"
      },
      "source": [
        "#NUMMER 4 - FAKE NEWS TRAIN DATA \n",
        "\n",
        "# Convert input to a pytorch tensor (so that it can be used as input for the embedding model)\n",
        "input = torch.tensor(np.array(fakenews_train_padded[3]), device=device)\n",
        "attention_mask = torch.tensor(fakenews_train_attention_mask4, device=device)\n",
        "\n",
        "# Embed sequences (processing in batches to avoid memory problems)\n",
        "batch_size= 200\n",
        "fakenews_train_embeddings4 = []\n",
        "for start_index in range(0, input.shape[0], batch_size):\n",
        "  with torch.no_grad():\n",
        "    # Call embedding model\n",
        "    embedding = model(input[start_index:start_index+batch_size], \n",
        "                      attention_mask=attention_mask[start_index:start_index+batch_size])[0][:,0,:]\n",
        "\n",
        "    fakenews_train_embeddings4.append(embedding)\n",
        "fakenews_train_embeddings4= torch.cat(fakenews_train_embeddings4)   # concatenate all batch outputs back into one tensor\n",
        "\n",
        "# Move embeddings back to numpy\n",
        "fakenews_train_embeddings4 = fakenews_train_embeddings4.cpu().numpy()"
      ],
      "id": "HIq4gWmI5GPz",
      "execution_count": 46,
      "outputs": []
    },
    {
      "cell_type": "code",
      "metadata": {
        "id": "8xdI2XWS5M3H"
      },
      "source": [
        "#NUMMER 5 - FAKE NEWS TRAIN DATA \n",
        "\n",
        "# Convert input to a pytorch tensor (so that it can be used as input for the embedding model)\n",
        "input = torch.tensor(np.array(fakenews_train_padded[4]), device=device)\n",
        "attention_mask = torch.tensor(fakenews_train_attention_mask5, device=device)\n",
        "\n",
        "# Embed sequences (processing in batches to avoid memory problems)\n",
        "batch_size= 200\n",
        "fakenews_train_embeddings5 = []\n",
        "for start_index in range(0, input.shape[0], batch_size):\n",
        "  with torch.no_grad():\n",
        "    # Call embedding model\n",
        "    embedding = model(input[start_index:start_index+batch_size], \n",
        "                      attention_mask=attention_mask[start_index:start_index+batch_size])[0][:,0,:]\n",
        "\n",
        "    fakenews_train_embeddings5.append(embedding)\n",
        "fakenews_train_embeddings5= torch.cat(fakenews_train_embeddings5)   # concatenate all batch outputs back into one tensor\n",
        "\n",
        "# Move embeddings back to numpy\n",
        "fakenews_train_embeddings5 = fakenews_train_embeddings5.cpu().numpy()"
      ],
      "id": "8xdI2XWS5M3H",
      "execution_count": 47,
      "outputs": []
    },
    {
      "cell_type": "code",
      "metadata": {
        "id": "91jK6UoEb4ZU",
        "colab": {
          "base_uri": "https://localhost:8080/",
          "height": 282
        },
        "outputId": "d9467624-629e-4696-aca7-65988d33692d"
      },
      "source": [
        "#json plot \n",
        "import matplotlib.pyplot as plt\n",
        "from sklearn.decomposition import PCA\n",
        "pca = PCA(n_components=2)\n",
        "\n",
        "embeddings = np.concatenate((embeddings, embeddings2))\n",
        "\n",
        "dim_reduced_embedding = pca.fit_transform(embeddings)#alle embedddings skal sættes sammen inden dette  \n",
        "plt.scatter(dim_reduced_embedding[:,0], dim_reduced_embedding[:,1])"
      ],
      "id": "91jK6UoEb4ZU",
      "execution_count": 49,
      "outputs": [
        {
          "output_type": "execute_result",
          "data": {
            "text/plain": [
              "<matplotlib.collections.PathCollection at 0x7f5694196690>"
            ]
          },
          "metadata": {
            "tags": []
          },
          "execution_count": 49
        },
        {
          "output_type": "display_data",
          "data": {
            "image/png": "[encoded data removed]",
            "text/plain": [
              "<Figure size 432x288 with 1 Axes>"
            ]
          },
          "metadata": {
            "tags": [],
            "needs_background": "light"
          }
        }
      ]
    },
    {
      "cell_type": "code",
      "metadata": {
        "id": "5acwVoOQ5eHA",
        "colab": {
          "base_uri": "https://localhost:8080/",
          "height": 282
        },
        "outputId": "e92688e6-e489-422a-f354-4b7c21743345"
      },
      "source": [
        "#fake news data plot\n",
        "\n",
        "fakenews_train_embeddings = np.concatenate((fakenews_train_embeddings1, fakenews_train_embeddings2, fakenews_train_embeddings3, fakenews_train_embeddings4, fakenews_train_embeddings5))\n",
        "\n",
        "dim_reduced_embedding = pca.fit_transform(fakenews_train_embeddings)#alle embedddings skal sættes sammen inden dette  \n",
        "plt.scatter(dim_reduced_embedding[:,0], dim_reduced_embedding[:,1])\n"
      ],
      "id": "5acwVoOQ5eHA",
      "execution_count": 50,
      "outputs": [
        {
          "output_type": "execute_result",
          "data": {
            "text/plain": [
              "<matplotlib.collections.PathCollection at 0x7f56940d3590>"
            ]
          },
          "metadata": {
            "tags": []
          },
          "execution_count": 50
        },
        {
          "output_type": "display_data",
          "data": {
            "image/png": "[encoded data removed]",
            "text/plain": [
              "<Figure size 432x288 with 1 Axes>"
            ]
          },
          "metadata": {
            "tags": [],
            "needs_background": "light"
          }
        }
      ]
    },
    {
      "cell_type": "code",
      "metadata": {
        "id": "KGENxUS5Mqjq"
      },
      "source": [
        "#print(dim_reduced_embedding[300][0])\n",
        "#print(len(dim_reduced_embedding))"
      ],
      "id": "KGENxUS5Mqjq",
      "execution_count": null,
      "outputs": []
    },
    {
      "cell_type": "code",
      "metadata": {
        "id": "T2wUnGZS_kgZ"
      },
      "source": [
        "#print(result)\n",
        "#print(result['embeddingvaerdi'])\n",
        "#result['embeddingvaerdi'] = 0.0"
      ],
      "id": "T2wUnGZS_kgZ",
      "execution_count": null,
      "outputs": []
    },
    {
      "cell_type": "code",
      "metadata": {
        "id": "nLoXNRUx7lzz"
      },
      "source": [
        "#Tilføje embedding værdi til datasæt \n",
        "#ivaerdi = 0\n",
        "#iivaerdi = 0\n",
        "\n",
        "#for i in range(0,6334):\n",
        "#  result['embeddingvaerdi'][ivaerdi] = (dim_reduced_embedding[iivaerdi][0].astype(float))\n",
        "\n",
        "#  ivaerdi = ivaerdi + 1\n",
        " # iivaerdi = iivaerdi + 1\n",
        "\n",
        "#for i in result:\n",
        " # result['embeddinvaerdi'][i] = dim_reduced_embedding[i][0].astype(float)\n",
        "\n",
        "#print(result['embeddingvaerdi'])"
      ],
      "id": "nLoXNRUx7lzz",
      "execution_count": null,
      "outputs": []
    },
    {
      "cell_type": "code",
      "metadata": {
        "id": "jziznP0J60iX"
      },
      "source": [
        "#Lave labels til json \n",
        "\n",
        "#threshold = 1 # This is the 75th percentile for median house values.\n",
        "\n",
        "\n",
        "\n",
        "#i2vaerdi = 0 \n",
        "#result['label'] = 'FAKE'\n",
        "\n",
        "#for i in range(0,6334):\n",
        "#  if result['embeddingvaerdi'][i] > 1:\n",
        "#     result['label'][i] = 'REAL' #True.astype(float) \n",
        "#  else:\n",
        "#     result['label'][i] = 'FAKE' #False.astype(float) \n",
        "#\n",
        "#  i2vaerdi = i2vaerdi + 1\n",
        "    \n"
      ],
      "id": "jziznP0J60iX",
      "execution_count": null,
      "outputs": []
    },
    {
      "cell_type": "code",
      "metadata": {
        "id": "WF3d46mDCVTp"
      },
      "source": [
        "#print(result['LABEL'][4])\n",
        "#print(result['embeddingvaerdi'][i2vaerdi])\n",
        "#result.loc[result['label'] == 'REAL']\n",
        "\n",
        "#print(result)"
      ],
      "id": "WF3d46mDCVTp",
      "execution_count": null,
      "outputs": []
    },
    {
      "cell_type": "markdown",
      "metadata": {
        "id": "8HlJzsiqUCs7"
      },
      "source": [
        "Generere csv fil: \n",
        "\n"
      ],
      "id": "8HlJzsiqUCs7"
    },
    {
      "cell_type": "code",
      "metadata": {
        "id": "fP7HWZD0UwZ5"
      },
      "source": [
        "#frames2 = (result['id'])\n",
        "\n",
        "#label_AND_id = result[['id',\n",
        " #                     'label']]\n",
        "\n",
        "#label_AND_id.(result['label'])\n",
        "\n",
        "#print(label_AND_id)\n",
        "#label_AND_id.to_csv(r'/content/drive/MyDrive/data_science_rapport_august_2021/csv_to_Kaggle', index = False)\n"
      ],
      "id": "fP7HWZD0UwZ5",
      "execution_count": null,
      "outputs": []
    },
    {
      "cell_type": "code",
      "metadata": {
        "id": "zcRBgbB_LMVi"
      },
      "source": [
        "# labels til original fake news data fil \n",
        "\n",
        "#train['label'] = 'FAKE'\n",
        "#train.loc[train['type'] == 'real', 'label'] = 'REAL'\n",
        "#train.loc[train['type'] == 'political', 'label'] = 'REAL'\n",
        "#train.loc[train['type'] == 'reliable', 'label'] = 'REAL'\n",
        "\n",
        "# orginal værdi 5999 (ikke 6000):\n",
        "#train = train.head(6000)\n"
      ],
      "id": "zcRBgbB_LMVi",
      "execution_count": null,
      "outputs": []
    },
    {
      "cell_type": "markdown",
      "metadata": {
        "id": "McJQFJIhbyfk"
      },
      "source": [
        "# SPLIT TRAIN TEST delen **bold text**"
      ],
      "id": "McJQFJIhbyfk"
    },
    {
      "cell_type": "code",
      "metadata": {
        "id": "-bvu4HE7eAOV"
      },
      "source": [
        "from sklearn.model_selection import train_test_split\n",
        "\n",
        "\n",
        "sum_y_train = []\n",
        "sum_y_val = []\n",
        "sum_y_test = []\n"
      ],
      "id": "-bvu4HE7eAOV",
      "execution_count": null,
      "outputs": []
    },
    {
      "cell_type": "code",
      "metadata": {
        "id": "Zq_CiXFHfJh8"
      },
      "source": [
        "#X_train, X_test, y_train, y_test = train_test_split(\n",
        "#    fakenews_train_embeddings, fakenews_train_embeddings, train['label'], random_state=0)"
      ],
      "id": "Zq_CiXFHfJh8",
      "execution_count": null,
      "outputs": []
    },
    {
      "cell_type": "code",
      "metadata": {
        "id": "pRbGqZ33hB6Y"
      },
      "source": [
        ""
      ],
      "id": "pRbGqZ33hB6Y",
      "execution_count": null,
      "outputs": []
    },
    {
      "cell_type": "code",
      "metadata": {
        "id": "6H59qsMLfWlO"
      },
      "source": [
        "# Use the 40% test set to split further into test and validation set with 50/50 split\n",
        "#X_test, X_val, y_test, y_val = train_test_split(X_test, y_test, test_size=0.5, shuffle=True, stratify=y_test)\n",
        "\n",
        "\n",
        "\n",
        "#print(len(y_train))\n",
        "#print(len(y_val))\n",
        "#print(len(y_test))\n",
        "\n",
        "#sum_y_train.append(len(y_train))\n",
        "#sum_y_val.append(len(y_val))\n",
        "#sum_y_test.append(len(y_test))"
      ],
      "id": "6H59qsMLfWlO",
      "execution_count": null,
      "outputs": []
    },
    {
      "cell_type": "code",
      "metadata": {
        "id": "eh2Qh8erfk99"
      },
      "source": [
        "#print(sum_y_train)\n",
        "#print(sum_y_val)\n",
        "#print(sum_y_test)"
      ],
      "id": "eh2Qh8erfk99",
      "execution_count": null,
      "outputs": []
    },
    {
      "cell_type": "code",
      "metadata": {
        "id": "C0NNEKYOhxdY"
      },
      "source": [
        "#print( result[4]['type']) "
      ],
      "id": "C0NNEKYOhxdY",
      "execution_count": null,
      "outputs": []
    },
    {
      "cell_type": "code",
      "metadata": {
        "id": "hCpF1H8rtj2G"
      },
      "source": [
        "#print(y_train)\n"
      ],
      "id": "hCpF1H8rtj2G",
      "execution_count": null,
      "outputs": []
    },
    {
      "cell_type": "code",
      "metadata": {
        "id": "5LftZKHmQNA0",
        "colab": {
          "base_uri": "https://localhost:8080/"
        },
        "outputId": "28851fc5-cf81-473e-cda8-312ee61c07b8"
      },
      "source": [
        "print(train['false'])"
      ],
      "id": "5LftZKHmQNA0",
      "execution_count": 59,
      "outputs": [
        {
          "output_type": "stream",
          "text": [
            "0          half-true\n",
            "1        mostly-true\n",
            "2              false\n",
            "3          half-true\n",
            "4               true\n",
            "            ...     \n",
            "10234    mostly-true\n",
            "10235    mostly-true\n",
            "10236      half-true\n",
            "10237          false\n",
            "10238     pants-fire\n",
            "Name: false, Length: 10239, dtype: object\n"
          ],
          "name": "stdout"
        }
      ]
    },
    {
      "cell_type": "code",
      "metadata": {
        "id": "VYwkJIFbfdHw",
        "colab": {
          "base_uri": "https://localhost:8080/"
        },
        "outputId": "4d544c40-0060-44fa-a1da-358c722bb841"
      },
      "source": [
        "from sklearn.svm import SVC\n",
        "from sklearn.metrics import accuracy_score\n",
        "\n",
        "# Define the classifier classes\n",
        "svc = SVC(kernel='linear') # Linear reg\n",
        "\n",
        "# Fit the model\n",
        "X_train = fakenews_train_embeddings\n",
        "y_train = train['false'].head(6000)\n",
        "svc.fit(X_train, y_train)\n",
        "\n",
        "# Predict on the test set\n",
        "X_test = embeddings\n",
        "svc_pred = svc.predict(X_test)\n",
        "\n",
        "\n",
        "print(svc_pred)\n"
      ],
      "id": "VYwkJIFbfdHw",
      "execution_count": 68,
      "outputs": [
        {
          "output_type": "stream",
          "text": [
            "['half-true' 'pants-fire' 'half-true' ... 'half-true' 'false'\n",
            " 'barely-true']\n"
          ],
          "name": "stdout"
        }
      ]
    },
    {
      "cell_type": "code",
      "metadata": {
        "colab": {
          "base_uri": "https://localhost:8080/"
        },
        "id": "artp3wiLGBwz",
        "outputId": "d025c613-9a28-4568-ecf6-f91d5e284d08"
      },
      "source": [
        "y_test = result['true']\n",
        "#print(y_test)\n",
        "# Evaluate performance\n",
        "print(\"svc accuracy:\" + str(accuracy_score(y_test,svc_pred)))\n"
      ],
      "id": "artp3wiLGBwz",
      "execution_count": 69,
      "outputs": [
        {
          "output_type": "stream",
          "text": [
            "svc accuracy:0.23459715639810427\n"
          ],
          "name": "stdout"
        }
      ]
    },
    {
      "cell_type": "code",
      "metadata": {
        "id": "dBQ2L3FYRUI6",
        "colab": {
          "base_uri": "https://localhost:8080/"
        },
        "outputId": "6df3a8ee-57d1-489d-fdd7-f242ec12d90d"
      },
      "source": [
        "svc_pred.shape"
      ],
      "id": "dBQ2L3FYRUI6",
      "execution_count": 66,
      "outputs": [
        {
          "output_type": "execute_result",
          "data": {
            "text/plain": [
              "(1266,)"
            ]
          },
          "metadata": {
            "tags": []
          },
          "execution_count": 66
        }
      ]
    },
    {
      "cell_type": "code",
      "metadata": {
        "id": "Knt81H8ARsDe"
      },
      "source": [
        "#frames2 = (result['id'])\n",
        "\n",
        "label_AND_id = result[['id']]\n",
        "\n",
        "label_AND_id['label']=pd.Series(svc_pred)\n",
        "\n",
        "print(label_AND_id)\n",
        "label_AND_id.to_csv(r'/content/drive/MyDrive/data_science_rapport_august_2021/csv_KORREKTE2_to_Kaggle', index = False)"
      ],
      "id": "Knt81H8ARsDe",
      "execution_count": null,
      "outputs": []
    },
    {
      "cell_type": "code",
      "metadata": {
        "id": "UmhyTmSd0cjA"
      },
      "source": [
        "# muted nu (de to nedenunder):\n",
        "#from sklearn.metrics import precision_recall_fscore_support\n",
        "#print(precision_recall_fscore_support(y_test,svc_pred,zero_division='warn')) # noget her ser sjovt ud, virker ikke med 0 eller 1"
      ],
      "id": "UmhyTmSd0cjA",
      "execution_count": null,
      "outputs": []
    },
    {
      "cell_type": "code",
      "metadata": {
        "id": "PN54yJMBFCOY"
      },
      "source": [
        "np.shape(label_AND_id)"
      ],
      "id": "PN54yJMBFCOY",
      "execution_count": null,
      "outputs": []
    },
    {
      "cell_type": "code",
      "metadata": {
        "id": "TFKfkq5GFFW5"
      },
      "source": [
        ""
      ],
      "id": "TFKfkq5GFFW5",
      "execution_count": null,
      "outputs": []
    }
  ]
}