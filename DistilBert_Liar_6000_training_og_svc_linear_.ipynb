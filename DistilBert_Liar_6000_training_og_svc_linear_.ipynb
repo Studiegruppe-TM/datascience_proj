{
  "nbformat": 4,
  "nbformat_minor": 5,
  "metadata": {
    "kernelspec": {
      "display_name": "Python 3",
      "language": "python",
      "name": "python3"
    },
    "language_info": {
      "codemirror_mode": {
        "name": "ipython",
        "version": 3
      },
      "file_extension": ".py",
      "mimetype": "text/x-python",
      "name": "python",
      "nbconvert_exporter": "python",
      "pygments_lexer": "ipython3",
      "version": "3.8.3"
    },
    "colab": {
      "name": "DistilBert Liar 6000 training og svc linear .ipynb",
      "provenance": [],
      "collapsed_sections": [],
      "machine_shape": "hm",
      "include_colab_link": true
    },
    "accelerator": "GPU"
  },
  "cells": [
    {
      "cell_type": "markdown",
      "metadata": {
        "id": "view-in-github",
        "colab_type": "text"
      },
      "source": [
        "<a href=\"https://colab.research.google.com/github/Studiegruppe-TM/datascience_proj/blob/main/DistilBert_Liar_6000_training_og_svc_linear_.ipynb\" target=\"_parent\"><img src=\"https://colab.research.google.com/assets/colab-badge.svg\" alt=\"Open In Colab\"/></a>"
      ]
    },
    {
      "cell_type": "code",
      "metadata": {
        "id": "inqEjMWz-Cth",
        "colab": {
          "base_uri": "https://localhost:8080/"
        },
        "outputId": "1f7b2098-abe5-4232-8cf1-1a80ba361884"
      },
      "source": [
        "from io import BytesIO\n",
        "from zipfile import ZipFile\n",
        "from urllib.request import urlopen\n",
        "import csv\n",
        "import pandas as pd\n",
        "import numpy as np\n",
        "\n",
        "from collections import Counter\n",
        "\n",
        "#google halloej \n",
        "from google.colab import drive\n",
        "drive.mount('/content/drive')\n",
        "\n",
        "\n",
        "#list=[]\n",
        "#result = [list]\n",
        "#articles = '/content/drive/MyDrive/data science colab notesbooks/train.tsv'\n",
        "#for chunk in pd.read_csv(articles, chunksize=100, sep='\\t'):\n",
        "#  result.append(chunk)\n",
        "\n",
        "\n",
        "\n",
        "#total = sum(result)\n",
        "\n",
        "\n",
        "#articles = df_1.fillna('a')\n",
        "\n",
        "#zipfile = ZipFile(BytesIO(resp.read()))\n",
        "#articles = pd.read_csv(zipfile.open(zipfile.namelist()[0]))\n",
        "\n",
        "# Subset for faster processing\n",
        "\n"
      ],
      "id": "inqEjMWz-Cth",
      "execution_count": 70,
      "outputs": [
        {
          "output_type": "stream",
          "text": [
            "Drive already mounted at /content/drive; to attempt to forcibly remount, call drive.mount(\"/content/drive\", force_remount=True).\n"
          ],
          "name": "stdout"
        }
      ]
    },
    {
      "cell_type": "code",
      "metadata": {
        "id": "7xYkXFgjGExe",
        "colab": {
          "base_uri": "https://localhost:8080/"
        },
        "outputId": "0de3f6db-5f36-4f1d-e12e-bd184b5e3281"
      },
      "source": [
        "from google.colab import drive\n",
        "drive.mount('/content/drive')"
      ],
      "id": "7xYkXFgjGExe",
      "execution_count": 71,
      "outputs": [
        {
          "output_type": "stream",
          "text": [
            "Drive already mounted at /content/drive; to attempt to forcibly remount, call drive.mount(\"/content/drive\", force_remount=True).\n"
          ],
          "name": "stdout"
        }
      ]
    },
    {
      "cell_type": "code",
      "metadata": {
        "id": "XeBvnN2S66pp",
        "colab": {
          "base_uri": "https://localhost:8080/"
        },
        "outputId": "9725dd8f-02da-4440-fdbc-145e118caefc"
      },
      "source": [
        "#list=[]\n",
        "#result = [list]\n",
        "#articles = '/content/drive/MyDrive/data science colab notesbooks/train.tsv'\n",
        "#for chunk in pd.read_csv(articles, chunksize=1000,names=[]\n",
        "                                                         \n",
        "\n",
        "import json\n",
        "import pandas as pd\n",
        "\n",
        "train = pd.read_csv('/content/drive/MyDrive/data_science_rapport_august_2021/liar_dataset/train.tsv', sep='\\t')\n",
        "result = pd.read_csv('/content/drive/MyDrive/data_science_rapport_august_2021/liar_dataset/test.tsv', sep='\\t')\n",
        "\n",
        "train = train.sample(frac=1)\n",
        "result = result.sample(frac=1)\n",
        "\n",
        "#train1 = []\n",
        "#for chunk in pd.read_csv('/content/drive/MyDrive/data_science_rapport_august_2021/FakeNewsCorpus_dataset/fakenews.csv')\n",
        " # chunksize=1000,names=['id', 'content']):\n",
        "#    train1.append(chunk)\n",
        "\n",
        "#articles = '/content/drive/MyDrive/data science colab notesbooks/train.tsv'\n",
        "#for chunk in pd.read_csv('/content/drive/MyDrive/data_science_rapport_august_2021/news_sample.csv', chunksize=1000, sep='\\t'):\n",
        "  #train1.append(chunk)\n",
        "\n",
        "\n",
        "#print(chunk)\n",
        "#train = df.concat([train1[0], train[1], train1[2], train1[3], train1[4], train1[5], train1[6], train1[7], train1[8], train1[9])\n",
        "\n",
        "result_1 = result.iloc[: 800, 0:14]\n",
        "result_2 = result.iloc[800: 1266, 0:14]\n",
        "\n",
        "\n",
        "train_1 = train.iloc[: 1000, 0:14]\n",
        "train_2 = train.iloc[1000: 2000, 0:14]\n",
        "train_3 = train.iloc[2000: 3000, 0:14]\n",
        "train_4 = train.iloc[3000: 4000, 0:14]\n",
        "train_5 = train.iloc[4000: 5000, 0:14]\n",
        "train_6 = train.iloc[5000: 6000, 0:14]\n",
        "#train_7 = train.iloc[6000: 7000, 0:6]\n",
        "#train_8 = train.iloc[7000: 8000, 0:6]\n",
        "#train_9 = train.iloc[8000: 9000, 0:6]\n",
        "#train_10 = train.iloc[9000: 10238 , 0:6]\n",
        "\n",
        "print(train_1)"
      ],
      "id": "XeBvnN2S66pp",
      "execution_count": 72,
      "outputs": [
        {
          "output_type": "stream",
          "text": [
            "       2635.json  ...                                           a mailer\n",
            "302    4347.json  ...                                     a Twitter post\n",
            "936    9922.json  ...             an interview on ESPN's \"Mike and Mike\"\n",
            "6791   1770.json  ...                                   an op ed article\n",
            "9680   9126.json  ...                         an email from his campaign\n",
            "7428  12531.json  ...        a speech responding to the Orlando shooting\n",
            "...          ...  ...                                                ...\n",
            "4265   6934.json  ...                     the second presidential debate\n",
            "5711    219.json  ...                              MSNBC's \"Morning Joe\"\n",
            "845    6561.json  ...           a post on Riley’s Facebook campaign page\n",
            "7852   3329.json  ...                                   a press release.\n",
            "739    1867.json  ...  a meeting with the St. Petersburg Times editor...\n",
            "\n",
            "[1000 rows x 14 columns]\n"
          ],
          "name": "stdout"
        }
      ]
    },
    {
      "cell_type": "code",
      "metadata": {
        "id": "dxZRm5c4f2JI"
      },
      "source": [
        ""
      ],
      "id": "dxZRm5c4f2JI",
      "execution_count": 72,
      "outputs": []
    },
    {
      "cell_type": "code",
      "metadata": {
        "id": "7j8rq-sr-Ctm",
        "colab": {
          "base_uri": "https://localhost:8080/"
        },
        "outputId": "7fc23a87-498a-47bd-be4f-993ab9891736"
      },
      "source": [
        "print(result_1)\n"
      ],
      "id": "7j8rq-sr-Ctm",
      "execution_count": 73,
      "outputs": [
        {
          "output_type": "stream",
          "text": [
            "     11972.json  ...                                    Radio interview\n",
            "668   3231.json  ...                                       an interview\n",
            "24    1084.json  ...                                   a Senate hearing\n",
            "931  10893.json  ...  a speech at Gov. Rick Scott's economic summit ...\n",
            "62   11443.json  ...                                        a statement\n",
            "747   3904.json  ...                        a telephone news conference\n",
            "..          ...  ...                                                ...\n",
            "690    255.json  ...                           a debate in Philadelphia\n",
            "643  13486.json  ...                             The Rush Limbaugh Show\n",
            "519   1329.json  ...                           the 'Rachel Maddow Show'\n",
            "41   13251.json  ...                                            a tweet\n",
            "73    8340.json  ...                                     a news release\n",
            "\n",
            "[800 rows x 14 columns]\n"
          ],
          "name": "stdout"
        }
      ]
    },
    {
      "cell_type": "code",
      "metadata": {
        "id": "vkcFEW4dWf-7",
        "colab": {
          "base_uri": "https://localhost:8080/"
        },
        "outputId": "5aa06716-141c-4206-9456-78874d120575"
      },
      "source": [
        "#print(ubaad_new1) \n",
        "#print(ubaad_new2)\n",
        "\n",
        "\n",
        "t = range(0,200)\n",
        "pu = result_1\n",
        "\n",
        "import itertools\n",
        "\n",
        "correct_next_element = 1\n",
        "\n",
        "#skifte element i result[i] \n",
        "new_List = [range(2,10000)] # Vi er sgu ikke helt sikre på det her \n",
        "list_cycle = itertools.cycle(new_List)\n",
        "next(list_cycle)\n",
        "\n",
        "#for i in result:\n",
        "\n",
        "#Gammelt stuff\n",
        "   #print(pu['type'])\n",
        "   #pu['label'] = 'real'\n",
        "   #pu.loc[pu['type'] == 'fake', 'label'] = 'fake'\n",
        "   \n",
        "#Hvad vi definerer som korrekte labels\n",
        "#pu['1'] = 'fake'\n",
        "#pu.loc[pu[1] == 'real', 'label'] = 'real'\n",
        "#pu.loc[pu[1] == 'political', 'label'] = 'real'\n",
        "#pu.loc[pu[1] == 'reliable', 'label'] = 'real'\n",
        "\n",
        "#Andet gammelt stugff\n",
        "   #pu = result[w]\n",
        "   #pu2 = result[w + 1]\n",
        "\n",
        "#skifte element i result[i]\n",
        "   #next_element = next(list_cycle)\n",
        "   #print(next_element)\n",
        "   #correct_next_element = next_element\n",
        "   #print(correct_next_element)\n",
        "   \n",
        "   #pu = result[correct_next_element]\n",
        "   #print(pu)\n",
        "\n",
        "#print(result[2]['label'])\n",
        "\n",
        "\n"
      ],
      "id": "vkcFEW4dWf-7",
      "execution_count": 74,
      "outputs": [
        {
          "output_type": "execute_result",
          "data": {
            "text/plain": [
              "range(2, 10000)"
            ]
          },
          "metadata": {
            "tags": []
          },
          "execution_count": 74
        }
      ]
    },
    {
      "cell_type": "code",
      "metadata": {
        "id": "9Aa7jQE5cAZ9",
        "colab": {
          "base_uri": "https://localhost:8080/"
        },
        "outputId": "40be86ed-791f-4a6b-96f4-9c60a31d6c87"
      },
      "source": [
        "print(train_2['Says the Annies List political group supports third-trimester abortions on demand.'])"
      ],
      "id": "9Aa7jQE5cAZ9",
      "execution_count": 75,
      "outputs": [
        {
          "output_type": "stream",
          "text": [
            "2654    The Constitution simply does not authorize the...\n",
            "1667    Says Jeb Bush said he would take his pants off...\n",
            "879     Says Florida is a model for successful pretria...\n",
            "856     The presidents budget would take ... non-defen...\n",
            "7480    Democrats give Newports to the homeless to get...\n",
            "                              ...                        \n",
            "9716    29 mass shootings have been committed by conce...\n",
            "4738    We had a No Child Left Behind a similar piece ...\n",
            "1817    Obama thinks the national anthem should be \"I'...\n",
            "7285    The Benghazi probe is the longest-running cong...\n",
            "3511    Texas is one of only a handful of states that ...\n",
            "Name: Says the Annies List political group supports third-trimester abortions on demand., Length: 1000, dtype: object\n"
          ],
          "name": "stdout"
        }
      ]
    },
    {
      "cell_type": "markdown",
      "metadata": {
        "id": "nZD6Y9LD-Ctn"
      },
      "source": [
        "# **DistilBERT delen**"
      ],
      "id": "nZD6Y9LD-Ctn"
    },
    {
      "cell_type": "code",
      "metadata": {
        "id": "-FLpPzBp-Cto",
        "colab": {
          "base_uri": "https://localhost:8080/"
        },
        "outputId": "1d159c49-5592-4988-d8d1-d2548fe6b098"
      },
      "source": [
        "# Install the transformer package (the models used for creating the embeddings)\n",
        "!pip install transformers"
      ],
      "id": "-FLpPzBp-Cto",
      "execution_count": 76,
      "outputs": [
        {
          "output_type": "stream",
          "text": [
            "Requirement already satisfied: transformers in /usr/local/lib/python3.7/dist-packages (4.9.2)\n",
            "Requirement already satisfied: packaging in /usr/local/lib/python3.7/dist-packages (from transformers) (21.0)\n",
            "Requirement already satisfied: requests in /usr/local/lib/python3.7/dist-packages (from transformers) (2.23.0)\n",
            "Requirement already satisfied: filelock in /usr/local/lib/python3.7/dist-packages (from transformers) (3.0.12)\n",
            "Requirement already satisfied: pyyaml>=5.1 in /usr/local/lib/python3.7/dist-packages (from transformers) (5.4.1)\n",
            "Requirement already satisfied: sacremoses in /usr/local/lib/python3.7/dist-packages (from transformers) (0.0.45)\n",
            "Requirement already satisfied: importlib-metadata in /usr/local/lib/python3.7/dist-packages (from transformers) (4.6.3)\n",
            "Requirement already satisfied: numpy>=1.17 in /usr/local/lib/python3.7/dist-packages (from transformers) (1.19.5)\n",
            "Requirement already satisfied: tqdm>=4.27 in /usr/local/lib/python3.7/dist-packages (from transformers) (4.62.0)\n",
            "Requirement already satisfied: regex!=2019.12.17 in /usr/local/lib/python3.7/dist-packages (from transformers) (2019.12.20)\n",
            "Requirement already satisfied: huggingface-hub==0.0.12 in /usr/local/lib/python3.7/dist-packages (from transformers) (0.0.12)\n",
            "Requirement already satisfied: tokenizers<0.11,>=0.10.1 in /usr/local/lib/python3.7/dist-packages (from transformers) (0.10.3)\n",
            "Requirement already satisfied: typing-extensions in /usr/local/lib/python3.7/dist-packages (from huggingface-hub==0.0.12->transformers) (3.7.4.3)\n",
            "Requirement already satisfied: pyparsing>=2.0.2 in /usr/local/lib/python3.7/dist-packages (from packaging->transformers) (2.4.7)\n",
            "Requirement already satisfied: zipp>=0.5 in /usr/local/lib/python3.7/dist-packages (from importlib-metadata->transformers) (3.5.0)\n",
            "Requirement already satisfied: chardet<4,>=3.0.2 in /usr/local/lib/python3.7/dist-packages (from requests->transformers) (3.0.4)\n",
            "Requirement already satisfied: urllib3!=1.25.0,!=1.25.1,<1.26,>=1.21.1 in /usr/local/lib/python3.7/dist-packages (from requests->transformers) (1.24.3)\n",
            "Requirement already satisfied: idna<3,>=2.5 in /usr/local/lib/python3.7/dist-packages (from requests->transformers) (2.10)\n",
            "Requirement already satisfied: certifi>=2017.4.17 in /usr/local/lib/python3.7/dist-packages (from requests->transformers) (2021.5.30)\n",
            "Requirement already satisfied: click in /usr/local/lib/python3.7/dist-packages (from sacremoses->transformers) (7.1.2)\n",
            "Requirement already satisfied: joblib in /usr/local/lib/python3.7/dist-packages (from sacremoses->transformers) (1.0.1)\n",
            "Requirement already satisfied: six in /usr/local/lib/python3.7/dist-packages (from sacremoses->transformers) (1.15.0)\n"
          ],
          "name": "stdout"
        }
      ]
    },
    {
      "cell_type": "code",
      "metadata": {
        "id": "zRHpgTYr1pKF",
        "colab": {
          "base_uri": "https://localhost:8080/"
        },
        "outputId": "8bea1d10-810a-431d-a076-349b7835c71d"
      },
      "source": [
        "import transformers as ppb # pytorch transformers\n",
        "import torch\n",
        "\n",
        "# Create tokenizer and model input\n",
        "tokenizer = ppb.DistilBertTokenizer.from_pretrained('distilbert-base-uncased')\n",
        "model = ppb.DistilBertModel.from_pretrained('distilbert-base-uncased')\n",
        "\n",
        "# Switch to eval mode (rather than training mode) - this potentially gives a slight speedup\n",
        "model.eval()"
      ],
      "id": "zRHpgTYr1pKF",
      "execution_count": 77,
      "outputs": [
        {
          "output_type": "stream",
          "text": [
            "Some weights of the model checkpoint at distilbert-base-uncased were not used when initializing DistilBertModel: ['vocab_transform.weight', 'vocab_layer_norm.bias', 'vocab_projector.bias', 'vocab_projector.weight', 'vocab_layer_norm.weight', 'vocab_transform.bias']\n",
            "- This IS expected if you are initializing DistilBertModel from the checkpoint of a model trained on another task or with another architecture (e.g. initializing a BertForSequenceClassification model from a BertForPreTraining model).\n",
            "- This IS NOT expected if you are initializing DistilBertModel from the checkpoint of a model that you expect to be exactly identical (initializing a BertForSequenceClassification model from a BertForSequenceClassification model).\n"
          ],
          "name": "stderr"
        },
        {
          "output_type": "execute_result",
          "data": {
            "text/plain": [
              "DistilBertModel(\n",
              "  (embeddings): Embeddings(\n",
              "    (word_embeddings): Embedding(30522, 768, padding_idx=0)\n",
              "    (position_embeddings): Embedding(512, 768)\n",
              "    (LayerNorm): LayerNorm((768,), eps=1e-12, elementwise_affine=True)\n",
              "    (dropout): Dropout(p=0.1, inplace=False)\n",
              "  )\n",
              "  (transformer): Transformer(\n",
              "    (layer): ModuleList(\n",
              "      (0): TransformerBlock(\n",
              "        (attention): MultiHeadSelfAttention(\n",
              "          (dropout): Dropout(p=0.1, inplace=False)\n",
              "          (q_lin): Linear(in_features=768, out_features=768, bias=True)\n",
              "          (k_lin): Linear(in_features=768, out_features=768, bias=True)\n",
              "          (v_lin): Linear(in_features=768, out_features=768, bias=True)\n",
              "          (out_lin): Linear(in_features=768, out_features=768, bias=True)\n",
              "        )\n",
              "        (sa_layer_norm): LayerNorm((768,), eps=1e-12, elementwise_affine=True)\n",
              "        (ffn): FFN(\n",
              "          (dropout): Dropout(p=0.1, inplace=False)\n",
              "          (lin1): Linear(in_features=768, out_features=3072, bias=True)\n",
              "          (lin2): Linear(in_features=3072, out_features=768, bias=True)\n",
              "        )\n",
              "        (output_layer_norm): LayerNorm((768,), eps=1e-12, elementwise_affine=True)\n",
              "      )\n",
              "      (1): TransformerBlock(\n",
              "        (attention): MultiHeadSelfAttention(\n",
              "          (dropout): Dropout(p=0.1, inplace=False)\n",
              "          (q_lin): Linear(in_features=768, out_features=768, bias=True)\n",
              "          (k_lin): Linear(in_features=768, out_features=768, bias=True)\n",
              "          (v_lin): Linear(in_features=768, out_features=768, bias=True)\n",
              "          (out_lin): Linear(in_features=768, out_features=768, bias=True)\n",
              "        )\n",
              "        (sa_layer_norm): LayerNorm((768,), eps=1e-12, elementwise_affine=True)\n",
              "        (ffn): FFN(\n",
              "          (dropout): Dropout(p=0.1, inplace=False)\n",
              "          (lin1): Linear(in_features=768, out_features=3072, bias=True)\n",
              "          (lin2): Linear(in_features=3072, out_features=768, bias=True)\n",
              "        )\n",
              "        (output_layer_norm): LayerNorm((768,), eps=1e-12, elementwise_affine=True)\n",
              "      )\n",
              "      (2): TransformerBlock(\n",
              "        (attention): MultiHeadSelfAttention(\n",
              "          (dropout): Dropout(p=0.1, inplace=False)\n",
              "          (q_lin): Linear(in_features=768, out_features=768, bias=True)\n",
              "          (k_lin): Linear(in_features=768, out_features=768, bias=True)\n",
              "          (v_lin): Linear(in_features=768, out_features=768, bias=True)\n",
              "          (out_lin): Linear(in_features=768, out_features=768, bias=True)\n",
              "        )\n",
              "        (sa_layer_norm): LayerNorm((768,), eps=1e-12, elementwise_affine=True)\n",
              "        (ffn): FFN(\n",
              "          (dropout): Dropout(p=0.1, inplace=False)\n",
              "          (lin1): Linear(in_features=768, out_features=3072, bias=True)\n",
              "          (lin2): Linear(in_features=3072, out_features=768, bias=True)\n",
              "        )\n",
              "        (output_layer_norm): LayerNorm((768,), eps=1e-12, elementwise_affine=True)\n",
              "      )\n",
              "      (3): TransformerBlock(\n",
              "        (attention): MultiHeadSelfAttention(\n",
              "          (dropout): Dropout(p=0.1, inplace=False)\n",
              "          (q_lin): Linear(in_features=768, out_features=768, bias=True)\n",
              "          (k_lin): Linear(in_features=768, out_features=768, bias=True)\n",
              "          (v_lin): Linear(in_features=768, out_features=768, bias=True)\n",
              "          (out_lin): Linear(in_features=768, out_features=768, bias=True)\n",
              "        )\n",
              "        (sa_layer_norm): LayerNorm((768,), eps=1e-12, elementwise_affine=True)\n",
              "        (ffn): FFN(\n",
              "          (dropout): Dropout(p=0.1, inplace=False)\n",
              "          (lin1): Linear(in_features=768, out_features=3072, bias=True)\n",
              "          (lin2): Linear(in_features=3072, out_features=768, bias=True)\n",
              "        )\n",
              "        (output_layer_norm): LayerNorm((768,), eps=1e-12, elementwise_affine=True)\n",
              "      )\n",
              "      (4): TransformerBlock(\n",
              "        (attention): MultiHeadSelfAttention(\n",
              "          (dropout): Dropout(p=0.1, inplace=False)\n",
              "          (q_lin): Linear(in_features=768, out_features=768, bias=True)\n",
              "          (k_lin): Linear(in_features=768, out_features=768, bias=True)\n",
              "          (v_lin): Linear(in_features=768, out_features=768, bias=True)\n",
              "          (out_lin): Linear(in_features=768, out_features=768, bias=True)\n",
              "        )\n",
              "        (sa_layer_norm): LayerNorm((768,), eps=1e-12, elementwise_affine=True)\n",
              "        (ffn): FFN(\n",
              "          (dropout): Dropout(p=0.1, inplace=False)\n",
              "          (lin1): Linear(in_features=768, out_features=3072, bias=True)\n",
              "          (lin2): Linear(in_features=3072, out_features=768, bias=True)\n",
              "        )\n",
              "        (output_layer_norm): LayerNorm((768,), eps=1e-12, elementwise_affine=True)\n",
              "      )\n",
              "      (5): TransformerBlock(\n",
              "        (attention): MultiHeadSelfAttention(\n",
              "          (dropout): Dropout(p=0.1, inplace=False)\n",
              "          (q_lin): Linear(in_features=768, out_features=768, bias=True)\n",
              "          (k_lin): Linear(in_features=768, out_features=768, bias=True)\n",
              "          (v_lin): Linear(in_features=768, out_features=768, bias=True)\n",
              "          (out_lin): Linear(in_features=768, out_features=768, bias=True)\n",
              "        )\n",
              "        (sa_layer_norm): LayerNorm((768,), eps=1e-12, elementwise_affine=True)\n",
              "        (ffn): FFN(\n",
              "          (dropout): Dropout(p=0.1, inplace=False)\n",
              "          (lin1): Linear(in_features=768, out_features=3072, bias=True)\n",
              "          (lin2): Linear(in_features=3072, out_features=768, bias=True)\n",
              "        )\n",
              "        (output_layer_norm): LayerNorm((768,), eps=1e-12, elementwise_affine=True)\n",
              "      )\n",
              "    )\n",
              "  )\n",
              ")"
            ]
          },
          "metadata": {
            "tags": []
          },
          "execution_count": 77
        }
      ]
    },
    {
      "cell_type": "code",
      "metadata": {
        "id": "Wtk0lvDVDkcZ",
        "colab": {
          "base_uri": "https://localhost:8080/"
        },
        "outputId": "36b827ca-b231-460e-a796-da40f60155d7"
      },
      "source": [
        "\n",
        "#Tokenize fake news data \n",
        "fakenews_train_tokenized1 = train_1['Says the Annies List political group supports third-trimester abortions on demand.'].apply((lambda x: tokenizer.encode(x, add_special_tokens=True)))\n",
        "fakenews_train_tokenized2 = train_2['Says the Annies List political group supports third-trimester abortions on demand.'].apply((lambda x: tokenizer.encode(x, add_special_tokens=True)))\n",
        "fakenews_train_tokenized3 = train_3['Says the Annies List political group supports third-trimester abortions on demand.'].apply((lambda x: tokenizer.encode(x, add_special_tokens=True)))\n",
        "fakenews_train_tokenized4 = train_4['Says the Annies List political group supports third-trimester abortions on demand.'].apply((lambda x: tokenizer.encode(x, add_special_tokens=True)))\n",
        "fakenews_train_tokenized5 = train_5['Says the Annies List political group supports third-trimester abortions on demand.'].apply((lambda x: tokenizer.encode(x, add_special_tokens=True)))\n",
        "fakenews_train_tokenized6 = train_6['Says the Annies List political group supports third-trimester abortions on demand.'].apply((lambda x: tokenizer.encode(x, add_special_tokens=True)))\n",
        "fakenews_train_tokenized7 = train_7['Says the Annies List political group supports third-trimester abortions on demand.'].apply((lambda x: tokenizer.encode(x, add_special_tokens=True)))\n",
        "#fakenews_train_tokenized8 = train_8['content'].apply((lambda x: tokenizer.encode(x, add_special_tokens=True)))\n",
        "#fakenews_train_tokenized9 = train_9['content'].apply((lambda x: tokenizer.encode(x, add_special_tokens=True)))\n",
        "#fakenews_train_tokenized10 = train_10['content'].apply((lambda x: tokenizer.encode(x, add_special_tokens=True)))\n",
        "\n",
        "\n",
        "fake_t11 = fakenews_train_tokenized1.append(fakenews_train_tokenized2) #, tokenized2, tokenized3, tokenized4, tokenized5, tokenized6 )\n",
        "fake_t12 = fake_t11.append(fakenews_train_tokenized3)\n",
        "fake_t13 = fake_t12.append(fakenews_train_tokenized4)\n",
        "fake_t14 = fake_t13.append(fakenews_train_tokenized5)\n",
        "fakenews_train_tokenized = fake_t14.append(fakenews_train_tokenized6)\n",
        "\n",
        "\n",
        "# Pad input so that all sequences are of the same size:\n",
        "max_len = 0\n",
        "for i in fakenews_train_tokenized.values:\n",
        "    if len(i) > max_len:\n",
        "        max_len = len(i)\n",
        "fakenews_train_padded = np.array([i + [0]*(max_len-len(i)) for i in fakenews_train_tokenized.values])\n",
        "\n",
        "# Actually, we can only deal with sequence lengths up to 512 with the DistilBert model, so we'll just truncate \n",
        "fakenews_train_padded = fakenews_train_padded[:,:512]\n",
        "\n",
        "#splitte padded \n",
        "fakenews_train_padded = np.split(fakenews_train_padded,5)\n",
        "\n",
        "# Tell embedding model to disregard pad tokens\n",
        "fakenews_train_attention_mask1 = np.where(fakenews_train_padded[0] != 0, 1, 0)\n",
        "fakenews_train_attention_mask2 = np.where(fakenews_train_padded[1] != 0, 1, 0)\n",
        "fakenews_train_attention_mask3 = np.where(fakenews_train_padded[2] != 0, 1, 0)\n",
        "fakenews_train_attention_mask4 = np.where(fakenews_train_padded[3] != 0, 1, 0)\n",
        "fakenews_train_attention_mask5 = np.where(fakenews_train_padded[4] != 0, 1, 0)\n",
        "\n",
        "#print(padded.shape)\n",
        "#print(fakenews_train_padded)\n",
        "\n",
        "\n"
      ],
      "id": "Wtk0lvDVDkcZ",
      "execution_count": 78,
      "outputs": [
        {
          "output_type": "stream",
          "text": [
            "Token indices sequence length is longer than the specified maximum sequence length for this model (714 > 512). Running this sequence through the model will result in indexing errors\n"
          ],
          "name": "stderr"
        }
      ]
    },
    {
      "cell_type": "code",
      "metadata": {
        "id": "_dCumnGx1sxq",
        "colab": {
          "base_uri": "https://localhost:8080/"
        },
        "outputId": "8242ed99-ca4b-4a87-a4d3-57632fe25f0d"
      },
      "source": [
        "\n",
        "# Tokenize jsoninput\n",
        "tokenized1 = result_1['Building a wall on the U.S.-Mexico border will take literally years.'].apply((lambda x: tokenizer.encode(x, add_special_tokens=True)))\n",
        "tokenized2 = result_2['Building a wall on the U.S.-Mexico border will take literally years.'].apply((lambda x: tokenizer.encode(x, add_special_tokens=True)))\n",
        "#tokenized3 = result_3['Building a wall on the U.S.-Mexico border will take literally years.'].apply((lambda x: tokenizer.encode(x, add_special_tokens=True)))\n",
        "#tokenized4 = result_4['article'].apply((lambda x: tokenizer.encode(x, add_special_tokens=True)))\n",
        "#tokenized5 = result_5['article'].apply((lambda x: tokenizer.encode(x, add_special_tokens=True)))\n",
        "#tokenized6 = result_6['article'].apply((lambda x: tokenizer.encode(x, add_special_tokens=True)))\n",
        "\n",
        "tokenized = tokenized1.append(tokenized2) #, tokenized2, tokenized3, tokenized4, tokenized5, tokenized6 )\n",
        "#t12 = t11.append(tokenized3)\n",
        "##t13 = t12.append(tokenized4)\n",
        "#t14 = t13.append(tokenized5)\n",
        "#tokenized = t14.append(tokenized6)\n",
        "\n",
        "\n",
        "# Pad input so that all sequences are of the same size:\n",
        "max_len = 0\n",
        "for i in tokenized.values:\n",
        "    if len(i) > max_len:\n",
        "        max_len = len(i)\n",
        "padded = np.array([i + [0]*(max_len-len(i)) for i in tokenized.values])\n",
        "\n",
        "# Actually, we can only deal with sequence lengths up to 512 with the DistilBert model, so we'll just truncate \n",
        "padded = padded[:,:512]\n",
        "\n",
        "#splitte padded \n",
        "padded = np.split(padded,2)\n",
        "\n",
        "# Tell embedding model to disregard pad tokens\n",
        "attention_mask1 = np.where(padded[0] != 0, 1, 0)\n",
        "attention_mask2 = np.where(padded[1] != 0, 1, 0)\n",
        "#attention_mask3 = np.where(padded[2] != 0, 1, 0)\n",
        "#attention_mask4 = np.where(padded[3] != 0, 1, 0)\n",
        "#attention_mask5 = np.where(padded[4] != 0, 1, 0)\n",
        "\n",
        "#print(padded.shape)\n",
        "print(padded)"
      ],
      "id": "_dCumnGx1sxq",
      "execution_count": 79,
      "outputs": [
        {
          "output_type": "stream",
          "text": [
            "[array([[ 101, 1996, 2142, ...,    0,    0,    0],\n",
            "       [ 101, 2085, 1010, ...,    0,    0,    0],\n",
            "       [ 101, 2758, 2008, ...,    0,    0,    0],\n",
            "       ...,\n",
            "       [ 101, 2976, 2740, ...,    0,    0,    0],\n",
            "       [ 101, 1999, 1996, ...,    0,    0,    0],\n",
            "       [ 101, 2054, 1045, ...,    0,    0,    0]]), array([[ 101, 2758, 2703, ...,    0,    0,    0],\n",
            "       [ 101, 1045, 2626, ...,    0,    0,    0],\n",
            "       [ 101, 5016, 3316, ...,    0,    0,    0],\n",
            "       ...,\n",
            "       [ 101, 6174, 6890, ...,    0,    0,    0],\n",
            "       [ 101, 1996, 2047, ...,    0,    0,    0],\n",
            "       [ 101, 3146, 2038, ...,    0,    0,    0]])]\n"
          ],
          "name": "stdout"
        }
      ]
    },
    {
      "cell_type": "code",
      "metadata": {
        "id": "xG0PMydCrBuv",
        "colab": {
          "base_uri": "https://localhost:8080/"
        },
        "outputId": "1cddbf7b-cc07-4251-c63a-6412c0ee27ec"
      },
      "source": [
        "print(tokenized)"
      ],
      "id": "xG0PMydCrBuv",
      "execution_count": 80,
      "outputs": [
        {
          "output_type": "stream",
          "text": [
            "668     [101, 1996, 2142, 2163, 2003, 1996, 2069, 2764...\n",
            "24      [101, 2085, 1010, 2045, 2001, 1037, 2051, 2043...\n",
            "931     [101, 2758, 2008, 2076, 2010, 2809, 2086, 2004...\n",
            "62      [101, 1045, 2106, 2025, 2377, 2151, 2535, 1999...\n",
            "747     [101, 2057, 3726, 2464, 10630, 1010, 2199, 584...\n",
            "                              ...                        \n",
            "1105      [101, 1996, 2865, 2196, 2265, 12783, 1012, 102]\n",
            "248     [101, 2758, 1037, 6945, 8096, 4748, 2038, 2288...\n",
            "1007    [101, 6174, 6890, 4692, 2000, 3435, 1011, 2650...\n",
            "634     [101, 1996, 2047, 2422, 25548, 2097, 3465, 556...\n",
            "1212    [101, 3146, 2038, 1996, 3284, 3446, 1997, 4895...\n",
            "Name: Building a wall on the U.S.-Mexico border will take literally years., Length: 1266, dtype: object\n"
          ],
          "name": "stdout"
        }
      ]
    },
    {
      "cell_type": "code",
      "metadata": {
        "id": "1EZ75NWNncWd"
      },
      "source": [
        "\n",
        "\n",
        "\n"
      ],
      "id": "1EZ75NWNncWd",
      "execution_count": 80,
      "outputs": []
    },
    {
      "cell_type": "code",
      "metadata": {
        "id": "GfNpY835whBg"
      },
      "source": [
        ""
      ],
      "id": "GfNpY835whBg",
      "execution_count": 80,
      "outputs": []
    },
    {
      "cell_type": "code",
      "metadata": {
        "id": "JeniIUJ_B4EW"
      },
      "source": [
        "device = torch.device(\"cpu\")\n",
        "if torch.cuda.is_available():\n",
        "  model = model.cuda()\n",
        "  device = torch.device(\"cuda\")\n",
        "\n",
        "import matplotlib.pyplot as plt\n",
        "from sklearn.decomposition import PCA\n",
        "\n",
        "\n",
        "\n",
        "\n"
      ],
      "id": "JeniIUJ_B4EW",
      "execution_count": 81,
      "outputs": []
    },
    {
      "cell_type": "code",
      "metadata": {
        "id": "hVdpwaFIz0zK"
      },
      "source": [
        ""
      ],
      "id": "hVdpwaFIz0zK",
      "execution_count": 81,
      "outputs": []
    },
    {
      "cell_type": "code",
      "metadata": {
        "id": "7Vu7L2i_yk8q"
      },
      "source": [
        "#NUMMER 1 json \n",
        "\n",
        "# Convert input to a pytorch tensor (so that it can be used as input for the embedding model)\n",
        "input = torch.tensor(np.array(padded[0]), device=device)\n",
        "attention_mask = torch.tensor(attention_mask1, device=device)\n",
        "\n",
        "# Embed sequences (processing in batches to avoid memory problems)\n",
        "batch_size= 200\n",
        "embeddings = []\n",
        "for start_index in range(0, input.shape[0], batch_size):\n",
        "  with torch.no_grad():\n",
        "    # Call embedding model\n",
        "    embedding = model(input[start_index:start_index+batch_size], \n",
        "                      attention_mask=attention_mask[start_index:start_index+batch_size])[0][:,0,:]\n",
        "\n",
        "    embeddings.append(embedding)\n",
        "embeddings = torch.cat(embeddings)   # concatenate all batch outputs back into one tensor\n",
        "\n",
        "# Move embeddings back to numpy\n",
        "embeddings = embeddings.cpu().numpy()\n"
      ],
      "id": "7Vu7L2i_yk8q",
      "execution_count": 82,
      "outputs": []
    },
    {
      "cell_type": "code",
      "metadata": {
        "id": "DN8c_Kt2zGho"
      },
      "source": [
        "#NUMMER 2 json \n",
        "\n",
        "# Convert input to a pytorch tensor (so that it can be used as input for the embedding model)\n",
        "input = torch.tensor(np.array(padded[1]), device=device)\n",
        "attention_mask = torch.tensor(attention_mask2, device=device)\n",
        "\n",
        "# Embed sequences (processing in batches to avoid memory problems)\n",
        "batch_size= 200\n",
        "embeddings2 = []\n",
        "for start_index in range(0, input.shape[0], batch_size):\n",
        "  with torch.no_grad():\n",
        "    # Call embedding model\n",
        "    embedding = model(input[start_index:start_index+batch_size], \n",
        "                      attention_mask=attention_mask[start_index:start_index+batch_size])[0][:,0,:]\n",
        "\n",
        "    embeddings2.append(embedding)\n",
        "embeddings2 = torch.cat(embeddings2)   # concatenate all batch outputs back into one tensor\n",
        "\n",
        "# Move embeddings back to numpy\n",
        "embeddings2 = embeddings2.cpu().numpy()\n"
      ],
      "id": "DN8c_Kt2zGho",
      "execution_count": 83,
      "outputs": []
    },
    {
      "cell_type": "code",
      "metadata": {
        "id": "bmUPBqjZHEwt"
      },
      "source": [
        "#NUMMER 1 - FAKE NEWS TRAIN DATA \n",
        "\n",
        "# Convert input to a pytorch tensor (so that it can be used as input for the embedding model)\n",
        "input = torch.tensor(np.array(fakenews_train_padded[0]), device=device)\n",
        "attention_mask = torch.tensor(fakenews_train_attention_mask1, device=device)\n",
        "\n",
        "# Embed sequences (processing in batches to avoid memory problems)\n",
        "batch_size= 200\n",
        "fakenews_train_embeddings1 = []\n",
        "for start_index in range(0, input.shape[0], batch_size):\n",
        "  with torch.no_grad():\n",
        "    # Call embedding model\n",
        "    embedding = model(input[start_index:start_index+batch_size], \n",
        "                      attention_mask=attention_mask[start_index:start_index+batch_size])[0][:,0,:]\n",
        "\n",
        "    fakenews_train_embeddings1.append(embedding)\n",
        "fakenews_train_embeddings1 = torch.cat(fakenews_train_embeddings1)   # concatenate all batch outputs back into one tensor\n",
        "\n",
        "# Move embeddings back to numpy\n",
        "fakenews_train_embeddings1 = fakenews_train_embeddings1.cpu().numpy()\n",
        "\n",
        "\n",
        "\n"
      ],
      "id": "bmUPBqjZHEwt",
      "execution_count": 84,
      "outputs": []
    },
    {
      "cell_type": "code",
      "metadata": {
        "id": "1DEjEoH74cUE"
      },
      "source": [
        "#NUMMER 2 - FAKE NEWS TRAIN DATA \n",
        "\n",
        "# Convert input to a pytorch tensor (so that it can be used as input for the embedding model)\n",
        "input = torch.tensor(np.array(fakenews_train_padded[1]), device=device)\n",
        "attention_mask = torch.tensor(fakenews_train_attention_mask2, device=device)\n",
        "\n",
        "# Embed sequences (processing in batches to avoid memory problems)\n",
        "batch_size= 200\n",
        "fakenews_train_embeddings2 = []\n",
        "for start_index in range(0, input.shape[0], batch_size):\n",
        "  with torch.no_grad():\n",
        "    # Call embedding model\n",
        "    embedding = model(input[start_index:start_index+batch_size], \n",
        "                      attention_mask=attention_mask[start_index:start_index+batch_size])[0][:,0,:]\n",
        "\n",
        "    fakenews_train_embeddings2.append(embedding)\n",
        "fakenews_train_embeddings2= torch.cat(fakenews_train_embeddings2)   # concatenate all batch outputs back into one tensor\n",
        "\n",
        "# Move embeddings back to numpy\n",
        "fakenews_train_embeddings2 = fakenews_train_embeddings2.cpu().numpy()"
      ],
      "id": "1DEjEoH74cUE",
      "execution_count": 85,
      "outputs": []
    },
    {
      "cell_type": "code",
      "metadata": {
        "id": "nyE4Bsp549Xd"
      },
      "source": [
        "#NUMMER 3 - FAKE NEWS TRAIN DATA \n",
        "\n",
        "# Convert input to a pytorch tensor (so that it can be used as input for the embedding model)\n",
        "input = torch.tensor(np.array(fakenews_train_padded[2]), device=device)\n",
        "attention_mask = torch.tensor(fakenews_train_attention_mask3, device=device)\n",
        "\n",
        "# Embed sequences (processing in batches to avoid memory problems)\n",
        "batch_size= 200\n",
        "fakenews_train_embeddings3 = []\n",
        "for start_index in range(0, input.shape[0], batch_size):\n",
        "  with torch.no_grad():\n",
        "    # Call embedding model\n",
        "    embedding = model(input[start_index:start_index+batch_size], \n",
        "                      attention_mask=attention_mask[start_index:start_index+batch_size])[0][:,0,:]\n",
        "\n",
        "    fakenews_train_embeddings3.append(embedding)\n",
        "fakenews_train_embeddings3= torch.cat(fakenews_train_embeddings3)   # concatenate all batch outputs back into one tensor\n",
        "\n",
        "# Move embeddings back to numpy\n",
        "fakenews_train_embeddings3 = fakenews_train_embeddings3.cpu().numpy()"
      ],
      "id": "nyE4Bsp549Xd",
      "execution_count": 86,
      "outputs": []
    },
    {
      "cell_type": "code",
      "metadata": {
        "id": "HIq4gWmI5GPz"
      },
      "source": [
        "#NUMMER 4 - FAKE NEWS TRAIN DATA \n",
        "\n",
        "# Convert input to a pytorch tensor (so that it can be used as input for the embedding model)\n",
        "input = torch.tensor(np.array(fakenews_train_padded[3]), device=device)\n",
        "attention_mask = torch.tensor(fakenews_train_attention_mask4, device=device)\n",
        "\n",
        "# Embed sequences (processing in batches to avoid memory problems)\n",
        "batch_size= 200\n",
        "fakenews_train_embeddings4 = []\n",
        "for start_index in range(0, input.shape[0], batch_size):\n",
        "  with torch.no_grad():\n",
        "    # Call embedding model\n",
        "    embedding = model(input[start_index:start_index+batch_size], \n",
        "                      attention_mask=attention_mask[start_index:start_index+batch_size])[0][:,0,:]\n",
        "\n",
        "    fakenews_train_embeddings4.append(embedding)\n",
        "fakenews_train_embeddings4= torch.cat(fakenews_train_embeddings4)   # concatenate all batch outputs back into one tensor\n",
        "\n",
        "# Move embeddings back to numpy\n",
        "fakenews_train_embeddings4 = fakenews_train_embeddings4.cpu().numpy()"
      ],
      "id": "HIq4gWmI5GPz",
      "execution_count": 87,
      "outputs": []
    },
    {
      "cell_type": "code",
      "metadata": {
        "id": "8xdI2XWS5M3H"
      },
      "source": [
        "#NUMMER 5 - FAKE NEWS TRAIN DATA \n",
        "\n",
        "# Convert input to a pytorch tensor (so that it can be used as input for the embedding model)\n",
        "input = torch.tensor(np.array(fakenews_train_padded[4]), device=device)\n",
        "attention_mask = torch.tensor(fakenews_train_attention_mask5, device=device)\n",
        "\n",
        "# Embed sequences (processing in batches to avoid memory problems)\n",
        "batch_size= 200\n",
        "fakenews_train_embeddings5 = []\n",
        "for start_index in range(0, input.shape[0], batch_size):\n",
        "  with torch.no_grad():\n",
        "    # Call embedding model\n",
        "    embedding = model(input[start_index:start_index+batch_size], \n",
        "                      attention_mask=attention_mask[start_index:start_index+batch_size])[0][:,0,:]\n",
        "\n",
        "    fakenews_train_embeddings5.append(embedding)\n",
        "fakenews_train_embeddings5= torch.cat(fakenews_train_embeddings5)   # concatenate all batch outputs back into one tensor\n",
        "\n",
        "# Move embeddings back to numpy\n",
        "fakenews_train_embeddings5 = fakenews_train_embeddings5.cpu().numpy()"
      ],
      "id": "8xdI2XWS5M3H",
      "execution_count": 88,
      "outputs": []
    },
    {
      "cell_type": "code",
      "metadata": {
        "id": "91jK6UoEb4ZU",
        "colab": {
          "base_uri": "https://localhost:8080/",
          "height": 282
        },
        "outputId": "2a47628f-e0f9-4ea8-f56a-179c6136d4ea"
      },
      "source": [
        "#json plot \n",
        "import matplotlib.pyplot as plt\n",
        "from sklearn.decomposition import PCA\n",
        "pca = PCA(n_components=2)\n",
        "\n",
        "embeddings = np.concatenate((embeddings, embeddings2))\n",
        "\n",
        "dim_reduced_embedding = pca.fit_transform(embeddings)#alle embedddings skal sættes sammen inden dette  \n",
        "plt.scatter(dim_reduced_embedding[:,0], dim_reduced_embedding[:,1])"
      ],
      "id": "91jK6UoEb4ZU",
      "execution_count": 89,
      "outputs": [
        {
          "output_type": "execute_result",
          "data": {
            "text/plain": [
              "<matplotlib.collections.PathCollection at 0x7f570ff7b810>"
            ]
          },
          "metadata": {
            "tags": []
          },
          "execution_count": 89
        },
        {
          "output_type": "display_data",
          "data": {
            "image/png": "[encoded data removed]",
            "text/plain": [
              "<Figure size 432x288 with 1 Axes>"
            ]
          },
          "metadata": {
            "tags": [],
            "needs_background": "light"
          }
        }
      ]
    },
    {
      "cell_type": "code",
      "metadata": {
        "id": "5acwVoOQ5eHA",
        "colab": {
          "base_uri": "https://localhost:8080/",
          "height": 282
        },
        "outputId": "7c8b1ae5-7c81-4001-adb6-2870d60d1028"
      },
      "source": [
        "#fake news data plot\n",
        "\n",
        "fakenews_train_embeddings = np.concatenate((fakenews_train_embeddings1, fakenews_train_embeddings2, fakenews_train_embeddings3, fakenews_train_embeddings4, fakenews_train_embeddings5))\n",
        "\n",
        "dim_reduced_embedding = pca.fit_transform(fakenews_train_embeddings)#alle embedddings skal sættes sammen inden dette  \n",
        "plt.scatter(dim_reduced_embedding[:,0], dim_reduced_embedding[:,1])\n"
      ],
      "id": "5acwVoOQ5eHA",
      "execution_count": 90,
      "outputs": [
        {
          "output_type": "execute_result",
          "data": {
            "text/plain": [
              "<matplotlib.collections.PathCollection at 0x7f571074da10>"
            ]
          },
          "metadata": {
            "tags": []
          },
          "execution_count": 90
        },
        {
          "output_type": "display_data",
          "data": {
            "image/png": "[encoded data removed]",
            "text/plain": [
              "<Figure size 432x288 with 1 Axes>"
            ]
          },
          "metadata": {
            "tags": [],
            "needs_background": "light"
          }
        }
      ]
    },
    {
      "cell_type": "code",
      "metadata": {
        "id": "KGENxUS5Mqjq"
      },
      "source": [
        "#print(dim_reduced_embedding[300][0])\n",
        "#print(len(dim_reduced_embedding))"
      ],
      "id": "KGENxUS5Mqjq",
      "execution_count": 91,
      "outputs": []
    },
    {
      "cell_type": "code",
      "metadata": {
        "id": "T2wUnGZS_kgZ"
      },
      "source": [
        "#print(result)\n",
        "#print(result['embeddingvaerdi'])\n",
        "#result['embeddingvaerdi'] = 0.0"
      ],
      "id": "T2wUnGZS_kgZ",
      "execution_count": 92,
      "outputs": []
    },
    {
      "cell_type": "code",
      "metadata": {
        "id": "nLoXNRUx7lzz"
      },
      "source": [
        "#Tilføje embedding værdi til datasæt \n",
        "#ivaerdi = 0\n",
        "#iivaerdi = 0\n",
        "\n",
        "#for i in range(0,6334):\n",
        "#  result['embeddingvaerdi'][ivaerdi] = (dim_reduced_embedding[iivaerdi][0].astype(float))\n",
        "\n",
        "#  ivaerdi = ivaerdi + 1\n",
        " # iivaerdi = iivaerdi + 1\n",
        "\n",
        "#for i in result:\n",
        " # result['embeddinvaerdi'][i] = dim_reduced_embedding[i][0].astype(float)\n",
        "\n",
        "#print(result['embeddingvaerdi'])"
      ],
      "id": "nLoXNRUx7lzz",
      "execution_count": 93,
      "outputs": []
    },
    {
      "cell_type": "code",
      "metadata": {
        "id": "jziznP0J60iX"
      },
      "source": [
        "#Lave labels til json \n",
        "\n",
        "#threshold = 1 # This is the 75th percentile for median house values.\n",
        "\n",
        "\n",
        "\n",
        "#i2vaerdi = 0 \n",
        "#result['label'] = 'FAKE'\n",
        "\n",
        "#for i in range(0,6334):\n",
        "#  if result['embeddingvaerdi'][i] > 1:\n",
        "#     result['label'][i] = 'REAL' #True.astype(float) \n",
        "#  else:\n",
        "#     result['label'][i] = 'FAKE' #False.astype(float) \n",
        "#\n",
        "#  i2vaerdi = i2vaerdi + 1\n",
        "    \n"
      ],
      "id": "jziznP0J60iX",
      "execution_count": 94,
      "outputs": []
    },
    {
      "cell_type": "code",
      "metadata": {
        "id": "WF3d46mDCVTp"
      },
      "source": [
        "#print(result['LABEL'][4])\n",
        "#print(result['embeddingvaerdi'][i2vaerdi])\n",
        "#result.loc[result['label'] == 'REAL']\n",
        "\n",
        "#print(result)"
      ],
      "id": "WF3d46mDCVTp",
      "execution_count": 95,
      "outputs": []
    },
    {
      "cell_type": "markdown",
      "metadata": {
        "id": "8HlJzsiqUCs7"
      },
      "source": [
        "Generere csv fil: \n",
        "\n"
      ],
      "id": "8HlJzsiqUCs7"
    },
    {
      "cell_type": "code",
      "metadata": {
        "id": "fP7HWZD0UwZ5"
      },
      "source": [
        "#frames2 = (result['id'])\n",
        "\n",
        "#label_AND_id = result[['id',\n",
        " #                     'label']]\n",
        "\n",
        "#label_AND_id.(result['label'])\n",
        "\n",
        "#print(label_AND_id)\n",
        "#label_AND_id.to_csv(r'/content/drive/MyDrive/data_science_rapport_august_2021/csv_to_Kaggle', index = False)\n"
      ],
      "id": "fP7HWZD0UwZ5",
      "execution_count": 96,
      "outputs": []
    },
    {
      "cell_type": "code",
      "metadata": {
        "id": "zcRBgbB_LMVi"
      },
      "source": [
        "# labels til original fake news data fil \n",
        "\n",
        "#train['label'] = 'FAKE'\n",
        "#train.loc[train['type'] == 'real', 'label'] = 'REAL'\n",
        "#train.loc[train['type'] == 'political', 'label'] = 'REAL'\n",
        "#train.loc[train['type'] == 'reliable', 'label'] = 'REAL'\n",
        "\n",
        "# orginal værdi 5999 (ikke 6000):\n",
        "#train = train.head(6000)\n"
      ],
      "id": "zcRBgbB_LMVi",
      "execution_count": 97,
      "outputs": []
    },
    {
      "cell_type": "markdown",
      "metadata": {
        "id": "McJQFJIhbyfk"
      },
      "source": [
        "# SPLIT TRAIN TEST delen **bold text**"
      ],
      "id": "McJQFJIhbyfk"
    },
    {
      "cell_type": "code",
      "metadata": {
        "id": "-bvu4HE7eAOV"
      },
      "source": [
        "from sklearn.model_selection import train_test_split\n",
        "\n",
        "\n",
        "sum_y_train = []\n",
        "sum_y_val = []\n",
        "sum_y_test = []\n"
      ],
      "id": "-bvu4HE7eAOV",
      "execution_count": 98,
      "outputs": []
    },
    {
      "cell_type": "code",
      "metadata": {
        "id": "Zq_CiXFHfJh8"
      },
      "source": [
        "#X_train, X_test, y_train, y_test = train_test_split(\n",
        "#    fakenews_train_embeddings, fakenews_train_embeddings, train['label'], random_state=0)"
      ],
      "id": "Zq_CiXFHfJh8",
      "execution_count": 99,
      "outputs": []
    },
    {
      "cell_type": "code",
      "metadata": {
        "id": "pRbGqZ33hB6Y"
      },
      "source": [
        ""
      ],
      "id": "pRbGqZ33hB6Y",
      "execution_count": 99,
      "outputs": []
    },
    {
      "cell_type": "code",
      "metadata": {
        "id": "6H59qsMLfWlO"
      },
      "source": [
        "# Use the 40% test set to split further into test and validation set with 50/50 split\n",
        "#X_test, X_val, y_test, y_val = train_test_split(X_test, y_test, test_size=0.5, shuffle=True, stratify=y_test)\n",
        "\n",
        "\n",
        "\n",
        "#print(len(y_train))\n",
        "#print(len(y_val))\n",
        "#print(len(y_test))\n",
        "\n",
        "#sum_y_train.append(len(y_train))\n",
        "#sum_y_val.append(len(y_val))\n",
        "#sum_y_test.append(len(y_test))"
      ],
      "id": "6H59qsMLfWlO",
      "execution_count": 100,
      "outputs": []
    },
    {
      "cell_type": "code",
      "metadata": {
        "id": "eh2Qh8erfk99"
      },
      "source": [
        "#print(sum_y_train)\n",
        "#print(sum_y_val)\n",
        "#print(sum_y_test)"
      ],
      "id": "eh2Qh8erfk99",
      "execution_count": 101,
      "outputs": []
    },
    {
      "cell_type": "code",
      "metadata": {
        "id": "C0NNEKYOhxdY"
      },
      "source": [
        "#print( result[4]['type']) "
      ],
      "id": "C0NNEKYOhxdY",
      "execution_count": 102,
      "outputs": []
    },
    {
      "cell_type": "code",
      "metadata": {
        "id": "hCpF1H8rtj2G"
      },
      "source": [
        "#print(y_train)\n"
      ],
      "id": "hCpF1H8rtj2G",
      "execution_count": 103,
      "outputs": []
    },
    {
      "cell_type": "code",
      "metadata": {
        "id": "5LftZKHmQNA0",
        "colab": {
          "base_uri": "https://localhost:8080/"
        },
        "outputId": "b5d65d41-7596-4093-eb53-c3dd3bb8af9a"
      },
      "source": [
        "print(train['false'])"
      ],
      "id": "5LftZKHmQNA0",
      "execution_count": 104,
      "outputs": [
        {
          "output_type": "stream",
          "text": [
            "302      pants-fire\n",
            "936     mostly-true\n",
            "6791           true\n",
            "9680      half-true\n",
            "7428    mostly-true\n",
            "           ...     \n",
            "8523     pants-fire\n",
            "2157           true\n",
            "8321     pants-fire\n",
            "1715          false\n",
            "6004          false\n",
            "Name: false, Length: 10239, dtype: object\n"
          ],
          "name": "stdout"
        }
      ]
    },
    {
      "cell_type": "code",
      "metadata": {
        "id": "VYwkJIFbfdHw",
        "colab": {
          "base_uri": "https://localhost:8080/"
        },
        "outputId": "fdaa6479-f01a-4e6b-b52f-2e296bcad847"
      },
      "source": [
        "from sklearn.svm import SVC\n",
        "from sklearn.metrics import accuracy_score\n",
        "\n",
        "# Define the classifier classes\n",
        "svc = SVC(kernel='linear') # Linear reg\n",
        "\n",
        "# Fit the model\n",
        "X_train = fakenews_train_embeddings\n",
        "y_train = train['false'].head(6000)\n",
        "svc.fit(X_train, y_train)\n",
        "\n",
        "# Predict on the test set\n",
        "X_test = embeddings\n",
        "svc_pred = svc.predict(X_test)\n",
        "\n",
        "\n",
        "print(svc_pred)\n"
      ],
      "id": "VYwkJIFbfdHw",
      "execution_count": 105,
      "outputs": [
        {
          "output_type": "stream",
          "text": [
            "['mostly-true' 'false' 'half-true' ... 'true' 'half-true' 'mostly-true']\n"
          ],
          "name": "stdout"
        }
      ]
    },
    {
      "cell_type": "code",
      "metadata": {
        "colab": {
          "base_uri": "https://localhost:8080/"
        },
        "id": "artp3wiLGBwz",
        "outputId": "df80d539-0ab2-4fa4-b3a7-d07773aa06ee"
      },
      "source": [
        "y_test = result['true']\n",
        "#print(y_test)\n",
        "# Evaluate performance\n",
        "print(\"svc accuracy:\" + str(accuracy_score(y_test,svc_pred)))\n"
      ],
      "id": "artp3wiLGBwz",
      "execution_count": 106,
      "outputs": [
        {
          "output_type": "stream",
          "text": [
            "svc accuracy:0.2567140600315956\n"
          ],
          "name": "stdout"
        }
      ]
    },
    {
      "cell_type": "code",
      "metadata": {
        "id": "dBQ2L3FYRUI6",
        "colab": {
          "base_uri": "https://localhost:8080/"
        },
        "outputId": "70267675-26e5-43d9-ad37-3c5c3a4b298d"
      },
      "source": [
        "svc_pred.shape"
      ],
      "id": "dBQ2L3FYRUI6",
      "execution_count": 107,
      "outputs": [
        {
          "output_type": "execute_result",
          "data": {
            "text/plain": [
              "(1266,)"
            ]
          },
          "metadata": {
            "tags": []
          },
          "execution_count": 107
        }
      ]
    },
    {
      "cell_type": "code",
      "metadata": {
        "id": "Knt81H8ARsDe",
        "colab": {
          "base_uri": "https://localhost:8080/",
          "height": 375
        },
        "outputId": "86fd34cb-894c-4979-b272-bf0df4eff073"
      },
      "source": [
        "#frames2 = (result['id'])\n",
        "\n",
        "label_AND_id = result[['id']]\n",
        "\n",
        "label_AND_id['label']=pd.Series(svc_pred)\n",
        "\n",
        "print(label_AND_id)\n",
        "label_AND_id.to_csv(r'/content/drive/MyDrive/data_science_rapport_august_2021/csv_KORREKTE2_to_Kaggle', index = False)"
      ],
      "id": "Knt81H8ARsDe",
      "execution_count": 108,
      "outputs": [
        {
          "output_type": "error",
          "ename": "KeyError",
          "evalue": "ignored",
          "traceback": [
            "\u001b[0;31m---------------------------------------------------------------------------\u001b[0m",
            "\u001b[0;31mKeyError\u001b[0m                                  Traceback (most recent call last)",
            "\u001b[0;32m<ipython-input-108-088ad868c56a>\u001b[0m in \u001b[0;36m<module>\u001b[0;34m()\u001b[0m\n\u001b[1;32m      1\u001b[0m \u001b[0;31m#frames2 = (result['id'])\u001b[0m\u001b[0;34m\u001b[0m\u001b[0;34m\u001b[0m\u001b[0;34m\u001b[0m\u001b[0m\n\u001b[1;32m      2\u001b[0m \u001b[0;34m\u001b[0m\u001b[0m\n\u001b[0;32m----> 3\u001b[0;31m \u001b[0mlabel_AND_id\u001b[0m \u001b[0;34m=\u001b[0m \u001b[0mresult\u001b[0m\u001b[0;34m[\u001b[0m\u001b[0;34m[\u001b[0m\u001b[0;34m'id'\u001b[0m\u001b[0;34m]\u001b[0m\u001b[0;34m]\u001b[0m\u001b[0;34m\u001b[0m\u001b[0;34m\u001b[0m\u001b[0m\n\u001b[0m\u001b[1;32m      4\u001b[0m \u001b[0;34m\u001b[0m\u001b[0m\n\u001b[1;32m      5\u001b[0m \u001b[0mlabel_AND_id\u001b[0m\u001b[0;34m[\u001b[0m\u001b[0;34m'label'\u001b[0m\u001b[0;34m]\u001b[0m\u001b[0;34m=\u001b[0m\u001b[0mpd\u001b[0m\u001b[0;34m.\u001b[0m\u001b[0mSeries\u001b[0m\u001b[0;34m(\u001b[0m\u001b[0msvc_pred\u001b[0m\u001b[0;34m)\u001b[0m\u001b[0;34m\u001b[0m\u001b[0;34m\u001b[0m\u001b[0m\n",
            "\u001b[0;32m/usr/local/lib/python3.7/dist-packages/pandas/core/frame.py\u001b[0m in \u001b[0;36m__getitem__\u001b[0;34m(self, key)\u001b[0m\n\u001b[1;32m   2910\u001b[0m             \u001b[0;32mif\u001b[0m \u001b[0mis_iterator\u001b[0m\u001b[0;34m(\u001b[0m\u001b[0mkey\u001b[0m\u001b[0;34m)\u001b[0m\u001b[0;34m:\u001b[0m\u001b[0;34m\u001b[0m\u001b[0;34m\u001b[0m\u001b[0m\n\u001b[1;32m   2911\u001b[0m                 \u001b[0mkey\u001b[0m \u001b[0;34m=\u001b[0m \u001b[0mlist\u001b[0m\u001b[0;34m(\u001b[0m\u001b[0mkey\u001b[0m\u001b[0;34m)\u001b[0m\u001b[0;34m\u001b[0m\u001b[0;34m\u001b[0m\u001b[0m\n\u001b[0;32m-> 2912\u001b[0;31m             \u001b[0mindexer\u001b[0m \u001b[0;34m=\u001b[0m \u001b[0mself\u001b[0m\u001b[0;34m.\u001b[0m\u001b[0mloc\u001b[0m\u001b[0;34m.\u001b[0m\u001b[0m_get_listlike_indexer\u001b[0m\u001b[0;34m(\u001b[0m\u001b[0mkey\u001b[0m\u001b[0;34m,\u001b[0m \u001b[0maxis\u001b[0m\u001b[0;34m=\u001b[0m\u001b[0;36m1\u001b[0m\u001b[0;34m,\u001b[0m \u001b[0mraise_missing\u001b[0m\u001b[0;34m=\u001b[0m\u001b[0;32mTrue\u001b[0m\u001b[0;34m)\u001b[0m\u001b[0;34m[\u001b[0m\u001b[0;36m1\u001b[0m\u001b[0;34m]\u001b[0m\u001b[0;34m\u001b[0m\u001b[0;34m\u001b[0m\u001b[0m\n\u001b[0m\u001b[1;32m   2913\u001b[0m \u001b[0;34m\u001b[0m\u001b[0m\n\u001b[1;32m   2914\u001b[0m         \u001b[0;31m# take() does not accept boolean indexers\u001b[0m\u001b[0;34m\u001b[0m\u001b[0;34m\u001b[0m\u001b[0;34m\u001b[0m\u001b[0m\n",
            "\u001b[0;32m/usr/local/lib/python3.7/dist-packages/pandas/core/indexing.py\u001b[0m in \u001b[0;36m_get_listlike_indexer\u001b[0;34m(self, key, axis, raise_missing)\u001b[0m\n\u001b[1;32m   1252\u001b[0m             \u001b[0mkeyarr\u001b[0m\u001b[0;34m,\u001b[0m \u001b[0mindexer\u001b[0m\u001b[0;34m,\u001b[0m \u001b[0mnew_indexer\u001b[0m \u001b[0;34m=\u001b[0m \u001b[0max\u001b[0m\u001b[0;34m.\u001b[0m\u001b[0m_reindex_non_unique\u001b[0m\u001b[0;34m(\u001b[0m\u001b[0mkeyarr\u001b[0m\u001b[0;34m)\u001b[0m\u001b[0;34m\u001b[0m\u001b[0;34m\u001b[0m\u001b[0m\n\u001b[1;32m   1253\u001b[0m \u001b[0;34m\u001b[0m\u001b[0m\n\u001b[0;32m-> 1254\u001b[0;31m         \u001b[0mself\u001b[0m\u001b[0;34m.\u001b[0m\u001b[0m_validate_read_indexer\u001b[0m\u001b[0;34m(\u001b[0m\u001b[0mkeyarr\u001b[0m\u001b[0;34m,\u001b[0m \u001b[0mindexer\u001b[0m\u001b[0;34m,\u001b[0m \u001b[0maxis\u001b[0m\u001b[0;34m,\u001b[0m \u001b[0mraise_missing\u001b[0m\u001b[0;34m=\u001b[0m\u001b[0mraise_missing\u001b[0m\u001b[0;34m)\u001b[0m\u001b[0;34m\u001b[0m\u001b[0;34m\u001b[0m\u001b[0m\n\u001b[0m\u001b[1;32m   1255\u001b[0m         \u001b[0;32mreturn\u001b[0m \u001b[0mkeyarr\u001b[0m\u001b[0;34m,\u001b[0m \u001b[0mindexer\u001b[0m\u001b[0;34m\u001b[0m\u001b[0;34m\u001b[0m\u001b[0m\n\u001b[1;32m   1256\u001b[0m \u001b[0;34m\u001b[0m\u001b[0m\n",
            "\u001b[0;32m/usr/local/lib/python3.7/dist-packages/pandas/core/indexing.py\u001b[0m in \u001b[0;36m_validate_read_indexer\u001b[0;34m(self, key, indexer, axis, raise_missing)\u001b[0m\n\u001b[1;32m   1296\u001b[0m             \u001b[0;32mif\u001b[0m \u001b[0mmissing\u001b[0m \u001b[0;34m==\u001b[0m \u001b[0mlen\u001b[0m\u001b[0;34m(\u001b[0m\u001b[0mindexer\u001b[0m\u001b[0;34m)\u001b[0m\u001b[0;34m:\u001b[0m\u001b[0;34m\u001b[0m\u001b[0;34m\u001b[0m\u001b[0m\n\u001b[1;32m   1297\u001b[0m                 \u001b[0maxis_name\u001b[0m \u001b[0;34m=\u001b[0m \u001b[0mself\u001b[0m\u001b[0;34m.\u001b[0m\u001b[0mobj\u001b[0m\u001b[0;34m.\u001b[0m\u001b[0m_get_axis_name\u001b[0m\u001b[0;34m(\u001b[0m\u001b[0maxis\u001b[0m\u001b[0;34m)\u001b[0m\u001b[0;34m\u001b[0m\u001b[0;34m\u001b[0m\u001b[0m\n\u001b[0;32m-> 1298\u001b[0;31m                 \u001b[0;32mraise\u001b[0m \u001b[0mKeyError\u001b[0m\u001b[0;34m(\u001b[0m\u001b[0;34mf\"None of [{key}] are in the [{axis_name}]\"\u001b[0m\u001b[0;34m)\u001b[0m\u001b[0;34m\u001b[0m\u001b[0;34m\u001b[0m\u001b[0m\n\u001b[0m\u001b[1;32m   1299\u001b[0m \u001b[0;34m\u001b[0m\u001b[0m\n\u001b[1;32m   1300\u001b[0m             \u001b[0;31m# We (temporarily) allow for some missing keys with .loc, except in\u001b[0m\u001b[0;34m\u001b[0m\u001b[0;34m\u001b[0m\u001b[0;34m\u001b[0m\u001b[0m\n",
            "\u001b[0;31mKeyError\u001b[0m: \"None of [Index(['id'], dtype='object')] are in the [columns]\""
          ]
        }
      ]
    },
    {
      "cell_type": "code",
      "metadata": {
        "id": "UmhyTmSd0cjA"
      },
      "source": [
        "# muted nu (de to nedenunder):\n",
        "#from sklearn.metrics import precision_recall_fscore_support\n",
        "#print(precision_recall_fscore_support(y_test,svc_pred,zero_division='warn')) # noget her ser sjovt ud, virker ikke med 0 eller 1"
      ],
      "id": "UmhyTmSd0cjA",
      "execution_count": null,
      "outputs": []
    },
    {
      "cell_type": "code",
      "metadata": {
        "id": "PN54yJMBFCOY"
      },
      "source": [
        "np.shape(label_AND_id)"
      ],
      "id": "PN54yJMBFCOY",
      "execution_count": null,
      "outputs": []
    },
    {
      "cell_type": "code",
      "metadata": {
        "id": "TFKfkq5GFFW5"
      },
      "source": [
        ""
      ],
      "id": "TFKfkq5GFFW5",
      "execution_count": null,
      "outputs": []
    }
  ]
}